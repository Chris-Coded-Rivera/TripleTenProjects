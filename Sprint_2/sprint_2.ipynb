{
 "cells": [
  {
   "cell_type": "markdown",
   "id": "5a9d28f7",
   "metadata": {},
   "source": [
    "# Instacart Exploratory Data Analysis \n",
    "---\n",
    "# Introduction <a id='intro'></a>\n",
    "---\n",
    "\n",
    "In this project we will be analyzing the dataset of InstaCart for the year 2017. InstaCart became a popular application consumers used to conveniently shop for their groceries. \n",
    "\n",
    "The goal of this project is to give a report on customers' shopping habits.\n",
    "\n",
    "__Stages__:\n",
    "\n",
    "\n",
    "The data we'll be analyzing is stored in the following files (found in this repo within the `datasets` directory):\n",
    "\n",
    "instacart_orders.csv\n",
    "\n",
    "products.csv\n",
    "\n",
    "order_products.csv\n",
    "\n",
    "aisles.csv\n",
    "\n",
    "departments.csv\n",
    "\n",
    "There's limited information regarding the quality of the data so we will view and make any necessary changes to facilitate our analysis.\n",
    "\n",
    "We will first identify any issues with the quality of the data and decide how to address them. Once the data is cleaned up, we will answer questions regarding customer shopping habits using the data we've gathered.\n",
    " \n",
    "This project consists of the following three stages:\n",
    " 1. Data overview\n",
    " 2. Data preprocessing\n",
    " 3. Data analysis"
   ]
  },
  {
   "cell_type": "markdown",
   "id": "26aea7b1",
   "metadata": {},
   "source": [
    "---\n",
    "## Data Overview\n",
    "---"
   ]
  },
  {
   "cell_type": "code",
   "execution_count": 87,
   "id": "fbf1adab",
   "metadata": {},
   "outputs": [],
   "source": [
    "# Importing libraries\n",
    "import pandas as pd\n",
    "from matplotlib import pyplot as plt\n",
    "import seaborn as sns\n",
    "import numpy as np"
   ]
  },
  {
   "cell_type": "code",
   "execution_count": 2,
   "id": "ad36396d",
   "metadata": {},
   "outputs": [
    {
     "name": "stdout",
     "output_type": "stream",
     "text": [
      "<class 'pandas.core.frame.DataFrame'>\n",
      "RangeIndex: 478967 entries, 0 to 478966\n",
      "Data columns (total 6 columns):\n",
      " #   Column                  Non-Null Count   Dtype  \n",
      "---  ------                  --------------   -----  \n",
      " 0   order_id                478967 non-null  int64  \n",
      " 1   user_id                 478967 non-null  int64  \n",
      " 2   order_number            478967 non-null  int64  \n",
      " 3   order_dow               478967 non-null  int64  \n",
      " 4   order_hour_of_day       478967 non-null  int64  \n",
      " 5   days_since_prior_order  450148 non-null  float64\n",
      "dtypes: float64(1), int64(5)\n",
      "memory usage: 21.9 MB\n"
     ]
    },
    {
     "data": {
      "text/html": [
       "<div>\n",
       "<style scoped>\n",
       "    .dataframe tbody tr th:only-of-type {\n",
       "        vertical-align: middle;\n",
       "    }\n",
       "\n",
       "    .dataframe tbody tr th {\n",
       "        vertical-align: top;\n",
       "    }\n",
       "\n",
       "    .dataframe thead th {\n",
       "        text-align: right;\n",
       "    }\n",
       "</style>\n",
       "<table border=\"1\" class=\"dataframe\">\n",
       "  <thead>\n",
       "    <tr style=\"text-align: right;\">\n",
       "      <th></th>\n",
       "      <th>order_id</th>\n",
       "      <th>user_id</th>\n",
       "      <th>order_number</th>\n",
       "      <th>order_dow</th>\n",
       "      <th>order_hour_of_day</th>\n",
       "      <th>days_since_prior_order</th>\n",
       "    </tr>\n",
       "  </thead>\n",
       "  <tbody>\n",
       "    <tr>\n",
       "      <th>0</th>\n",
       "      <td>1515936</td>\n",
       "      <td>183418</td>\n",
       "      <td>11</td>\n",
       "      <td>6</td>\n",
       "      <td>13</td>\n",
       "      <td>30.0</td>\n",
       "    </tr>\n",
       "    <tr>\n",
       "      <th>1</th>\n",
       "      <td>1690866</td>\n",
       "      <td>163593</td>\n",
       "      <td>5</td>\n",
       "      <td>5</td>\n",
       "      <td>12</td>\n",
       "      <td>9.0</td>\n",
       "    </tr>\n",
       "    <tr>\n",
       "      <th>2</th>\n",
       "      <td>1454967</td>\n",
       "      <td>39980</td>\n",
       "      <td>4</td>\n",
       "      <td>5</td>\n",
       "      <td>19</td>\n",
       "      <td>2.0</td>\n",
       "    </tr>\n",
       "  </tbody>\n",
       "</table>\n",
       "</div>"
      ],
      "text/plain": [
       "   order_id  user_id  order_number  order_dow  order_hour_of_day  \\\n",
       "0   1515936   183418            11          6                 13   \n",
       "1   1690866   163593             5          5                 12   \n",
       "2   1454967    39980             4          5                 19   \n",
       "\n",
       "   days_since_prior_order  \n",
       "0                    30.0  \n",
       "1                     9.0  \n",
       "2                     2.0  "
      ]
     },
     "execution_count": 2,
     "metadata": {},
     "output_type": "execute_result"
    }
   ],
   "source": [
    "# Loading `orders` dataset\n",
    "orders_df = pd.read_csv('~/Triple_Ten_Projects/Sprint_2/datasets/instacart_orders.csv', sep=';')\n",
    "\n",
    "# Checking overview of data types, columns names, and size\n",
    "orders_df.info()\n",
    "\n",
    "# Getting sample of the dataset\n",
    "orders_df.head(3)"
   ]
  },
  {
   "cell_type": "markdown",
   "id": "01be0e3a",
   "metadata": {},
   "source": [
    "The dataframe includes 6 columns with values that are mainly integer types. The only exception is the values in column `'days_since_last_order'` (float64 type) which should be converted to int64"
   ]
  },
  {
   "cell_type": "code",
   "execution_count": 3,
   "id": "ad6a1efa",
   "metadata": {},
   "outputs": [
    {
     "name": "stdout",
     "output_type": "stream",
     "text": [
      "<class 'pandas.core.frame.DataFrame'>\n",
      "RangeIndex: 49694 entries, 0 to 49693\n",
      "Data columns (total 4 columns):\n",
      " #   Column         Non-Null Count  Dtype \n",
      "---  ------         --------------  ----- \n",
      " 0   product_id     49694 non-null  int64 \n",
      " 1   product_name   48436 non-null  object\n",
      " 2   aisle_id       49694 non-null  int64 \n",
      " 3   department_id  49694 non-null  int64 \n",
      "dtypes: int64(3), object(1)\n",
      "memory usage: 1.5+ MB\n"
     ]
    },
    {
     "data": {
      "text/html": [
       "<div>\n",
       "<style scoped>\n",
       "    .dataframe tbody tr th:only-of-type {\n",
       "        vertical-align: middle;\n",
       "    }\n",
       "\n",
       "    .dataframe tbody tr th {\n",
       "        vertical-align: top;\n",
       "    }\n",
       "\n",
       "    .dataframe thead th {\n",
       "        text-align: right;\n",
       "    }\n",
       "</style>\n",
       "<table border=\"1\" class=\"dataframe\">\n",
       "  <thead>\n",
       "    <tr style=\"text-align: right;\">\n",
       "      <th></th>\n",
       "      <th>product_id</th>\n",
       "      <th>product_name</th>\n",
       "      <th>aisle_id</th>\n",
       "      <th>department_id</th>\n",
       "    </tr>\n",
       "  </thead>\n",
       "  <tbody>\n",
       "    <tr>\n",
       "      <th>0</th>\n",
       "      <td>1</td>\n",
       "      <td>Chocolate Sandwich Cookies</td>\n",
       "      <td>61</td>\n",
       "      <td>19</td>\n",
       "    </tr>\n",
       "    <tr>\n",
       "      <th>1</th>\n",
       "      <td>2</td>\n",
       "      <td>All-Seasons Salt</td>\n",
       "      <td>104</td>\n",
       "      <td>13</td>\n",
       "    </tr>\n",
       "    <tr>\n",
       "      <th>2</th>\n",
       "      <td>3</td>\n",
       "      <td>Robust Golden Unsweetened Oolong Tea</td>\n",
       "      <td>94</td>\n",
       "      <td>7</td>\n",
       "    </tr>\n",
       "  </tbody>\n",
       "</table>\n",
       "</div>"
      ],
      "text/plain": [
       "   product_id                          product_name  aisle_id  department_id\n",
       "0           1            Chocolate Sandwich Cookies        61             19\n",
       "1           2                      All-Seasons Salt       104             13\n",
       "2           3  Robust Golden Unsweetened Oolong Tea        94              7"
      ]
     },
     "execution_count": 3,
     "metadata": {},
     "output_type": "execute_result"
    }
   ],
   "source": [
    "# Loading ` products` dataset\n",
    "products_df = pd.read_csv('~/Triple_Ten_Projects/Sprint_2/datasets/products.csv', sep=';')\n",
    "\n",
    "# Viewing dataset info\n",
    "products_df.info()\n",
    "\n",
    "# Viewing sample of dataset\n",
    "products_df.head(3)"
   ]
  },
  {
   "cell_type": "markdown",
   "id": "85bd9373",
   "metadata": {},
   "source": [
    "This dataset 4 columns and has mostly int64 data type values. The only exception is `'product_name'` (object type). `department_id` could be changed to category type to minimize space and increase efficiency."
   ]
  },
  {
   "cell_type": "code",
   "execution_count": 4,
   "id": "5130e05e",
   "metadata": {},
   "outputs": [
    {
     "name": "stdout",
     "output_type": "stream",
     "text": [
      "<class 'pandas.core.frame.DataFrame'>\n",
      "RangeIndex: 134 entries, 0 to 133\n",
      "Data columns (total 2 columns):\n",
      " #   Column    Non-Null Count  Dtype \n",
      "---  ------    --------------  ----- \n",
      " 0   aisle_id  134 non-null    int64 \n",
      " 1   aisle     134 non-null    object\n",
      "dtypes: int64(1), object(1)\n",
      "memory usage: 2.2+ KB\n"
     ]
    },
    {
     "data": {
      "text/html": [
       "<div>\n",
       "<style scoped>\n",
       "    .dataframe tbody tr th:only-of-type {\n",
       "        vertical-align: middle;\n",
       "    }\n",
       "\n",
       "    .dataframe tbody tr th {\n",
       "        vertical-align: top;\n",
       "    }\n",
       "\n",
       "    .dataframe thead th {\n",
       "        text-align: right;\n",
       "    }\n",
       "</style>\n",
       "<table border=\"1\" class=\"dataframe\">\n",
       "  <thead>\n",
       "    <tr style=\"text-align: right;\">\n",
       "      <th></th>\n",
       "      <th>aisle_id</th>\n",
       "      <th>aisle</th>\n",
       "    </tr>\n",
       "  </thead>\n",
       "  <tbody>\n",
       "    <tr>\n",
       "      <th>0</th>\n",
       "      <td>1</td>\n",
       "      <td>prepared soups salads</td>\n",
       "    </tr>\n",
       "    <tr>\n",
       "      <th>1</th>\n",
       "      <td>2</td>\n",
       "      <td>specialty cheeses</td>\n",
       "    </tr>\n",
       "    <tr>\n",
       "      <th>2</th>\n",
       "      <td>3</td>\n",
       "      <td>energy granola bars</td>\n",
       "    </tr>\n",
       "  </tbody>\n",
       "</table>\n",
       "</div>"
      ],
      "text/plain": [
       "   aisle_id                  aisle\n",
       "0         1  prepared soups salads\n",
       "1         2      specialty cheeses\n",
       "2         3    energy granola bars"
      ]
     },
     "execution_count": 4,
     "metadata": {},
     "output_type": "execute_result"
    }
   ],
   "source": [
    "# Loading `aisles` data\n",
    "aisles_df = pd.read_csv('~/Triple_Ten_Projects/Sprint_2/datasets/aisles.csv', sep= ';')\n",
    "\n",
    "# Getting info on the dataset\n",
    "aisles_df.info()\n",
    "\n",
    "# Getting sample from dataset\n",
    "aisles_df.head(3)"
   ]
  },
  {
   "cell_type": "markdown",
   "id": "95a6836a",
   "metadata": {},
   "source": [
    "The dataframe consists of 2 columns: `'aisle_id'` (int64 type) and `'aisle'` (object type)"
   ]
  },
  {
   "cell_type": "code",
   "execution_count": 5,
   "id": "d8370c05",
   "metadata": {},
   "outputs": [
    {
     "name": "stdout",
     "output_type": "stream",
     "text": [
      "<class 'pandas.core.frame.DataFrame'>\n",
      "RangeIndex: 21 entries, 0 to 20\n",
      "Data columns (total 2 columns):\n",
      " #   Column         Non-Null Count  Dtype \n",
      "---  ------         --------------  ----- \n",
      " 0   department_id  21 non-null     int64 \n",
      " 1   department     21 non-null     object\n",
      "dtypes: int64(1), object(1)\n",
      "memory usage: 468.0+ bytes\n"
     ]
    },
    {
     "data": {
      "text/html": [
       "<div>\n",
       "<style scoped>\n",
       "    .dataframe tbody tr th:only-of-type {\n",
       "        vertical-align: middle;\n",
       "    }\n",
       "\n",
       "    .dataframe tbody tr th {\n",
       "        vertical-align: top;\n",
       "    }\n",
       "\n",
       "    .dataframe thead th {\n",
       "        text-align: right;\n",
       "    }\n",
       "</style>\n",
       "<table border=\"1\" class=\"dataframe\">\n",
       "  <thead>\n",
       "    <tr style=\"text-align: right;\">\n",
       "      <th></th>\n",
       "      <th>department_id</th>\n",
       "      <th>department</th>\n",
       "    </tr>\n",
       "  </thead>\n",
       "  <tbody>\n",
       "    <tr>\n",
       "      <th>0</th>\n",
       "      <td>1</td>\n",
       "      <td>frozen</td>\n",
       "    </tr>\n",
       "    <tr>\n",
       "      <th>1</th>\n",
       "      <td>2</td>\n",
       "      <td>other</td>\n",
       "    </tr>\n",
       "    <tr>\n",
       "      <th>2</th>\n",
       "      <td>3</td>\n",
       "      <td>bakery</td>\n",
       "    </tr>\n",
       "  </tbody>\n",
       "</table>\n",
       "</div>"
      ],
      "text/plain": [
       "   department_id department\n",
       "0              1     frozen\n",
       "1              2      other\n",
       "2              3     bakery"
      ]
     },
     "execution_count": 5,
     "metadata": {},
     "output_type": "execute_result"
    }
   ],
   "source": [
    "# Loading `departments` data\n",
    "depts_df = pd.read_csv('~/Triple_Ten_Projects/Sprint_2/datasets/departments.csv', sep=';')\n",
    "\n",
    "# Getting departments info\n",
    "depts_df.info()\n",
    "\n",
    "# Viewing sample of the dataset\n",
    "depts_df.head(3)"
   ]
  },
  {
   "cell_type": "markdown",
   "id": "4fb6915b",
   "metadata": {},
   "source": [
    "The dataframe consists of 2 columns: `'department_id'` (int64 type) and `'department'` (object type)"
   ]
  },
  {
   "cell_type": "code",
   "execution_count": 6,
   "id": "59e2090f",
   "metadata": {
    "scrolled": true
   },
   "outputs": [
    {
     "name": "stdout",
     "output_type": "stream",
     "text": [
      "<class 'pandas.core.frame.DataFrame'>\n",
      "RangeIndex: 4545007 entries, 0 to 4545006\n",
      "Data columns (total 4 columns):\n",
      " #   Column             Dtype  \n",
      "---  ------             -----  \n",
      " 0   order_id           int64  \n",
      " 1   product_id         int64  \n",
      " 2   add_to_cart_order  float64\n",
      " 3   reordered          int64  \n",
      "dtypes: float64(1), int64(3)\n",
      "memory usage: 138.7 MB\n"
     ]
    },
    {
     "data": {
      "text/html": [
       "<div>\n",
       "<style scoped>\n",
       "    .dataframe tbody tr th:only-of-type {\n",
       "        vertical-align: middle;\n",
       "    }\n",
       "\n",
       "    .dataframe tbody tr th {\n",
       "        vertical-align: top;\n",
       "    }\n",
       "\n",
       "    .dataframe thead th {\n",
       "        text-align: right;\n",
       "    }\n",
       "</style>\n",
       "<table border=\"1\" class=\"dataframe\">\n",
       "  <thead>\n",
       "    <tr style=\"text-align: right;\">\n",
       "      <th></th>\n",
       "      <th>order_id</th>\n",
       "      <th>product_id</th>\n",
       "      <th>add_to_cart_order</th>\n",
       "      <th>reordered</th>\n",
       "    </tr>\n",
       "  </thead>\n",
       "  <tbody>\n",
       "    <tr>\n",
       "      <th>0</th>\n",
       "      <td>2141543</td>\n",
       "      <td>11440</td>\n",
       "      <td>17.0</td>\n",
       "      <td>0</td>\n",
       "    </tr>\n",
       "    <tr>\n",
       "      <th>1</th>\n",
       "      <td>567889</td>\n",
       "      <td>1560</td>\n",
       "      <td>1.0</td>\n",
       "      <td>1</td>\n",
       "    </tr>\n",
       "    <tr>\n",
       "      <th>2</th>\n",
       "      <td>2261212</td>\n",
       "      <td>26683</td>\n",
       "      <td>1.0</td>\n",
       "      <td>1</td>\n",
       "    </tr>\n",
       "  </tbody>\n",
       "</table>\n",
       "</div>"
      ],
      "text/plain": [
       "   order_id  product_id  add_to_cart_order  reordered\n",
       "0   2141543       11440               17.0          0\n",
       "1    567889        1560                1.0          1\n",
       "2   2261212       26683                1.0          1"
      ]
     },
     "execution_count": 6,
     "metadata": {},
     "output_type": "execute_result"
    }
   ],
   "source": [
    "# Loading `order_products` dataset \n",
    "order_prod_df = pd.read_csv('~/Triple_Ten_Projects/Sprint_2/datasets/order_products.csv', sep=';')\n",
    "\n",
    "# Viewing dataset info\n",
    "order_prod_df.info()\n",
    "\n",
    "# Getting sample of data\n",
    "order_prod_df.head(3)"
   ]
  },
  {
   "cell_type": "markdown",
   "id": "2341e08e",
   "metadata": {},
   "source": [
    "The dataframe consists of 4 columns mostly consisting of int64 values. The only exception is `'add_to_cart_order'` (float64 type) which should be converted to int64 type"
   ]
  },
  {
   "cell_type": "markdown",
   "id": "5692965f",
   "metadata": {},
   "source": [
    "According to the data dictionary for these datasets:\n",
    "\n",
    "`'instacart_orders.csv`': each row corresponds to one order on the Instacart app\n",
    "- 'order_id': ID number that uniquely identifies each order\n",
    "- 'user_id': ID number that uniquely identifies each customer account\n",
    "- 'order_number': the number of times this customer has placed an order\n",
    "- 'order_dow': day of the week that the order placed (which day is 0 is uncertain)\n",
    "- 'order_hour_of_day': hour of the day that the order was placed\n",
    "- 'days_since_prior_order': number of days since this customer placed their previous order\n",
    "\n",
    "`'products.csv'`: each row corresponds to a unique product that customers can buy\n",
    "- 'product_id': ID number that uniquely identifies each product\n",
    "- 'product_name': name of the product\n",
    "- 'aisle_id': ID number that uniquely identifies each grocery aisle category\n",
    "- 'department_id': ID number that uniquely identifies each grocery department category\n",
    "\n",
    "`'order_products.csv'`: each row corresponds to one item placed in an order\n",
    "- 'order_id': ID number that uniquely identifies each order\n",
    "- 'product_id': ID number that uniquely identifies each product\n",
    "- 'add_to_cart_order': the sequential order in which each item was placed in the cart\n",
    "- 'reordered': 0 if the customer has never ordered this product before, 1 if they have\n",
    "\n",
    "`'aisles.csv'`\n",
    "- 'aisle_id': ID number that uniquely identifies each grocery aisle category\n",
    "- 'aisle': name of the aisle\n",
    "\n",
    "`'departments.csv'`\n",
    "- 'department_id': ID number that uniquely identifies each grocery department category\n",
    "- 'department': name of the department\n",
    "\n",
    " \n",
    "We can see immediately 2 issues with the datasets:\n",
    "1. There are some missing values in a few columns\n",
    "2. The data types for `'days_since_prior_order'` and `'add_to_cart_order'` seem like they should be int64 types.\n",
    "\n",
    "We will assess and see if and how we will address these issues.\n"
   ]
  },
  {
   "cell_type": "markdown",
   "id": "24c42283-bcf2-44c3-b2a7-1e2fcf75704d",
   "metadata": {},
   "source": [
    "---\n",
    "## Data Preprocessing\n",
    "---"
   ]
  },
  {
   "cell_type": "markdown",
   "id": "f179f0a9",
   "metadata": {},
   "source": [
    "### `orders` DataFrame\n",
    "---"
   ]
  },
  {
   "cell_type": "code",
   "execution_count": 7,
   "id": "ce405f2d-7159-4431-bee9-74143a230147",
   "metadata": {},
   "outputs": [
    {
     "data": {
      "text/html": [
       "<div>\n",
       "<style scoped>\n",
       "    .dataframe tbody tr th:only-of-type {\n",
       "        vertical-align: middle;\n",
       "    }\n",
       "\n",
       "    .dataframe tbody tr th {\n",
       "        vertical-align: top;\n",
       "    }\n",
       "\n",
       "    .dataframe thead th {\n",
       "        text-align: right;\n",
       "    }\n",
       "</style>\n",
       "<table border=\"1\" class=\"dataframe\">\n",
       "  <thead>\n",
       "    <tr style=\"text-align: right;\">\n",
       "      <th></th>\n",
       "      <th>order_id</th>\n",
       "      <th>user_id</th>\n",
       "      <th>order_number</th>\n",
       "      <th>order_dow</th>\n",
       "      <th>order_hour_of_day</th>\n",
       "      <th>days_since_prior_order</th>\n",
       "    </tr>\n",
       "  </thead>\n",
       "  <tbody>\n",
       "    <tr>\n",
       "      <th>478011</th>\n",
       "      <td>187515</td>\n",
       "      <td>84759</td>\n",
       "      <td>1</td>\n",
       "      <td>2</td>\n",
       "      <td>15</td>\n",
       "      <td>NaN</td>\n",
       "    </tr>\n",
       "    <tr>\n",
       "      <th>176737</th>\n",
       "      <td>14154</td>\n",
       "      <td>184924</td>\n",
       "      <td>41</td>\n",
       "      <td>2</td>\n",
       "      <td>15</td>\n",
       "      <td>3.0</td>\n",
       "    </tr>\n",
       "    <tr>\n",
       "      <th>402189</th>\n",
       "      <td>1978043</td>\n",
       "      <td>151955</td>\n",
       "      <td>21</td>\n",
       "      <td>1</td>\n",
       "      <td>23</td>\n",
       "      <td>7.0</td>\n",
       "    </tr>\n",
       "  </tbody>\n",
       "</table>\n",
       "</div>"
      ],
      "text/plain": [
       "        order_id  user_id  order_number  order_dow  order_hour_of_day  \\\n",
       "478011    187515    84759             1          2                 15   \n",
       "176737     14154   184924            41          2                 15   \n",
       "402189   1978043   151955            21          1                 23   \n",
       "\n",
       "        days_since_prior_order  \n",
       "478011                     NaN  \n",
       "176737                     3.0  \n",
       "402189                     7.0  "
      ]
     },
     "execution_count": 7,
     "metadata": {},
     "output_type": "execute_result"
    }
   ],
   "source": [
    "# Instantiating ransome state value\n",
    "state = 42\n",
    "\n",
    "# Viewing random sample rows\n",
    "orders_df.sample(3, random_state = state)"
   ]
  },
  {
   "cell_type": "code",
   "execution_count": 8,
   "id": "26577768-d3d6-478d-8479-e99cbbdac805",
   "metadata": {
    "scrolled": true
   },
   "outputs": [
    {
     "data": {
      "text/plain": [
       "order_id                      0\n",
       "user_id                       0\n",
       "order_number                  0\n",
       "order_dow                     0\n",
       "order_hour_of_day             0\n",
       "days_since_prior_order    28819\n",
       "dtype: int64"
      ]
     },
     "execution_count": 8,
     "metadata": {},
     "output_type": "execute_result"
    }
   ],
   "source": [
    "# Checking for any missing values\n",
    "orders_df.isna().sum()"
   ]
  },
  {
   "cell_type": "code",
   "execution_count": 9,
   "id": "f353ec9b-610c-46b3-b057-4c576a488c9e",
   "metadata": {},
   "outputs": [
    {
     "data": {
      "text/html": [
       "<div>\n",
       "<style scoped>\n",
       "    .dataframe tbody tr th:only-of-type {\n",
       "        vertical-align: middle;\n",
       "    }\n",
       "\n",
       "    .dataframe tbody tr th {\n",
       "        vertical-align: top;\n",
       "    }\n",
       "\n",
       "    .dataframe thead th {\n",
       "        text-align: right;\n",
       "    }\n",
       "</style>\n",
       "<table border=\"1\" class=\"dataframe\">\n",
       "  <thead>\n",
       "    <tr style=\"text-align: right;\">\n",
       "      <th></th>\n",
       "      <th>order_id</th>\n",
       "      <th>user_id</th>\n",
       "      <th>order_number</th>\n",
       "      <th>order_dow</th>\n",
       "      <th>order_hour_of_day</th>\n",
       "      <th>days_since_prior_order</th>\n",
       "    </tr>\n",
       "  </thead>\n",
       "  <tbody>\n",
       "    <tr>\n",
       "      <th>count</th>\n",
       "      <td>2.881900e+04</td>\n",
       "      <td>28819.000000</td>\n",
       "      <td>28819.0</td>\n",
       "      <td>28819.000000</td>\n",
       "      <td>28819.000000</td>\n",
       "      <td>0.0</td>\n",
       "    </tr>\n",
       "    <tr>\n",
       "      <th>mean</th>\n",
       "      <td>1.707113e+06</td>\n",
       "      <td>103307.252715</td>\n",
       "      <td>1.0</td>\n",
       "      <td>2.753774</td>\n",
       "      <td>13.625629</td>\n",
       "      <td>NaN</td>\n",
       "    </tr>\n",
       "    <tr>\n",
       "      <th>std</th>\n",
       "      <td>9.878431e+05</td>\n",
       "      <td>59349.069991</td>\n",
       "      <td>0.0</td>\n",
       "      <td>2.073522</td>\n",
       "      <td>4.210852</td>\n",
       "      <td>NaN</td>\n",
       "    </tr>\n",
       "    <tr>\n",
       "      <th>min</th>\n",
       "      <td>2.000000e+01</td>\n",
       "      <td>2.000000</td>\n",
       "      <td>1.0</td>\n",
       "      <td>0.000000</td>\n",
       "      <td>0.000000</td>\n",
       "      <td>NaN</td>\n",
       "    </tr>\n",
       "    <tr>\n",
       "      <th>25%</th>\n",
       "      <td>8.507765e+05</td>\n",
       "      <td>51802.500000</td>\n",
       "      <td>1.0</td>\n",
       "      <td>1.000000</td>\n",
       "      <td>11.000000</td>\n",
       "      <td>NaN</td>\n",
       "    </tr>\n",
       "    <tr>\n",
       "      <th>50%</th>\n",
       "      <td>1.709131e+06</td>\n",
       "      <td>103366.000000</td>\n",
       "      <td>1.0</td>\n",
       "      <td>3.000000</td>\n",
       "      <td>14.000000</td>\n",
       "      <td>NaN</td>\n",
       "    </tr>\n",
       "    <tr>\n",
       "      <th>75%</th>\n",
       "      <td>2.556388e+06</td>\n",
       "      <td>154637.500000</td>\n",
       "      <td>1.0</td>\n",
       "      <td>5.000000</td>\n",
       "      <td>17.000000</td>\n",
       "      <td>NaN</td>\n",
       "    </tr>\n",
       "    <tr>\n",
       "      <th>max</th>\n",
       "      <td>3.421077e+06</td>\n",
       "      <td>206201.000000</td>\n",
       "      <td>1.0</td>\n",
       "      <td>6.000000</td>\n",
       "      <td>23.000000</td>\n",
       "      <td>NaN</td>\n",
       "    </tr>\n",
       "  </tbody>\n",
       "</table>\n",
       "</div>"
      ],
      "text/plain": [
       "           order_id        user_id  order_number     order_dow  \\\n",
       "count  2.881900e+04   28819.000000       28819.0  28819.000000   \n",
       "mean   1.707113e+06  103307.252715           1.0      2.753774   \n",
       "std    9.878431e+05   59349.069991           0.0      2.073522   \n",
       "min    2.000000e+01       2.000000           1.0      0.000000   \n",
       "25%    8.507765e+05   51802.500000           1.0      1.000000   \n",
       "50%    1.709131e+06  103366.000000           1.0      3.000000   \n",
       "75%    2.556388e+06  154637.500000           1.0      5.000000   \n",
       "max    3.421077e+06  206201.000000           1.0      6.000000   \n",
       "\n",
       "       order_hour_of_day  days_since_prior_order  \n",
       "count       28819.000000                     0.0  \n",
       "mean           13.625629                     NaN  \n",
       "std             4.210852                     NaN  \n",
       "min             0.000000                     NaN  \n",
       "25%            11.000000                     NaN  \n",
       "50%            14.000000                     NaN  \n",
       "75%            17.000000                     NaN  \n",
       "max            23.000000                     NaN  "
      ]
     },
     "execution_count": 9,
     "metadata": {},
     "output_type": "execute_result"
    }
   ],
   "source": [
    "# Isolating rows with missing values for quick description\n",
    "orders_df[orders_df[\"days_since_prior_order\"].isna()].describe()"
   ]
  },
  {
   "cell_type": "markdown",
   "id": "736209dc-c405-4153-8646-4a84a20ffa6c",
   "metadata": {},
   "source": [
    "We can associate the missing values in `\"days_since_prior_order\"` to the customers' first order as the `\"order_number\"` columns stats suggests.\n",
    "\n",
    "Missing values will be replaces with \"first order\" string values."
   ]
  },
  {
   "cell_type": "code",
   "execution_count": 10,
   "id": "951a2620-c224-417a-809b-eec18571937c",
   "metadata": {},
   "outputs": [],
   "source": [
    "# Filling missing values with \"first order\" string values\n",
    "orders_df[\"days_since_prior_order\"] = orders_df[\"days_since_prior_order\"].fillna(\"first order\")"
   ]
  },
  {
   "cell_type": "code",
   "execution_count": 11,
   "id": "b99297a5-405a-463d-8535-9adc3da4ad74",
   "metadata": {},
   "outputs": [
    {
     "name": "stdout",
     "output_type": "stream",
     "text": [
      "Duplicates found: 15\n"
     ]
    }
   ],
   "source": [
    "# Checing for duplicates\n",
    "print(f\"Duplicates found: {orders_df.duplicated().sum()}\")"
   ]
  },
  {
   "cell_type": "code",
   "execution_count": 12,
   "id": "06ffabd1-5fa3-4450-adaa-d64b6f9fd9e1",
   "metadata": {},
   "outputs": [
    {
     "data": {
      "text/html": [
       "<div>\n",
       "<style scoped>\n",
       "    .dataframe tbody tr th:only-of-type {\n",
       "        vertical-align: middle;\n",
       "    }\n",
       "\n",
       "    .dataframe tbody tr th {\n",
       "        vertical-align: top;\n",
       "    }\n",
       "\n",
       "    .dataframe thead th {\n",
       "        text-align: right;\n",
       "    }\n",
       "</style>\n",
       "<table border=\"1\" class=\"dataframe\">\n",
       "  <thead>\n",
       "    <tr style=\"text-align: right;\">\n",
       "      <th></th>\n",
       "      <th>order_id</th>\n",
       "      <th>user_id</th>\n",
       "      <th>order_number</th>\n",
       "      <th>order_dow</th>\n",
       "      <th>order_hour_of_day</th>\n",
       "      <th>days_since_prior_order</th>\n",
       "    </tr>\n",
       "  </thead>\n",
       "  <tbody>\n",
       "    <tr>\n",
       "      <th>145574</th>\n",
       "      <td>794638</td>\n",
       "      <td>50898</td>\n",
       "      <td>24</td>\n",
       "      <td>3</td>\n",
       "      <td>2</td>\n",
       "      <td>2.0</td>\n",
       "    </tr>\n",
       "    <tr>\n",
       "      <th>223105</th>\n",
       "      <td>2160484</td>\n",
       "      <td>107525</td>\n",
       "      <td>16</td>\n",
       "      <td>3</td>\n",
       "      <td>2</td>\n",
       "      <td>30.0</td>\n",
       "    </tr>\n",
       "    <tr>\n",
       "      <th>230807</th>\n",
       "      <td>1918001</td>\n",
       "      <td>188546</td>\n",
       "      <td>14</td>\n",
       "      <td>3</td>\n",
       "      <td>2</td>\n",
       "      <td>16.0</td>\n",
       "    </tr>\n",
       "    <tr>\n",
       "      <th>266232</th>\n",
       "      <td>1782114</td>\n",
       "      <td>106752</td>\n",
       "      <td>1</td>\n",
       "      <td>3</td>\n",
       "      <td>2</td>\n",
       "      <td>first order</td>\n",
       "    </tr>\n",
       "    <tr>\n",
       "      <th>273805</th>\n",
       "      <td>1112182</td>\n",
       "      <td>202304</td>\n",
       "      <td>84</td>\n",
       "      <td>3</td>\n",
       "      <td>2</td>\n",
       "      <td>6.0</td>\n",
       "    </tr>\n",
       "    <tr>\n",
       "      <th>284038</th>\n",
       "      <td>2845099</td>\n",
       "      <td>31189</td>\n",
       "      <td>11</td>\n",
       "      <td>3</td>\n",
       "      <td>2</td>\n",
       "      <td>7.0</td>\n",
       "    </tr>\n",
       "    <tr>\n",
       "      <th>311713</th>\n",
       "      <td>1021560</td>\n",
       "      <td>53767</td>\n",
       "      <td>3</td>\n",
       "      <td>3</td>\n",
       "      <td>2</td>\n",
       "      <td>9.0</td>\n",
       "    </tr>\n",
       "    <tr>\n",
       "      <th>321100</th>\n",
       "      <td>408114</td>\n",
       "      <td>68324</td>\n",
       "      <td>4</td>\n",
       "      <td>3</td>\n",
       "      <td>2</td>\n",
       "      <td>18.0</td>\n",
       "    </tr>\n",
       "    <tr>\n",
       "      <th>323900</th>\n",
       "      <td>1919531</td>\n",
       "      <td>191501</td>\n",
       "      <td>32</td>\n",
       "      <td>3</td>\n",
       "      <td>2</td>\n",
       "      <td>7.0</td>\n",
       "    </tr>\n",
       "    <tr>\n",
       "      <th>345917</th>\n",
       "      <td>2232988</td>\n",
       "      <td>82565</td>\n",
       "      <td>1</td>\n",
       "      <td>3</td>\n",
       "      <td>2</td>\n",
       "      <td>first order</td>\n",
       "    </tr>\n",
       "    <tr>\n",
       "      <th>371905</th>\n",
       "      <td>391768</td>\n",
       "      <td>57671</td>\n",
       "      <td>19</td>\n",
       "      <td>3</td>\n",
       "      <td>2</td>\n",
       "      <td>10.0</td>\n",
       "    </tr>\n",
       "    <tr>\n",
       "      <th>394347</th>\n",
       "      <td>467134</td>\n",
       "      <td>63189</td>\n",
       "      <td>21</td>\n",
       "      <td>3</td>\n",
       "      <td>2</td>\n",
       "      <td>2.0</td>\n",
       "    </tr>\n",
       "    <tr>\n",
       "      <th>411408</th>\n",
       "      <td>1286742</td>\n",
       "      <td>183220</td>\n",
       "      <td>48</td>\n",
       "      <td>3</td>\n",
       "      <td>2</td>\n",
       "      <td>4.0</td>\n",
       "    </tr>\n",
       "    <tr>\n",
       "      <th>415163</th>\n",
       "      <td>2282673</td>\n",
       "      <td>86751</td>\n",
       "      <td>49</td>\n",
       "      <td>3</td>\n",
       "      <td>2</td>\n",
       "      <td>2.0</td>\n",
       "    </tr>\n",
       "    <tr>\n",
       "      <th>441599</th>\n",
       "      <td>2125197</td>\n",
       "      <td>14050</td>\n",
       "      <td>48</td>\n",
       "      <td>3</td>\n",
       "      <td>2</td>\n",
       "      <td>3.0</td>\n",
       "    </tr>\n",
       "  </tbody>\n",
       "</table>\n",
       "</div>"
      ],
      "text/plain": [
       "        order_id  user_id  order_number  order_dow  order_hour_of_day  \\\n",
       "145574    794638    50898            24          3                  2   \n",
       "223105   2160484   107525            16          3                  2   \n",
       "230807   1918001   188546            14          3                  2   \n",
       "266232   1782114   106752             1          3                  2   \n",
       "273805   1112182   202304            84          3                  2   \n",
       "284038   2845099    31189            11          3                  2   \n",
       "311713   1021560    53767             3          3                  2   \n",
       "321100    408114    68324             4          3                  2   \n",
       "323900   1919531   191501            32          3                  2   \n",
       "345917   2232988    82565             1          3                  2   \n",
       "371905    391768    57671            19          3                  2   \n",
       "394347    467134    63189            21          3                  2   \n",
       "411408   1286742   183220            48          3                  2   \n",
       "415163   2282673    86751            49          3                  2   \n",
       "441599   2125197    14050            48          3                  2   \n",
       "\n",
       "       days_since_prior_order  \n",
       "145574                    2.0  \n",
       "223105                   30.0  \n",
       "230807                   16.0  \n",
       "266232            first order  \n",
       "273805                    6.0  \n",
       "284038                    7.0  \n",
       "311713                    9.0  \n",
       "321100                   18.0  \n",
       "323900                    7.0  \n",
       "345917            first order  \n",
       "371905                   10.0  \n",
       "394347                    2.0  \n",
       "411408                    4.0  \n",
       "415163                    2.0  \n",
       "441599                    3.0  "
      ]
     },
     "execution_count": 12,
     "metadata": {},
     "output_type": "execute_result"
    }
   ],
   "source": [
    "# Viewing duplicate rows\n",
    "orders_df[orders_df.duplicated()]"
   ]
  },
  {
   "cell_type": "markdown",
   "id": "804dc873-4933-439f-a3d1-80a145a56ea8",
   "metadata": {},
   "source": [
    "All duplicate rows occurred on a Wednesday at 2AM. Not sure if that has a coincedence but worth a look if it becomes an impedement.\n",
    "\n",
    "Nonetheless, those rows will be removed as they corrupt the data."
   ]
  },
  {
   "cell_type": "code",
   "execution_count": 13,
   "id": "0d44de5d",
   "metadata": {
    "scrolled": true
   },
   "outputs": [
    {
     "name": "stdout",
     "output_type": "stream",
     "text": [
      "Duplicates: 0\n"
     ]
    }
   ],
   "source": [
    "# Dropping duplicates\n",
    "orders_df = orders_df.drop_duplicates()\n",
    "\n",
    "# Confimring changes\n",
    "print(f\"Duplicates: {orders_df.duplicated().sum()}\")"
   ]
  },
  {
   "cell_type": "markdown",
   "id": "887fe3e8-7d63-4eaf-b9c8-30caca4d76ec",
   "metadata": {},
   "source": [
    "Verifying the values in `'order_hour_of_day'` and `'order_dow'` in the `orders` table are sensible. Confirm `'order_hour_of_day'` is in 0-23 range and `'order_dow'` is within the 0-6 value range."
   ]
  },
  {
   "cell_type": "code",
   "execution_count": 106,
   "id": "e0b26549",
   "metadata": {
    "scrolled": true
   },
   "outputs": [
    {
     "name": "stdout",
     "output_type": "stream",
     "text": [
      "Order dow min, max: 0,6\n",
      "Order hour min, max: 0,23\n"
     ]
    }
   ],
   "source": [
    "# Printing 'order_dow' and 'order_hour_of_day' min /max \n",
    "print(f\"Order dow min, max: {orders_df['order_dow'].min()},{orders_df['order_dow'].max()}\")\n",
    "print(f\"Order hour min, max: {orders_df[\"order_hour_of_day\"].min()},{orders_df[\"order_hour_of_day\"].max()}\")"
   ]
  },
  {
   "cell_type": "markdown",
   "id": "45e6bc46",
   "metadata": {
    "jp-MarkdownHeadingCollapsed": true
   },
   "source": [
    "### `products` DataFrame\n",
    "---"
   ]
  },
  {
   "cell_type": "code",
   "execution_count": 14,
   "id": "76ddf86d-5e37-4f33-aa67-8ae39bc90a0f",
   "metadata": {},
   "outputs": [
    {
     "data": {
      "text/html": [
       "<div>\n",
       "<style scoped>\n",
       "    .dataframe tbody tr th:only-of-type {\n",
       "        vertical-align: middle;\n",
       "    }\n",
       "\n",
       "    .dataframe tbody tr th {\n",
       "        vertical-align: top;\n",
       "    }\n",
       "\n",
       "    .dataframe thead th {\n",
       "        text-align: right;\n",
       "    }\n",
       "</style>\n",
       "<table border=\"1\" class=\"dataframe\">\n",
       "  <thead>\n",
       "    <tr style=\"text-align: right;\">\n",
       "      <th></th>\n",
       "      <th>product_id</th>\n",
       "      <th>product_name</th>\n",
       "      <th>aisle_id</th>\n",
       "      <th>department_id</th>\n",
       "    </tr>\n",
       "  </thead>\n",
       "  <tbody>\n",
       "    <tr>\n",
       "      <th>11902</th>\n",
       "      <td>11903</td>\n",
       "      <td>Beef Chuck Roast</td>\n",
       "      <td>6</td>\n",
       "      <td>2</td>\n",
       "    </tr>\n",
       "    <tr>\n",
       "      <th>4162</th>\n",
       "      <td>4163</td>\n",
       "      <td>Spanish Rice Pilaf Mix</td>\n",
       "      <td>4</td>\n",
       "      <td>9</td>\n",
       "    </tr>\n",
       "    <tr>\n",
       "      <th>17736</th>\n",
       "      <td>17737</td>\n",
       "      <td>Gluten Free Red Velvet &amp; Tuxedo Cupcake Duo</td>\n",
       "      <td>8</td>\n",
       "      <td>3</td>\n",
       "    </tr>\n",
       "  </tbody>\n",
       "</table>\n",
       "</div>"
      ],
      "text/plain": [
       "       product_id                                 product_name  aisle_id  \\\n",
       "11902       11903                             Beef Chuck Roast         6   \n",
       "4162         4163                       Spanish Rice Pilaf Mix         4   \n",
       "17736       17737  Gluten Free Red Velvet & Tuxedo Cupcake Duo         8   \n",
       "\n",
       "       department_id  \n",
       "11902              2  \n",
       "4162               9  \n",
       "17736              3  "
      ]
     },
     "execution_count": 14,
     "metadata": {},
     "output_type": "execute_result"
    }
   ],
   "source": [
    "products_df.sample(3, random_state=42)"
   ]
  },
  {
   "cell_type": "code",
   "execution_count": 15,
   "id": "3d6fffcd",
   "metadata": {
    "scrolled": true
   },
   "outputs": [
    {
     "data": {
      "text/plain": [
       "1258"
      ]
     },
     "execution_count": 15,
     "metadata": {},
     "output_type": "execute_result"
    }
   ],
   "source": [
    "# Checking for missing values\n",
    "products_df['product_name'].isna().sum()"
   ]
  },
  {
   "cell_type": "code",
   "execution_count": 16,
   "id": "4fc04178-c6f8-4b36-85ef-bc00fd32ee24",
   "metadata": {},
   "outputs": [
    {
     "data": {
      "text/plain": [
       "aisle_id  department_id\n",
       "100       21               1258\n",
       "Name: count, dtype: int64"
      ]
     },
     "execution_count": 16,
     "metadata": {},
     "output_type": "execute_result"
    }
   ],
   "source": [
    "# Viewing rows with missing `\"product_name\"` values\n",
    "products_df[products_df[\"product_name\"].isna()][[\"aisle_id\",\"department_id\"]].value_counts()"
   ]
  },
  {
   "cell_type": "markdown",
   "id": "468755da-7172-418d-9faf-306b640576e4",
   "metadata": {},
   "source": [
    "All products with `\"product_name\"` values missing are found to share the same department and aisle. \n",
    "\n",
    "I'm sure customers are not buying unknown products, so could be an issue with the data entry/collection. Will just assign them \"unknown\" values."
   ]
  },
  {
   "cell_type": "code",
   "execution_count": 17,
   "id": "6b27aa23-3868-4717-b6b1-745bb2e2655f",
   "metadata": {},
   "outputs": [
    {
     "data": {
      "text/plain": [
       "product_id       0\n",
       "product_name     0\n",
       "aisle_id         0\n",
       "department_id    0\n",
       "dtype: int64"
      ]
     },
     "execution_count": 17,
     "metadata": {},
     "output_type": "execute_result"
    }
   ],
   "source": [
    "# Filling unknown values\n",
    "products_df[\"product_name\"] = products_df[\"product_name\"].fillna(\"unknown\")\n",
    "\n",
    "# Confirming changes\n",
    "products_df.isna().sum()"
   ]
  },
  {
   "cell_type": "code",
   "execution_count": 18,
   "id": "5f526b5b-8175-46fa-a0fd-441767d50e64",
   "metadata": {},
   "outputs": [
    {
     "data": {
      "text/plain": [
       "0"
      ]
     },
     "execution_count": 18,
     "metadata": {},
     "output_type": "execute_result"
    }
   ],
   "source": [
    "# Checking for duplicates\n",
    "products_df.duplicated().sum()"
   ]
  },
  {
   "cell_type": "code",
   "execution_count": 19,
   "id": "88daa4f4",
   "metadata": {},
   "outputs": [
    {
     "data": {
      "text/plain": [
       "0"
      ]
     },
     "execution_count": 19,
     "metadata": {},
     "output_type": "execute_result"
    }
   ],
   "source": [
    "# Checking for duplicates\n",
    "products_df['product_id'].duplicated().sum()"
   ]
  },
  {
   "cell_type": "code",
   "execution_count": 20,
   "id": "c773f0bf",
   "metadata": {},
   "outputs": [
    {
     "data": {
      "text/plain": [
       "1361"
      ]
     },
     "execution_count": 20,
     "metadata": {},
     "output_type": "execute_result"
    }
   ],
   "source": [
    "# Convering `product_name` values to lower case and checking for any duplicates in the event of any implicit duplicates\n",
    "products_df['product_name'].str.lower().duplicated().sum()"
   ]
  },
  {
   "cell_type": "markdown",
   "id": "fa38a726",
   "metadata": {},
   "source": [
    "We found there are 1361 total duplicates after changing the obects to lowercase, adding 103 duplicate values within the `\"product_name\"` values."
   ]
  },
  {
   "cell_type": "code",
   "execution_count": 21,
   "id": "e59ae291",
   "metadata": {},
   "outputs": [
    {
     "name": "stdout",
     "output_type": "stream",
     "text": [
      "Number of duplicate non-'unknown' values:  104\n"
     ]
    }
   ],
   "source": [
    "# Changing case of `product_name` values to address the duplicates\n",
    "products_df['product_name'] = products_df['product_name'].str.lower()\n",
    "\n",
    "# Checking \"product_name\" unique values \n",
    "print(\"Number of duplicate non-'unknown' values: \", \n",
    "      products_df[products_df[\"product_name\"] != \"unknown\"][\"product_name\"].duplicated().sum()\n",
    ")"
   ]
  },
  {
   "cell_type": "markdown",
   "id": "35af3a36-3b70-411a-bfae-f9c4080f91d7",
   "metadata": {
    "scrolled": true
   },
   "source": [
    "Only 104 of the 1361 duplicate values are not \"unknown\" values. These are likely products of different sizes or brands.\n",
    "\n",
    "We'll leave these values as-is."
   ]
  },
  {
   "cell_type": "markdown",
   "id": "60f30db1",
   "metadata": {
    "jp-MarkdownHeadingCollapsed": true
   },
   "source": [
    "### `departments` DataFrame\n",
    "---"
   ]
  },
  {
   "cell_type": "code",
   "execution_count": 22,
   "id": "b72006ee-0404-4f2c-85d4-8b1279013875",
   "metadata": {},
   "outputs": [
    {
     "data": {
      "text/html": [
       "<div>\n",
       "<style scoped>\n",
       "    .dataframe tbody tr th:only-of-type {\n",
       "        vertical-align: middle;\n",
       "    }\n",
       "\n",
       "    .dataframe tbody tr th {\n",
       "        vertical-align: top;\n",
       "    }\n",
       "\n",
       "    .dataframe thead th {\n",
       "        text-align: right;\n",
       "    }\n",
       "</style>\n",
       "<table border=\"1\" class=\"dataframe\">\n",
       "  <thead>\n",
       "    <tr style=\"text-align: right;\">\n",
       "      <th></th>\n",
       "      <th>department_id</th>\n",
       "      <th>department</th>\n",
       "    </tr>\n",
       "  </thead>\n",
       "  <tbody>\n",
       "    <tr>\n",
       "      <th>0</th>\n",
       "      <td>1</td>\n",
       "      <td>frozen</td>\n",
       "    </tr>\n",
       "    <tr>\n",
       "      <th>17</th>\n",
       "      <td>18</td>\n",
       "      <td>babies</td>\n",
       "    </tr>\n",
       "    <tr>\n",
       "      <th>15</th>\n",
       "      <td>16</td>\n",
       "      <td>dairy eggs</td>\n",
       "    </tr>\n",
       "  </tbody>\n",
       "</table>\n",
       "</div>"
      ],
      "text/plain": [
       "    department_id  department\n",
       "0               1      frozen\n",
       "17             18      babies\n",
       "15             16  dairy eggs"
      ]
     },
     "execution_count": 22,
     "metadata": {},
     "output_type": "execute_result"
    }
   ],
   "source": [
    "depts_df.sample(3, random_state=state)"
   ]
  },
  {
   "cell_type": "code",
   "execution_count": 23,
   "id": "fb410ad4-0fbf-4b80-bb09-23fdea79afe3",
   "metadata": {
    "scrolled": true
   },
   "outputs": [
    {
     "data": {
      "text/plain": [
       "0"
      ]
     },
     "execution_count": 23,
     "metadata": {},
     "output_type": "execute_result"
    }
   ],
   "source": [
    "# Checking for the number of duplicates\n",
    "depts_df.duplicated().sum()"
   ]
  },
  {
   "cell_type": "code",
   "execution_count": 24,
   "id": "332b12bb",
   "metadata": {},
   "outputs": [
    {
     "data": {
      "text/plain": [
       "0"
      ]
     },
     "execution_count": 24,
     "metadata": {},
     "output_type": "execute_result"
    }
   ],
   "source": [
    "# Double checking for duplicates after changing to uniform case\n",
    "depts_df['department'].str.lower().duplicated().sum()"
   ]
  },
  {
   "cell_type": "code",
   "execution_count": 25,
   "id": "4032a83d-82cc-4b9b-9c2f-546e98c4f716",
   "metadata": {},
   "outputs": [
    {
     "data": {
      "text/plain": [
       "department\n",
       "frozen             1\n",
       "meat seafood       1\n",
       "deli               1\n",
       "snacks             1\n",
       "babies             1\n",
       "household          1\n",
       "dairy eggs         1\n",
       "canned goods       1\n",
       "breakfast          1\n",
       "pantry             1\n",
       "personal care      1\n",
       "other              1\n",
       "bulk               1\n",
       "dry goods pasta    1\n",
       "pets               1\n",
       "beverages          1\n",
       "international      1\n",
       "alcohol            1\n",
       "produce            1\n",
       "bakery             1\n",
       "missing            1\n",
       "Name: count, dtype: int64"
      ]
     },
     "execution_count": 25,
     "metadata": {},
     "output_type": "execute_result"
    }
   ],
   "source": [
    "# Checking for any implicit duplicates\n",
    "depts_df[\"department\"].value_counts()"
   ]
  },
  {
   "cell_type": "code",
   "execution_count": 26,
   "id": "7fb7433a-42e2-4c05-9e8d-798675fd6f6a",
   "metadata": {},
   "outputs": [
    {
     "data": {
      "text/plain": [
       "department_id    0\n",
       "department       0\n",
       "dtype: int64"
      ]
     },
     "execution_count": 26,
     "metadata": {},
     "output_type": "execute_result"
    }
   ],
   "source": [
    "depts_df.isna().sum()"
   ]
  },
  {
   "cell_type": "markdown",
   "id": "79593136",
   "metadata": {},
   "source": [
    "This dataset looks clean but `\"department\"`dtype should be converted to category."
   ]
  },
  {
   "cell_type": "code",
   "execution_count": 27,
   "id": "fe66c7b3-1c52-42cc-94c1-d27d48c663f8",
   "metadata": {},
   "outputs": [
    {
     "name": "stdout",
     "output_type": "stream",
     "text": [
      "<class 'pandas.core.frame.DataFrame'>\n",
      "RangeIndex: 21 entries, 0 to 20\n",
      "Data columns (total 2 columns):\n",
      " #   Column         Non-Null Count  Dtype   \n",
      "---  ------         --------------  -----   \n",
      " 0   department_id  21 non-null     int64   \n",
      " 1   department     21 non-null     category\n",
      "dtypes: category(1), int64(1)\n",
      "memory usage: 1.0 KB\n"
     ]
    }
   ],
   "source": [
    "depts_df[\"department\"] = depts_df[\"department\"].astype(\"category\")\n",
    "\n",
    "# Confirming dtype change\n",
    "depts_df.info()"
   ]
  },
  {
   "cell_type": "markdown",
   "id": "889349c1",
   "metadata": {
    "jp-MarkdownHeadingCollapsed": true
   },
   "source": [
    "### `aisles` DataFrame\n",
    "---"
   ]
  },
  {
   "cell_type": "code",
   "execution_count": 28,
   "id": "ae4d73f2-1a16-4fb3-9c35-6af26d2028f0",
   "metadata": {},
   "outputs": [
    {
     "data": {
      "text/html": [
       "<div>\n",
       "<style scoped>\n",
       "    .dataframe tbody tr th:only-of-type {\n",
       "        vertical-align: middle;\n",
       "    }\n",
       "\n",
       "    .dataframe tbody tr th {\n",
       "        vertical-align: top;\n",
       "    }\n",
       "\n",
       "    .dataframe thead th {\n",
       "        text-align: right;\n",
       "    }\n",
       "</style>\n",
       "<table border=\"1\" class=\"dataframe\">\n",
       "  <thead>\n",
       "    <tr style=\"text-align: right;\">\n",
       "      <th></th>\n",
       "      <th>aisle_id</th>\n",
       "      <th>aisle</th>\n",
       "    </tr>\n",
       "  </thead>\n",
       "  <tbody>\n",
       "    <tr>\n",
       "      <th>127</th>\n",
       "      <td>128</td>\n",
       "      <td>tortillas flat bread</td>\n",
       "    </tr>\n",
       "    <tr>\n",
       "      <th>66</th>\n",
       "      <td>67</td>\n",
       "      <td>fresh dips tapenades</td>\n",
       "    </tr>\n",
       "    <tr>\n",
       "      <th>104</th>\n",
       "      <td>105</td>\n",
       "      <td>doughs gelatins bake mixes</td>\n",
       "    </tr>\n",
       "  </tbody>\n",
       "</table>\n",
       "</div>"
      ],
      "text/plain": [
       "     aisle_id                       aisle\n",
       "127       128        tortillas flat bread\n",
       "66         67        fresh dips tapenades\n",
       "104       105  doughs gelatins bake mixes"
      ]
     },
     "execution_count": 28,
     "metadata": {},
     "output_type": "execute_result"
    }
   ],
   "source": [
    "# Getting sample rows\n",
    "aisles_df.sample(3, random_state=state)"
   ]
  },
  {
   "cell_type": "code",
   "execution_count": 29,
   "id": "9da89fb9-4679-40f5-ad0d-c34df753a3f8",
   "metadata": {},
   "outputs": [
    {
     "data": {
      "text/plain": [
       "0"
      ]
     },
     "execution_count": 29,
     "metadata": {},
     "output_type": "execute_result"
    }
   ],
   "source": [
    "# Checking for duplicates\n",
    "aisles_df.duplicated().sum()"
   ]
  },
  {
   "cell_type": "code",
   "execution_count": 30,
   "id": "da7c2822",
   "metadata": {
    "scrolled": true
   },
   "outputs": [
    {
     "data": {
      "text/plain": [
       "0"
      ]
     },
     "execution_count": 30,
     "metadata": {},
     "output_type": "execute_result"
    }
   ],
   "source": [
    "# Double checking for duplicates after changing case for uniformity\n",
    "aisles_df['aisle'].str.lower().duplicated().sum()"
   ]
  },
  {
   "cell_type": "code",
   "execution_count": 31,
   "id": "bbd16ff2-e2b8-4bab-8003-ba5f3112c64c",
   "metadata": {},
   "outputs": [
    {
     "data": {
      "text/plain": [
       "aisle_id    0\n",
       "aisle       0\n",
       "dtype: int64"
      ]
     },
     "execution_count": 31,
     "metadata": {},
     "output_type": "execute_result"
    }
   ],
   "source": [
    "# Checking for missing values\n",
    "aisles_df.isna().sum()"
   ]
  },
  {
   "cell_type": "markdown",
   "id": "25028191",
   "metadata": {},
   "source": [
    "This dataset is clean with no issues."
   ]
  },
  {
   "cell_type": "markdown",
   "id": "274cd06a",
   "metadata": {
    "jp-MarkdownHeadingCollapsed": true
   },
   "source": [
    "### `order_products` DataFrame\n",
    "---"
   ]
  },
  {
   "cell_type": "code",
   "execution_count": 32,
   "id": "5d52ac47-6ecd-427c-bd65-722731ff3d2c",
   "metadata": {},
   "outputs": [
    {
     "data": {
      "text/html": [
       "<div>\n",
       "<style scoped>\n",
       "    .dataframe tbody tr th:only-of-type {\n",
       "        vertical-align: middle;\n",
       "    }\n",
       "\n",
       "    .dataframe tbody tr th {\n",
       "        vertical-align: top;\n",
       "    }\n",
       "\n",
       "    .dataframe thead th {\n",
       "        text-align: right;\n",
       "    }\n",
       "</style>\n",
       "<table border=\"1\" class=\"dataframe\">\n",
       "  <thead>\n",
       "    <tr style=\"text-align: right;\">\n",
       "      <th></th>\n",
       "      <th>order_id</th>\n",
       "      <th>product_id</th>\n",
       "      <th>add_to_cart_order</th>\n",
       "      <th>reordered</th>\n",
       "    </tr>\n",
       "  </thead>\n",
       "  <tbody>\n",
       "    <tr>\n",
       "      <th>1274557</th>\n",
       "      <td>2182877</td>\n",
       "      <td>36412</td>\n",
       "      <td>2.0</td>\n",
       "      <td>0</td>\n",
       "    </tr>\n",
       "    <tr>\n",
       "      <th>136271</th>\n",
       "      <td>1692632</td>\n",
       "      <td>49383</td>\n",
       "      <td>19.0</td>\n",
       "      <td>0</td>\n",
       "    </tr>\n",
       "    <tr>\n",
       "      <th>2327440</th>\n",
       "      <td>1054700</td>\n",
       "      <td>11520</td>\n",
       "      <td>9.0</td>\n",
       "      <td>1</td>\n",
       "    </tr>\n",
       "  </tbody>\n",
       "</table>\n",
       "</div>"
      ],
      "text/plain": [
       "         order_id  product_id  add_to_cart_order  reordered\n",
       "1274557   2182877       36412                2.0          0\n",
       "136271    1692632       49383               19.0          0\n",
       "2327440   1054700       11520                9.0          1"
      ]
     },
     "execution_count": 32,
     "metadata": {},
     "output_type": "execute_result"
    }
   ],
   "source": [
    "# Sampling 3 rows\n",
    "order_prod_df.sample(3,random_state=state)"
   ]
  },
  {
   "cell_type": "code",
   "execution_count": 33,
   "id": "52326689-84a8-4b8f-a881-7c68780f62c9",
   "metadata": {
    "scrolled": true
   },
   "outputs": [
    {
     "data": {
      "text/plain": [
       "0"
      ]
     },
     "execution_count": 33,
     "metadata": {},
     "output_type": "execute_result"
    }
   ],
   "source": [
    "# Checking for full duplicates\n",
    "order_prod_df.duplicated().sum()"
   ]
  },
  {
   "cell_type": "code",
   "execution_count": 34,
   "id": "66f865aa-e9ae-45ea-a5a7-fe7cb121d706",
   "metadata": {},
   "outputs": [
    {
     "data": {
      "text/plain": [
       "order_id               0\n",
       "product_id             0\n",
       "add_to_cart_order    836\n",
       "reordered              0\n",
       "dtype: int64"
      ]
     },
     "execution_count": 34,
     "metadata": {},
     "output_type": "execute_result"
    }
   ],
   "source": [
    "# Checking for missing values\n",
    "order_prod_df.isna().sum()"
   ]
  },
  {
   "cell_type": "markdown",
   "id": "51ba23dd-b617-4da0-99be-40e0d7f4b456",
   "metadata": {},
   "source": [
    "Here we see 836 missing values for `\"add_to_cart_order\"`. Let's dive a bit deeper to see how we can address this issue."
   ]
  },
  {
   "cell_type": "code",
   "execution_count": 35,
   "id": "a0c9b228-8296-4a56-9814-862d59ddac97",
   "metadata": {},
   "outputs": [
    {
     "data": {
      "text/html": [
       "<div>\n",
       "<style scoped>\n",
       "    .dataframe tbody tr th:only-of-type {\n",
       "        vertical-align: middle;\n",
       "    }\n",
       "\n",
       "    .dataframe tbody tr th {\n",
       "        vertical-align: top;\n",
       "    }\n",
       "\n",
       "    .dataframe thead th {\n",
       "        text-align: right;\n",
       "    }\n",
       "</style>\n",
       "<table border=\"1\" class=\"dataframe\">\n",
       "  <thead>\n",
       "    <tr style=\"text-align: right;\">\n",
       "      <th></th>\n",
       "      <th>order_id</th>\n",
       "      <th>product_id</th>\n",
       "      <th>add_to_cart_order</th>\n",
       "      <th>reordered</th>\n",
       "    </tr>\n",
       "  </thead>\n",
       "  <tbody>\n",
       "    <tr>\n",
       "      <th>3280063</th>\n",
       "      <td>1730767</td>\n",
       "      <td>18941</td>\n",
       "      <td>NaN</td>\n",
       "      <td>1</td>\n",
       "    </tr>\n",
       "    <tr>\n",
       "      <th>4443007</th>\n",
       "      <td>1968313</td>\n",
       "      <td>22497</td>\n",
       "      <td>NaN</td>\n",
       "      <td>0</td>\n",
       "    </tr>\n",
       "    <tr>\n",
       "      <th>1547289</th>\n",
       "      <td>102236</td>\n",
       "      <td>5699</td>\n",
       "      <td>NaN</td>\n",
       "      <td>0</td>\n",
       "    </tr>\n",
       "    <tr>\n",
       "      <th>4335860</th>\n",
       "      <td>1183255</td>\n",
       "      <td>46257</td>\n",
       "      <td>NaN</td>\n",
       "      <td>1</td>\n",
       "    </tr>\n",
       "    <tr>\n",
       "      <th>848750</th>\n",
       "      <td>2470674</td>\n",
       "      <td>20564</td>\n",
       "      <td>NaN</td>\n",
       "      <td>0</td>\n",
       "    </tr>\n",
       "    <tr>\n",
       "      <th>3737090</th>\n",
       "      <td>1529171</td>\n",
       "      <td>44116</td>\n",
       "      <td>NaN</td>\n",
       "      <td>0</td>\n",
       "    </tr>\n",
       "    <tr>\n",
       "      <th>4432922</th>\n",
       "      <td>1386261</td>\n",
       "      <td>8847</td>\n",
       "      <td>NaN</td>\n",
       "      <td>1</td>\n",
       "    </tr>\n",
       "    <tr>\n",
       "      <th>465478</th>\n",
       "      <td>1038146</td>\n",
       "      <td>1158</td>\n",
       "      <td>NaN</td>\n",
       "      <td>0</td>\n",
       "    </tr>\n",
       "    <tr>\n",
       "      <th>1402310</th>\n",
       "      <td>3308010</td>\n",
       "      <td>11576</td>\n",
       "      <td>NaN</td>\n",
       "      <td>1</td>\n",
       "    </tr>\n",
       "    <tr>\n",
       "      <th>2989638</th>\n",
       "      <td>293169</td>\n",
       "      <td>23233</td>\n",
       "      <td>NaN</td>\n",
       "      <td>1</td>\n",
       "    </tr>\n",
       "  </tbody>\n",
       "</table>\n",
       "</div>"
      ],
      "text/plain": [
       "         order_id  product_id  add_to_cart_order  reordered\n",
       "3280063   1730767       18941                NaN          1\n",
       "4443007   1968313       22497                NaN          0\n",
       "1547289    102236        5699                NaN          0\n",
       "4335860   1183255       46257                NaN          1\n",
       "848750    2470674       20564                NaN          0\n",
       "3737090   1529171       44116                NaN          0\n",
       "4432922   1386261        8847                NaN          1\n",
       "465478    1038146        1158                NaN          0\n",
       "1402310   3308010       11576                NaN          1\n",
       "2989638    293169       23233                NaN          1"
      ]
     },
     "execution_count": 35,
     "metadata": {},
     "output_type": "execute_result"
    }
   ],
   "source": [
    "# Printing rows with missing \"add_to_order\" values\n",
    "order_prod_df[order_prod_df[\"add_to_cart_order\"].isna()].sample(10, random_state=state)"
   ]
  },
  {
   "cell_type": "markdown",
   "id": "84288bd3-5d01-4eaa-822f-05f9f0a36620",
   "metadata": {},
   "source": [
    "Grouping thse orders by `\"order_id\"` and filtering for rows with missing `\"add_to_cart_order\"` might give us a bit more insight of whats going on with these observations."
   ]
  },
  {
   "cell_type": "code",
   "execution_count": 36,
   "id": "f956d479-5f9b-4ec0-b03a-22b9e2ccedf0",
   "metadata": {},
   "outputs": [
    {
     "data": {
      "text/plain": [
       "count     70.000000\n",
       "mean      75.942857\n",
       "std       12.898585\n",
       "min       65.000000\n",
       "25%       67.000000\n",
       "50%       71.000000\n",
       "75%       78.000000\n",
       "max      127.000000\n",
       "Name: count, dtype: float64"
      ]
     },
     "execution_count": 36,
     "metadata": {},
     "output_type": "execute_result"
    }
   ],
   "source": [
    "# Indexing rows with missing \"add_to_cart\" values\n",
    "missing_cart = order_prod_df[order_prod_df[\"add_to_cart_order\"].isna()][\"order_id\"]\n",
    "\n",
    "# Grouping by \"order_id\" \n",
    "grouped_orders = order_prod_df.groupby(\"order_id\")[\"product_id\"].count().reset_index().rename(\n",
    "    columns = {\n",
    "        \"product_id\" : \"count\"\n",
    "    }\n",
    ")\n",
    "\n",
    "# Viewing statistical results of grouping\n",
    "grouped_orders.query(\"order_id in @missing_cart\")[\"count\"].describe()"
   ]
  },
  {
   "cell_type": "markdown",
   "id": "7a8340e3-db03-4fbd-8122-5597eea5a89d",
   "metadata": {},
   "source": [
    "There are 70 unique orders that contained a missing `\"add_to_cart_order\"` value. The minimum number of items in that group of orders is 65 items and 127 items max. It appears there could be the result of a bug. We'll leave those missing values as is. No way to know how to address them meaningfully."
   ]
  },
  {
   "cell_type": "code",
   "execution_count": 37,
   "id": "860dd158",
   "metadata": {},
   "outputs": [
    {
     "data": {
      "text/plain": [
       "order_id\n",
       "61355      127\n",
       "3308010    115\n",
       "2136777    108\n",
       "171934     104\n",
       "1959075     98\n",
       "          ... \n",
       "3076918      1\n",
       "2499566      1\n",
       "556604       1\n",
       "171279       1\n",
       "1461911      1\n",
       "Name: count, Length: 450046, dtype: int64"
      ]
     },
     "execution_count": 37,
     "metadata": {},
     "output_type": "execute_result"
    }
   ],
   "source": [
    "# Checking for any possible implicit duplicates\n",
    "order_prod_df['order_id'].value_counts()"
   ]
  },
  {
   "cell_type": "code",
   "execution_count": 38,
   "id": "f26bf49d-8b5c-4f58-839a-d0c677c83c55",
   "metadata": {},
   "outputs": [
    {
     "data": {
      "text/html": [
       "<div>\n",
       "<style scoped>\n",
       "    .dataframe tbody tr th:only-of-type {\n",
       "        vertical-align: middle;\n",
       "    }\n",
       "\n",
       "    .dataframe tbody tr th {\n",
       "        vertical-align: top;\n",
       "    }\n",
       "\n",
       "    .dataframe thead th {\n",
       "        text-align: right;\n",
       "    }\n",
       "</style>\n",
       "<table border=\"1\" class=\"dataframe\">\n",
       "  <thead>\n",
       "    <tr style=\"text-align: right;\">\n",
       "      <th></th>\n",
       "      <th>product_id</th>\n",
       "      <th>product_name</th>\n",
       "      <th>aisle_id</th>\n",
       "      <th>department_id</th>\n",
       "    </tr>\n",
       "  </thead>\n",
       "  <tbody>\n",
       "    <tr>\n",
       "      <th>11902</th>\n",
       "      <td>11903</td>\n",
       "      <td>beef chuck roast</td>\n",
       "      <td>6</td>\n",
       "      <td>2</td>\n",
       "    </tr>\n",
       "    <tr>\n",
       "      <th>4162</th>\n",
       "      <td>4163</td>\n",
       "      <td>spanish rice pilaf mix</td>\n",
       "      <td>4</td>\n",
       "      <td>9</td>\n",
       "    </tr>\n",
       "    <tr>\n",
       "      <th>17736</th>\n",
       "      <td>17737</td>\n",
       "      <td>gluten free red velvet &amp; tuxedo cupcake duo</td>\n",
       "      <td>8</td>\n",
       "      <td>3</td>\n",
       "    </tr>\n",
       "  </tbody>\n",
       "</table>\n",
       "</div>"
      ],
      "text/plain": [
       "       product_id                                 product_name  aisle_id  \\\n",
       "11902       11903                             beef chuck roast         6   \n",
       "4162         4163                       spanish rice pilaf mix         4   \n",
       "17736       17737  gluten free red velvet & tuxedo cupcake duo         8   \n",
       "\n",
       "       department_id  \n",
       "11902              2  \n",
       "4162               9  \n",
       "17736              3  "
      ]
     },
     "execution_count": 38,
     "metadata": {},
     "output_type": "execute_result"
    }
   ],
   "source": [
    "# 3 row sample\n",
    "products_df.sample(3, random_state=state)"
   ]
  },
  {
   "cell_type": "code",
   "execution_count": null,
   "id": "41e050a9-09c3-4ee7-a727-1b16de379b7e",
   "metadata": {},
   "outputs": [],
   "source": []
  },
  {
   "cell_type": "markdown",
   "id": "3059e995",
   "metadata": {},
   "source": [
    "There are 1258 missing values in the `'product_name'` column. We'll explore to get more details on those values."
   ]
  },
  {
   "cell_type": "markdown",
   "id": "61a66866",
   "metadata": {},
   "source": [
    "All those values share the same `'aisle_id'` values. It looks like they all also share the same `'department_id'` values. Let's verify to see if our assumption is correct."
   ]
  },
  {
   "cell_type": "code",
   "execution_count": 39,
   "id": "8fd0a541",
   "metadata": {
    "scrolled": true
   },
   "outputs": [
    {
     "data": {
      "text/html": [
       "<div>\n",
       "<style scoped>\n",
       "    .dataframe tbody tr th:only-of-type {\n",
       "        vertical-align: middle;\n",
       "    }\n",
       "\n",
       "    .dataframe tbody tr th {\n",
       "        vertical-align: top;\n",
       "    }\n",
       "\n",
       "    .dataframe thead th {\n",
       "        text-align: right;\n",
       "    }\n",
       "</style>\n",
       "<table border=\"1\" class=\"dataframe\">\n",
       "  <thead>\n",
       "    <tr style=\"text-align: right;\">\n",
       "      <th></th>\n",
       "      <th>product_id</th>\n",
       "      <th>product_name</th>\n",
       "      <th>aisle_id</th>\n",
       "      <th>department_id</th>\n",
       "    </tr>\n",
       "  </thead>\n",
       "  <tbody>\n",
       "  </tbody>\n",
       "</table>\n",
       "</div>"
      ],
      "text/plain": [
       "Empty DataFrame\n",
       "Columns: [product_id, product_name, aisle_id, department_id]\n",
       "Index: []"
      ]
     },
     "execution_count": 39,
     "metadata": {},
     "output_type": "execute_result"
    }
   ],
   "source": [
    "# Are all of the missing product names associated with department ID 21?\n",
    "products_df[(products_df['product_name'].isna())&(products_df['department_id'] == 21)]"
   ]
  },
  {
   "cell_type": "markdown",
   "id": "a77841eb",
   "metadata": {},
   "source": [
    "Our assumption is correct. All those values share the same `'department_id'` values. Let's go through the `'depts_df'` and `'aisle_df'`DataFrames to identify these aisle and department names."
   ]
  },
  {
   "cell_type": "code",
   "execution_count": 40,
   "id": "325c3464",
   "metadata": {
    "scrolled": true
   },
   "outputs": [
    {
     "data": {
      "text/html": [
       "<div>\n",
       "<style scoped>\n",
       "    .dataframe tbody tr th:only-of-type {\n",
       "        vertical-align: middle;\n",
       "    }\n",
       "\n",
       "    .dataframe tbody tr th {\n",
       "        vertical-align: top;\n",
       "    }\n",
       "\n",
       "    .dataframe thead th {\n",
       "        text-align: right;\n",
       "    }\n",
       "</style>\n",
       "<table border=\"1\" class=\"dataframe\">\n",
       "  <thead>\n",
       "    <tr style=\"text-align: right;\">\n",
       "      <th></th>\n",
       "      <th>aisle_id</th>\n",
       "      <th>aisle</th>\n",
       "    </tr>\n",
       "  </thead>\n",
       "  <tbody>\n",
       "    <tr>\n",
       "      <th>99</th>\n",
       "      <td>100</td>\n",
       "      <td>missing</td>\n",
       "    </tr>\n",
       "  </tbody>\n",
       "</table>\n",
       "</div>"
      ],
      "text/plain": [
       "    aisle_id    aisle\n",
       "99       100  missing"
      ]
     },
     "execution_count": 40,
     "metadata": {},
     "output_type": "execute_result"
    }
   ],
   "source": [
    "# What is this ailse and department?\n",
    "aisles_df[aisles_df['aisle_id']==100]"
   ]
  },
  {
   "cell_type": "markdown",
   "id": "844fa673",
   "metadata": {},
   "source": [
    "The `'aisle_id'` 100 name is also missing."
   ]
  },
  {
   "cell_type": "code",
   "execution_count": 41,
   "id": "d8406779",
   "metadata": {},
   "outputs": [
    {
     "data": {
      "text/html": [
       "<div>\n",
       "<style scoped>\n",
       "    .dataframe tbody tr th:only-of-type {\n",
       "        vertical-align: middle;\n",
       "    }\n",
       "\n",
       "    .dataframe tbody tr th {\n",
       "        vertical-align: top;\n",
       "    }\n",
       "\n",
       "    .dataframe thead th {\n",
       "        text-align: right;\n",
       "    }\n",
       "</style>\n",
       "<table border=\"1\" class=\"dataframe\">\n",
       "  <thead>\n",
       "    <tr style=\"text-align: right;\">\n",
       "      <th></th>\n",
       "      <th>department_id</th>\n",
       "      <th>department</th>\n",
       "    </tr>\n",
       "  </thead>\n",
       "  <tbody>\n",
       "    <tr>\n",
       "      <th>20</th>\n",
       "      <td>21</td>\n",
       "      <td>missing</td>\n",
       "    </tr>\n",
       "  </tbody>\n",
       "</table>\n",
       "</div>"
      ],
      "text/plain": [
       "    department_id department\n",
       "20             21    missing"
      ]
     },
     "execution_count": 41,
     "metadata": {},
     "output_type": "execute_result"
    }
   ],
   "source": [
    "# Checking department 21 name\n",
    "depts_df[depts_df['department_id']==21]"
   ]
  },
  {
   "cell_type": "markdown",
   "id": "35bb3ffb",
   "metadata": {},
   "source": [
    "The `'department_id'` 21 value is missing as well."
   ]
  },
  {
   "cell_type": "code",
   "execution_count": 42,
   "id": "6b295120",
   "metadata": {},
   "outputs": [],
   "source": [
    "# Filling missing department value with `Uknown` string values\n",
    "products_df['product_name']=products_df['product_name'].fillna(value='unknown')"
   ]
  },
  {
   "cell_type": "markdown",
   "id": "194bcaff",
   "metadata": {},
   "source": [
    "We'll clean this up by replacing those missing `'product_name'` values with <em>'Unknown'</em>"
   ]
  },
  {
   "cell_type": "code",
   "execution_count": 43,
   "id": "1f77e961",
   "metadata": {},
   "outputs": [
    {
     "data": {
      "text/plain": [
       "0"
      ]
     },
     "execution_count": 43,
     "metadata": {},
     "output_type": "execute_result"
    }
   ],
   "source": [
    "products_df['product_name'].isna().sum()"
   ]
  },
  {
   "cell_type": "markdown",
   "id": "7eb45c86",
   "metadata": {},
   "source": [
    "### Merging DataFrames\n",
    "---"
   ]
  },
  {
   "cell_type": "markdown",
   "id": "66ac7db0-2e24-4683-a22b-84aae9cd6c54",
   "metadata": {},
   "source": [
    "Now that our data is clean, it's time to merge all DataFrames for proper data analysis."
   ]
  },
  {
   "cell_type": "code",
   "execution_count": 44,
   "id": "d377fbaf-79ef-4691-b73f-f6ab47b67199",
   "metadata": {},
   "outputs": [
    {
     "data": {
      "text/html": [
       "<div>\n",
       "<style scoped>\n",
       "    .dataframe tbody tr th:only-of-type {\n",
       "        vertical-align: middle;\n",
       "    }\n",
       "\n",
       "    .dataframe tbody tr th {\n",
       "        vertical-align: top;\n",
       "    }\n",
       "\n",
       "    .dataframe thead th {\n",
       "        text-align: right;\n",
       "    }\n",
       "</style>\n",
       "<table border=\"1\" class=\"dataframe\">\n",
       "  <thead>\n",
       "    <tr style=\"text-align: right;\">\n",
       "      <th></th>\n",
       "      <th>order_id</th>\n",
       "      <th>user_id</th>\n",
       "      <th>order_number</th>\n",
       "      <th>order_dow</th>\n",
       "      <th>order_hour_of_day</th>\n",
       "      <th>days_since_prior_order</th>\n",
       "      <th>product_id</th>\n",
       "      <th>add_to_cart_order</th>\n",
       "      <th>reordered</th>\n",
       "      <th>product_name</th>\n",
       "      <th>aisle_id</th>\n",
       "      <th>department_id</th>\n",
       "      <th>department</th>\n",
       "      <th>aisle</th>\n",
       "    </tr>\n",
       "  </thead>\n",
       "  <tbody>\n",
       "    <tr>\n",
       "      <th>1274557</th>\n",
       "      <td>1649083</td>\n",
       "      <td>64680</td>\n",
       "      <td>18</td>\n",
       "      <td>3</td>\n",
       "      <td>10</td>\n",
       "      <td>16.0</td>\n",
       "      <td>35132</td>\n",
       "      <td>2.0</td>\n",
       "      <td>1</td>\n",
       "      <td>cheese square crackers</td>\n",
       "      <td>78</td>\n",
       "      <td>19</td>\n",
       "      <td>snacks</td>\n",
       "      <td>crackers</td>\n",
       "    </tr>\n",
       "    <tr>\n",
       "      <th>136271</th>\n",
       "      <td>348697</td>\n",
       "      <td>150582</td>\n",
       "      <td>6</td>\n",
       "      <td>1</td>\n",
       "      <td>8</td>\n",
       "      <td>8.0</td>\n",
       "      <td>9327</td>\n",
       "      <td>19.0</td>\n",
       "      <td>0</td>\n",
       "      <td>garlic powder</td>\n",
       "      <td>104</td>\n",
       "      <td>13</td>\n",
       "      <td>pantry</td>\n",
       "      <td>spices seasonings</td>\n",
       "    </tr>\n",
       "    <tr>\n",
       "      <th>2327440</th>\n",
       "      <td>1825071</td>\n",
       "      <td>35109</td>\n",
       "      <td>6</td>\n",
       "      <td>6</td>\n",
       "      <td>12</td>\n",
       "      <td>13.0</td>\n",
       "      <td>14858</td>\n",
       "      <td>7.0</td>\n",
       "      <td>1</td>\n",
       "      <td>multigrain pita chips</td>\n",
       "      <td>107</td>\n",
       "      <td>19</td>\n",
       "      <td>snacks</td>\n",
       "      <td>chips pretzels</td>\n",
       "    </tr>\n",
       "  </tbody>\n",
       "</table>\n",
       "</div>"
      ],
      "text/plain": [
       "         order_id  user_id  order_number  order_dow  order_hour_of_day  \\\n",
       "1274557   1649083    64680            18          3                 10   \n",
       "136271     348697   150582             6          1                  8   \n",
       "2327440   1825071    35109             6          6                 12   \n",
       "\n",
       "        days_since_prior_order  product_id  add_to_cart_order  reordered  \\\n",
       "1274557                   16.0       35132                2.0          1   \n",
       "136271                     8.0        9327               19.0          0   \n",
       "2327440                   13.0       14858                7.0          1   \n",
       "\n",
       "                   product_name  aisle_id  department_id department  \\\n",
       "1274557  cheese square crackers        78             19     snacks   \n",
       "136271            garlic powder       104             13     pantry   \n",
       "2327440   multigrain pita chips       107             19     snacks   \n",
       "\n",
       "                     aisle  \n",
       "1274557           crackers  \n",
       "136271   spices seasonings  \n",
       "2327440     chips pretzels  "
      ]
     },
     "execution_count": 44,
     "metadata": {},
     "output_type": "execute_result"
    }
   ],
   "source": [
    "# Merging\n",
    "df = orders_df.merge(\n",
    "    order_prod_df,\n",
    "    on = \"order_id\",\n",
    "    how = \"inner\"\n",
    ")\n",
    "\n",
    "df = df.merge(\n",
    "    products_df,\n",
    "    on = \"product_id\",\n",
    "    how = \"inner\"\n",
    ")\n",
    "\n",
    "df = df.merge(\n",
    "    depts_df,\n",
    "    on = \"department_id\",\n",
    "    how = \"inner\"\n",
    ")\n",
    "\n",
    "df = df.merge(\n",
    "    aisles_df,\n",
    "    on = \"aisle_id\",\n",
    "    how = \"inner\"\n",
    ")\n",
    "\n",
    "# Comfirming merge success\n",
    "df.sample(3, random_state=state)"
   ]
  },
  {
   "cell_type": "markdown",
   "id": "69dc9ca4",
   "metadata": {},
   "source": [
    "---\n",
    "## Data Analysis\n",
    "---"
   ]
  },
  {
   "cell_type": "code",
   "execution_count": 73,
   "id": "9a78e5ee",
   "metadata": {
    "scrolled": true
   },
   "outputs": [
    {
     "name": "stdout",
     "output_type": "stream",
     "text": [
      "Customer with the most orders in the sample: 99\n",
      "Largest order consisted of 65 items\n",
      "Average days since prior order turns out to be 11 days\n"
     ]
    }
   ],
   "source": [
    "# Checking max values\n",
    "print(f\"Customer with the most orders in the sample: {df[\"order_number\"].max()}\")\n",
    "print(f\"Largest order consisted of {df[\"add_to_cart_order\"].max()+1:.0f} items\")\n",
    "print(f\"Average days since prior order turns out to be {df[df[\"days_since_prior_order\"]!=\"first order\"][\"days_since_prior_order\"].astype(\"int\").mean().round():.0f} days\")"
   ]
  },
  {
   "cell_type": "markdown",
   "id": "1e4614e3",
   "metadata": {
    "scrolled": false
   },
   "source": [
    "Here we notice the largest order consists of 65 items when we retrieve all the max values of the `'order_products'` DataFrame"
   ]
  },
  {
   "cell_type": "markdown",
   "id": "a6743a70",
   "metadata": {},
   "source": [
    "Let's see which are the busiest hours of the day"
   ]
  },
  {
   "cell_type": "code",
   "execution_count": 79,
   "id": "a36cca27",
   "metadata": {},
   "outputs": [
    {
     "data": {
      "image/png": "[encoded data removed]",
      "text/plain": [
       "<Figure size 640x480 with 1 Axes>"
      ]
     },
     "metadata": {},
     "output_type": "display_data"
    }
   ],
   "source": [
    "# Plotting distribution of values in `order_hour_of_day`\n",
    "df['order_hour_of_day'].plot(bins=24, xlabel='Time of Day', title='Orders by the Hour', kind='hist')\n",
    "plt.show()"
   ]
  },
  {
   "cell_type": "markdown",
   "id": "1f2610c2",
   "metadata": {},
   "source": [
    "11AM is the top hour customers place most orders. Peak hours are from 9AM to 4PM.\n",
    "\n",
    "Overall the chart shows a normal distribution within the daytime hours. Not much activity between midnight and 6AM as most people are asleep."
   ]
  },
  {
   "cell_type": "code",
   "execution_count": 83,
   "id": "4af0d6ff-1846-4389-905c-ff4960bd33b1",
   "metadata": {},
   "outputs": [
    {
     "data": {
      "text/plain": [
       "product_name\n",
       "banana                    1765\n",
       "bag of organic bananas    1514\n",
       "organic strawberries      1018\n",
       "organic baby spinach       957\n",
       "organic hass avocado       751\n",
       "organic avocado            633\n",
       "strawberries               576\n",
       "organic whole milk         541\n",
       "large lemon                524\n",
       "organic raspberries        515\n",
       "Name: count, dtype: int64"
      ]
     },
     "execution_count": 83,
     "metadata": {},
     "output_type": "execute_result"
    }
   ],
   "source": [
    "df[df[\"order_hour_of_day\"] < 7][\"product_name\"].value_counts().head(10)"
   ]
  },
  {
   "cell_type": "markdown",
   "id": "1b41b3f1-d962-48cf-90de-ffb4c862cd15",
   "metadata": {},
   "source": [
    "Late night hours are not sweettooth hours for these instacart customers. They are buying healthy and organic products are 7 of the top 10 most popular products amongst the late night shoppers."
   ]
  },
  {
   "cell_type": "markdown",
   "id": "documented-command",
   "metadata": {},
   "source": [
    "We'll check distributions to see which day of week is most popular"
   ]
  },
  {
   "cell_type": "code",
   "execution_count": 84,
   "id": "chief-digit",
   "metadata": {},
   "outputs": [
    {
     "data": {
      "image/png": "[encoded data removed]",
      "text/plain": [
       "<Figure size 640x480 with 1 Axes>"
      ]
     },
     "metadata": {},
     "output_type": "display_data"
    }
   ],
   "source": [
    "# Plotting distribution for `order_dow` values\n",
    "df['order_dow'].plot(\n",
    "    bins=7, \n",
    "    xlabel='Time of Day', \n",
    "    title='Orders by the Day', \n",
    "    kind='hist'\n",
    ")\n",
    "\n",
    "plt.show()"
   ]
  },
  {
   "cell_type": "markdown",
   "id": "29c4fdaa",
   "metadata": {},
   "source": [
    "The first day of the week is when customers place the most orders followed closely by the second say of the week. The first 2 days of the week are clearly see the highest order volumes. "
   ]
  },
  {
   "cell_type": "markdown",
   "id": "cutting-concert",
   "metadata": {},
   "source": [
    "Let's now check how long between customer orders by plotting distibutions and their respective average order sizes."
   ]
  },
  {
   "cell_type": "code",
   "execution_count": 115,
   "id": "c231f523",
   "metadata": {},
   "outputs": [
    {
     "data": {
      "image/png": "[encoded data removed]",
      "text/plain": [
       "<Figure size 800x600 with 2 Axes>"
      ]
     },
     "metadata": {},
     "output_type": "display_data"
    }
   ],
   "source": [
    "# Instantiating subplots\n",
    "fig, axs = plt.subplots(1,2,figsize=(8,6))\n",
    "\n",
    "# Plotting distribution of for number of days between returning customer orders\n",
    "ax = axs[0]\n",
    "df[df['days_since_prior_order']!=\"first order\"][\"days_since_prior_order\"].plot(\n",
    "    kind = 'hist', \n",
    "    xlabel='Number of Days', \n",
    "    title=\"Total of Days Since Prior Order\",\n",
    "    bins=30,\n",
    "    ax = ax\n",
    "    )\n",
    "\n",
    "# Plotting order size per hour\n",
    "avg_size = df.groupby(\"days_since_prior_order\")[\"product_id\"].count().reset_index().rename(\n",
    "    columns = {\n",
    "        \"product_id\" : \"number_of_items\"\n",
    "    }\n",
    ") # Grouped for plot data\n",
    "\n",
    "ax = axs[1]\n",
    "sns.barplot(\n",
    "    y= avg_size[\"number_of_items\"],\n",
    "    ax = ax\n",
    ")    \n",
    "\n",
    "plt.tight_layout()\n",
    "plt.show()"
   ]
  },
  {
   "cell_type": "code",
   "execution_count": 108,
   "id": "29e12ec6-4bc8-435e-b762-15ae222c8084",
   "metadata": {},
   "outputs": [
    {
     "data": {
      "text/plain": [
       "product_name\n",
       "banana                                                                             7962\n",
       "bag of organic bananas                                                             5974\n",
       "organic strawberries                                                               4033\n",
       "organic baby spinach                                                               3681\n",
       "organic hass avocado                                                               3274\n",
       "                                                                                   ... \n",
       "chili con carne                                                                       1\n",
       "signature shredded steak & cheese chimichanga                                         1\n",
       "sandwich spread                                                                       1\n",
       "green chilly beef & bean                                                              1\n",
       "made with organic pasta & cheddar cheese number shapes macaroni & cheese dinner       1\n",
       "Name: count, Length: 26955, dtype: int64"
      ]
     },
     "execution_count": 108,
     "metadata": {},
     "output_type": "execute_result"
    }
   ],
   "source": [
    "df[df[\"days_since_prior_order\"] == 7.0][\"product_name\"].value_counts()"
   ]
  },
  {
   "cell_type": "markdown",
   "id": "389cc286",
   "metadata": {},
   "source": [
    "The figure depicts a bimodal distribution, with 7 and 30 days between orders being the 2 modes. This entails subsets of customers driving these numbers, likely family households and "
   ]
  },
  {
   "cell_type": "markdown",
   "id": "packed-classic",
   "metadata": {},
   "source": [
    "Let's see if we find any difference between the distribution of the number of orders by the hour on Wednesdays and Saturdays"
   ]
  },
  {
   "cell_type": "code",
   "execution_count": 55,
   "id": "d89b8403",
   "metadata": {},
   "outputs": [
    {
     "data": {
      "image/png": "[encoded data removed]",
      "text/plain": [
       "<Figure size 640x480 with 1 Axes>"
      ]
     },
     "metadata": {},
     "output_type": "display_data"
    }
   ],
   "source": [
    "# Plotting the distribution of `order_hour_of_day` on Wednesdays\n",
    "df[df['order_dow']==3]['order_hour_of_day'].plot(\n",
    "    bins = 24,\n",
    "    kind = 'hist',\n",
    "    title = \"Wednesday vs Saturday Hourly Orders\", \n",
    "    xlabel = 'Time of Day', \n",
    "    alpha = .2\n",
    ")\n",
    "\n",
    "# Plotting the distribution of `order_hour_of_day` on Saturdays\n",
    "df[df['order_dow']==6]['order_hour_of_day'].plot(\n",
    "    bins = 24,\n",
    "    kind = 'hist',\n",
    "    alpha = .2\n",
    ")\n",
    "\n",
    "plt.legend(labels=['Wednesday','Saturday'])\n",
    "plt.show()"
   ]
  },
  {
   "cell_type": "markdown",
   "id": "c4ccc6b1",
   "metadata": {},
   "source": [
    "Here we see that Wednesday and Saturday orders by the hour are very similar, almost identical. Main difference is the number of Saturday orders between 11AM-2PM peak higher than Wednesday orders in those hours."
   ]
  },
  {
   "cell_type": "markdown",
   "id": "e3891143",
   "metadata": {},
   "source": [
    "We'll plot the distribution of orders per customer"
   ]
  },
  {
   "cell_type": "code",
   "execution_count": 56,
   "id": "d8c26c23",
   "metadata": {
    "scrolled": true
   },
   "outputs": [
    {
     "data": {
      "text/plain": [
       "<Axes: title={'center': 'Number of Orders/Customer'}, ylabel='Frequency'>"
      ]
     },
     "execution_count": 56,
     "metadata": {},
     "output_type": "execute_result"
    },
    {
     "data": {
      "image/png": "[encoded data removed]",
      "text/plain": [
       "<Figure size 640x480 with 1 Axes>"
      ]
     },
     "metadata": {},
     "output_type": "display_data"
    }
   ],
   "source": [
    "order_count = df.groupby('user_id')['order_id'].count()\n",
    "order_count.plot(kind='hist', bins=28, title='Number of Orders/Customer')"
   ]
  },
  {
   "cell_type": "markdown",
   "id": "aefc10c9",
   "metadata": {},
   "source": [
    "Here we see most users are only placing one order with an overwhelming majority. These customers either don't have an account to track or there might be an underlying issue that could be leaving customers dissatisfied. Shoudl be investigated further with questionaires and/or surveys with incentives."
   ]
  },
  {
   "cell_type": "markdown",
   "id": "54a0319c",
   "metadata": {},
   "source": [
    "Let now check to seee which are the top selling products"
   ]
  },
  {
   "cell_type": "code",
   "execution_count": 57,
   "id": "exterior-arizona",
   "metadata": {
    "scrolled": true
   },
   "outputs": [
    {
     "data": {
      "text/plain": [
       "product_id  product_name            \n",
       "24852       banana                      66050\n",
       "13176       bag of organic bananas      53297\n",
       "21137       organic strawberries        37039\n",
       "21903       organic baby spinach        33971\n",
       "47209       organic hass avocado        29773\n",
       "47766       organic avocado             24689\n",
       "47626       large lemon                 21495\n",
       "16797       strawberries                20018\n",
       "26209       limes                       19690\n",
       "27845       organic whole milk          19600\n",
       "27966       organic raspberries         19197\n",
       "22935       organic yellow onion        15898\n",
       "24964       organic garlic              15292\n",
       "45007       organic zucchini            14584\n",
       "39275       organic blueberries         13879\n",
       "49683       cucumber kirby              13675\n",
       "28204       organic fuji apple          12544\n",
       "5876        organic lemon               12232\n",
       "8277        apple honeycrisp organic    11993\n",
       "40706       organic grape tomatoes      11781\n",
       "Name: count, dtype: int64"
      ]
     },
     "execution_count": 57,
     "metadata": {},
     "output_type": "execute_result"
    }
   ],
   "source": [
    "# Merging `order_prod_df` with `porducts_df` to get both values\n",
    "product_stats = order_prod_df.merge(products_df, on='product_id')\n",
    "\n",
    "# Isolating the relevant columns\n",
    "product_stats.iloc[:,[1,4]].value_counts().head(20)                     "
   ]
  },
  {
   "cell_type": "markdown",
   "id": "ea69341f",
   "metadata": {},
   "source": [
    "We've retrieved the top 20 popular products. Seeing all values consist of fruits and vegetables indicate a trend in a healthy diet and lifestyle."
   ]
  },
  {
   "cell_type": "markdown",
   "id": "romantic-deposit",
   "metadata": {},
   "source": [
    "Let's analyze the ditribution of items in each order"
   ]
  },
  {
   "cell_type": "code",
   "execution_count": 60,
   "id": "2bfbbd21",
   "metadata": {
    "scrolled": true
   },
   "outputs": [],
   "source": [
    "# Grouping `order_id` with `product_id` for product count in each order\n",
    "order_total = order_prod_df.groupby('order_id')['product_id'].count()"
   ]
  },
  {
   "cell_type": "code",
   "execution_count": 61,
   "id": "d97ca722",
   "metadata": {},
   "outputs": [
    {
     "data": {
      "text/plain": [
       "product_id\n",
       "5      31923\n",
       "6      31698\n",
       "4      31054\n",
       "7      30822\n",
       "3      29046\n",
       "       ...  \n",
       "72         1\n",
       "87         1\n",
       "85         1\n",
       "127        1\n",
       "115        1\n",
       "Name: count, Length: 90, dtype: int64"
      ]
     },
     "execution_count": 61,
     "metadata": {},
     "output_type": "execute_result"
    }
   ],
   "source": [
    "# Viewing the number of occurances of each value\n",
    "order_total.value_counts()"
   ]
  },
  {
   "cell_type": "code",
   "execution_count": 62,
   "id": "virtual-punch",
   "metadata": {},
   "outputs": [
    {
     "data": {
      "text/plain": [
       "<Axes: title={'center': 'Number of Items/Order'}, ylabel='Frequency'>"
      ]
     },
     "execution_count": 62,
     "metadata": {},
     "output_type": "execute_result"
    },
    {
     "data": {
      "image/png": "[encoded data removed]",
      "text/plain": [
       "<Figure size 640x480 with 1 Axes>"
      ]
     },
     "metadata": {},
     "output_type": "display_data"
    }
   ],
   "source": [
    "# Plotting distribution of the number of items in each order\n",
    "order_total.plot(kind='hist',bins=64, title='Number of Items/Order', xlim=[1,50])"
   ]
  },
  {
   "cell_type": "markdown",
   "id": "completed-frank",
   "metadata": {},
   "source": [
    "The distribution is heavily skewed to the right. Most orders include less than 11 items. There are orders with over 40 items. How can we get those number to skew this data the other way. Possibly highlighting ongoing sales in grocery stores within the customer's area or stores with recommended items."
   ]
  },
  {
   "cell_type": "markdown",
   "id": "5e6b5537",
   "metadata": {},
   "source": [
    "Let's find the top 20 reordered items"
   ]
  },
  {
   "cell_type": "code",
   "execution_count": 63,
   "id": "9e9a9b8d",
   "metadata": {},
   "outputs": [],
   "source": [
    "# Filtering the rows with positive values in the `reordered` column\n",
    "reorders = order_prod_df[order_prod_df['reordered']==1]"
   ]
  },
  {
   "cell_type": "code",
   "execution_count": 64,
   "id": "9374e55a",
   "metadata": {},
   "outputs": [],
   "source": [
    "# Merging the filtered dataset with `products_df` with matching `product_id` values\n",
    "top_reorder = reorders.merge(products_df,on='product_id')"
   ]
  },
  {
   "cell_type": "code",
   "execution_count": 65,
   "id": "possible-change",
   "metadata": {},
   "outputs": [
    {
     "data": {
      "text/plain": [
       "product_id  product_name            \n",
       "24852       banana                      55763\n",
       "13176       bag of organic bananas      44450\n",
       "21137       organic strawberries        28639\n",
       "21903       organic baby spinach        26233\n",
       "47209       organic hass avocado        23629\n",
       "47766       organic avocado             18743\n",
       "27845       organic whole milk          16251\n",
       "47626       large lemon                 15044\n",
       "27966       organic raspberries         14748\n",
       "16797       strawberries                13945\n",
       "26209       limes                       13327\n",
       "22935       organic yellow onion        11145\n",
       "24964       organic garlic              10411\n",
       "45007       organic zucchini            10076\n",
       "49683       cucumber kirby               9538\n",
       "28204       organic fuji apple           8989\n",
       "8277        apple honeycrisp organic     8836\n",
       "39275       organic blueberries          8799\n",
       "5876        organic lemon                8412\n",
       "49235       organic half & half          8389\n",
       "Name: count, dtype: int64"
      ]
     },
     "execution_count": 65,
     "metadata": {},
     "output_type": "execute_result"
    }
   ],
   "source": [
    "# Isolating the relevant columns\n",
    "top_reorder.iloc[:,[1,4]].value_counts().head(20)"
   ]
  },
  {
   "cell_type": "markdown",
   "id": "6506cfe4",
   "metadata": {
    "scrolled": true
   },
   "source": [
    "The top twenty reordered items support the thesis on the trend of healthy lifestyle and healthy diets."
   ]
  },
  {
   "cell_type": "markdown",
   "id": "9d312b14",
   "metadata": {},
   "source": [
    "Next let's dig a bit deeper and see the proportion of orders are reorders for each product"
   ]
  },
  {
   "cell_type": "code",
   "execution_count": 66,
   "id": "4b9c6bec",
   "metadata": {},
   "outputs": [],
   "source": [
    "# Grouping products with positive and negative `reorder` values\n",
    "proportion = product_stats.groupby('product_name')['reordered'].value_counts(dropna=False)"
   ]
  },
  {
   "cell_type": "code",
   "execution_count": 57,
   "id": "103e7fe1",
   "metadata": {
    "scrolled": true
   },
   "outputs": [
    {
     "data": {
      "text/plain": [
       "product_name                                   reordered\n",
       "#2 coffee filters                              0            82\n",
       "                                               1            28\n",
       "#2 cone white coffee filters                   0             2\n",
       "#2 mechanical pencils                          0             3\n",
       "#4 natural brown coffee filters                0            25\n",
       "                                               1            14\n",
       "& go! hazelnut spread + pretzel sticks         0             8\n",
       "                                               1             7\n",
       "(70% juice!) mountain raspberry juice squeeze  1             4\n",
       "+energy black cherry vegetable & fruit juice   0             4\n",
       "Name: reordered, dtype: int64"
      ]
     },
     "execution_count": 57,
     "metadata": {},
     "output_type": "execute_result"
    }
   ],
   "source": [
    "# Checking the proportion of items and its respective reorders\n",
    "proportion.head(10)"
   ]
  },
  {
   "cell_type": "markdown",
   "id": "63374daa",
   "metadata": {},
   "source": [
    "Items that only have first orders (represented by the value 0) diplayed do not have any reorders. Items that don't have any listed first orders (represented by the value 1) are only reorders."
   ]
  },
  {
   "cell_type": "code",
   "execution_count": 58,
   "id": "9fcda46b",
   "metadata": {},
   "outputs": [
    {
     "data": {
      "text/html": [
       "<div>\n",
       "<style scoped>\n",
       "    .dataframe tbody tr th:only-of-type {\n",
       "        vertical-align: middle;\n",
       "    }\n",
       "\n",
       "    .dataframe tbody tr th {\n",
       "        vertical-align: top;\n",
       "    }\n",
       "\n",
       "    .dataframe thead th {\n",
       "        text-align: right;\n",
       "    }\n",
       "</style>\n",
       "<table border=\"1\" class=\"dataframe\">\n",
       "  <thead>\n",
       "    <tr style=\"text-align: right;\">\n",
       "      <th></th>\n",
       "      <th>order_id</th>\n",
       "      <th>product_id</th>\n",
       "      <th>add_to_cart_order</th>\n",
       "      <th>reordered</th>\n",
       "    </tr>\n",
       "  </thead>\n",
       "  <tbody>\n",
       "    <tr>\n",
       "      <th>563201</th>\n",
       "      <td>558134</td>\n",
       "      <td>26685</td>\n",
       "      <td>5</td>\n",
       "      <td>0</td>\n",
       "    </tr>\n",
       "    <tr>\n",
       "      <th>2590673</th>\n",
       "      <td>693035</td>\n",
       "      <td>26685</td>\n",
       "      <td>3</td>\n",
       "      <td>0</td>\n",
       "    </tr>\n",
       "    <tr>\n",
       "      <th>4369653</th>\n",
       "      <td>1828499</td>\n",
       "      <td>26685</td>\n",
       "      <td>1</td>\n",
       "      <td>0</td>\n",
       "    </tr>\n",
       "  </tbody>\n",
       "</table>\n",
       "</div>"
      ],
      "text/plain": [
       "         order_id  product_id  add_to_cart_order  reordered\n",
       "563201     558134       26685                  5          0\n",
       "2590673    693035       26685                  3          0\n",
       "4369653   1828499       26685                  1          0"
      ]
     },
     "execution_count": 58,
     "metadata": {},
     "output_type": "execute_result"
    }
   ],
   "source": [
    "order_prod_df[order_prod_df['product_id']==26685]"
   ]
  },
  {
   "cell_type": "markdown",
   "id": "subject-boxing",
   "metadata": {},
   "source": [
    "Let's check out the proportions of products ordered are reorders for each customer"
   ]
  },
  {
   "cell_type": "code",
   "execution_count": 67,
   "id": "medical-couple",
   "metadata": {
    "scrolled": true
   },
   "outputs": [],
   "source": [
    "# Merging dataframes to include order data with product info\n",
    "user_stats = orders_df.merge(order_prod_df,on='order_id')"
   ]
  },
  {
   "cell_type": "code",
   "execution_count": 68,
   "id": "3cf4dd24",
   "metadata": {},
   "outputs": [],
   "source": [
    "# Grouping the `user_id` with `reordered` values and getting the value counts\n",
    "grp = user_stats.groupby('user_id')['reordered'].value_counts()"
   ]
  },
  {
   "cell_type": "code",
   "execution_count": 69,
   "id": "4b8d5768",
   "metadata": {},
   "outputs": [
    {
     "data": {
      "text/plain": [
       "user_id  reordered\n",
       "2        0            25\n",
       "         1             1\n",
       "4        0             2\n",
       "5        1             8\n",
       "         0             4\n",
       "6        0             4\n",
       "7        1            13\n",
       "         0             1\n",
       "11       0            12\n",
       "         1             3\n",
       "Name: count, dtype: int64"
      ]
     },
     "execution_count": 69,
     "metadata": {},
     "output_type": "execute_result"
    }
   ],
   "source": [
    "grp.head(10)"
   ]
  },
  {
   "cell_type": "markdown",
   "id": "92d35137",
   "metadata": {},
   "source": [
    "We'll now check to see which are the top 20 items customers place in their carts first"
   ]
  },
  {
   "cell_type": "code",
   "execution_count": 72,
   "id": "0ae57274",
   "metadata": {
    "scrolled": true
   },
   "outputs": [],
   "source": [
    "# Filtering dataset to include only rowns with `add_to_cart_order` values equal to 0\n",
    "top_first = product_stats[product_stats['add_to_cart_order']==0]"
   ]
  },
  {
   "cell_type": "code",
   "execution_count": 73,
   "id": "forty-netherlands",
   "metadata": {},
   "outputs": [
    {
     "data": {
      "text/plain": [
       "product_name\n",
       "sea salt & vinegar potato chips                                      4\n",
       "organic dried granny apple chips                                     4\n",
       "organic strawberries                                                 4\n",
       "banana                                                               4\n",
       "ancient grain blueberry hemp granola                                 4\n",
       "seedless red grapes                                                  3\n",
       "whole wheat cookies dark chocolate                                   3\n",
       "sour cream & onion potato chips                                      3\n",
       "organic bread with 21 whole grains                                   3\n",
       "organic raspberries                                                  3\n",
       "organic red onion                                                    3\n",
       "barista blend pure almond milk                                       3\n",
       "gluten free dark chocolate chunk chewy with a crunch granola bars    3\n",
       "organic whole string cheese                                          2\n",
       "organic promise strawberry fields cereal                             2\n",
       "protein bar- high- cookies & cream                                   2\n",
       "all natural gluten free probiotic pineapple yoghurt                  2\n",
       "synergy raspberry chia kombucha                                      2\n",
       "organic flax plus multibran flakes                                   2\n",
       "pure sparkling water                                                 2\n",
       "Name: count, dtype: int64"
      ]
     },
     "execution_count": 73,
     "metadata": {},
     "output_type": "execute_result"
    }
   ],
   "source": [
    "top_first['product_name'].value_counts().head(20)"
   ]
  },
  {
   "cell_type": "markdown",
   "id": "e358bfce",
   "metadata": {},
   "source": [
    "Here we see a lot of the top 20 popular products on the list. None really stand out. Besides the salt & vinegar chips, all looks pretty healthy choices"
   ]
  },
  {
   "cell_type": "markdown",
   "id": "36600f22",
   "metadata": {},
   "source": [
    "## Conclusion <a id='hypotheses'></a>"
   ]
  },
  {
   "cell_type": "markdown",
   "id": "dbf9a8b2",
   "metadata": {},
   "source": [
    "The research shows clear and consistent patterns in their shopping habits. We found that customers have healthy eating habits for the most part. We can also get an idea of who our customer base demographic. Organic foods and a healthy lifestyle can be costly, indicating high income brackets. The hours the most orders are made may also indicate the customer base work from home or are stay-at-home spouses. Reviewing the proportions of reorders can be a great way to see which products customers do not like and can be replaced with more popular products to drive more sales. The data studied was 100% of the original set so we are confident in our findings.  "
   ]
  }
 ],
 "metadata": {
  "ExecuteTimeLog": [
   {
    "duration": 4410,
    "start_time": "2024-08-15T19:16:43.799Z"
   },
   {
    "duration": 411,
    "start_time": "2024-08-15T19:17:18.225Z"
   },
   {
    "duration": 457,
    "start_time": "2024-08-15T19:17:27.247Z"
   },
   {
    "duration": 74,
    "start_time": "2024-08-15T19:17:55.624Z"
   },
   {
    "duration": 47,
    "start_time": "2024-08-15T19:18:03.979Z"
   },
   {
    "duration": 446,
    "start_time": "2024-08-15T19:25:52.942Z"
   },
   {
    "duration": 205,
    "start_time": "2024-08-15T19:26:06.545Z"
   },
   {
    "duration": 61,
    "start_time": "2024-08-15T19:26:41.120Z"
   },
   {
    "duration": 64,
    "start_time": "2024-08-15T19:26:52.326Z"
   },
   {
    "duration": 27,
    "start_time": "2024-08-15T19:27:13.347Z"
   },
   {
    "duration": 15,
    "start_time": "2024-08-15T19:27:21.517Z"
   },
   {
    "duration": 15,
    "start_time": "2024-08-15T19:27:35.519Z"
   },
   {
    "duration": 16,
    "start_time": "2024-08-15T19:27:54.206Z"
   },
   {
    "duration": 16,
    "start_time": "2024-08-15T19:28:03.859Z"
   },
   {
    "duration": 23,
    "start_time": "2024-08-15T19:28:33.253Z"
   },
   {
    "duration": 30,
    "start_time": "2024-08-15T19:28:44.145Z"
   },
   {
    "duration": 3405,
    "start_time": "2024-08-15T19:29:00.155Z"
   },
   {
    "duration": 3359,
    "start_time": "2024-08-15T19:29:07.011Z"
   },
   {
    "duration": 1297,
    "start_time": "2024-08-15T19:29:24.644Z"
   },
   {
    "duration": 221,
    "start_time": "2024-08-15T19:29:56.609Z"
   },
   {
    "duration": 227,
    "start_time": "2024-08-15T19:30:15.732Z"
   },
   {
    "duration": 70,
    "start_time": "2024-08-15T19:30:41.710Z"
   },
   {
    "duration": 23,
    "start_time": "2024-08-15T19:31:45.141Z"
   },
   {
    "duration": 23,
    "start_time": "2024-08-15T19:31:49.762Z"
   },
   {
    "duration": 1512,
    "start_time": "2024-08-15T19:32:02.025Z"
   },
   {
    "duration": 24,
    "start_time": "2024-08-15T19:33:27.500Z"
   },
   {
    "duration": 21,
    "start_time": "2024-08-15T19:34:15.297Z"
   },
   {
    "duration": 22,
    "start_time": "2024-08-15T19:38:24.030Z"
   },
   {
    "duration": 677,
    "start_time": "2024-08-15T19:38:36.352Z"
   },
   {
    "duration": 298,
    "start_time": "2024-08-15T19:38:37.032Z"
   },
   {
    "duration": 96,
    "start_time": "2024-08-15T19:38:37.333Z"
   },
   {
    "duration": 23,
    "start_time": "2024-08-15T19:38:37.433Z"
   },
   {
    "duration": 23,
    "start_time": "2024-08-15T19:38:37.459Z"
   },
   {
    "duration": 1591,
    "start_time": "2024-08-15T19:38:37.484Z"
   },
   {
    "duration": 362,
    "start_time": "2024-08-15T19:38:39.078Z"
   },
   {
    "duration": 0,
    "start_time": "2024-08-15T19:38:39.444Z"
   },
   {
    "duration": 0,
    "start_time": "2024-08-15T19:38:39.445Z"
   },
   {
    "duration": 0,
    "start_time": "2024-08-15T19:38:39.448Z"
   },
   {
    "duration": 0,
    "start_time": "2024-08-15T19:38:39.449Z"
   },
   {
    "duration": 0,
    "start_time": "2024-08-15T19:38:39.451Z"
   },
   {
    "duration": 0,
    "start_time": "2024-08-15T19:38:39.453Z"
   },
   {
    "duration": 0,
    "start_time": "2024-08-15T19:38:39.455Z"
   },
   {
    "duration": 0,
    "start_time": "2024-08-15T19:38:39.457Z"
   },
   {
    "duration": 0,
    "start_time": "2024-08-15T19:38:39.460Z"
   },
   {
    "duration": 0,
    "start_time": "2024-08-15T19:38:39.462Z"
   },
   {
    "duration": 0,
    "start_time": "2024-08-15T19:38:39.464Z"
   },
   {
    "duration": 0,
    "start_time": "2024-08-15T19:38:39.466Z"
   },
   {
    "duration": 0,
    "start_time": "2024-08-15T19:38:39.468Z"
   },
   {
    "duration": 0,
    "start_time": "2024-08-15T19:38:39.471Z"
   },
   {
    "duration": 0,
    "start_time": "2024-08-15T19:38:39.472Z"
   },
   {
    "duration": 1,
    "start_time": "2024-08-15T19:38:39.474Z"
   },
   {
    "duration": 0,
    "start_time": "2024-08-15T19:38:39.523Z"
   },
   {
    "duration": 0,
    "start_time": "2024-08-15T19:38:39.525Z"
   },
   {
    "duration": 0,
    "start_time": "2024-08-15T19:38:39.527Z"
   },
   {
    "duration": 11,
    "start_time": "2024-08-15T19:39:55.272Z"
   },
   {
    "duration": 561,
    "start_time": "2024-08-15T19:40:13.630Z"
   },
   {
    "duration": 23,
    "start_time": "2024-08-15T19:40:41.406Z"
   },
   {
    "duration": 22,
    "start_time": "2024-08-15T19:40:46.848Z"
   },
   {
    "duration": 577,
    "start_time": "2024-08-15T19:40:56.082Z"
   },
   {
    "duration": 564,
    "start_time": "2024-08-15T19:41:13.036Z"
   },
   {
    "duration": 23,
    "start_time": "2024-08-15T20:07:57.640Z"
   },
   {
    "duration": 22,
    "start_time": "2024-08-15T20:08:04.567Z"
   },
   {
    "duration": 21,
    "start_time": "2024-08-15T20:08:08.914Z"
   },
   {
    "duration": 8,
    "start_time": "2024-08-15T20:08:20.152Z"
   },
   {
    "duration": 22,
    "start_time": "2024-08-15T20:08:26.097Z"
   },
   {
    "duration": 548,
    "start_time": "2024-08-15T20:09:51.600Z"
   },
   {
    "duration": 23,
    "start_time": "2024-08-15T20:10:06.292Z"
   },
   {
    "duration": 19,
    "start_time": "2024-08-15T20:10:22.566Z"
   },
   {
    "duration": 144,
    "start_time": "2024-08-15T20:10:26.844Z"
   },
   {
    "duration": 12,
    "start_time": "2024-08-15T20:11:45.077Z"
   },
   {
    "duration": 17,
    "start_time": "2024-08-15T20:12:24.825Z"
   },
   {
    "duration": 17,
    "start_time": "2024-08-15T20:12:37.217Z"
   },
   {
    "duration": 15,
    "start_time": "2024-08-15T20:12:58.357Z"
   },
   {
    "duration": 18,
    "start_time": "2024-08-15T20:13:26.021Z"
   },
   {
    "duration": 4386,
    "start_time": "2024-08-16T13:06:23.616Z"
   },
   {
    "duration": 301,
    "start_time": "2024-08-16T13:06:28.006Z"
   },
   {
    "duration": 126,
    "start_time": "2024-08-16T13:06:28.313Z"
   },
   {
    "duration": 24,
    "start_time": "2024-08-16T13:06:28.443Z"
   },
   {
    "duration": 37,
    "start_time": "2024-08-16T13:06:28.472Z"
   },
   {
    "duration": 1658,
    "start_time": "2024-08-16T13:06:28.512Z"
   },
   {
    "duration": 377,
    "start_time": "2024-08-16T13:06:30.173Z"
   },
   {
    "duration": 0,
    "start_time": "2024-08-16T13:06:30.554Z"
   },
   {
    "duration": 0,
    "start_time": "2024-08-16T13:06:30.557Z"
   },
   {
    "duration": 0,
    "start_time": "2024-08-16T13:06:30.559Z"
   },
   {
    "duration": 0,
    "start_time": "2024-08-16T13:06:30.562Z"
   },
   {
    "duration": 0,
    "start_time": "2024-08-16T13:06:30.564Z"
   },
   {
    "duration": 0,
    "start_time": "2024-08-16T13:06:30.566Z"
   },
   {
    "duration": 0,
    "start_time": "2024-08-16T13:06:30.568Z"
   },
   {
    "duration": 0,
    "start_time": "2024-08-16T13:06:30.571Z"
   },
   {
    "duration": 0,
    "start_time": "2024-08-16T13:06:30.573Z"
   },
   {
    "duration": 0,
    "start_time": "2024-08-16T13:06:30.607Z"
   },
   {
    "duration": 0,
    "start_time": "2024-08-16T13:06:30.609Z"
   },
   {
    "duration": 0,
    "start_time": "2024-08-16T13:06:30.612Z"
   },
   {
    "duration": 0,
    "start_time": "2024-08-16T13:06:30.614Z"
   },
   {
    "duration": 0,
    "start_time": "2024-08-16T13:06:30.616Z"
   },
   {
    "duration": 0,
    "start_time": "2024-08-16T13:06:30.619Z"
   },
   {
    "duration": 0,
    "start_time": "2024-08-16T13:06:30.622Z"
   },
   {
    "duration": 0,
    "start_time": "2024-08-16T13:06:30.623Z"
   },
   {
    "duration": 0,
    "start_time": "2024-08-16T13:06:30.626Z"
   },
   {
    "duration": 0,
    "start_time": "2024-08-16T13:06:30.629Z"
   },
   {
    "duration": 8,
    "start_time": "2024-08-16T13:07:15.416Z"
   },
   {
    "duration": 541,
    "start_time": "2024-08-16T13:08:09.690Z"
   },
   {
    "duration": 396,
    "start_time": "2024-08-16T13:08:57.680Z"
   },
   {
    "duration": 175,
    "start_time": "2024-08-16T13:09:40.046Z"
   },
   {
    "duration": 99,
    "start_time": "2024-08-16T13:09:52.339Z"
   },
   {
    "duration": 97,
    "start_time": "2024-08-16T13:09:57.198Z"
   },
   {
    "duration": 180,
    "start_time": "2024-08-16T13:10:38.579Z"
   },
   {
    "duration": 173,
    "start_time": "2024-08-16T13:10:46.350Z"
   },
   {
    "duration": 20,
    "start_time": "2024-08-16T13:11:04.766Z"
   },
   {
    "duration": 22,
    "start_time": "2024-08-16T13:11:11.104Z"
   },
   {
    "duration": 16,
    "start_time": "2024-08-16T13:12:07.772Z"
   },
   {
    "duration": 167,
    "start_time": "2024-08-16T13:58:45.821Z"
   },
   {
    "duration": 164,
    "start_time": "2024-08-16T13:58:50.930Z"
   },
   {
    "duration": 18,
    "start_time": "2024-08-16T13:59:15.215Z"
   },
   {
    "duration": 19,
    "start_time": "2024-08-16T13:59:46.949Z"
   },
   {
    "duration": 23,
    "start_time": "2024-08-16T14:00:57.848Z"
   },
   {
    "duration": 18,
    "start_time": "2024-08-16T14:01:14.089Z"
   },
   {
    "duration": 166,
    "start_time": "2024-08-16T14:01:43.626Z"
   },
   {
    "duration": 358,
    "start_time": "2024-08-16T14:02:32.185Z"
   },
   {
    "duration": 681,
    "start_time": "2024-08-16T14:06:23.027Z"
   },
   {
    "duration": 309,
    "start_time": "2024-08-16T14:06:23.713Z"
   },
   {
    "duration": 91,
    "start_time": "2024-08-16T14:06:24.025Z"
   },
   {
    "duration": 23,
    "start_time": "2024-08-16T14:06:24.120Z"
   },
   {
    "duration": 24,
    "start_time": "2024-08-16T14:06:24.147Z"
   },
   {
    "duration": 1570,
    "start_time": "2024-08-16T14:06:24.208Z"
   },
   {
    "duration": 4,
    "start_time": "2024-08-16T14:06:25.780Z"
   },
   {
    "duration": 21,
    "start_time": "2024-08-16T14:06:25.787Z"
   },
   {
    "duration": 4,
    "start_time": "2024-08-16T14:06:25.811Z"
   },
   {
    "duration": 3,
    "start_time": "2024-08-16T14:06:25.821Z"
   },
   {
    "duration": 4,
    "start_time": "2024-08-16T14:06:25.827Z"
   },
   {
    "duration": 4,
    "start_time": "2024-08-16T14:06:25.834Z"
   },
   {
    "duration": 4,
    "start_time": "2024-08-16T14:06:25.841Z"
   },
   {
    "duration": 3,
    "start_time": "2024-08-16T14:06:25.848Z"
   },
   {
    "duration": 55,
    "start_time": "2024-08-16T14:06:25.854Z"
   },
   {
    "duration": 5,
    "start_time": "2024-08-16T14:06:25.911Z"
   },
   {
    "duration": 5,
    "start_time": "2024-08-16T14:06:25.919Z"
   },
   {
    "duration": 4,
    "start_time": "2024-08-16T14:06:25.926Z"
   },
   {
    "duration": 3,
    "start_time": "2024-08-16T14:06:25.934Z"
   },
   {
    "duration": 4,
    "start_time": "2024-08-16T14:06:25.940Z"
   },
   {
    "duration": 3,
    "start_time": "2024-08-16T14:06:25.947Z"
   },
   {
    "duration": 4,
    "start_time": "2024-08-16T14:06:26.005Z"
   },
   {
    "duration": 3,
    "start_time": "2024-08-16T14:06:26.013Z"
   },
   {
    "duration": 4,
    "start_time": "2024-08-16T14:06:26.019Z"
   },
   {
    "duration": 7,
    "start_time": "2024-08-16T14:06:26.026Z"
   },
   {
    "duration": 4,
    "start_time": "2024-08-16T14:06:26.036Z"
   },
   {
    "duration": 192,
    "start_time": "2024-08-16T14:06:54.507Z"
   },
   {
    "duration": 7,
    "start_time": "2024-08-16T14:20:10.568Z"
   },
   {
    "duration": 170,
    "start_time": "2024-08-16T14:20:19.750Z"
   },
   {
    "duration": 180,
    "start_time": "2024-08-16T14:20:28.178Z"
   },
   {
    "duration": 181,
    "start_time": "2024-08-16T14:21:01.596Z"
   },
   {
    "duration": 658,
    "start_time": "2024-08-16T14:23:03.279Z"
   },
   {
    "duration": 297,
    "start_time": "2024-08-16T14:23:03.940Z"
   },
   {
    "duration": 92,
    "start_time": "2024-08-16T14:23:04.240Z"
   },
   {
    "duration": 23,
    "start_time": "2024-08-16T14:23:04.335Z"
   },
   {
    "duration": 47,
    "start_time": "2024-08-16T14:23:04.362Z"
   },
   {
    "duration": 1566,
    "start_time": "2024-08-16T14:23:04.412Z"
   },
   {
    "duration": 4,
    "start_time": "2024-08-16T14:23:05.980Z"
   },
   {
    "duration": 21,
    "start_time": "2024-08-16T14:23:05.987Z"
   },
   {
    "duration": 4,
    "start_time": "2024-08-16T14:23:06.011Z"
   },
   {
    "duration": 4,
    "start_time": "2024-08-16T14:23:06.018Z"
   },
   {
    "duration": 4,
    "start_time": "2024-08-16T14:23:06.026Z"
   },
   {
    "duration": 3,
    "start_time": "2024-08-16T14:23:06.034Z"
   },
   {
    "duration": 4,
    "start_time": "2024-08-16T14:23:06.040Z"
   },
   {
    "duration": 3,
    "start_time": "2024-08-16T14:23:06.050Z"
   },
   {
    "duration": 4,
    "start_time": "2024-08-16T14:23:06.107Z"
   },
   {
    "duration": 3,
    "start_time": "2024-08-16T14:23:06.114Z"
   },
   {
    "duration": 4,
    "start_time": "2024-08-16T14:23:06.120Z"
   },
   {
    "duration": 4,
    "start_time": "2024-08-16T14:23:06.127Z"
   },
   {
    "duration": 3,
    "start_time": "2024-08-16T14:23:06.135Z"
   },
   {
    "duration": 4,
    "start_time": "2024-08-16T14:23:06.142Z"
   },
   {
    "duration": 60,
    "start_time": "2024-08-16T14:23:06.149Z"
   },
   {
    "duration": 3,
    "start_time": "2024-08-16T14:23:06.212Z"
   },
   {
    "duration": 4,
    "start_time": "2024-08-16T14:23:06.218Z"
   },
   {
    "duration": 4,
    "start_time": "2024-08-16T14:23:06.225Z"
   },
   {
    "duration": 4,
    "start_time": "2024-08-16T14:23:06.232Z"
   },
   {
    "duration": 3,
    "start_time": "2024-08-16T14:23:06.239Z"
   },
   {
    "duration": 195,
    "start_time": "2024-08-16T14:23:29.074Z"
   },
   {
    "duration": 179,
    "start_time": "2024-08-16T14:24:07.801Z"
   },
   {
    "duration": 172,
    "start_time": "2024-08-16T14:24:16.300Z"
   },
   {
    "duration": 172,
    "start_time": "2024-08-16T14:24:46.349Z"
   },
   {
    "duration": 156,
    "start_time": "2024-08-16T14:28:07.795Z"
   },
   {
    "duration": 19,
    "start_time": "2024-08-16T14:28:10.882Z"
   },
   {
    "duration": 8,
    "start_time": "2024-08-16T14:28:45.268Z"
   },
   {
    "duration": 55,
    "start_time": "2024-08-16T14:28:52.444Z"
   },
   {
    "duration": 48,
    "start_time": "2024-08-16T14:28:57.012Z"
   },
   {
    "duration": 61,
    "start_time": "2024-08-16T14:29:35.343Z"
   },
   {
    "duration": 36,
    "start_time": "2024-08-16T14:31:20.194Z"
   },
   {
    "duration": 56,
    "start_time": "2024-08-16T14:31:45.684Z"
   },
   {
    "duration": 50,
    "start_time": "2024-08-16T14:31:55.252Z"
   },
   {
    "duration": 47,
    "start_time": "2024-08-16T14:32:17.044Z"
   },
   {
    "duration": 198,
    "start_time": "2024-08-16T14:32:42.646Z"
   },
   {
    "duration": 201,
    "start_time": "2024-08-16T14:32:48.457Z"
   },
   {
    "duration": 134,
    "start_time": "2024-08-16T14:50:34.840Z"
   },
   {
    "duration": 129,
    "start_time": "2024-08-16T14:51:06.952Z"
   },
   {
    "duration": 161,
    "start_time": "2024-08-16T14:52:06.839Z"
   },
   {
    "duration": 168,
    "start_time": "2024-08-16T14:52:10.352Z"
   },
   {
    "duration": 18,
    "start_time": "2024-08-16T14:54:56.218Z"
   },
   {
    "duration": 7,
    "start_time": "2024-08-16T14:56:21.621Z"
   },
   {
    "duration": 7,
    "start_time": "2024-08-16T14:56:23.588Z"
   },
   {
    "duration": 9,
    "start_time": "2024-08-16T14:56:36.010Z"
   },
   {
    "duration": 9,
    "start_time": "2024-08-16T14:56:41.232Z"
   },
   {
    "duration": 8,
    "start_time": "2024-08-16T14:56:45.853Z"
   },
   {
    "duration": 680,
    "start_time": "2024-08-16T14:58:01.723Z"
   },
   {
    "duration": 297,
    "start_time": "2024-08-16T14:58:02.408Z"
   },
   {
    "duration": 75,
    "start_time": "2024-08-16T14:58:02.708Z"
   },
   {
    "duration": 36,
    "start_time": "2024-08-16T14:58:02.788Z"
   },
   {
    "duration": 23,
    "start_time": "2024-08-16T14:58:02.827Z"
   },
   {
    "duration": 1584,
    "start_time": "2024-08-16T14:58:02.853Z"
   },
   {
    "duration": 192,
    "start_time": "2024-08-16T14:58:04.440Z"
   },
   {
    "duration": 19,
    "start_time": "2024-08-16T14:58:04.635Z"
   },
   {
    "duration": 4,
    "start_time": "2024-08-16T14:58:04.657Z"
   },
   {
    "duration": 3,
    "start_time": "2024-08-16T14:58:04.666Z"
   },
   {
    "duration": 3,
    "start_time": "2024-08-16T14:58:04.705Z"
   },
   {
    "duration": 4,
    "start_time": "2024-08-16T14:58:04.711Z"
   },
   {
    "duration": 3,
    "start_time": "2024-08-16T14:58:04.718Z"
   },
   {
    "duration": 4,
    "start_time": "2024-08-16T14:58:04.724Z"
   },
   {
    "duration": 4,
    "start_time": "2024-08-16T14:58:04.731Z"
   },
   {
    "duration": 3,
    "start_time": "2024-08-16T14:58:04.738Z"
   },
   {
    "duration": 3,
    "start_time": "2024-08-16T14:58:04.745Z"
   },
   {
    "duration": 4,
    "start_time": "2024-08-16T14:58:04.805Z"
   },
   {
    "duration": 21,
    "start_time": "2024-08-16T14:58:04.812Z"
   },
   {
    "duration": 4,
    "start_time": "2024-08-16T14:58:04.835Z"
   },
   {
    "duration": 4,
    "start_time": "2024-08-16T14:58:04.842Z"
   },
   {
    "duration": 4,
    "start_time": "2024-08-16T14:58:04.849Z"
   },
   {
    "duration": 4,
    "start_time": "2024-08-16T14:58:04.856Z"
   },
   {
    "duration": 3,
    "start_time": "2024-08-16T14:58:04.863Z"
   },
   {
    "duration": 4,
    "start_time": "2024-08-16T14:58:04.905Z"
   },
   {
    "duration": 4,
    "start_time": "2024-08-16T14:58:04.912Z"
   },
   {
    "duration": 346,
    "start_time": "2024-08-16T14:58:37.751Z"
   },
   {
    "duration": 358,
    "start_time": "2024-08-16T15:18:14.644Z"
   },
   {
    "duration": 344,
    "start_time": "2024-08-16T15:19:56.040Z"
   },
   {
    "duration": 172,
    "start_time": "2024-08-16T15:23:08.367Z"
   },
   {
    "duration": 357,
    "start_time": "2024-08-16T15:23:50.264Z"
   },
   {
    "duration": 373,
    "start_time": "2024-08-16T15:24:22.301Z"
   },
   {
    "duration": 357,
    "start_time": "2024-08-16T15:25:15.945Z"
   },
   {
    "duration": 7,
    "start_time": "2024-08-16T15:27:30.580Z"
   },
   {
    "duration": 14,
    "start_time": "2024-08-16T15:27:55.085Z"
   },
   {
    "duration": 180,
    "start_time": "2024-08-16T15:36:09.986Z"
   },
   {
    "duration": 165,
    "start_time": "2024-08-16T15:36:26.786Z"
   },
   {
    "duration": 45,
    "start_time": "2024-08-16T15:37:05.630Z"
   },
   {
    "duration": 36,
    "start_time": "2024-08-16T15:39:02.097Z"
   },
   {
    "duration": 683,
    "start_time": "2024-08-16T15:39:18.426Z"
   },
   {
    "duration": 298,
    "start_time": "2024-08-16T15:39:19.131Z"
   },
   {
    "duration": 89,
    "start_time": "2024-08-16T15:39:19.432Z"
   },
   {
    "duration": 28,
    "start_time": "2024-08-16T15:39:19.526Z"
   },
   {
    "duration": 22,
    "start_time": "2024-08-16T15:39:19.558Z"
   },
   {
    "duration": 1601,
    "start_time": "2024-08-16T15:39:19.583Z"
   },
   {
    "duration": 186,
    "start_time": "2024-08-16T15:39:21.190Z"
   },
   {
    "duration": 34,
    "start_time": "2024-08-16T15:39:21.379Z"
   },
   {
    "duration": 204,
    "start_time": "2024-08-16T15:39:21.430Z"
   },
   {
    "duration": 164,
    "start_time": "2024-08-16T15:39:21.637Z"
   },
   {
    "duration": 47,
    "start_time": "2024-08-16T15:39:21.804Z"
   },
   {
    "duration": 4,
    "start_time": "2024-08-16T15:39:21.854Z"
   },
   {
    "duration": 4,
    "start_time": "2024-08-16T15:39:21.861Z"
   },
   {
    "duration": 4,
    "start_time": "2024-08-16T15:39:21.870Z"
   },
   {
    "duration": 36,
    "start_time": "2024-08-16T15:39:21.876Z"
   },
   {
    "duration": 6,
    "start_time": "2024-08-16T15:39:21.914Z"
   },
   {
    "duration": 8,
    "start_time": "2024-08-16T15:39:21.923Z"
   },
   {
    "duration": 4,
    "start_time": "2024-08-16T15:39:21.935Z"
   },
   {
    "duration": 3,
    "start_time": "2024-08-16T15:39:21.943Z"
   },
   {
    "duration": 3,
    "start_time": "2024-08-16T15:39:21.950Z"
   },
   {
    "duration": 5,
    "start_time": "2024-08-16T15:39:21.956Z"
   },
   {
    "duration": 4,
    "start_time": "2024-08-16T15:39:21.964Z"
   },
   {
    "duration": 41,
    "start_time": "2024-08-16T15:39:21.971Z"
   },
   {
    "duration": 6,
    "start_time": "2024-08-16T15:39:22.014Z"
   },
   {
    "duration": 4,
    "start_time": "2024-08-16T15:39:22.022Z"
   },
   {
    "duration": 13,
    "start_time": "2024-08-16T15:39:22.028Z"
   },
   {
    "duration": 35,
    "start_time": "2024-08-16T15:39:38.311Z"
   },
   {
    "duration": 644,
    "start_time": "2024-08-16T15:39:48.743Z"
   },
   {
    "duration": 302,
    "start_time": "2024-08-16T15:39:49.391Z"
   },
   {
    "duration": 90,
    "start_time": "2024-08-16T15:39:49.697Z"
   },
   {
    "duration": 58,
    "start_time": "2024-08-16T15:39:49.791Z"
   },
   {
    "duration": 24,
    "start_time": "2024-08-16T15:39:49.852Z"
   },
   {
    "duration": 1593,
    "start_time": "2024-08-16T15:39:49.879Z"
   },
   {
    "duration": 191,
    "start_time": "2024-08-16T15:39:51.475Z"
   },
   {
    "duration": 20,
    "start_time": "2024-08-16T15:39:51.668Z"
   },
   {
    "duration": 239,
    "start_time": "2024-08-16T15:39:51.690Z"
   },
   {
    "duration": 161,
    "start_time": "2024-08-16T15:39:51.940Z"
   },
   {
    "duration": 45,
    "start_time": "2024-08-16T15:39:52.105Z"
   },
   {
    "duration": 3,
    "start_time": "2024-08-16T15:39:52.153Z"
   },
   {
    "duration": 5,
    "start_time": "2024-08-16T15:39:52.159Z"
   },
   {
    "duration": 5,
    "start_time": "2024-08-16T15:39:52.167Z"
   },
   {
    "duration": 7,
    "start_time": "2024-08-16T15:39:52.208Z"
   },
   {
    "duration": 4,
    "start_time": "2024-08-16T15:39:52.218Z"
   },
   {
    "duration": 11,
    "start_time": "2024-08-16T15:39:52.225Z"
   },
   {
    "duration": 3,
    "start_time": "2024-08-16T15:39:52.240Z"
   },
   {
    "duration": 8,
    "start_time": "2024-08-16T15:39:52.247Z"
   },
   {
    "duration": 4,
    "start_time": "2024-08-16T15:39:52.258Z"
   },
   {
    "duration": 4,
    "start_time": "2024-08-16T15:39:52.265Z"
   },
   {
    "duration": 37,
    "start_time": "2024-08-16T15:39:52.272Z"
   },
   {
    "duration": 3,
    "start_time": "2024-08-16T15:39:52.312Z"
   },
   {
    "duration": 6,
    "start_time": "2024-08-16T15:39:52.318Z"
   },
   {
    "duration": 3,
    "start_time": "2024-08-16T15:39:52.330Z"
   },
   {
    "duration": 2,
    "start_time": "2024-08-16T15:39:52.336Z"
   },
   {
    "duration": 24,
    "start_time": "2024-08-16T15:41:57.454Z"
   },
   {
    "duration": 7,
    "start_time": "2024-08-16T15:43:15.086Z"
   },
   {
    "duration": 34,
    "start_time": "2024-08-16T15:44:51.020Z"
   },
   {
    "duration": 17,
    "start_time": "2024-08-16T15:50:55.381Z"
   },
   {
    "duration": 26,
    "start_time": "2024-08-16T15:52:47.357Z"
   },
   {
    "duration": 341,
    "start_time": "2024-08-16T15:53:04.570Z"
   },
   {
    "duration": 693,
    "start_time": "2024-08-16T15:53:26.714Z"
   },
   {
    "duration": 301,
    "start_time": "2024-08-16T15:53:27.410Z"
   },
   {
    "duration": 91,
    "start_time": "2024-08-16T15:53:27.714Z"
   },
   {
    "duration": 23,
    "start_time": "2024-08-16T15:53:27.808Z"
   },
   {
    "duration": 22,
    "start_time": "2024-08-16T15:53:27.836Z"
   },
   {
    "duration": 1652,
    "start_time": "2024-08-16T15:53:27.862Z"
   },
   {
    "duration": 195,
    "start_time": "2024-08-16T15:53:29.516Z"
   },
   {
    "duration": 20,
    "start_time": "2024-08-16T15:53:29.714Z"
   },
   {
    "duration": 210,
    "start_time": "2024-08-16T15:53:29.738Z"
   },
   {
    "duration": 169,
    "start_time": "2024-08-16T15:53:29.950Z"
   },
   {
    "duration": 46,
    "start_time": "2024-08-16T15:53:30.122Z"
   },
   {
    "duration": 44,
    "start_time": "2024-08-16T15:53:30.171Z"
   },
   {
    "duration": 7,
    "start_time": "2024-08-16T15:53:30.218Z"
   },
   {
    "duration": 3,
    "start_time": "2024-08-16T15:53:30.231Z"
   },
   {
    "duration": 4,
    "start_time": "2024-08-16T15:53:30.237Z"
   },
   {
    "duration": 3,
    "start_time": "2024-08-16T15:53:30.245Z"
   },
   {
    "duration": 3,
    "start_time": "2024-08-16T15:53:30.252Z"
   },
   {
    "duration": 49,
    "start_time": "2024-08-16T15:53:30.258Z"
   },
   {
    "duration": 4,
    "start_time": "2024-08-16T15:53:30.311Z"
   },
   {
    "duration": 4,
    "start_time": "2024-08-16T15:53:30.318Z"
   },
   {
    "duration": 4,
    "start_time": "2024-08-16T15:53:30.325Z"
   },
   {
    "duration": 4,
    "start_time": "2024-08-16T15:53:30.332Z"
   },
   {
    "duration": 3,
    "start_time": "2024-08-16T15:53:30.339Z"
   },
   {
    "duration": 3,
    "start_time": "2024-08-16T15:53:30.345Z"
   },
   {
    "duration": 4,
    "start_time": "2024-08-16T15:53:30.406Z"
   },
   {
    "duration": 4,
    "start_time": "2024-08-16T15:53:30.413Z"
   },
   {
    "duration": 33,
    "start_time": "2024-08-16T15:54:52.640Z"
   },
   {
    "duration": 13,
    "start_time": "2024-08-16T16:00:02.061Z"
   },
   {
    "duration": 111,
    "start_time": "2024-08-16T16:00:47.668Z"
   },
   {
    "duration": 30,
    "start_time": "2024-08-16T16:01:48.138Z"
   },
   {
    "duration": 30,
    "start_time": "2024-08-16T16:01:52.206Z"
   },
   {
    "duration": 672,
    "start_time": "2024-08-16T16:02:44.786Z"
   },
   {
    "duration": 306,
    "start_time": "2024-08-16T16:02:45.462Z"
   },
   {
    "duration": 92,
    "start_time": "2024-08-16T16:02:45.772Z"
   },
   {
    "duration": 23,
    "start_time": "2024-08-16T16:02:45.867Z"
   },
   {
    "duration": 31,
    "start_time": "2024-08-16T16:02:45.910Z"
   },
   {
    "duration": 1593,
    "start_time": "2024-08-16T16:02:45.944Z"
   },
   {
    "duration": 187,
    "start_time": "2024-08-16T16:02:47.540Z"
   },
   {
    "duration": 22,
    "start_time": "2024-08-16T16:02:47.730Z"
   },
   {
    "duration": 220,
    "start_time": "2024-08-16T16:02:47.755Z"
   },
   {
    "duration": 180,
    "start_time": "2024-08-16T16:02:47.978Z"
   },
   {
    "duration": 61,
    "start_time": "2024-08-16T16:02:48.161Z"
   },
   {
    "duration": 26,
    "start_time": "2024-08-16T16:02:48.224Z"
   },
   {
    "duration": 7,
    "start_time": "2024-08-16T16:02:48.253Z"
   },
   {
    "duration": 66,
    "start_time": "2024-08-16T16:02:48.268Z"
   },
   {
    "duration": 102,
    "start_time": "2024-08-16T16:02:48.336Z"
   },
   {
    "duration": 4,
    "start_time": "2024-08-16T16:02:48.443Z"
   },
   {
    "duration": 4,
    "start_time": "2024-08-16T16:02:48.450Z"
   },
   {
    "duration": 4,
    "start_time": "2024-08-16T16:02:48.457Z"
   },
   {
    "duration": 4,
    "start_time": "2024-08-16T16:02:48.464Z"
   },
   {
    "duration": 4,
    "start_time": "2024-08-16T16:02:48.471Z"
   },
   {
    "duration": 8,
    "start_time": "2024-08-16T16:02:48.508Z"
   },
   {
    "duration": 13,
    "start_time": "2024-08-16T16:02:48.520Z"
   },
   {
    "duration": 4,
    "start_time": "2024-08-16T16:02:48.536Z"
   },
   {
    "duration": 3,
    "start_time": "2024-08-16T16:02:48.544Z"
   },
   {
    "duration": 10,
    "start_time": "2024-08-16T16:02:48.551Z"
   },
   {
    "duration": 5,
    "start_time": "2024-08-16T16:02:48.564Z"
   },
   {
    "duration": 20,
    "start_time": "2024-08-16T16:03:30.045Z"
   },
   {
    "duration": 102,
    "start_time": "2024-08-16T16:03:32.594Z"
   },
   {
    "duration": 282,
    "start_time": "2024-08-16T16:04:09.551Z"
   },
   {
    "duration": 124,
    "start_time": "2024-08-16T16:04:26.115Z"
   },
   {
    "duration": 41,
    "start_time": "2024-08-16T16:05:23.440Z"
   },
   {
    "duration": 35,
    "start_time": "2024-08-16T16:05:58.862Z"
   },
   {
    "duration": 995,
    "start_time": "2024-08-16T16:06:34.827Z"
   },
   {
    "duration": 39,
    "start_time": "2024-08-16T16:07:27.280Z"
   },
   {
    "duration": 14,
    "start_time": "2024-08-16T16:08:37.049Z"
   },
   {
    "duration": 42,
    "start_time": "2024-08-16T16:09:15.764Z"
   },
   {
    "duration": 24,
    "start_time": "2024-08-16T16:10:05.796Z"
   },
   {
    "duration": 14,
    "start_time": "2024-08-16T16:10:11.733Z"
   },
   {
    "duration": 651,
    "start_time": "2024-08-16T16:17:37.147Z"
   },
   {
    "duration": 309,
    "start_time": "2024-08-16T16:17:37.806Z"
   },
   {
    "duration": 90,
    "start_time": "2024-08-16T16:17:38.118Z"
   },
   {
    "duration": 24,
    "start_time": "2024-08-16T16:17:38.215Z"
   },
   {
    "duration": 22,
    "start_time": "2024-08-16T16:17:38.242Z"
   },
   {
    "duration": 1589,
    "start_time": "2024-08-16T16:17:38.267Z"
   },
   {
    "duration": 197,
    "start_time": "2024-08-16T16:17:39.859Z"
   },
   {
    "duration": 19,
    "start_time": "2024-08-16T16:17:40.059Z"
   },
   {
    "duration": 209,
    "start_time": "2024-08-16T16:17:40.081Z"
   },
   {
    "duration": 172,
    "start_time": "2024-08-16T16:17:40.297Z"
   },
   {
    "duration": 59,
    "start_time": "2024-08-16T16:17:40.472Z"
   },
   {
    "duration": 31,
    "start_time": "2024-08-16T16:17:40.537Z"
   },
   {
    "duration": 9,
    "start_time": "2024-08-16T16:17:40.571Z"
   },
   {
    "duration": 53,
    "start_time": "2024-08-16T16:17:40.583Z"
   },
   {
    "duration": 21,
    "start_time": "2024-08-16T16:17:40.639Z"
   },
   {
    "duration": 70,
    "start_time": "2024-08-16T16:17:40.663Z"
   },
   {
    "duration": 3,
    "start_time": "2024-08-16T16:17:40.736Z"
   },
   {
    "duration": 3,
    "start_time": "2024-08-16T16:17:40.742Z"
   },
   {
    "duration": 3,
    "start_time": "2024-08-16T16:17:40.749Z"
   },
   {
    "duration": 4,
    "start_time": "2024-08-16T16:17:40.756Z"
   },
   {
    "duration": 44,
    "start_time": "2024-08-16T16:17:40.763Z"
   },
   {
    "duration": 4,
    "start_time": "2024-08-16T16:17:40.810Z"
   },
   {
    "duration": 4,
    "start_time": "2024-08-16T16:17:40.817Z"
   },
   {
    "duration": 4,
    "start_time": "2024-08-16T16:17:40.824Z"
   },
   {
    "duration": 4,
    "start_time": "2024-08-16T16:17:40.831Z"
   },
   {
    "duration": 4,
    "start_time": "2024-08-16T16:17:40.838Z"
   },
   {
    "duration": 4,
    "start_time": "2024-08-16T16:17:40.845Z"
   },
   {
    "duration": 44,
    "start_time": "2024-08-16T16:21:41.323Z"
   },
   {
    "duration": 7,
    "start_time": "2024-08-16T16:22:19.746Z"
   },
   {
    "duration": 13,
    "start_time": "2024-08-16T16:23:06.065Z"
   },
   {
    "duration": 10,
    "start_time": "2024-08-16T16:23:20.292Z"
   },
   {
    "duration": 12,
    "start_time": "2024-08-16T16:24:42.922Z"
   },
   {
    "duration": 149,
    "start_time": "2024-08-16T16:25:41.116Z"
   },
   {
    "duration": 18,
    "start_time": "2024-08-16T16:25:45.888Z"
   },
   {
    "duration": 10,
    "start_time": "2024-08-16T16:25:56.693Z"
   },
   {
    "duration": 9,
    "start_time": "2024-08-16T16:26:37.466Z"
   },
   {
    "duration": 13,
    "start_time": "2024-08-16T16:26:53.060Z"
   },
   {
    "duration": 5,
    "start_time": "2024-08-16T16:27:46.589Z"
   },
   {
    "duration": 7,
    "start_time": "2024-08-16T16:27:53.969Z"
   },
   {
    "duration": 13,
    "start_time": "2024-08-16T16:28:28.888Z"
   },
   {
    "duration": 1322,
    "start_time": "2024-08-16T16:29:32.399Z"
   },
   {
    "duration": 3554,
    "start_time": "2024-08-16T16:40:49.890Z"
   },
   {
    "duration": 161,
    "start_time": "2024-08-16T16:42:04.015Z"
   },
   {
    "duration": 48,
    "start_time": "2024-08-16T16:42:35.323Z"
   },
   {
    "duration": 70,
    "start_time": "2024-08-16T16:42:41.355Z"
   },
   {
    "duration": 154,
    "start_time": "2024-08-16T16:42:57.532Z"
   },
   {
    "duration": 12,
    "start_time": "2024-08-16T16:43:06.420Z"
   },
   {
    "duration": 159,
    "start_time": "2024-08-16T16:43:28.292Z"
   },
   {
    "duration": 28,
    "start_time": "2024-08-16T16:44:09.726Z"
   },
   {
    "duration": 326,
    "start_time": "2024-08-16T18:27:33.813Z"
   },
   {
    "duration": 4327,
    "start_time": "2024-08-16T18:27:46.537Z"
   },
   {
    "duration": 293,
    "start_time": "2024-08-16T18:27:50.867Z"
   },
   {
    "duration": 103,
    "start_time": "2024-08-16T18:27:51.165Z"
   },
   {
    "duration": 24,
    "start_time": "2024-08-16T18:27:51.273Z"
   },
   {
    "duration": 24,
    "start_time": "2024-08-16T18:27:51.313Z"
   },
   {
    "duration": 1652,
    "start_time": "2024-08-16T18:27:51.340Z"
   },
   {
    "duration": 212,
    "start_time": "2024-08-16T18:27:52.995Z"
   },
   {
    "duration": 26,
    "start_time": "2024-08-16T18:27:53.213Z"
   },
   {
    "duration": 216,
    "start_time": "2024-08-16T18:27:53.243Z"
   },
   {
    "duration": 191,
    "start_time": "2024-08-16T18:27:53.466Z"
   },
   {
    "duration": 67,
    "start_time": "2024-08-16T18:27:53.660Z"
   },
   {
    "duration": 27,
    "start_time": "2024-08-16T18:27:53.730Z"
   },
   {
    "duration": 13,
    "start_time": "2024-08-16T18:27:53.760Z"
   },
   {
    "duration": 68,
    "start_time": "2024-08-16T18:27:53.776Z"
   },
   {
    "duration": 24,
    "start_time": "2024-08-16T18:27:53.846Z"
   },
   {
    "duration": 73,
    "start_time": "2024-08-16T18:27:53.873Z"
   },
   {
    "duration": 6,
    "start_time": "2024-08-16T18:27:53.950Z"
   },
   {
    "duration": 7,
    "start_time": "2024-08-16T18:27:53.960Z"
   },
   {
    "duration": 44,
    "start_time": "2024-08-16T18:27:53.970Z"
   },
   {
    "duration": 7,
    "start_time": "2024-08-16T18:27:54.017Z"
   },
   {
    "duration": 1340,
    "start_time": "2024-08-16T18:27:54.028Z"
   },
   {
    "duration": 6,
    "start_time": "2024-08-16T18:27:55.371Z"
   },
   {
    "duration": 0,
    "start_time": "2024-08-16T18:27:55.381Z"
   },
   {
    "duration": 0,
    "start_time": "2024-08-16T18:27:55.383Z"
   },
   {
    "duration": 0,
    "start_time": "2024-08-16T18:27:55.385Z"
   },
   {
    "duration": 0,
    "start_time": "2024-08-16T18:27:55.386Z"
   },
   {
    "duration": 0,
    "start_time": "2024-08-16T18:27:55.388Z"
   },
   {
    "duration": 0,
    "start_time": "2024-08-16T18:27:55.413Z"
   },
   {
    "duration": 0,
    "start_time": "2024-08-16T18:27:55.415Z"
   },
   {
    "duration": 0,
    "start_time": "2024-08-16T18:27:55.417Z"
   },
   {
    "duration": 0,
    "start_time": "2024-08-16T18:27:55.419Z"
   },
   {
    "duration": 0,
    "start_time": "2024-08-16T18:27:55.421Z"
   },
   {
    "duration": 11,
    "start_time": "2024-08-16T18:27:58.963Z"
   },
   {
    "duration": 1200,
    "start_time": "2024-08-16T18:28:56.096Z"
   },
   {
    "duration": 32,
    "start_time": "2024-08-16T18:29:14.471Z"
   },
   {
    "duration": 7,
    "start_time": "2024-08-16T18:29:37.703Z"
   },
   {
    "duration": 9,
    "start_time": "2024-08-16T18:29:48.609Z"
   },
   {
    "duration": 11,
    "start_time": "2024-08-16T18:29:53.450Z"
   },
   {
    "duration": 12,
    "start_time": "2024-08-16T18:30:02.517Z"
   },
   {
    "duration": 7,
    "start_time": "2024-08-16T18:30:08.218Z"
   },
   {
    "duration": 40,
    "start_time": "2024-08-16T18:30:52.625Z"
   },
   {
    "duration": 15,
    "start_time": "2024-08-16T18:31:27.869Z"
   },
   {
    "duration": 25,
    "start_time": "2024-08-16T18:34:22.771Z"
   },
   {
    "duration": 55,
    "start_time": "2024-08-16T18:35:22.971Z"
   },
   {
    "duration": 25,
    "start_time": "2024-08-16T18:36:29.044Z"
   },
   {
    "duration": 25,
    "start_time": "2024-08-16T18:42:00.032Z"
   },
   {
    "duration": 31,
    "start_time": "2024-08-16T18:50:57.890Z"
   },
   {
    "duration": 25,
    "start_time": "2024-08-16T18:51:06.077Z"
   },
   {
    "duration": 710,
    "start_time": "2024-08-16T18:51:37.102Z"
   },
   {
    "duration": 308,
    "start_time": "2024-08-16T18:51:37.816Z"
   },
   {
    "duration": 87,
    "start_time": "2024-08-16T18:51:38.127Z"
   },
   {
    "duration": 22,
    "start_time": "2024-08-16T18:51:38.216Z"
   },
   {
    "duration": 28,
    "start_time": "2024-08-16T18:51:38.245Z"
   },
   {
    "duration": 1592,
    "start_time": "2024-08-16T18:51:38.277Z"
   },
   {
    "duration": 190,
    "start_time": "2024-08-16T18:51:39.872Z"
   },
   {
    "duration": 20,
    "start_time": "2024-08-16T18:51:40.067Z"
   },
   {
    "duration": 217,
    "start_time": "2024-08-16T18:51:40.091Z"
   },
   {
    "duration": 190,
    "start_time": "2024-08-16T18:51:40.311Z"
   },
   {
    "duration": 51,
    "start_time": "2024-08-16T18:51:40.504Z"
   },
   {
    "duration": 23,
    "start_time": "2024-08-16T18:51:40.558Z"
   },
   {
    "duration": 31,
    "start_time": "2024-08-16T18:51:40.584Z"
   },
   {
    "duration": 34,
    "start_time": "2024-08-16T18:51:40.622Z"
   },
   {
    "duration": 23,
    "start_time": "2024-08-16T18:51:40.659Z"
   },
   {
    "duration": 48,
    "start_time": "2024-08-16T18:51:40.714Z"
   },
   {
    "duration": 7,
    "start_time": "2024-08-16T18:51:40.765Z"
   },
   {
    "duration": 38,
    "start_time": "2024-08-16T18:51:40.775Z"
   },
   {
    "duration": 8,
    "start_time": "2024-08-16T18:51:40.817Z"
   },
   {
    "duration": 10,
    "start_time": "2024-08-16T18:51:40.829Z"
   },
   {
    "duration": 1433,
    "start_time": "2024-08-16T18:51:40.843Z"
   },
   {
    "duration": 6,
    "start_time": "2024-08-16T18:51:42.279Z"
   },
   {
    "duration": 0,
    "start_time": "2024-08-16T18:51:42.288Z"
   },
   {
    "duration": 0,
    "start_time": "2024-08-16T18:51:42.290Z"
   },
   {
    "duration": 0,
    "start_time": "2024-08-16T18:51:42.314Z"
   },
   {
    "duration": 0,
    "start_time": "2024-08-16T18:51:42.316Z"
   },
   {
    "duration": 0,
    "start_time": "2024-08-16T18:51:42.319Z"
   },
   {
    "duration": 0,
    "start_time": "2024-08-16T18:51:42.323Z"
   },
   {
    "duration": 0,
    "start_time": "2024-08-16T18:51:42.325Z"
   },
   {
    "duration": 0,
    "start_time": "2024-08-16T18:51:42.328Z"
   },
   {
    "duration": 0,
    "start_time": "2024-08-16T18:51:42.331Z"
   },
   {
    "duration": 0,
    "start_time": "2024-08-16T18:51:42.333Z"
   },
   {
    "duration": 0,
    "start_time": "2024-08-16T18:51:42.335Z"
   },
   {
    "duration": 23,
    "start_time": "2024-08-16T18:51:49.850Z"
   },
   {
    "duration": 7,
    "start_time": "2024-08-16T18:52:44.901Z"
   },
   {
    "duration": 10,
    "start_time": "2024-08-16T18:53:09.438Z"
   },
   {
    "duration": 429,
    "start_time": "2024-08-16T18:53:19.490Z"
   },
   {
    "duration": 11,
    "start_time": "2024-08-16T18:53:50.605Z"
   },
   {
    "duration": 14,
    "start_time": "2024-08-16T18:54:28.795Z"
   },
   {
    "duration": 99,
    "start_time": "2024-08-16T19:03:28.587Z"
   },
   {
    "duration": 99,
    "start_time": "2024-08-16T19:03:45.116Z"
   },
   {
    "duration": 6,
    "start_time": "2024-08-16T19:04:16.783Z"
   },
   {
    "duration": 514,
    "start_time": "2024-08-16T19:04:41.008Z"
   },
   {
    "duration": 693,
    "start_time": "2024-08-16T19:15:55.388Z"
   },
   {
    "duration": 296,
    "start_time": "2024-08-16T19:15:56.085Z"
   },
   {
    "duration": 84,
    "start_time": "2024-08-16T19:15:56.385Z"
   },
   {
    "duration": 40,
    "start_time": "2024-08-16T19:15:56.474Z"
   },
   {
    "duration": 24,
    "start_time": "2024-08-16T19:15:56.517Z"
   },
   {
    "duration": 1555,
    "start_time": "2024-08-16T19:15:56.544Z"
   },
   {
    "duration": 196,
    "start_time": "2024-08-16T19:15:58.102Z"
   },
   {
    "duration": 29,
    "start_time": "2024-08-16T19:15:58.301Z"
   },
   {
    "duration": 205,
    "start_time": "2024-08-16T19:15:58.333Z"
   },
   {
    "duration": 174,
    "start_time": "2024-08-16T19:15:58.544Z"
   },
   {
    "duration": 47,
    "start_time": "2024-08-16T19:15:58.721Z"
   },
   {
    "duration": 49,
    "start_time": "2024-08-16T19:15:58.770Z"
   },
   {
    "duration": 7,
    "start_time": "2024-08-16T19:15:58.822Z"
   },
   {
    "duration": 36,
    "start_time": "2024-08-16T19:15:58.832Z"
   },
   {
    "duration": 54,
    "start_time": "2024-08-16T19:15:58.871Z"
   },
   {
    "duration": 44,
    "start_time": "2024-08-16T19:15:58.928Z"
   },
   {
    "duration": 9,
    "start_time": "2024-08-16T19:15:58.975Z"
   },
   {
    "duration": 8,
    "start_time": "2024-08-16T19:15:59.012Z"
   },
   {
    "duration": 8,
    "start_time": "2024-08-16T19:15:59.024Z"
   },
   {
    "duration": 7,
    "start_time": "2024-08-16T19:15:59.035Z"
   },
   {
    "duration": 1351,
    "start_time": "2024-08-16T19:15:59.045Z"
   },
   {
    "duration": 451,
    "start_time": "2024-08-16T19:16:00.399Z"
   },
   {
    "duration": 10,
    "start_time": "2024-08-16T19:16:00.854Z"
   },
   {
    "duration": 370,
    "start_time": "2024-08-16T19:16:00.867Z"
   },
   {
    "duration": 0,
    "start_time": "2024-08-16T19:16:01.240Z"
   },
   {
    "duration": 0,
    "start_time": "2024-08-16T19:16:01.243Z"
   },
   {
    "duration": 0,
    "start_time": "2024-08-16T19:16:01.245Z"
   },
   {
    "duration": 0,
    "start_time": "2024-08-16T19:16:01.248Z"
   },
   {
    "duration": 0,
    "start_time": "2024-08-16T19:16:01.251Z"
   },
   {
    "duration": 0,
    "start_time": "2024-08-16T19:16:01.253Z"
   },
   {
    "duration": 0,
    "start_time": "2024-08-16T19:16:01.256Z"
   },
   {
    "duration": 0,
    "start_time": "2024-08-16T19:16:01.259Z"
   },
   {
    "duration": 0,
    "start_time": "2024-08-16T19:16:01.262Z"
   },
   {
    "duration": 9,
    "start_time": "2024-08-16T19:16:15.910Z"
   },
   {
    "duration": 49,
    "start_time": "2024-08-16T19:16:40.700Z"
   },
   {
    "duration": 849,
    "start_time": "2024-08-16T19:17:03.436Z"
   },
   {
    "duration": 53,
    "start_time": "2024-08-16T19:17:18.923Z"
   },
   {
    "duration": 80,
    "start_time": "2024-08-16T19:27:45.076Z"
   },
   {
    "duration": 4343,
    "start_time": "2024-08-16T20:59:58.976Z"
   },
   {
    "duration": 272,
    "start_time": "2024-08-16T21:00:03.323Z"
   },
   {
    "duration": 98,
    "start_time": "2024-08-16T21:00:03.598Z"
   },
   {
    "duration": 25,
    "start_time": "2024-08-16T21:00:03.699Z"
   },
   {
    "duration": 24,
    "start_time": "2024-08-16T21:00:03.737Z"
   },
   {
    "duration": 1614,
    "start_time": "2024-08-16T21:00:03.764Z"
   },
   {
    "duration": 182,
    "start_time": "2024-08-16T21:00:05.381Z"
   },
   {
    "duration": 20,
    "start_time": "2024-08-16T21:00:05.566Z"
   },
   {
    "duration": 205,
    "start_time": "2024-08-16T21:00:05.589Z"
   },
   {
    "duration": 183,
    "start_time": "2024-08-16T21:00:05.797Z"
   },
   {
    "duration": 66,
    "start_time": "2024-08-16T21:00:05.983Z"
   },
   {
    "duration": 23,
    "start_time": "2024-08-16T21:00:06.055Z"
   },
   {
    "duration": 8,
    "start_time": "2024-08-16T21:00:06.080Z"
   },
   {
    "duration": 63,
    "start_time": "2024-08-16T21:00:06.095Z"
   },
   {
    "duration": 20,
    "start_time": "2024-08-16T21:00:06.162Z"
   },
   {
    "duration": 71,
    "start_time": "2024-08-16T21:00:06.185Z"
   },
   {
    "duration": 7,
    "start_time": "2024-08-16T21:00:06.260Z"
   },
   {
    "duration": 7,
    "start_time": "2024-08-16T21:00:06.270Z"
   },
   {
    "duration": 7,
    "start_time": "2024-08-16T21:00:06.280Z"
   },
   {
    "duration": 49,
    "start_time": "2024-08-16T21:00:06.290Z"
   },
   {
    "duration": 1339,
    "start_time": "2024-08-16T21:00:06.343Z"
   },
   {
    "duration": 450,
    "start_time": "2024-08-16T21:00:07.685Z"
   },
   {
    "duration": 14,
    "start_time": "2024-08-16T21:00:08.139Z"
   },
   {
    "duration": 94,
    "start_time": "2024-08-16T21:00:08.156Z"
   },
   {
    "duration": 3,
    "start_time": "2024-08-16T21:00:08.253Z"
   },
   {
    "duration": 3,
    "start_time": "2024-08-16T21:00:08.260Z"
   },
   {
    "duration": 4,
    "start_time": "2024-08-16T21:00:08.266Z"
   },
   {
    "duration": 3,
    "start_time": "2024-08-16T21:00:08.273Z"
   },
   {
    "duration": 4,
    "start_time": "2024-08-16T21:00:08.279Z"
   },
   {
    "duration": 5,
    "start_time": "2024-08-16T21:00:08.333Z"
   },
   {
    "duration": 3,
    "start_time": "2024-08-16T21:00:08.341Z"
   },
   {
    "duration": 3,
    "start_time": "2024-08-16T21:00:08.347Z"
   },
   {
    "duration": 3,
    "start_time": "2024-08-16T21:00:08.354Z"
   },
   {
    "duration": 382,
    "start_time": "2024-08-16T21:00:26.818Z"
   },
   {
    "duration": 14,
    "start_time": "2024-08-16T21:00:44.206Z"
   },
   {
    "duration": 13,
    "start_time": "2024-08-16T21:00:58.106Z"
   },
   {
    "duration": 830,
    "start_time": "2024-08-16T21:16:37.152Z"
   },
   {
    "duration": 20,
    "start_time": "2024-08-16T21:16:54.792Z"
   },
   {
    "duration": 25,
    "start_time": "2024-08-16T21:18:08.968Z"
   },
   {
    "duration": 9,
    "start_time": "2024-08-16T21:25:55.423Z"
   },
   {
    "duration": 9,
    "start_time": "2024-08-16T21:26:22.407Z"
   },
   {
    "duration": 9,
    "start_time": "2024-08-16T21:26:33.695Z"
   },
   {
    "duration": 10,
    "start_time": "2024-08-16T21:28:02.984Z"
   },
   {
    "duration": 10,
    "start_time": "2024-08-16T21:28:34.414Z"
   },
   {
    "duration": 11,
    "start_time": "2024-08-16T21:30:05.767Z"
   },
   {
    "duration": 10,
    "start_time": "2024-08-16T21:30:52.747Z"
   },
   {
    "duration": 10,
    "start_time": "2024-08-16T21:30:59.263Z"
   },
   {
    "duration": 8,
    "start_time": "2024-08-16T21:31:24.911Z"
   },
   {
    "duration": 10,
    "start_time": "2024-08-16T21:31:29.141Z"
   },
   {
    "duration": 12,
    "start_time": "2024-08-16T21:34:56.099Z"
   },
   {
    "duration": 5,
    "start_time": "2024-08-16T21:35:47.172Z"
   },
   {
    "duration": 11,
    "start_time": "2024-08-16T21:36:13.185Z"
   },
   {
    "duration": 14,
    "start_time": "2024-08-16T21:36:35.096Z"
   },
   {
    "duration": 546,
    "start_time": "2024-08-16T21:36:54.310Z"
   },
   {
    "duration": 18,
    "start_time": "2024-08-16T21:37:14.397Z"
   },
   {
    "duration": 17,
    "start_time": "2024-08-16T21:37:55.242Z"
   },
   {
    "duration": 3664,
    "start_time": "2024-08-16T21:39:14.167Z"
   },
   {
    "duration": 12,
    "start_time": "2024-08-16T21:46:57.277Z"
   },
   {
    "duration": 8,
    "start_time": "2024-08-16T21:47:45.505Z"
   },
   {
    "duration": 15,
    "start_time": "2024-08-16T21:47:50.479Z"
   },
   {
    "duration": 24,
    "start_time": "2024-08-16T21:48:01.320Z"
   },
   {
    "duration": 10,
    "start_time": "2024-08-16T21:48:25.814Z"
   },
   {
    "duration": 6,
    "start_time": "2024-08-16T21:48:35.650Z"
   },
   {
    "duration": 46,
    "start_time": "2024-08-16T21:49:57.313Z"
   },
   {
    "duration": 793,
    "start_time": "2024-08-16T21:50:20.133Z"
   },
   {
    "duration": 12,
    "start_time": "2024-08-16T21:53:04.452Z"
   },
   {
    "duration": 12,
    "start_time": "2024-08-16T21:53:13.229Z"
   },
   {
    "duration": 19,
    "start_time": "2024-08-16T21:53:39.251Z"
   },
   {
    "duration": 29,
    "start_time": "2024-08-16T21:53:51.692Z"
   },
   {
    "duration": 20,
    "start_time": "2024-08-16T21:55:23.271Z"
   },
   {
    "duration": 9,
    "start_time": "2024-08-16T21:55:56.207Z"
   },
   {
    "duration": 23,
    "start_time": "2024-08-16T21:56:16.840Z"
   },
   {
    "duration": 9,
    "start_time": "2024-08-16T21:56:26.525Z"
   },
   {
    "duration": 10,
    "start_time": "2024-08-16T21:56:27.024Z"
   },
   {
    "duration": 14,
    "start_time": "2024-08-16T21:58:48.187Z"
   },
   {
    "duration": 830,
    "start_time": "2024-08-16T22:02:39.057Z"
   },
   {
    "duration": 844,
    "start_time": "2024-08-16T22:04:24.679Z"
   },
   {
    "duration": 875,
    "start_time": "2024-08-16T22:04:34.445Z"
   },
   {
    "duration": 35,
    "start_time": "2024-08-16T22:07:28.229Z"
   },
   {
    "duration": 27,
    "start_time": "2024-08-16T22:07:38.685Z"
   },
   {
    "duration": 26,
    "start_time": "2024-08-16T22:07:45.775Z"
   },
   {
    "duration": 345,
    "start_time": "2024-08-16T23:39:36.716Z"
   },
   {
    "duration": 4512,
    "start_time": "2024-08-16T23:40:04.664Z"
   },
   {
    "duration": 326,
    "start_time": "2024-08-16T23:40:09.182Z"
   },
   {
    "duration": 109,
    "start_time": "2024-08-16T23:40:09.511Z"
   },
   {
    "duration": 29,
    "start_time": "2024-08-16T23:40:09.626Z"
   },
   {
    "duration": 54,
    "start_time": "2024-08-16T23:40:09.658Z"
   },
   {
    "duration": 1759,
    "start_time": "2024-08-16T23:40:09.715Z"
   },
   {
    "duration": 203,
    "start_time": "2024-08-16T23:40:11.478Z"
   },
   {
    "duration": 36,
    "start_time": "2024-08-16T23:40:11.684Z"
   },
   {
    "duration": 219,
    "start_time": "2024-08-16T23:40:11.723Z"
   },
   {
    "duration": 186,
    "start_time": "2024-08-16T23:40:11.949Z"
   },
   {
    "duration": 68,
    "start_time": "2024-08-16T23:40:12.138Z"
   },
   {
    "duration": 42,
    "start_time": "2024-08-16T23:40:12.209Z"
   },
   {
    "duration": 7,
    "start_time": "2024-08-16T23:40:12.257Z"
   },
   {
    "duration": 49,
    "start_time": "2024-08-16T23:40:12.267Z"
   },
   {
    "duration": 23,
    "start_time": "2024-08-16T23:40:12.319Z"
   },
   {
    "duration": 86,
    "start_time": "2024-08-16T23:40:12.345Z"
   },
   {
    "duration": 8,
    "start_time": "2024-08-16T23:40:12.434Z"
   },
   {
    "duration": 7,
    "start_time": "2024-08-16T23:40:12.445Z"
   },
   {
    "duration": 50,
    "start_time": "2024-08-16T23:40:12.456Z"
   },
   {
    "duration": 8,
    "start_time": "2024-08-16T23:40:12.510Z"
   },
   {
    "duration": 12,
    "start_time": "2024-08-16T23:40:12.521Z"
   },
   {
    "duration": 1435,
    "start_time": "2024-08-16T23:40:12.537Z"
   },
   {
    "duration": 490,
    "start_time": "2024-08-16T23:40:13.976Z"
   },
   {
    "duration": 13,
    "start_time": "2024-08-16T23:40:14.470Z"
   },
   {
    "duration": 25,
    "start_time": "2024-08-16T23:40:14.507Z"
   },
   {
    "duration": 23,
    "start_time": "2024-08-16T23:40:14.535Z"
   },
   {
    "duration": 47,
    "start_time": "2024-08-16T23:40:14.560Z"
   },
   {
    "duration": 13,
    "start_time": "2024-08-16T23:40:14.615Z"
   },
   {
    "duration": 11,
    "start_time": "2024-08-16T23:40:14.632Z"
   },
   {
    "duration": 12,
    "start_time": "2024-08-16T23:40:14.647Z"
   },
   {
    "duration": 68,
    "start_time": "2024-08-16T23:40:14.662Z"
   },
   {
    "duration": 828,
    "start_time": "2024-08-16T23:40:14.734Z"
   },
   {
    "duration": 9,
    "start_time": "2024-08-16T23:40:15.565Z"
   },
   {
    "duration": 1080,
    "start_time": "2024-08-16T23:40:15.577Z"
   },
   {
    "duration": 0,
    "start_time": "2024-08-16T23:40:16.845Z"
   },
   {
    "duration": 0,
    "start_time": "2024-08-16T23:40:16.848Z"
   },
   {
    "duration": 8,
    "start_time": "2024-08-16T23:41:25.342Z"
   },
   {
    "duration": 260,
    "start_time": "2024-08-16T23:41:30.413Z"
   },
   {
    "duration": 235,
    "start_time": "2024-08-16T23:41:39.928Z"
   },
   {
    "duration": 7,
    "start_time": "2024-08-16T23:41:51.186Z"
   },
   {
    "duration": 23,
    "start_time": "2024-08-16T23:42:03.226Z"
   },
   {
    "duration": 15,
    "start_time": "2024-08-17T14:07:08.496Z"
   },
   {
    "duration": 311,
    "start_time": "2024-08-17T14:08:10.074Z"
   },
   {
    "duration": 4366,
    "start_time": "2024-08-17T14:08:26.709Z"
   },
   {
    "duration": 10,
    "start_time": "2024-08-17T14:08:33.212Z"
   },
   {
    "duration": 609,
    "start_time": "2024-08-17T14:08:38.408Z"
   },
   {
    "duration": 219,
    "start_time": "2024-08-17T14:08:53.951Z"
   },
   {
    "duration": 6,
    "start_time": "2024-08-17T14:09:03.814Z"
   },
   {
    "duration": 204,
    "start_time": "2024-08-17T14:09:13.944Z"
   },
   {
    "duration": 7,
    "start_time": "2024-08-17T14:09:31.815Z"
   },
   {
    "duration": 4,
    "start_time": "2024-08-17T14:11:34.004Z"
   },
   {
    "duration": 8,
    "start_time": "2024-08-17T14:11:35.895Z"
   },
   {
    "duration": 201,
    "start_time": "2024-08-17T14:35:58.370Z"
   },
   {
    "duration": 197,
    "start_time": "2024-08-17T14:36:14.692Z"
   },
   {
    "duration": 214,
    "start_time": "2024-08-17T14:37:11.176Z"
   },
   {
    "duration": 1041,
    "start_time": "2024-08-17T14:38:00.138Z"
   },
   {
    "duration": 252,
    "start_time": "2024-08-17T14:38:55.680Z"
   },
   {
    "duration": 3,
    "start_time": "2024-08-17T14:39:30.278Z"
   },
   {
    "duration": 248,
    "start_time": "2024-08-17T14:39:31.902Z"
   },
   {
    "duration": 220,
    "start_time": "2024-08-17T14:39:39.666Z"
   },
   {
    "duration": 233,
    "start_time": "2024-08-17T14:40:37.412Z"
   },
   {
    "duration": 7,
    "start_time": "2024-08-17T14:41:32.438Z"
   },
   {
    "duration": 5,
    "start_time": "2024-08-17T14:41:41.011Z"
   },
   {
    "duration": 197,
    "start_time": "2024-08-17T14:41:44.640Z"
   },
   {
    "duration": 7,
    "start_time": "2024-08-17T14:43:08.093Z"
   },
   {
    "duration": 6,
    "start_time": "2024-08-17T14:43:19.390Z"
   },
   {
    "duration": 197,
    "start_time": "2024-08-17T14:45:44.233Z"
   },
   {
    "duration": 437,
    "start_time": "2024-08-17T14:46:00.661Z"
   },
   {
    "duration": 331,
    "start_time": "2024-08-17T14:47:16.624Z"
   },
   {
    "duration": 208,
    "start_time": "2024-08-17T14:47:43.681Z"
   },
   {
    "duration": 216,
    "start_time": "2024-08-17T14:48:12.414Z"
   },
   {
    "duration": 216,
    "start_time": "2024-08-17T14:48:40.089Z"
   },
   {
    "duration": 193,
    "start_time": "2024-08-17T14:49:17.984Z"
   },
   {
    "duration": 200,
    "start_time": "2024-08-17T14:50:19.981Z"
   },
   {
    "duration": 225,
    "start_time": "2024-08-17T14:50:37.876Z"
   },
   {
    "duration": 6,
    "start_time": "2024-08-17T14:50:54.144Z"
   },
   {
    "duration": 6,
    "start_time": "2024-08-17T14:51:04.669Z"
   },
   {
    "duration": 6,
    "start_time": "2024-08-17T14:51:50.970Z"
   },
   {
    "duration": 8,
    "start_time": "2024-08-17T14:52:01.225Z"
   },
   {
    "duration": 7,
    "start_time": "2024-08-17T14:57:13.363Z"
   },
   {
    "duration": 23,
    "start_time": "2024-08-17T14:58:52.020Z"
   },
   {
    "duration": 688,
    "start_time": "2024-08-17T14:59:06.329Z"
   },
   {
    "duration": 304,
    "start_time": "2024-08-17T14:59:07.020Z"
   },
   {
    "duration": 117,
    "start_time": "2024-08-17T14:59:07.328Z"
   },
   {
    "duration": 29,
    "start_time": "2024-08-17T14:59:07.450Z"
   },
   {
    "duration": 44,
    "start_time": "2024-08-17T14:59:07.483Z"
   },
   {
    "duration": 1756,
    "start_time": "2024-08-17T14:59:07.531Z"
   },
   {
    "duration": 210,
    "start_time": "2024-08-17T14:59:09.290Z"
   },
   {
    "duration": 19,
    "start_time": "2024-08-17T14:59:09.505Z"
   },
   {
    "duration": 214,
    "start_time": "2024-08-17T14:59:09.527Z"
   },
   {
    "duration": 191,
    "start_time": "2024-08-17T14:59:09.748Z"
   },
   {
    "duration": 68,
    "start_time": "2024-08-17T14:59:09.942Z"
   },
   {
    "duration": 25,
    "start_time": "2024-08-17T14:59:10.014Z"
   },
   {
    "duration": 8,
    "start_time": "2024-08-17T14:59:10.042Z"
   },
   {
    "duration": 66,
    "start_time": "2024-08-17T14:59:10.052Z"
   },
   {
    "duration": 22,
    "start_time": "2024-08-17T14:59:10.121Z"
   },
   {
    "duration": 76,
    "start_time": "2024-08-17T14:59:10.146Z"
   },
   {
    "duration": 8,
    "start_time": "2024-08-17T14:59:10.226Z"
   },
   {
    "duration": 7,
    "start_time": "2024-08-17T14:59:10.238Z"
   },
   {
    "duration": 11,
    "start_time": "2024-08-17T14:59:10.249Z"
   },
   {
    "duration": 8,
    "start_time": "2024-08-17T14:59:10.306Z"
   },
   {
    "duration": 13,
    "start_time": "2024-08-17T14:59:10.318Z"
   },
   {
    "duration": 1415,
    "start_time": "2024-08-17T14:59:10.334Z"
   },
   {
    "duration": 322,
    "start_time": "2024-08-17T14:59:11.752Z"
   },
   {
    "duration": 465,
    "start_time": "2024-08-17T14:59:12.077Z"
   },
   {
    "duration": 13,
    "start_time": "2024-08-17T14:59:12.545Z"
   },
   {
    "duration": 46,
    "start_time": "2024-08-17T14:59:12.561Z"
   },
   {
    "duration": 23,
    "start_time": "2024-08-17T14:59:12.610Z"
   },
   {
    "duration": 11,
    "start_time": "2024-08-17T14:59:12.640Z"
   },
   {
    "duration": 11,
    "start_time": "2024-08-17T14:59:12.654Z"
   },
   {
    "duration": 11,
    "start_time": "2024-08-17T14:59:12.707Z"
   },
   {
    "duration": 9,
    "start_time": "2024-08-17T14:59:12.721Z"
   },
   {
    "duration": 26,
    "start_time": "2024-08-17T14:59:12.733Z"
   },
   {
    "duration": 846,
    "start_time": "2024-08-17T14:59:12.762Z"
   },
   {
    "duration": 9,
    "start_time": "2024-08-17T14:59:13.611Z"
   },
   {
    "duration": 1004,
    "start_time": "2024-08-17T14:59:13.624Z"
   },
   {
    "duration": 6,
    "start_time": "2024-08-17T14:59:14.632Z"
   },
   {
    "duration": 4,
    "start_time": "2024-08-17T14:59:14.642Z"
   },
   {
    "duration": 7,
    "start_time": "2024-08-17T14:59:14.650Z"
   },
   {
    "duration": 47,
    "start_time": "2024-08-17T14:59:14.661Z"
   },
   {
    "duration": 7,
    "start_time": "2024-08-17T14:59:14.712Z"
   },
   {
    "duration": 10,
    "start_time": "2024-08-17T14:59:14.722Z"
   },
   {
    "duration": 3866,
    "start_time": "2024-08-17T15:00:17.584Z"
   },
   {
    "duration": 48,
    "start_time": "2024-08-17T15:09:35.017Z"
   },
   {
    "duration": 89,
    "start_time": "2024-08-17T15:09:49.475Z"
   },
   {
    "duration": 49,
    "start_time": "2024-08-17T15:10:08.908Z"
   },
   {
    "duration": 48,
    "start_time": "2024-08-17T15:10:15.857Z"
   },
   {
    "duration": 434,
    "start_time": "2024-08-17T15:15:20.319Z"
   },
   {
    "duration": 5,
    "start_time": "2024-08-17T15:15:52.276Z"
   },
   {
    "duration": 45,
    "start_time": "2024-08-17T15:16:26.375Z"
   },
   {
    "duration": 4296,
    "start_time": "2024-08-17T18:29:48.173Z"
   },
   {
    "duration": 285,
    "start_time": "2024-08-17T18:29:52.474Z"
   },
   {
    "duration": 107,
    "start_time": "2024-08-17T18:29:52.762Z"
   },
   {
    "duration": 24,
    "start_time": "2024-08-17T18:29:52.872Z"
   },
   {
    "duration": 48,
    "start_time": "2024-08-17T18:29:52.901Z"
   },
   {
    "duration": 1614,
    "start_time": "2024-08-17T18:29:52.952Z"
   },
   {
    "duration": 191,
    "start_time": "2024-08-17T18:29:54.569Z"
   },
   {
    "duration": 19,
    "start_time": "2024-08-17T18:29:54.763Z"
   },
   {
    "duration": 206,
    "start_time": "2024-08-17T18:29:54.785Z"
   },
   {
    "duration": 165,
    "start_time": "2024-08-17T18:29:54.994Z"
   },
   {
    "duration": 43,
    "start_time": "2024-08-17T18:29:55.162Z"
   },
   {
    "duration": 42,
    "start_time": "2024-08-17T18:29:55.208Z"
   },
   {
    "duration": 7,
    "start_time": "2024-08-17T18:29:55.253Z"
   },
   {
    "duration": 32,
    "start_time": "2024-08-17T18:29:55.266Z"
   },
   {
    "duration": 49,
    "start_time": "2024-08-17T18:29:55.301Z"
   },
   {
    "duration": 42,
    "start_time": "2024-08-17T18:29:55.353Z"
   },
   {
    "duration": 32,
    "start_time": "2024-08-17T18:29:55.399Z"
   },
   {
    "duration": 7,
    "start_time": "2024-08-17T18:29:55.434Z"
   },
   {
    "duration": 9,
    "start_time": "2024-08-17T18:29:55.445Z"
   },
   {
    "duration": 8,
    "start_time": "2024-08-17T18:29:55.457Z"
   },
   {
    "duration": 7,
    "start_time": "2024-08-17T18:29:55.468Z"
   },
   {
    "duration": 1370,
    "start_time": "2024-08-17T18:29:55.478Z"
   },
   {
    "duration": 292,
    "start_time": "2024-08-17T18:29:56.852Z"
   },
   {
    "duration": 3494,
    "start_time": "2024-08-17T18:29:57.147Z"
   },
   {
    "duration": 13,
    "start_time": "2024-08-17T18:30:00.647Z"
   },
   {
    "duration": 19,
    "start_time": "2024-08-17T18:30:00.663Z"
   },
   {
    "duration": 52,
    "start_time": "2024-08-17T18:30:00.685Z"
   },
   {
    "duration": 9,
    "start_time": "2024-08-17T18:30:00.740Z"
   },
   {
    "duration": 10,
    "start_time": "2024-08-17T18:30:00.753Z"
   },
   {
    "duration": 9,
    "start_time": "2024-08-17T18:30:00.765Z"
   },
   {
    "duration": 11,
    "start_time": "2024-08-17T18:30:00.777Z"
   },
   {
    "duration": 26,
    "start_time": "2024-08-17T18:30:00.830Z"
   },
   {
    "duration": 46,
    "start_time": "2024-08-17T18:30:00.859Z"
   },
   {
    "duration": 47,
    "start_time": "2024-08-17T18:30:00.931Z"
   },
   {
    "duration": 7,
    "start_time": "2024-08-17T18:30:00.981Z"
   },
   {
    "duration": 0,
    "start_time": "2024-08-17T18:30:00.992Z"
   },
   {
    "duration": 0,
    "start_time": "2024-08-17T18:30:00.994Z"
   },
   {
    "duration": 0,
    "start_time": "2024-08-17T18:30:01.031Z"
   },
   {
    "duration": 0,
    "start_time": "2024-08-17T18:30:01.033Z"
   },
   {
    "duration": 0,
    "start_time": "2024-08-17T18:30:01.034Z"
   },
   {
    "duration": 0,
    "start_time": "2024-08-17T18:30:01.036Z"
   },
   {
    "duration": 0,
    "start_time": "2024-08-17T18:30:01.040Z"
   },
   {
    "duration": 0,
    "start_time": "2024-08-17T18:30:01.042Z"
   },
   {
    "duration": 393,
    "start_time": "2024-08-17T18:36:11.291Z"
   },
   {
    "duration": 22,
    "start_time": "2024-08-17T18:36:19.828Z"
   },
   {
    "duration": 11,
    "start_time": "2024-08-17T18:36:28.715Z"
   },
   {
    "duration": 2381,
    "start_time": "2024-08-17T18:38:02.126Z"
   },
   {
    "duration": 2381,
    "start_time": "2024-08-17T18:38:14.413Z"
   },
   {
    "duration": 2348,
    "start_time": "2024-08-17T18:38:29.214Z"
   },
   {
    "duration": 503,
    "start_time": "2024-08-17T18:39:43.999Z"
   },
   {
    "duration": 5,
    "start_time": "2024-08-17T18:44:23.354Z"
   },
   {
    "duration": 1100,
    "start_time": "2024-08-17T18:46:01.514Z"
   },
   {
    "duration": 25,
    "start_time": "2024-08-17T18:46:48.708Z"
   },
   {
    "duration": 28,
    "start_time": "2024-08-17T18:47:01.413Z"
   },
   {
    "duration": 8,
    "start_time": "2024-08-17T18:48:34.682Z"
   },
   {
    "duration": 8,
    "start_time": "2024-08-17T18:49:04.441Z"
   },
   {
    "duration": 12,
    "start_time": "2024-08-17T18:49:13.638Z"
   },
   {
    "duration": 80,
    "start_time": "2024-08-17T18:51:34.656Z"
   },
   {
    "duration": 668,
    "start_time": "2024-08-17T19:04:39.674Z"
   },
   {
    "duration": 294,
    "start_time": "2024-08-17T19:04:40.346Z"
   },
   {
    "duration": 74,
    "start_time": "2024-08-17T19:04:40.643Z"
   },
   {
    "duration": 24,
    "start_time": "2024-08-17T19:04:40.733Z"
   },
   {
    "duration": 25,
    "start_time": "2024-08-17T19:04:40.759Z"
   },
   {
    "duration": 1605,
    "start_time": "2024-08-17T19:04:40.787Z"
   },
   {
    "duration": 192,
    "start_time": "2024-08-17T19:04:42.395Z"
   },
   {
    "duration": 20,
    "start_time": "2024-08-17T19:04:42.589Z"
   },
   {
    "duration": 205,
    "start_time": "2024-08-17T19:04:42.612Z"
   },
   {
    "duration": 178,
    "start_time": "2024-08-17T19:04:42.823Z"
   },
   {
    "duration": 55,
    "start_time": "2024-08-17T19:04:43.004Z"
   },
   {
    "duration": 23,
    "start_time": "2024-08-17T19:04:43.062Z"
   },
   {
    "duration": 7,
    "start_time": "2024-08-17T19:04:43.088Z"
   },
   {
    "duration": 61,
    "start_time": "2024-08-17T19:04:43.098Z"
   },
   {
    "duration": 22,
    "start_time": "2024-08-17T19:04:43.162Z"
   },
   {
    "duration": 76,
    "start_time": "2024-08-17T19:04:43.186Z"
   },
   {
    "duration": 7,
    "start_time": "2024-08-17T19:04:43.265Z"
   },
   {
    "duration": 8,
    "start_time": "2024-08-17T19:04:43.274Z"
   },
   {
    "duration": 10,
    "start_time": "2024-08-17T19:04:43.284Z"
   },
   {
    "duration": 42,
    "start_time": "2024-08-17T19:04:43.297Z"
   },
   {
    "duration": 18,
    "start_time": "2024-08-17T19:04:43.342Z"
   },
   {
    "duration": 1315,
    "start_time": "2024-08-17T19:04:43.363Z"
   },
   {
    "duration": 288,
    "start_time": "2024-08-17T19:04:44.681Z"
   },
   {
    "duration": 3578,
    "start_time": "2024-08-17T19:04:44.972Z"
   },
   {
    "duration": 12,
    "start_time": "2024-08-17T19:04:48.553Z"
   },
   {
    "duration": 21,
    "start_time": "2024-08-17T19:04:48.568Z"
   },
   {
    "duration": 56,
    "start_time": "2024-08-17T19:04:48.593Z"
   },
   {
    "duration": 12,
    "start_time": "2024-08-17T19:04:48.658Z"
   },
   {
    "duration": 13,
    "start_time": "2024-08-17T19:04:48.674Z"
   },
   {
    "duration": 42,
    "start_time": "2024-08-17T19:04:48.691Z"
   },
   {
    "duration": 10,
    "start_time": "2024-08-17T19:04:48.737Z"
   },
   {
    "duration": 25,
    "start_time": "2024-08-17T19:04:48.750Z"
   },
   {
    "duration": 15,
    "start_time": "2024-08-17T19:04:48.778Z"
   },
   {
    "duration": 49,
    "start_time": "2024-08-17T19:04:48.832Z"
   },
   {
    "duration": 75,
    "start_time": "2024-08-17T19:04:48.884Z"
   },
   {
    "duration": 33,
    "start_time": "2024-08-17T19:04:48.963Z"
   },
   {
    "duration": 37,
    "start_time": "2024-08-17T19:04:49.000Z"
   },
   {
    "duration": 449,
    "start_time": "2024-08-17T19:04:49.040Z"
   },
   {
    "duration": 0,
    "start_time": "2024-08-17T19:04:49.492Z"
   },
   {
    "duration": 0,
    "start_time": "2024-08-17T19:04:49.494Z"
   },
   {
    "duration": 0,
    "start_time": "2024-08-17T19:04:49.496Z"
   },
   {
    "duration": 0,
    "start_time": "2024-08-17T19:04:49.499Z"
   },
   {
    "duration": 0,
    "start_time": "2024-08-17T19:04:49.501Z"
   },
   {
    "duration": 22,
    "start_time": "2024-08-17T19:07:18.970Z"
   },
   {
    "duration": 10,
    "start_time": "2024-08-17T19:07:34.810Z"
   },
   {
    "duration": 10,
    "start_time": "2024-08-17T19:07:45.407Z"
   },
   {
    "duration": 231,
    "start_time": "2024-08-17T19:10:18.008Z"
   },
   {
    "duration": 237,
    "start_time": "2024-08-17T19:10:52.560Z"
   },
   {
    "duration": 1256,
    "start_time": "2024-08-17T19:12:10.445Z"
   },
   {
    "duration": 276,
    "start_time": "2024-08-17T19:13:29.894Z"
   },
   {
    "duration": 308,
    "start_time": "2024-08-17T19:15:12.473Z"
   },
   {
    "duration": 355,
    "start_time": "2024-08-17T19:15:21.203Z"
   },
   {
    "duration": 279,
    "start_time": "2024-08-17T19:15:39.591Z"
   },
   {
    "duration": 1418,
    "start_time": "2024-08-17T19:16:01.976Z"
   },
   {
    "duration": 359,
    "start_time": "2024-08-17T19:16:16.084Z"
   },
   {
    "duration": 213,
    "start_time": "2024-08-17T19:22:49.225Z"
   },
   {
    "duration": 233,
    "start_time": "2024-08-17T19:23:27.172Z"
   },
   {
    "duration": 28,
    "start_time": "2024-08-17T19:24:01.712Z"
   },
   {
    "duration": 15,
    "start_time": "2024-08-17T19:25:05.974Z"
   },
   {
    "duration": 11,
    "start_time": "2024-08-17T19:25:27.506Z"
   },
   {
    "duration": 12,
    "start_time": "2024-08-17T19:25:43.185Z"
   },
   {
    "duration": 6,
    "start_time": "2024-08-17T19:59:32.982Z"
   },
   {
    "duration": 6,
    "start_time": "2024-08-17T20:00:16.215Z"
   },
   {
    "duration": 5,
    "start_time": "2024-08-17T20:00:27.901Z"
   },
   {
    "duration": 6,
    "start_time": "2024-08-17T20:01:18.597Z"
   },
   {
    "duration": 1865,
    "start_time": "2024-08-17T20:01:47.081Z"
   },
   {
    "duration": 667,
    "start_time": "2024-08-17T20:03:39.985Z"
   },
   {
    "duration": 326,
    "start_time": "2024-08-17T20:03:40.656Z"
   },
   {
    "duration": 102,
    "start_time": "2024-08-17T20:03:40.987Z"
   },
   {
    "duration": 23,
    "start_time": "2024-08-17T20:03:41.092Z"
   },
   {
    "duration": 31,
    "start_time": "2024-08-17T20:03:41.118Z"
   },
   {
    "duration": 1709,
    "start_time": "2024-08-17T20:03:41.152Z"
   },
   {
    "duration": 188,
    "start_time": "2024-08-17T20:03:42.864Z"
   },
   {
    "duration": 20,
    "start_time": "2024-08-17T20:03:43.058Z"
   },
   {
    "duration": 212,
    "start_time": "2024-08-17T20:03:43.081Z"
   },
   {
    "duration": 169,
    "start_time": "2024-08-17T20:03:43.296Z"
   },
   {
    "duration": 61,
    "start_time": "2024-08-17T20:03:43.470Z"
   },
   {
    "duration": 24,
    "start_time": "2024-08-17T20:03:43.534Z"
   },
   {
    "duration": 7,
    "start_time": "2024-08-17T20:03:43.560Z"
   },
   {
    "duration": 66,
    "start_time": "2024-08-17T20:03:43.570Z"
   },
   {
    "duration": 21,
    "start_time": "2024-08-17T20:03:43.639Z"
   },
   {
    "duration": 43,
    "start_time": "2024-08-17T20:03:43.663Z"
   },
   {
    "duration": 7,
    "start_time": "2024-08-17T20:03:43.732Z"
   },
   {
    "duration": 7,
    "start_time": "2024-08-17T20:03:43.742Z"
   },
   {
    "duration": 9,
    "start_time": "2024-08-17T20:03:43.752Z"
   },
   {
    "duration": 8,
    "start_time": "2024-08-17T20:03:43.764Z"
   },
   {
    "duration": 7,
    "start_time": "2024-08-17T20:03:43.775Z"
   },
   {
    "duration": 1378,
    "start_time": "2024-08-17T20:03:43.784Z"
   },
   {
    "duration": 288,
    "start_time": "2024-08-17T20:03:45.170Z"
   },
   {
    "duration": 3496,
    "start_time": "2024-08-17T20:03:45.461Z"
   },
   {
    "duration": 10,
    "start_time": "2024-08-17T20:03:48.960Z"
   },
   {
    "duration": 20,
    "start_time": "2024-08-17T20:03:48.973Z"
   },
   {
    "duration": 48,
    "start_time": "2024-08-17T20:03:48.995Z"
   },
   {
    "duration": 9,
    "start_time": "2024-08-17T20:03:49.047Z"
   },
   {
    "duration": 9,
    "start_time": "2024-08-17T20:03:49.059Z"
   },
   {
    "duration": 9,
    "start_time": "2024-08-17T20:03:49.071Z"
   },
   {
    "duration": 50,
    "start_time": "2024-08-17T20:03:49.082Z"
   },
   {
    "duration": 27,
    "start_time": "2024-08-17T20:03:49.135Z"
   },
   {
    "duration": 12,
    "start_time": "2024-08-17T20:03:49.164Z"
   },
   {
    "duration": 87,
    "start_time": "2024-08-17T20:03:49.180Z"
   },
   {
    "duration": 47,
    "start_time": "2024-08-17T20:03:49.269Z"
   },
   {
    "duration": 29,
    "start_time": "2024-08-17T20:03:49.331Z"
   },
   {
    "duration": 11,
    "start_time": "2024-08-17T20:03:49.363Z"
   },
   {
    "duration": 9,
    "start_time": "2024-08-17T20:03:49.377Z"
   },
   {
    "duration": 43,
    "start_time": "2024-08-17T20:03:49.389Z"
   },
   {
    "duration": 7,
    "start_time": "2024-08-17T20:03:49.435Z"
   },
   {
    "duration": 8,
    "start_time": "2024-08-17T20:03:49.445Z"
   },
   {
    "duration": 8,
    "start_time": "2024-08-17T20:03:49.456Z"
   },
   {
    "duration": 7,
    "start_time": "2024-08-17T20:03:49.467Z"
   },
   {
    "duration": 54,
    "start_time": "2024-08-17T20:03:49.478Z"
   },
   {
    "duration": 0,
    "start_time": "2024-08-17T20:03:49.535Z"
   },
   {
    "duration": 0,
    "start_time": "2024-08-17T20:03:49.538Z"
   },
   {
    "duration": 355,
    "start_time": "2024-08-17T20:05:39.905Z"
   },
   {
    "duration": 46,
    "start_time": "2024-08-17T20:06:00.044Z"
   },
   {
    "duration": 6,
    "start_time": "2024-08-17T20:06:08.603Z"
   },
   {
    "duration": 6,
    "start_time": "2024-08-17T20:06:52.847Z"
   },
   {
    "duration": 5,
    "start_time": "2024-08-17T20:06:56.850Z"
   },
   {
    "duration": 4,
    "start_time": "2024-08-17T20:09:46.715Z"
   },
   {
    "duration": 218,
    "start_time": "2024-08-17T20:09:48.802Z"
   },
   {
    "duration": 68,
    "start_time": "2024-08-17T20:09:50.950Z"
   },
   {
    "duration": 22,
    "start_time": "2024-08-17T20:09:51.456Z"
   },
   {
    "duration": 25,
    "start_time": "2024-08-17T20:09:52.152Z"
   },
   {
    "duration": 1540,
    "start_time": "2024-08-17T20:09:52.699Z"
   },
   {
    "duration": 137,
    "start_time": "2024-08-17T20:09:56.051Z"
   },
   {
    "duration": 17,
    "start_time": "2024-08-17T20:10:09.364Z"
   },
   {
    "duration": 160,
    "start_time": "2024-08-17T20:10:15.387Z"
   },
   {
    "duration": 149,
    "start_time": "2024-08-17T20:10:18.268Z"
   },
   {
    "duration": 44,
    "start_time": "2024-08-17T20:10:20.105Z"
   },
   {
    "duration": 24,
    "start_time": "2024-08-17T20:10:23.162Z"
   },
   {
    "duration": 7,
    "start_time": "2024-08-17T20:10:24.747Z"
   },
   {
    "duration": 31,
    "start_time": "2024-08-17T20:10:29.138Z"
   },
   {
    "duration": 21,
    "start_time": "2024-08-17T20:12:48.631Z"
   },
   {
    "duration": 29,
    "start_time": "2024-08-17T20:13:26.081Z"
   },
   {
    "duration": 677,
    "start_time": "2024-08-17T20:13:29.405Z"
   },
   {
    "duration": 3,
    "start_time": "2024-08-17T20:13:40.451Z"
   },
   {
    "duration": 220,
    "start_time": "2024-08-17T20:13:40.720Z"
   },
   {
    "duration": 69,
    "start_time": "2024-08-17T20:13:40.944Z"
   },
   {
    "duration": 21,
    "start_time": "2024-08-17T20:13:41.141Z"
   },
   {
    "duration": 22,
    "start_time": "2024-08-17T20:13:41.586Z"
   },
   {
    "duration": 1531,
    "start_time": "2024-08-17T20:13:42.279Z"
   },
   {
    "duration": 133,
    "start_time": "2024-08-17T20:13:46.865Z"
   },
   {
    "duration": 17,
    "start_time": "2024-08-17T20:13:47.610Z"
   },
   {
    "duration": 152,
    "start_time": "2024-08-17T20:13:52.439Z"
   },
   {
    "duration": 145,
    "start_time": "2024-08-17T20:13:54.087Z"
   },
   {
    "duration": 46,
    "start_time": "2024-08-17T20:13:58.061Z"
   },
   {
    "duration": 23,
    "start_time": "2024-08-17T20:14:02.765Z"
   },
   {
    "duration": 7,
    "start_time": "2024-08-17T20:14:03.257Z"
   },
   {
    "duration": 30,
    "start_time": "2024-08-17T20:14:03.885Z"
   },
   {
    "duration": 3,
    "start_time": "2024-08-17T20:14:25.583Z"
   },
   {
    "duration": 217,
    "start_time": "2024-08-17T20:14:25.843Z"
   },
   {
    "duration": 77,
    "start_time": "2024-08-17T20:14:26.063Z"
   },
   {
    "duration": 23,
    "start_time": "2024-08-17T20:14:26.450Z"
   },
   {
    "duration": 22,
    "start_time": "2024-08-17T20:14:26.698Z"
   },
   {
    "duration": 1522,
    "start_time": "2024-08-17T20:14:26.983Z"
   },
   {
    "duration": 150,
    "start_time": "2024-08-17T20:14:28.509Z"
   },
   {
    "duration": 19,
    "start_time": "2024-08-17T20:14:28.662Z"
   },
   {
    "duration": 174,
    "start_time": "2024-08-17T20:14:28.684Z"
   },
   {
    "duration": 142,
    "start_time": "2024-08-17T20:14:29.657Z"
   },
   {
    "duration": 39,
    "start_time": "2024-08-17T20:14:30.359Z"
   },
   {
    "duration": 22,
    "start_time": "2024-08-17T20:14:33.952Z"
   },
   {
    "duration": 8,
    "start_time": "2024-08-17T20:14:37.068Z"
   },
   {
    "duration": 35,
    "start_time": "2024-08-17T20:14:44.510Z"
   },
   {
    "duration": 21,
    "start_time": "2024-08-17T20:15:14.509Z"
   },
   {
    "duration": 20,
    "start_time": "2024-08-17T20:15:15.767Z"
   },
   {
    "duration": 29,
    "start_time": "2024-08-17T20:15:41.205Z"
   },
   {
    "duration": 33,
    "start_time": "2024-08-17T20:16:27.777Z"
   },
   {
    "duration": 11,
    "start_time": "2024-08-17T20:16:39.327Z"
   },
   {
    "duration": 11,
    "start_time": "2024-08-17T20:16:53.899Z"
   },
   {
    "duration": 11,
    "start_time": "2024-08-17T20:17:10.416Z"
   },
   {
    "duration": 314,
    "start_time": "2024-08-17T23:30:40.932Z"
   },
   {
    "duration": 4363,
    "start_time": "2024-08-17T23:30:50.035Z"
   },
   {
    "duration": 282,
    "start_time": "2024-08-17T23:30:54.403Z"
   },
   {
    "duration": 105,
    "start_time": "2024-08-17T23:30:54.688Z"
   },
   {
    "duration": 25,
    "start_time": "2024-08-17T23:30:54.796Z"
   },
   {
    "duration": 25,
    "start_time": "2024-08-17T23:30:54.825Z"
   },
   {
    "duration": 1728,
    "start_time": "2024-08-17T23:30:54.853Z"
   },
   {
    "duration": 214,
    "start_time": "2024-08-17T23:30:56.583Z"
   },
   {
    "duration": 23,
    "start_time": "2024-08-17T23:30:56.804Z"
   },
   {
    "duration": 224,
    "start_time": "2024-08-17T23:30:56.830Z"
   },
   {
    "duration": 184,
    "start_time": "2024-08-17T23:30:57.057Z"
   },
   {
    "duration": 62,
    "start_time": "2024-08-17T23:30:57.244Z"
   },
   {
    "duration": 22,
    "start_time": "2024-08-17T23:30:57.309Z"
   },
   {
    "duration": 9,
    "start_time": "2024-08-17T23:30:57.335Z"
   },
   {
    "duration": 61,
    "start_time": "2024-08-17T23:30:57.352Z"
   },
   {
    "duration": 23,
    "start_time": "2024-08-17T23:30:57.416Z"
   },
   {
    "duration": 4,
    "start_time": "2024-08-17T23:30:57.441Z"
   },
   {
    "duration": 7,
    "start_time": "2024-08-17T23:30:57.449Z"
   },
   {
    "duration": 48,
    "start_time": "2024-08-17T23:30:57.459Z"
   },
   {
    "duration": 10,
    "start_time": "2024-08-17T23:30:57.511Z"
   },
   {
    "duration": 8,
    "start_time": "2024-08-17T23:30:57.524Z"
   },
   {
    "duration": 8,
    "start_time": "2024-08-17T23:30:57.535Z"
   },
   {
    "duration": 1538,
    "start_time": "2024-08-17T23:30:57.547Z"
   },
   {
    "duration": 357,
    "start_time": "2024-08-17T23:30:59.088Z"
   },
   {
    "duration": 3789,
    "start_time": "2024-08-17T23:30:59.448Z"
   },
   {
    "duration": 11,
    "start_time": "2024-08-17T23:31:03.242Z"
   },
   {
    "duration": 46,
    "start_time": "2024-08-17T23:31:03.256Z"
   },
   {
    "duration": 21,
    "start_time": "2024-08-17T23:31:03.306Z"
   },
   {
    "duration": 10,
    "start_time": "2024-08-17T23:31:03.330Z"
   },
   {
    "duration": 10,
    "start_time": "2024-08-17T23:31:03.343Z"
   },
   {
    "duration": 50,
    "start_time": "2024-08-17T23:31:03.355Z"
   },
   {
    "duration": 9,
    "start_time": "2024-08-17T23:31:03.408Z"
   },
   {
    "duration": 29,
    "start_time": "2024-08-17T23:31:03.420Z"
   },
   {
    "duration": 55,
    "start_time": "2024-08-17T23:31:03.452Z"
   },
   {
    "duration": 48,
    "start_time": "2024-08-17T23:31:03.510Z"
   },
   {
    "duration": 76,
    "start_time": "2024-08-17T23:31:03.561Z"
   },
   {
    "duration": 32,
    "start_time": "2024-08-17T23:31:03.641Z"
   },
   {
    "duration": 37,
    "start_time": "2024-08-17T23:31:03.676Z"
   },
   {
    "duration": 587,
    "start_time": "2024-08-17T23:31:03.717Z"
   },
   {
    "duration": 0,
    "start_time": "2024-08-17T23:31:04.309Z"
   },
   {
    "duration": 0,
    "start_time": "2024-08-17T23:31:04.311Z"
   },
   {
    "duration": 0,
    "start_time": "2024-08-17T23:31:04.315Z"
   },
   {
    "duration": 0,
    "start_time": "2024-08-17T23:31:04.318Z"
   },
   {
    "duration": 0,
    "start_time": "2024-08-17T23:31:04.320Z"
   },
   {
    "duration": 0,
    "start_time": "2024-08-17T23:31:04.324Z"
   },
   {
    "duration": 0,
    "start_time": "2024-08-17T23:31:04.326Z"
   },
   {
    "duration": 0,
    "start_time": "2024-08-17T23:31:04.328Z"
   },
   {
    "duration": 0,
    "start_time": "2024-08-17T23:31:04.330Z"
   },
   {
    "duration": 6,
    "start_time": "2024-08-17T23:32:00.000Z"
   },
   {
    "duration": 38,
    "start_time": "2024-08-17T23:32:10.800Z"
   },
   {
    "duration": 2551,
    "start_time": "2024-08-17T23:32:34.229Z"
   },
   {
    "duration": 2556,
    "start_time": "2024-08-17T23:32:55.311Z"
   },
   {
    "duration": 3565,
    "start_time": "2024-08-17T23:33:30.838Z"
   },
   {
    "duration": 2606,
    "start_time": "2024-08-17T23:33:47.796Z"
   },
   {
    "duration": 2730,
    "start_time": "2024-08-17T23:34:08.726Z"
   },
   {
    "duration": 2699,
    "start_time": "2024-08-17T23:35:51.830Z"
   },
   {
    "duration": 2553,
    "start_time": "2024-08-17T23:36:06.840Z"
   },
   {
    "duration": 2598,
    "start_time": "2024-08-17T23:36:29.724Z"
   },
   {
    "duration": 2558,
    "start_time": "2024-08-17T23:36:46.562Z"
   },
   {
    "duration": 2893,
    "start_time": "2024-08-17T23:37:00.226Z"
   },
   {
    "duration": 2505,
    "start_time": "2024-08-17T23:49:45.392Z"
   },
   {
    "duration": 2625,
    "start_time": "2024-08-17T23:51:44.242Z"
   },
   {
    "duration": 3450,
    "start_time": "2024-08-17T23:51:56.932Z"
   },
   {
    "duration": 2836,
    "start_time": "2024-08-17T23:52:07.170Z"
   },
   {
    "duration": 2575,
    "start_time": "2024-08-17T23:53:04.976Z"
   },
   {
    "duration": 2689,
    "start_time": "2024-08-17T23:53:17.994Z"
   },
   {
    "duration": 2488,
    "start_time": "2024-08-17T23:53:31.580Z"
   },
   {
    "duration": 9,
    "start_time": "2024-08-17T23:54:27.554Z"
   },
   {
    "duration": 716,
    "start_time": "2024-08-17T23:54:48.936Z"
   },
   {
    "duration": 307,
    "start_time": "2024-08-17T23:54:49.656Z"
   },
   {
    "duration": 85,
    "start_time": "2024-08-17T23:54:49.969Z"
   },
   {
    "duration": 43,
    "start_time": "2024-08-17T23:54:50.058Z"
   },
   {
    "duration": 23,
    "start_time": "2024-08-17T23:54:50.105Z"
   },
   {
    "duration": 1641,
    "start_time": "2024-08-17T23:54:50.132Z"
   },
   {
    "duration": 203,
    "start_time": "2024-08-17T23:54:51.776Z"
   },
   {
    "duration": 32,
    "start_time": "2024-08-17T23:54:51.981Z"
   },
   {
    "duration": 203,
    "start_time": "2024-08-17T23:54:52.017Z"
   },
   {
    "duration": 181,
    "start_time": "2024-08-17T23:54:52.225Z"
   },
   {
    "duration": 46,
    "start_time": "2024-08-17T23:54:52.409Z"
   },
   {
    "duration": 52,
    "start_time": "2024-08-17T23:54:52.458Z"
   },
   {
    "duration": 8,
    "start_time": "2024-08-17T23:54:52.513Z"
   },
   {
    "duration": 33,
    "start_time": "2024-08-17T23:54:52.523Z"
   },
   {
    "duration": 51,
    "start_time": "2024-08-17T23:54:52.559Z"
   },
   {
    "duration": 4,
    "start_time": "2024-08-17T23:54:52.612Z"
   },
   {
    "duration": 8,
    "start_time": "2024-08-17T23:54:52.620Z"
   },
   {
    "duration": 7,
    "start_time": "2024-08-17T23:54:52.631Z"
   },
   {
    "duration": 10,
    "start_time": "2024-08-17T23:54:52.641Z"
   },
   {
    "duration": 8,
    "start_time": "2024-08-17T23:54:52.702Z"
   },
   {
    "duration": 7,
    "start_time": "2024-08-17T23:54:52.713Z"
   },
   {
    "duration": 1469,
    "start_time": "2024-08-17T23:54:52.723Z"
   },
   {
    "duration": 323,
    "start_time": "2024-08-17T23:54:54.195Z"
   },
   {
    "duration": 3886,
    "start_time": "2024-08-17T23:54:54.521Z"
   },
   {
    "duration": 12,
    "start_time": "2024-08-17T23:54:58.410Z"
   },
   {
    "duration": 19,
    "start_time": "2024-08-17T23:54:58.425Z"
   },
   {
    "duration": 57,
    "start_time": "2024-08-17T23:54:58.447Z"
   },
   {
    "duration": 10,
    "start_time": "2024-08-17T23:54:58.512Z"
   },
   {
    "duration": 11,
    "start_time": "2024-08-17T23:54:58.525Z"
   },
   {
    "duration": 10,
    "start_time": "2024-08-17T23:54:58.539Z"
   },
   {
    "duration": 53,
    "start_time": "2024-08-17T23:54:58.552Z"
   },
   {
    "duration": 26,
    "start_time": "2024-08-17T23:54:58.609Z"
   },
   {
    "duration": 11,
    "start_time": "2024-08-17T23:54:58.638Z"
   },
   {
    "duration": 85,
    "start_time": "2024-08-17T23:54:58.652Z"
   },
   {
    "duration": 68,
    "start_time": "2024-08-17T23:54:58.740Z"
   },
   {
    "duration": 2503,
    "start_time": "2024-08-17T23:54:58.811Z"
   },
   {
    "duration": 52,
    "start_time": "2024-08-17T23:55:01.317Z"
   },
   {
    "duration": 589,
    "start_time": "2024-08-17T23:55:01.372Z"
   },
   {
    "duration": 0,
    "start_time": "2024-08-17T23:55:01.965Z"
   },
   {
    "duration": 0,
    "start_time": "2024-08-17T23:55:01.968Z"
   },
   {
    "duration": 0,
    "start_time": "2024-08-17T23:55:01.972Z"
   },
   {
    "duration": 0,
    "start_time": "2024-08-17T23:55:01.974Z"
   },
   {
    "duration": 0,
    "start_time": "2024-08-17T23:55:02.001Z"
   },
   {
    "duration": 0,
    "start_time": "2024-08-17T23:55:02.006Z"
   },
   {
    "duration": 0,
    "start_time": "2024-08-17T23:55:02.009Z"
   },
   {
    "duration": 0,
    "start_time": "2024-08-17T23:55:02.012Z"
   },
   {
    "duration": 0,
    "start_time": "2024-08-17T23:55:02.015Z"
   },
   {
    "duration": 11,
    "start_time": "2024-08-17T23:55:10.841Z"
   },
   {
    "duration": 2561,
    "start_time": "2024-08-17T23:58:46.866Z"
   },
   {
    "duration": 8,
    "start_time": "2024-08-17T23:59:32.366Z"
   },
   {
    "duration": 11,
    "start_time": "2024-08-17T23:59:38.309Z"
   },
   {
    "duration": 14,
    "start_time": "2024-08-17T23:59:44.159Z"
   },
   {
    "duration": 26,
    "start_time": "2024-08-18T00:00:32.846Z"
   },
   {
    "duration": 179,
    "start_time": "2024-08-18T00:01:32.593Z"
   },
   {
    "duration": 53,
    "start_time": "2024-08-18T00:02:03.496Z"
   },
   {
    "duration": 31,
    "start_time": "2024-08-18T00:03:42.538Z"
   },
   {
    "duration": 8,
    "start_time": "2024-08-18T00:04:03.302Z"
   },
   {
    "duration": 9,
    "start_time": "2024-08-18T00:04:11.208Z"
   },
   {
    "duration": 3,
    "start_time": "2024-08-18T00:04:32.986Z"
   },
   {
    "duration": 228,
    "start_time": "2024-08-18T00:04:33.310Z"
   },
   {
    "duration": 73,
    "start_time": "2024-08-18T00:04:33.679Z"
   },
   {
    "duration": 22,
    "start_time": "2024-08-18T00:04:33.912Z"
   },
   {
    "duration": 23,
    "start_time": "2024-08-18T00:04:34.124Z"
   },
   {
    "duration": 1619,
    "start_time": "2024-08-18T00:04:34.356Z"
   },
   {
    "duration": 193,
    "start_time": "2024-08-18T00:04:35.979Z"
   },
   {
    "duration": 37,
    "start_time": "2024-08-18T00:04:36.176Z"
   },
   {
    "duration": 185,
    "start_time": "2024-08-18T00:04:36.240Z"
   },
   {
    "duration": 165,
    "start_time": "2024-08-18T00:04:37.138Z"
   },
   {
    "duration": 43,
    "start_time": "2024-08-18T00:04:37.660Z"
   },
   {
    "duration": 25,
    "start_time": "2024-08-18T00:04:38.496Z"
   },
   {
    "duration": 8,
    "start_time": "2024-08-18T00:04:38.828Z"
   },
   {
    "duration": 35,
    "start_time": "2024-08-18T00:04:39.070Z"
   },
   {
    "duration": 21,
    "start_time": "2024-08-18T00:04:39.322Z"
   },
   {
    "duration": 3,
    "start_time": "2024-08-18T00:04:39.741Z"
   },
   {
    "duration": 7,
    "start_time": "2024-08-18T00:04:42.167Z"
   },
   {
    "duration": 11,
    "start_time": "2024-08-18T00:05:13.742Z"
   },
   {
    "duration": 9,
    "start_time": "2024-08-18T00:05:19.346Z"
   },
   {
    "duration": 33,
    "start_time": "2024-08-18T00:05:57.076Z"
   },
   {
    "duration": 4,
    "start_time": "2024-08-18T00:06:04.923Z"
   },
   {
    "duration": 212,
    "start_time": "2024-08-18T00:06:05.107Z"
   },
   {
    "duration": 80,
    "start_time": "2024-08-18T00:06:05.323Z"
   },
   {
    "duration": 23,
    "start_time": "2024-08-18T00:06:05.466Z"
   },
   {
    "duration": 24,
    "start_time": "2024-08-18T00:06:05.624Z"
   },
   {
    "duration": 1663,
    "start_time": "2024-08-18T00:06:05.780Z"
   },
   {
    "duration": 163,
    "start_time": "2024-08-18T00:06:08.040Z"
   },
   {
    "duration": 18,
    "start_time": "2024-08-18T00:06:09.764Z"
   },
   {
    "duration": 179,
    "start_time": "2024-08-18T00:06:18.516Z"
   },
   {
    "duration": 157,
    "start_time": "2024-08-18T00:06:19.746Z"
   },
   {
    "duration": 51,
    "start_time": "2024-08-18T00:06:20.386Z"
   },
   {
    "duration": 25,
    "start_time": "2024-08-18T00:06:23.990Z"
   },
   {
    "duration": 7,
    "start_time": "2024-08-18T00:06:25.596Z"
   },
   {
    "duration": 35,
    "start_time": "2024-08-18T00:06:29.752Z"
   },
   {
    "duration": 27,
    "start_time": "2024-08-18T00:06:42.976Z"
   },
   {
    "duration": 26,
    "start_time": "2024-08-18T00:09:59.691Z"
   },
   {
    "duration": 8,
    "start_time": "2024-08-18T00:10:15.446Z"
   },
   {
    "duration": 1216,
    "start_time": "2024-08-18T00:10:20.182Z"
   },
   {
    "duration": 19,
    "start_time": "2024-08-18T00:10:39.117Z"
   },
   {
    "duration": 3,
    "start_time": "2024-08-18T00:42:32.502Z"
   },
   {
    "duration": 216,
    "start_time": "2024-08-18T00:42:32.837Z"
   },
   {
    "duration": 85,
    "start_time": "2024-08-18T00:42:33.057Z"
   },
   {
    "duration": 25,
    "start_time": "2024-08-18T00:42:33.181Z"
   },
   {
    "duration": 23,
    "start_time": "2024-08-18T00:42:33.334Z"
   },
   {
    "duration": 1610,
    "start_time": "2024-08-18T00:42:33.510Z"
   },
   {
    "duration": 191,
    "start_time": "2024-08-18T00:42:35.124Z"
   },
   {
    "duration": 19,
    "start_time": "2024-08-18T00:42:35.318Z"
   },
   {
    "duration": 207,
    "start_time": "2024-08-18T00:42:35.342Z"
   },
   {
    "duration": 183,
    "start_time": "2024-08-18T00:42:35.552Z"
   },
   {
    "duration": 67,
    "start_time": "2024-08-18T00:42:35.738Z"
   },
   {
    "duration": 23,
    "start_time": "2024-08-18T00:42:39.659Z"
   },
   {
    "duration": 8,
    "start_time": "2024-08-18T00:42:40.176Z"
   },
   {
    "duration": 34,
    "start_time": "2024-08-18T00:42:40.930Z"
   },
   {
    "duration": 22,
    "start_time": "2024-08-18T00:42:43.814Z"
   },
   {
    "duration": 714,
    "start_time": "2024-08-18T00:42:57.744Z"
   },
   {
    "duration": 329,
    "start_time": "2024-08-18T00:42:58.461Z"
   },
   {
    "duration": 81,
    "start_time": "2024-08-18T00:42:58.801Z"
   },
   {
    "duration": 36,
    "start_time": "2024-08-18T00:42:58.888Z"
   },
   {
    "duration": 23,
    "start_time": "2024-08-18T00:42:58.927Z"
   },
   {
    "duration": 1584,
    "start_time": "2024-08-18T00:42:58.953Z"
   },
   {
    "duration": 204,
    "start_time": "2024-08-18T00:43:00.541Z"
   },
   {
    "duration": 20,
    "start_time": "2024-08-18T00:43:00.749Z"
   },
   {
    "duration": 234,
    "start_time": "2024-08-18T00:43:00.774Z"
   },
   {
    "duration": 199,
    "start_time": "2024-08-18T00:43:01.013Z"
   },
   {
    "duration": 56,
    "start_time": "2024-08-18T00:43:01.216Z"
   },
   {
    "duration": 49,
    "start_time": "2024-08-18T00:43:01.275Z"
   },
   {
    "duration": 7,
    "start_time": "2024-08-18T00:43:01.328Z"
   },
   {
    "duration": 67,
    "start_time": "2024-08-18T00:43:01.338Z"
   },
   {
    "duration": 23,
    "start_time": "2024-08-18T00:43:01.409Z"
   },
   {
    "duration": 4,
    "start_time": "2024-08-18T00:43:01.435Z"
   },
   {
    "duration": 7,
    "start_time": "2024-08-18T00:43:01.442Z"
   },
   {
    "duration": 49,
    "start_time": "2024-08-18T00:43:01.453Z"
   },
   {
    "duration": 9,
    "start_time": "2024-08-18T00:43:01.505Z"
   },
   {
    "duration": 9,
    "start_time": "2024-08-18T00:43:01.517Z"
   },
   {
    "duration": 9,
    "start_time": "2024-08-18T00:43:01.529Z"
   },
   {
    "duration": 1467,
    "start_time": "2024-08-18T00:43:01.541Z"
   },
   {
    "duration": 358,
    "start_time": "2024-08-18T00:43:03.011Z"
   },
   {
    "duration": 3786,
    "start_time": "2024-08-18T00:43:03.372Z"
   },
   {
    "duration": 12,
    "start_time": "2024-08-18T00:43:07.161Z"
   },
   {
    "duration": 43,
    "start_time": "2024-08-18T00:43:07.177Z"
   },
   {
    "duration": 27,
    "start_time": "2024-08-18T00:43:07.223Z"
   },
   {
    "duration": 10,
    "start_time": "2024-08-18T00:43:07.257Z"
   },
   {
    "duration": 11,
    "start_time": "2024-08-18T00:43:07.303Z"
   },
   {
    "duration": 10,
    "start_time": "2024-08-18T00:43:07.317Z"
   },
   {
    "duration": 10,
    "start_time": "2024-08-18T00:43:07.330Z"
   },
   {
    "duration": 70,
    "start_time": "2024-08-18T00:43:07.344Z"
   },
   {
    "duration": 12,
    "start_time": "2024-08-18T00:43:07.418Z"
   },
   {
    "duration": 73,
    "start_time": "2024-08-18T00:43:07.433Z"
   },
   {
    "duration": 49,
    "start_time": "2024-08-18T00:43:07.509Z"
   },
   {
    "duration": 2591,
    "start_time": "2024-08-18T00:43:07.561Z"
   },
   {
    "duration": 534,
    "start_time": "2024-08-18T00:43:10.155Z"
   },
   {
    "duration": 0,
    "start_time": "2024-08-18T00:43:10.692Z"
   },
   {
    "duration": 0,
    "start_time": "2024-08-18T00:43:10.703Z"
   },
   {
    "duration": 0,
    "start_time": "2024-08-18T00:43:10.706Z"
   },
   {
    "duration": 0,
    "start_time": "2024-08-18T00:43:10.709Z"
   },
   {
    "duration": 0,
    "start_time": "2024-08-18T00:43:10.711Z"
   },
   {
    "duration": 0,
    "start_time": "2024-08-18T00:43:10.714Z"
   },
   {
    "duration": 0,
    "start_time": "2024-08-18T00:43:10.718Z"
   },
   {
    "duration": 0,
    "start_time": "2024-08-18T00:43:10.721Z"
   },
   {
    "duration": 1,
    "start_time": "2024-08-18T00:43:10.723Z"
   },
   {
    "duration": 0,
    "start_time": "2024-08-18T00:43:10.728Z"
   },
   {
    "duration": 0,
    "start_time": "2024-08-18T00:43:10.729Z"
   },
   {
    "duration": 5,
    "start_time": "2024-08-18T00:45:01.861Z"
   },
   {
    "duration": 40,
    "start_time": "2024-08-18T00:45:09.056Z"
   },
   {
    "duration": 33,
    "start_time": "2024-08-18T00:45:21.173Z"
   },
   {
    "duration": 33,
    "start_time": "2024-08-18T00:45:27.121Z"
   },
   {
    "duration": 9,
    "start_time": "2024-08-18T00:48:46.460Z"
   },
   {
    "duration": 8,
    "start_time": "2024-08-18T00:49:11.947Z"
   },
   {
    "duration": 14,
    "start_time": "2024-08-18T00:49:55.384Z"
   },
   {
    "duration": 9,
    "start_time": "2024-08-18T00:50:06.511Z"
   },
   {
    "duration": 21,
    "start_time": "2024-08-18T00:52:19.042Z"
   },
   {
    "duration": 39,
    "start_time": "2024-08-18T00:52:33.425Z"
   },
   {
    "duration": 29,
    "start_time": "2024-08-18T00:52:40.907Z"
   },
   {
    "duration": 21,
    "start_time": "2024-08-18T00:52:47.876Z"
   },
   {
    "duration": 10,
    "start_time": "2024-08-18T00:53:00.037Z"
   },
   {
    "duration": 28,
    "start_time": "2024-08-18T00:53:19.491Z"
   },
   {
    "duration": 25,
    "start_time": "2024-08-18T00:53:24.958Z"
   },
   {
    "duration": 13,
    "start_time": "2024-08-18T00:54:38.097Z"
   },
   {
    "duration": 15,
    "start_time": "2024-08-18T00:54:51.919Z"
   },
   {
    "duration": 30,
    "start_time": "2024-08-18T01:10:00.933Z"
   },
   {
    "duration": 9,
    "start_time": "2024-08-18T01:10:34.921Z"
   },
   {
    "duration": 7,
    "start_time": "2024-08-18T01:10:41.325Z"
   },
   {
    "duration": 49,
    "start_time": "2024-08-18T01:10:58.778Z"
   },
   {
    "duration": 47,
    "start_time": "2024-08-18T01:11:04.817Z"
   },
   {
    "duration": 18,
    "start_time": "2024-08-18T01:11:12.546Z"
   },
   {
    "duration": 22,
    "start_time": "2024-08-18T01:11:21.163Z"
   },
   {
    "duration": 433,
    "start_time": "2024-08-18T01:12:43.880Z"
   },
   {
    "duration": 25,
    "start_time": "2024-08-18T01:23:32.105Z"
   },
   {
    "duration": 1126,
    "start_time": "2024-08-18T01:24:23.115Z"
   },
   {
    "duration": 24,
    "start_time": "2024-08-18T01:24:37.280Z"
   },
   {
    "duration": 10,
    "start_time": "2024-08-18T01:25:40.282Z"
   },
   {
    "duration": 1221,
    "start_time": "2024-08-18T01:25:56.965Z"
   },
   {
    "duration": 22,
    "start_time": "2024-08-18T01:26:04.045Z"
   },
   {
    "duration": 19,
    "start_time": "2024-08-18T01:26:24.511Z"
   },
   {
    "duration": 58,
    "start_time": "2024-08-18T01:27:20.573Z"
   },
   {
    "duration": 60,
    "start_time": "2024-08-18T01:27:40.671Z"
   },
   {
    "duration": 19,
    "start_time": "2024-08-18T01:28:02.982Z"
   },
   {
    "duration": 25,
    "start_time": "2024-08-18T01:28:32.655Z"
   },
   {
    "duration": 4245,
    "start_time": "2024-08-18T12:48:49.568Z"
   },
   {
    "duration": 291,
    "start_time": "2024-08-18T12:48:53.816Z"
   },
   {
    "duration": 99,
    "start_time": "2024-08-18T12:48:54.110Z"
   },
   {
    "duration": 23,
    "start_time": "2024-08-18T12:48:54.212Z"
   },
   {
    "duration": 23,
    "start_time": "2024-08-18T12:48:54.240Z"
   },
   {
    "duration": 1629,
    "start_time": "2024-08-18T12:48:54.267Z"
   },
   {
    "duration": 188,
    "start_time": "2024-08-18T12:48:55.899Z"
   },
   {
    "duration": 19,
    "start_time": "2024-08-18T12:48:56.090Z"
   },
   {
    "duration": 193,
    "start_time": "2024-08-18T12:48:56.126Z"
   },
   {
    "duration": 175,
    "start_time": "2024-08-18T12:48:56.322Z"
   },
   {
    "duration": 57,
    "start_time": "2024-08-18T12:48:56.500Z"
   },
   {
    "duration": 23,
    "start_time": "2024-08-18T12:48:56.560Z"
   },
   {
    "duration": 9,
    "start_time": "2024-08-18T12:48:56.586Z"
   },
   {
    "duration": 8,
    "start_time": "2024-08-18T12:48:56.625Z"
   },
   {
    "duration": 36,
    "start_time": "2024-08-18T12:48:56.637Z"
   },
   {
    "duration": 50,
    "start_time": "2024-08-18T12:48:56.676Z"
   },
   {
    "duration": 5,
    "start_time": "2024-08-18T12:48:56.729Z"
   },
   {
    "duration": 0,
    "start_time": "2024-08-18T12:48:56.739Z"
   },
   {
    "duration": 0,
    "start_time": "2024-08-18T12:48:56.742Z"
   },
   {
    "duration": 0,
    "start_time": "2024-08-18T12:48:56.744Z"
   },
   {
    "duration": 0,
    "start_time": "2024-08-18T12:48:56.746Z"
   },
   {
    "duration": 0,
    "start_time": "2024-08-18T12:48:56.747Z"
   },
   {
    "duration": 0,
    "start_time": "2024-08-18T12:48:56.749Z"
   },
   {
    "duration": 0,
    "start_time": "2024-08-18T12:48:56.752Z"
   },
   {
    "duration": 0,
    "start_time": "2024-08-18T12:48:56.754Z"
   },
   {
    "duration": 0,
    "start_time": "2024-08-18T12:48:56.755Z"
   },
   {
    "duration": 0,
    "start_time": "2024-08-18T12:48:56.759Z"
   },
   {
    "duration": 0,
    "start_time": "2024-08-18T12:48:56.762Z"
   },
   {
    "duration": 0,
    "start_time": "2024-08-18T12:48:56.765Z"
   },
   {
    "duration": 0,
    "start_time": "2024-08-18T12:48:56.767Z"
   },
   {
    "duration": 0,
    "start_time": "2024-08-18T12:48:56.825Z"
   },
   {
    "duration": 0,
    "start_time": "2024-08-18T12:48:56.828Z"
   },
   {
    "duration": 0,
    "start_time": "2024-08-18T12:48:56.831Z"
   },
   {
    "duration": 0,
    "start_time": "2024-08-18T12:48:56.833Z"
   },
   {
    "duration": 0,
    "start_time": "2024-08-18T12:48:56.835Z"
   },
   {
    "duration": 0,
    "start_time": "2024-08-18T12:48:56.838Z"
   },
   {
    "duration": 0,
    "start_time": "2024-08-18T12:48:56.840Z"
   },
   {
    "duration": 0,
    "start_time": "2024-08-18T12:48:56.843Z"
   },
   {
    "duration": 0,
    "start_time": "2024-08-18T12:48:56.846Z"
   },
   {
    "duration": 0,
    "start_time": "2024-08-18T12:48:56.848Z"
   },
   {
    "duration": 0,
    "start_time": "2024-08-18T12:48:56.849Z"
   },
   {
    "duration": 0,
    "start_time": "2024-08-18T12:48:56.851Z"
   },
   {
    "duration": 0,
    "start_time": "2024-08-18T12:48:56.853Z"
   },
   {
    "duration": 0,
    "start_time": "2024-08-18T12:48:56.855Z"
   },
   {
    "duration": 0,
    "start_time": "2024-08-18T12:48:56.857Z"
   },
   {
    "duration": 0,
    "start_time": "2024-08-18T12:48:56.859Z"
   },
   {
    "duration": 0,
    "start_time": "2024-08-18T12:48:56.863Z"
   },
   {
    "duration": 0,
    "start_time": "2024-08-18T12:48:56.927Z"
   },
   {
    "duration": 0,
    "start_time": "2024-08-18T12:48:56.928Z"
   },
   {
    "duration": 0,
    "start_time": "2024-08-18T12:48:56.930Z"
   },
   {
    "duration": 15,
    "start_time": "2024-08-18T13:00:04.965Z"
   },
   {
    "duration": 9,
    "start_time": "2024-08-18T13:01:06.436Z"
   },
   {
    "duration": 7,
    "start_time": "2024-08-18T13:01:31.972Z"
   },
   {
    "duration": 10,
    "start_time": "2024-08-18T13:01:52.903Z"
   },
   {
    "duration": 10,
    "start_time": "2024-08-18T13:02:00.576Z"
   },
   {
    "duration": 10,
    "start_time": "2024-08-18T13:02:29.505Z"
   },
   {
    "duration": 695,
    "start_time": "2024-08-18T13:02:49.353Z"
   },
   {
    "duration": 296,
    "start_time": "2024-08-18T13:02:50.051Z"
   },
   {
    "duration": 85,
    "start_time": "2024-08-18T13:02:50.350Z"
   },
   {
    "duration": 24,
    "start_time": "2024-08-18T13:02:50.438Z"
   },
   {
    "duration": 23,
    "start_time": "2024-08-18T13:02:50.467Z"
   },
   {
    "duration": 1580,
    "start_time": "2024-08-18T13:02:50.492Z"
   },
   {
    "duration": 189,
    "start_time": "2024-08-18T13:02:52.075Z"
   },
   {
    "duration": 21,
    "start_time": "2024-08-18T13:02:52.267Z"
   },
   {
    "duration": 204,
    "start_time": "2024-08-18T13:02:52.292Z"
   },
   {
    "duration": 176,
    "start_time": "2024-08-18T13:02:52.498Z"
   },
   {
    "duration": 59,
    "start_time": "2024-08-18T13:02:52.677Z"
   },
   {
    "duration": 25,
    "start_time": "2024-08-18T13:02:52.739Z"
   },
   {
    "duration": 9,
    "start_time": "2024-08-18T13:02:52.766Z"
   },
   {
    "duration": 43,
    "start_time": "2024-08-18T13:02:52.783Z"
   },
   {
    "duration": 36,
    "start_time": "2024-08-18T13:02:52.829Z"
   },
   {
    "duration": 23,
    "start_time": "2024-08-18T13:02:52.868Z"
   },
   {
    "duration": 29,
    "start_time": "2024-08-18T13:02:52.897Z"
   },
   {
    "duration": 355,
    "start_time": "2024-08-18T13:02:52.930Z"
   },
   {
    "duration": 0,
    "start_time": "2024-08-18T13:02:53.289Z"
   },
   {
    "duration": 0,
    "start_time": "2024-08-18T13:02:53.291Z"
   },
   {
    "duration": 0,
    "start_time": "2024-08-18T13:02:53.293Z"
   },
   {
    "duration": 0,
    "start_time": "2024-08-18T13:02:53.295Z"
   },
   {
    "duration": 0,
    "start_time": "2024-08-18T13:02:53.298Z"
   },
   {
    "duration": 0,
    "start_time": "2024-08-18T13:02:53.300Z"
   },
   {
    "duration": 0,
    "start_time": "2024-08-18T13:02:53.326Z"
   },
   {
    "duration": 0,
    "start_time": "2024-08-18T13:02:53.328Z"
   },
   {
    "duration": 0,
    "start_time": "2024-08-18T13:02:53.329Z"
   },
   {
    "duration": 0,
    "start_time": "2024-08-18T13:02:53.331Z"
   },
   {
    "duration": 0,
    "start_time": "2024-08-18T13:02:53.333Z"
   },
   {
    "duration": 0,
    "start_time": "2024-08-18T13:02:53.334Z"
   },
   {
    "duration": 0,
    "start_time": "2024-08-18T13:02:53.336Z"
   },
   {
    "duration": 0,
    "start_time": "2024-08-18T13:02:53.338Z"
   },
   {
    "duration": 0,
    "start_time": "2024-08-18T13:02:53.340Z"
   },
   {
    "duration": 0,
    "start_time": "2024-08-18T13:02:53.342Z"
   },
   {
    "duration": 0,
    "start_time": "2024-08-18T13:02:53.343Z"
   },
   {
    "duration": 0,
    "start_time": "2024-08-18T13:02:53.345Z"
   },
   {
    "duration": 0,
    "start_time": "2024-08-18T13:02:53.349Z"
   },
   {
    "duration": 1,
    "start_time": "2024-08-18T13:02:53.351Z"
   },
   {
    "duration": 0,
    "start_time": "2024-08-18T13:02:53.354Z"
   },
   {
    "duration": 0,
    "start_time": "2024-08-18T13:02:53.357Z"
   },
   {
    "duration": 0,
    "start_time": "2024-08-18T13:02:53.359Z"
   },
   {
    "duration": 0,
    "start_time": "2024-08-18T13:02:53.361Z"
   },
   {
    "duration": 0,
    "start_time": "2024-08-18T13:02:53.426Z"
   },
   {
    "duration": 0,
    "start_time": "2024-08-18T13:02:53.428Z"
   },
   {
    "duration": 0,
    "start_time": "2024-08-18T13:02:53.430Z"
   },
   {
    "duration": 0,
    "start_time": "2024-08-18T13:02:53.436Z"
   },
   {
    "duration": 0,
    "start_time": "2024-08-18T13:02:53.441Z"
   },
   {
    "duration": 0,
    "start_time": "2024-08-18T13:02:53.443Z"
   },
   {
    "duration": 0,
    "start_time": "2024-08-18T13:02:53.445Z"
   },
   {
    "duration": 0,
    "start_time": "2024-08-18T13:02:53.447Z"
   },
   {
    "duration": 9,
    "start_time": "2024-08-18T13:03:53.729Z"
   },
   {
    "duration": 25,
    "start_time": "2024-08-18T13:04:01.406Z"
   },
   {
    "duration": 18,
    "start_time": "2024-08-18T13:04:22.189Z"
   },
   {
    "duration": 18,
    "start_time": "2024-08-18T13:04:28.798Z"
   },
   {
    "duration": 18,
    "start_time": "2024-08-18T13:04:39.065Z"
   },
   {
    "duration": 17,
    "start_time": "2024-08-18T13:04:43.253Z"
   },
   {
    "duration": 16,
    "start_time": "2024-08-18T13:05:00.191Z"
   },
   {
    "duration": 26,
    "start_time": "2024-08-18T13:05:11.093Z"
   },
   {
    "duration": 1141,
    "start_time": "2024-08-18T13:05:46.515Z"
   },
   {
    "duration": 53,
    "start_time": "2024-08-18T13:05:51.847Z"
   },
   {
    "duration": 451,
    "start_time": "2024-08-18T13:06:09.055Z"
   },
   {
    "duration": 20,
    "start_time": "2024-08-18T13:06:22.613Z"
   },
   {
    "duration": 143,
    "start_time": "2024-08-18T13:06:55.328Z"
   },
   {
    "duration": 5,
    "start_time": "2024-08-18T13:08:10.992Z"
   },
   {
    "duration": 847,
    "start_time": "2024-08-18T13:08:15.807Z"
   },
   {
    "duration": 22,
    "start_time": "2024-08-18T13:08:23.416Z"
   },
   {
    "duration": 168,
    "start_time": "2024-08-18T13:17:23.209Z"
   },
   {
    "duration": 22,
    "start_time": "2024-08-18T13:20:13.072Z"
   },
   {
    "duration": 25,
    "start_time": "2024-08-18T13:20:30.304Z"
   },
   {
    "duration": 25,
    "start_time": "2024-08-18T13:20:44.611Z"
   },
   {
    "duration": 27,
    "start_time": "2024-08-18T13:21:31.399Z"
   },
   {
    "duration": 21,
    "start_time": "2024-08-18T13:21:42.042Z"
   },
   {
    "duration": 25,
    "start_time": "2024-08-18T13:22:08.772Z"
   },
   {
    "duration": 24,
    "start_time": "2024-08-18T13:22:27.290Z"
   },
   {
    "duration": 7,
    "start_time": "2024-08-18T13:23:20.475Z"
   },
   {
    "duration": 15,
    "start_time": "2024-08-18T13:23:24.963Z"
   },
   {
    "duration": 7,
    "start_time": "2024-08-18T13:24:35.363Z"
   },
   {
    "duration": 8,
    "start_time": "2024-08-18T13:24:35.946Z"
   },
   {
    "duration": 11,
    "start_time": "2024-08-18T13:24:36.590Z"
   },
   {
    "duration": 7,
    "start_time": "2024-08-18T13:24:40.161Z"
   },
   {
    "duration": 7,
    "start_time": "2024-08-18T13:24:40.630Z"
   },
   {
    "duration": 1329,
    "start_time": "2024-08-18T13:24:43.754Z"
   },
   {
    "duration": 301,
    "start_time": "2024-08-18T13:24:45.086Z"
   },
   {
    "duration": 3588,
    "start_time": "2024-08-18T13:24:45.390Z"
   },
   {
    "duration": 3494,
    "start_time": "2024-08-18T13:27:08.126Z"
   },
   {
    "duration": 11,
    "start_time": "2024-08-18T13:27:11.628Z"
   },
   {
    "duration": 18,
    "start_time": "2024-08-18T13:27:23.312Z"
   },
   {
    "duration": 4159,
    "start_time": "2024-08-18T14:58:30.057Z"
   },
   {
    "duration": 283,
    "start_time": "2024-08-18T14:58:34.219Z"
   },
   {
    "duration": 117,
    "start_time": "2024-08-18T14:58:34.508Z"
   },
   {
    "duration": 25,
    "start_time": "2024-08-18T14:58:34.628Z"
   },
   {
    "duration": 24,
    "start_time": "2024-08-18T14:58:34.658Z"
   },
   {
    "duration": 1652,
    "start_time": "2024-08-18T14:58:34.710Z"
   },
   {
    "duration": 185,
    "start_time": "2024-08-18T14:58:36.365Z"
   },
   {
    "duration": 20,
    "start_time": "2024-08-18T14:58:36.553Z"
   },
   {
    "duration": 204,
    "start_time": "2024-08-18T14:58:36.575Z"
   },
   {
    "duration": 177,
    "start_time": "2024-08-18T14:58:36.782Z"
   },
   {
    "duration": 70,
    "start_time": "2024-08-18T14:58:36.962Z"
   },
   {
    "duration": 24,
    "start_time": "2024-08-18T14:58:37.034Z"
   },
   {
    "duration": 9,
    "start_time": "2024-08-18T14:58:37.061Z"
   },
   {
    "duration": 7,
    "start_time": "2024-08-18T14:58:37.108Z"
   },
   {
    "duration": 32,
    "start_time": "2024-08-18T14:58:37.118Z"
   },
   {
    "duration": 20,
    "start_time": "2024-08-18T14:58:37.153Z"
   },
   {
    "duration": 58,
    "start_time": "2024-08-18T14:58:37.176Z"
   },
   {
    "duration": 15,
    "start_time": "2024-08-18T14:58:37.236Z"
   },
   {
    "duration": 7,
    "start_time": "2024-08-18T14:58:37.254Z"
   },
   {
    "duration": 46,
    "start_time": "2024-08-18T14:58:37.265Z"
   },
   {
    "duration": 9,
    "start_time": "2024-08-18T14:58:37.315Z"
   },
   {
    "duration": 13,
    "start_time": "2024-08-18T14:58:37.327Z"
   },
   {
    "duration": 10,
    "start_time": "2024-08-18T14:58:37.342Z"
   },
   {
    "duration": 1338,
    "start_time": "2024-08-18T14:58:37.355Z"
   },
   {
    "duration": 299,
    "start_time": "2024-08-18T14:58:38.697Z"
   },
   {
    "duration": 3501,
    "start_time": "2024-08-18T14:58:39.000Z"
   },
   {
    "duration": 11,
    "start_time": "2024-08-18T14:58:42.508Z"
   },
   {
    "duration": 20,
    "start_time": "2024-08-18T14:58:42.522Z"
   },
   {
    "duration": 20,
    "start_time": "2024-08-18T14:58:42.545Z"
   },
   {
    "duration": 9,
    "start_time": "2024-08-18T14:58:42.608Z"
   },
   {
    "duration": 10,
    "start_time": "2024-08-18T14:58:42.620Z"
   },
   {
    "duration": 8,
    "start_time": "2024-08-18T14:58:42.633Z"
   },
   {
    "duration": 9,
    "start_time": "2024-08-18T14:58:42.645Z"
   },
   {
    "duration": 76,
    "start_time": "2024-08-18T14:58:42.656Z"
   },
   {
    "duration": 12,
    "start_time": "2024-08-18T14:58:42.735Z"
   },
   {
    "duration": 71,
    "start_time": "2024-08-18T14:58:42.750Z"
   },
   {
    "duration": 45,
    "start_time": "2024-08-18T14:58:42.824Z"
   },
   {
    "duration": 2355,
    "start_time": "2024-08-18T14:58:42.872Z"
   },
   {
    "duration": 569,
    "start_time": "2024-08-18T14:58:45.231Z"
   },
   {
    "duration": 0,
    "start_time": "2024-08-18T14:58:45.809Z"
   },
   {
    "duration": 0,
    "start_time": "2024-08-18T14:58:45.812Z"
   },
   {
    "duration": 0,
    "start_time": "2024-08-18T14:58:45.815Z"
   },
   {
    "duration": 0,
    "start_time": "2024-08-18T14:58:45.817Z"
   },
   {
    "duration": 0,
    "start_time": "2024-08-18T14:58:45.819Z"
   },
   {
    "duration": 0,
    "start_time": "2024-08-18T14:58:45.822Z"
   },
   {
    "duration": 0,
    "start_time": "2024-08-18T14:58:45.824Z"
   },
   {
    "duration": 0,
    "start_time": "2024-08-18T14:58:45.827Z"
   },
   {
    "duration": 0,
    "start_time": "2024-08-18T14:58:45.830Z"
   },
   {
    "duration": 0,
    "start_time": "2024-08-18T14:58:45.832Z"
   },
   {
    "duration": 0,
    "start_time": "2024-08-18T14:58:45.834Z"
   },
   {
    "duration": 2347,
    "start_time": "2024-08-18T14:59:28.347Z"
   },
   {
    "duration": 3424,
    "start_time": "2024-08-18T15:00:09.099Z"
   },
   {
    "duration": 2669,
    "start_time": "2024-08-18T15:00:36.021Z"
   },
   {
    "duration": 2451,
    "start_time": "2024-08-18T15:08:24.495Z"
   },
   {
    "duration": 2420,
    "start_time": "2024-08-18T15:08:43.450Z"
   },
   {
    "duration": 4896,
    "start_time": "2024-08-18T18:48:25.850Z"
   },
   {
    "duration": 377,
    "start_time": "2024-08-18T18:48:30.760Z"
   },
   {
    "duration": 134,
    "start_time": "2024-08-18T18:48:31.141Z"
   },
   {
    "duration": 34,
    "start_time": "2024-08-18T18:48:31.278Z"
   },
   {
    "duration": 38,
    "start_time": "2024-08-18T18:48:31.316Z"
   },
   {
    "duration": 1755,
    "start_time": "2024-08-18T18:48:31.357Z"
   },
   {
    "duration": 192,
    "start_time": "2024-08-18T18:48:33.116Z"
   },
   {
    "duration": 32,
    "start_time": "2024-08-18T18:48:33.311Z"
   },
   {
    "duration": 209,
    "start_time": "2024-08-18T18:48:33.346Z"
   },
   {
    "duration": 184,
    "start_time": "2024-08-18T18:48:33.561Z"
   },
   {
    "duration": 52,
    "start_time": "2024-08-18T18:48:33.748Z"
   },
   {
    "duration": 49,
    "start_time": "2024-08-18T18:48:33.804Z"
   },
   {
    "duration": 9,
    "start_time": "2024-08-18T18:48:33.857Z"
   },
   {
    "duration": 7,
    "start_time": "2024-08-18T18:48:33.874Z"
   },
   {
    "duration": 75,
    "start_time": "2024-08-18T18:48:33.885Z"
   },
   {
    "duration": 22,
    "start_time": "2024-08-18T18:48:33.963Z"
   },
   {
    "duration": 54,
    "start_time": "2024-08-18T18:48:33.988Z"
   },
   {
    "duration": 15,
    "start_time": "2024-08-18T18:48:34.045Z"
   },
   {
    "duration": 7,
    "start_time": "2024-08-18T18:48:34.063Z"
   },
   {
    "duration": 9,
    "start_time": "2024-08-18T18:48:34.073Z"
   },
   {
    "duration": 50,
    "start_time": "2024-08-18T18:48:34.085Z"
   },
   {
    "duration": 31,
    "start_time": "2024-08-18T18:48:34.139Z"
   },
   {
    "duration": 8,
    "start_time": "2024-08-18T18:48:34.173Z"
   },
   {
    "duration": 1325,
    "start_time": "2024-08-18T18:48:34.184Z"
   },
   {
    "duration": 304,
    "start_time": "2024-08-18T18:48:35.511Z"
   },
   {
    "duration": 3717,
    "start_time": "2024-08-18T18:48:35.818Z"
   },
   {
    "duration": 22,
    "start_time": "2024-08-18T18:48:39.539Z"
   },
   {
    "duration": 25,
    "start_time": "2024-08-18T18:48:39.568Z"
   },
   {
    "duration": 39,
    "start_time": "2024-08-18T18:48:39.597Z"
   },
   {
    "duration": 12,
    "start_time": "2024-08-18T18:48:39.643Z"
   },
   {
    "duration": 12,
    "start_time": "2024-08-18T18:48:39.658Z"
   },
   {
    "duration": 11,
    "start_time": "2024-08-18T18:48:39.673Z"
   },
   {
    "duration": 11,
    "start_time": "2024-08-18T18:48:39.687Z"
   },
   {
    "duration": 37,
    "start_time": "2024-08-18T18:48:39.736Z"
   },
   {
    "duration": 12,
    "start_time": "2024-08-18T18:48:39.776Z"
   },
   {
    "duration": 79,
    "start_time": "2024-08-18T18:48:39.791Z"
   },
   {
    "duration": 53,
    "start_time": "2024-08-18T18:48:39.875Z"
   },
   {
    "duration": 2559,
    "start_time": "2024-08-18T18:48:39.936Z"
   },
   {
    "duration": 555,
    "start_time": "2024-08-18T18:48:42.498Z"
   },
   {
    "duration": 0,
    "start_time": "2024-08-18T18:48:43.057Z"
   },
   {
    "duration": 0,
    "start_time": "2024-08-18T18:48:43.059Z"
   },
   {
    "duration": 0,
    "start_time": "2024-08-18T18:48:43.061Z"
   },
   {
    "duration": 0,
    "start_time": "2024-08-18T18:48:43.063Z"
   },
   {
    "duration": 0,
    "start_time": "2024-08-18T18:48:43.065Z"
   },
   {
    "duration": 0,
    "start_time": "2024-08-18T18:48:43.067Z"
   },
   {
    "duration": 0,
    "start_time": "2024-08-18T18:48:43.069Z"
   },
   {
    "duration": 0,
    "start_time": "2024-08-18T18:48:43.070Z"
   },
   {
    "duration": 1,
    "start_time": "2024-08-18T18:48:43.071Z"
   },
   {
    "duration": 0,
    "start_time": "2024-08-18T18:48:43.073Z"
   },
   {
    "duration": 0,
    "start_time": "2024-08-18T18:48:43.075Z"
   },
   {
    "duration": 40,
    "start_time": "2024-08-18T18:53:17.710Z"
   },
   {
    "duration": 4406,
    "start_time": "2024-08-19T01:31:01.474Z"
   },
   {
    "duration": 294,
    "start_time": "2024-08-19T01:31:05.884Z"
   },
   {
    "duration": 101,
    "start_time": "2024-08-19T01:31:06.181Z"
   },
   {
    "duration": 23,
    "start_time": "2024-08-19T01:31:06.285Z"
   },
   {
    "duration": 23,
    "start_time": "2024-08-19T01:31:06.332Z"
   },
   {
    "duration": 1657,
    "start_time": "2024-08-19T01:31:06.358Z"
   },
   {
    "duration": 181,
    "start_time": "2024-08-19T01:31:08.018Z"
   },
   {
    "duration": 32,
    "start_time": "2024-08-19T01:31:08.202Z"
   },
   {
    "duration": 195,
    "start_time": "2024-08-19T01:31:08.237Z"
   },
   {
    "duration": 171,
    "start_time": "2024-08-19T01:31:08.437Z"
   },
   {
    "duration": 57,
    "start_time": "2024-08-19T01:31:08.612Z"
   },
   {
    "duration": 22,
    "start_time": "2024-08-19T01:31:08.672Z"
   },
   {
    "duration": 9,
    "start_time": "2024-08-19T01:31:08.697Z"
   },
   {
    "duration": 7,
    "start_time": "2024-08-19T01:31:08.737Z"
   },
   {
    "duration": 32,
    "start_time": "2024-08-19T01:31:08.747Z"
   },
   {
    "duration": 53,
    "start_time": "2024-08-19T01:31:08.782Z"
   },
   {
    "duration": 28,
    "start_time": "2024-08-19T01:31:08.839Z"
   },
   {
    "duration": 16,
    "start_time": "2024-08-19T01:31:08.869Z"
   },
   {
    "duration": 8,
    "start_time": "2024-08-19T01:31:08.888Z"
   },
   {
    "duration": 7,
    "start_time": "2024-08-19T01:31:08.934Z"
   },
   {
    "duration": 10,
    "start_time": "2024-08-19T01:31:08.945Z"
   },
   {
    "duration": 7,
    "start_time": "2024-08-19T01:31:08.960Z"
   },
   {
    "duration": 7,
    "start_time": "2024-08-19T01:31:08.970Z"
   },
   {
    "duration": 1355,
    "start_time": "2024-08-19T01:31:08.980Z"
   },
   {
    "duration": 303,
    "start_time": "2024-08-19T01:31:10.338Z"
   },
   {
    "duration": 32,
    "start_time": "2024-08-19T01:31:10.644Z"
   },
   {
    "duration": 12,
    "start_time": "2024-08-19T01:31:10.681Z"
   },
   {
    "duration": 52,
    "start_time": "2024-08-19T01:31:10.696Z"
   },
   {
    "duration": 19,
    "start_time": "2024-08-19T01:31:10.751Z"
   },
   {
    "duration": 9,
    "start_time": "2024-08-19T01:31:10.773Z"
   },
   {
    "duration": 47,
    "start_time": "2024-08-19T01:31:10.786Z"
   },
   {
    "duration": 9,
    "start_time": "2024-08-19T01:31:10.836Z"
   },
   {
    "duration": 9,
    "start_time": "2024-08-19T01:31:10.847Z"
   },
   {
    "duration": 26,
    "start_time": "2024-08-19T01:31:10.860Z"
   },
   {
    "duration": 50,
    "start_time": "2024-08-19T01:31:10.889Z"
   },
   {
    "duration": 49,
    "start_time": "2024-08-19T01:31:10.943Z"
   },
   {
    "duration": 74,
    "start_time": "2024-08-19T01:31:10.994Z"
   },
   {
    "duration": 2435,
    "start_time": "2024-08-19T01:31:11.071Z"
   },
   {
    "duration": 559,
    "start_time": "2024-08-19T01:31:13.509Z"
   },
   {
    "duration": 0,
    "start_time": "2024-08-19T01:31:14.071Z"
   },
   {
    "duration": 0,
    "start_time": "2024-08-19T01:31:14.074Z"
   },
   {
    "duration": 0,
    "start_time": "2024-08-19T01:31:14.076Z"
   },
   {
    "duration": 0,
    "start_time": "2024-08-19T01:31:14.078Z"
   },
   {
    "duration": 0,
    "start_time": "2024-08-19T01:31:14.081Z"
   },
   {
    "duration": 0,
    "start_time": "2024-08-19T01:31:14.083Z"
   },
   {
    "duration": 0,
    "start_time": "2024-08-19T01:31:14.085Z"
   },
   {
    "duration": 0,
    "start_time": "2024-08-19T01:31:14.087Z"
   },
   {
    "duration": 0,
    "start_time": "2024-08-19T01:31:14.089Z"
   },
   {
    "duration": 0,
    "start_time": "2024-08-19T01:31:14.091Z"
   },
   {
    "duration": 0,
    "start_time": "2024-08-19T01:31:14.093Z"
   },
   {
    "duration": 30,
    "start_time": "2024-08-19T01:48:27.998Z"
   },
   {
    "duration": 32,
    "start_time": "2024-08-19T01:48:45.053Z"
   },
   {
    "duration": 27,
    "start_time": "2024-08-19T01:49:00.607Z"
   },
   {
    "duration": 25,
    "start_time": "2024-08-19T01:59:43.327Z"
   },
   {
    "duration": 22,
    "start_time": "2024-08-19T01:59:53.438Z"
   },
   {
    "duration": 24,
    "start_time": "2024-08-19T02:00:04.881Z"
   },
   {
    "duration": 850,
    "start_time": "2024-08-19T02:00:16.009Z"
   },
   {
    "duration": 77,
    "start_time": "2024-08-19T02:00:29.981Z"
   },
   {
    "duration": 17,
    "start_time": "2024-08-19T02:01:07.741Z"
   },
   {
    "duration": 6,
    "start_time": "2024-08-19T02:01:20.360Z"
   },
   {
    "duration": 23,
    "start_time": "2024-08-19T02:01:59.381Z"
   },
   {
    "duration": 18,
    "start_time": "2024-08-19T02:02:20.227Z"
   },
   {
    "duration": 12,
    "start_time": "2024-08-19T02:03:49.111Z"
   },
   {
    "duration": 18,
    "start_time": "2024-08-19T02:04:01.478Z"
   },
   {
    "duration": 17,
    "start_time": "2024-08-19T02:04:13.922Z"
   },
   {
    "duration": 11,
    "start_time": "2024-08-19T02:07:11.697Z"
   },
   {
    "duration": 11,
    "start_time": "2024-08-19T02:07:30.151Z"
   },
   {
    "duration": 9,
    "start_time": "2024-08-19T02:07:57.162Z"
   },
   {
    "duration": 9,
    "start_time": "2024-08-19T02:08:12.693Z"
   },
   {
    "duration": 10,
    "start_time": "2024-08-19T02:08:33.599Z"
   },
   {
    "duration": 9,
    "start_time": "2024-08-19T02:08:54.369Z"
   },
   {
    "duration": 11,
    "start_time": "2024-08-19T02:09:07.987Z"
   },
   {
    "duration": 11,
    "start_time": "2024-08-19T02:09:14.873Z"
   },
   {
    "duration": 11,
    "start_time": "2024-08-19T02:09:34.725Z"
   },
   {
    "duration": 9,
    "start_time": "2024-08-19T02:09:53.471Z"
   },
   {
    "duration": 9,
    "start_time": "2024-08-19T02:09:53.791Z"
   },
   {
    "duration": 12,
    "start_time": "2024-08-19T02:10:13.221Z"
   },
   {
    "duration": 13,
    "start_time": "2024-08-19T02:10:32.408Z"
   },
   {
    "duration": 30,
    "start_time": "2024-08-19T02:11:01.532Z"
   },
   {
    "duration": 14,
    "start_time": "2024-08-19T02:12:39.542Z"
   },
   {
    "duration": 14,
    "start_time": "2024-08-19T02:12:50.824Z"
   },
   {
    "duration": 8,
    "start_time": "2024-08-19T02:16:23.777Z"
   },
   {
    "duration": 2083,
    "start_time": "2024-08-19T02:16:36.280Z"
   },
   {
    "duration": 747,
    "start_time": "2024-08-19T02:17:06.128Z"
   },
   {
    "duration": 270,
    "start_time": "2024-08-19T02:17:58.976Z"
   },
   {
    "duration": 273,
    "start_time": "2024-08-19T02:18:27.307Z"
   },
   {
    "duration": 25,
    "start_time": "2024-08-19T02:18:54.973Z"
   },
   {
    "duration": 292,
    "start_time": "2024-08-19T02:19:08.784Z"
   },
   {
    "duration": 287,
    "start_time": "2024-08-19T02:22:53.828Z"
   },
   {
    "duration": 275,
    "start_time": "2024-08-19T02:24:41.825Z"
   },
   {
    "duration": 685,
    "start_time": "2024-08-19T02:28:38.265Z"
   },
   {
    "duration": 331,
    "start_time": "2024-08-19T02:28:38.953Z"
   },
   {
    "duration": 101,
    "start_time": "2024-08-19T02:28:39.288Z"
   },
   {
    "duration": 23,
    "start_time": "2024-08-19T02:28:39.394Z"
   },
   {
    "duration": 22,
    "start_time": "2024-08-19T02:28:39.435Z"
   },
   {
    "duration": 1643,
    "start_time": "2024-08-19T02:28:39.461Z"
   },
   {
    "duration": 184,
    "start_time": "2024-08-19T02:28:41.107Z"
   },
   {
    "duration": 22,
    "start_time": "2024-08-19T02:28:41.294Z"
   },
   {
    "duration": 210,
    "start_time": "2024-08-19T02:28:41.335Z"
   },
   {
    "duration": 185,
    "start_time": "2024-08-19T02:28:41.548Z"
   },
   {
    "duration": 46,
    "start_time": "2024-08-19T02:28:41.737Z"
   },
   {
    "duration": 48,
    "start_time": "2024-08-19T02:28:41.786Z"
   },
   {
    "duration": 13,
    "start_time": "2024-08-19T02:28:41.840Z"
   },
   {
    "duration": 7,
    "start_time": "2024-08-19T02:28:41.861Z"
   },
   {
    "duration": 64,
    "start_time": "2024-08-19T02:28:41.871Z"
   },
   {
    "duration": 22,
    "start_time": "2024-08-19T02:28:41.937Z"
   },
   {
    "duration": 29,
    "start_time": "2024-08-19T02:28:41.962Z"
   },
   {
    "duration": 44,
    "start_time": "2024-08-19T02:28:41.994Z"
   },
   {
    "duration": 9,
    "start_time": "2024-08-19T02:28:42.042Z"
   },
   {
    "duration": 7,
    "start_time": "2024-08-19T02:28:42.054Z"
   },
   {
    "duration": 9,
    "start_time": "2024-08-19T02:28:42.064Z"
   },
   {
    "duration": 8,
    "start_time": "2024-08-19T02:28:42.076Z"
   },
   {
    "duration": 8,
    "start_time": "2024-08-19T02:28:42.134Z"
   },
   {
    "duration": 1334,
    "start_time": "2024-08-19T02:28:42.145Z"
   },
   {
    "duration": 293,
    "start_time": "2024-08-19T02:28:43.484Z"
   },
   {
    "duration": 32,
    "start_time": "2024-08-19T02:28:43.780Z"
   },
   {
    "duration": 11,
    "start_time": "2024-08-19T02:28:43.832Z"
   },
   {
    "duration": 19,
    "start_time": "2024-08-19T02:28:43.846Z"
   },
   {
    "duration": 19,
    "start_time": "2024-08-19T02:28:43.868Z"
   },
   {
    "duration": 44,
    "start_time": "2024-08-19T02:28:43.891Z"
   },
   {
    "duration": 10,
    "start_time": "2024-08-19T02:28:43.938Z"
   },
   {
    "duration": 9,
    "start_time": "2024-08-19T02:28:43.951Z"
   },
   {
    "duration": 9,
    "start_time": "2024-08-19T02:28:43.963Z"
   },
   {
    "duration": 77,
    "start_time": "2024-08-19T02:28:43.975Z"
   },
   {
    "duration": 11,
    "start_time": "2024-08-19T02:28:44.055Z"
   },
   {
    "duration": 79,
    "start_time": "2024-08-19T02:28:44.069Z"
   },
   {
    "duration": 46,
    "start_time": "2024-08-19T02:28:44.151Z"
   },
   {
    "duration": 2441,
    "start_time": "2024-08-19T02:28:44.200Z"
   },
   {
    "duration": 516,
    "start_time": "2024-08-19T02:28:46.644Z"
   },
   {
    "duration": 0,
    "start_time": "2024-08-19T02:28:47.165Z"
   },
   {
    "duration": 0,
    "start_time": "2024-08-19T02:28:47.167Z"
   },
   {
    "duration": 0,
    "start_time": "2024-08-19T02:28:47.169Z"
   },
   {
    "duration": 0,
    "start_time": "2024-08-19T02:28:47.172Z"
   },
   {
    "duration": 0,
    "start_time": "2024-08-19T02:28:47.174Z"
   },
   {
    "duration": 0,
    "start_time": "2024-08-19T02:28:47.179Z"
   },
   {
    "duration": 0,
    "start_time": "2024-08-19T02:28:47.181Z"
   },
   {
    "duration": 0,
    "start_time": "2024-08-19T02:28:47.183Z"
   },
   {
    "duration": 0,
    "start_time": "2024-08-19T02:28:47.186Z"
   },
   {
    "duration": 0,
    "start_time": "2024-08-19T02:28:47.188Z"
   },
   {
    "duration": 0,
    "start_time": "2024-08-19T02:28:47.190Z"
   },
   {
    "duration": 0,
    "start_time": "2024-08-19T02:28:47.192Z"
   },
   {
    "duration": 0,
    "start_time": "2024-08-19T02:28:47.234Z"
   },
   {
    "duration": 684,
    "start_time": "2024-08-19T02:29:54.629Z"
   },
   {
    "duration": 298,
    "start_time": "2024-08-19T02:29:55.316Z"
   },
   {
    "duration": 86,
    "start_time": "2024-08-19T02:29:55.617Z"
   },
   {
    "duration": 35,
    "start_time": "2024-08-19T02:29:55.707Z"
   },
   {
    "duration": 22,
    "start_time": "2024-08-19T02:29:55.745Z"
   },
   {
    "duration": 1592,
    "start_time": "2024-08-19T02:29:55.770Z"
   },
   {
    "duration": 196,
    "start_time": "2024-08-19T02:29:57.364Z"
   },
   {
    "duration": 20,
    "start_time": "2024-08-19T02:29:57.563Z"
   },
   {
    "duration": 226,
    "start_time": "2024-08-19T02:29:57.586Z"
   },
   {
    "duration": 172,
    "start_time": "2024-08-19T02:29:57.818Z"
   },
   {
    "duration": 57,
    "start_time": "2024-08-19T02:29:57.993Z"
   },
   {
    "duration": 23,
    "start_time": "2024-08-19T02:29:58.053Z"
   },
   {
    "duration": 9,
    "start_time": "2024-08-19T02:29:58.079Z"
   },
   {
    "duration": 43,
    "start_time": "2024-08-19T02:29:58.091Z"
   },
   {
    "duration": 33,
    "start_time": "2024-08-19T02:29:58.137Z"
   },
   {
    "duration": 22,
    "start_time": "2024-08-19T02:29:58.173Z"
   },
   {
    "duration": 55,
    "start_time": "2024-08-19T02:29:58.198Z"
   },
   {
    "duration": 15,
    "start_time": "2024-08-19T02:29:58.255Z"
   },
   {
    "duration": 6,
    "start_time": "2024-08-19T02:29:58.273Z"
   },
   {
    "duration": 8,
    "start_time": "2024-08-19T02:29:58.283Z"
   },
   {
    "duration": 46,
    "start_time": "2024-08-19T02:29:58.293Z"
   },
   {
    "duration": 7,
    "start_time": "2024-08-19T02:29:58.342Z"
   },
   {
    "duration": 7,
    "start_time": "2024-08-19T02:29:58.353Z"
   },
   {
    "duration": 1387,
    "start_time": "2024-08-19T02:29:58.363Z"
   },
   {
    "duration": 312,
    "start_time": "2024-08-19T02:29:59.753Z"
   },
   {
    "duration": 32,
    "start_time": "2024-08-19T02:30:00.069Z"
   },
   {
    "duration": 31,
    "start_time": "2024-08-19T02:30:00.103Z"
   },
   {
    "duration": 19,
    "start_time": "2024-08-19T02:30:00.141Z"
   },
   {
    "duration": 18,
    "start_time": "2024-08-19T02:30:00.163Z"
   },
   {
    "duration": 49,
    "start_time": "2024-08-19T02:30:00.184Z"
   },
   {
    "duration": 10,
    "start_time": "2024-08-19T02:30:00.236Z"
   },
   {
    "duration": 8,
    "start_time": "2024-08-19T02:30:00.249Z"
   },
   {
    "duration": 10,
    "start_time": "2024-08-19T02:30:00.260Z"
   },
   {
    "duration": 67,
    "start_time": "2024-08-19T02:30:00.273Z"
   },
   {
    "duration": 10,
    "start_time": "2024-08-19T02:30:00.343Z"
   },
   {
    "duration": 49,
    "start_time": "2024-08-19T02:30:00.357Z"
   },
   {
    "duration": 49,
    "start_time": "2024-08-19T02:30:00.433Z"
   },
   {
    "duration": 2536,
    "start_time": "2024-08-19T02:30:00.485Z"
   },
   {
    "duration": 504,
    "start_time": "2024-08-19T02:30:03.024Z"
   },
   {
    "duration": 0,
    "start_time": "2024-08-19T02:30:03.534Z"
   },
   {
    "duration": 0,
    "start_time": "2024-08-19T02:30:03.536Z"
   },
   {
    "duration": 0,
    "start_time": "2024-08-19T02:30:03.539Z"
   },
   {
    "duration": 0,
    "start_time": "2024-08-19T02:30:03.541Z"
   },
   {
    "duration": 0,
    "start_time": "2024-08-19T02:30:03.543Z"
   },
   {
    "duration": 0,
    "start_time": "2024-08-19T02:30:03.546Z"
   },
   {
    "duration": 0,
    "start_time": "2024-08-19T02:30:03.549Z"
   },
   {
    "duration": 0,
    "start_time": "2024-08-19T02:30:03.551Z"
   },
   {
    "duration": 0,
    "start_time": "2024-08-19T02:30:03.553Z"
   },
   {
    "duration": 0,
    "start_time": "2024-08-19T02:30:03.555Z"
   },
   {
    "duration": 0,
    "start_time": "2024-08-19T02:30:03.558Z"
   },
   {
    "duration": 0,
    "start_time": "2024-08-19T02:30:03.560Z"
   },
   {
    "duration": 0,
    "start_time": "2024-08-19T02:30:03.562Z"
   },
   {
    "duration": 306,
    "start_time": "2024-08-19T02:30:39.261Z"
   },
   {
    "duration": 306,
    "start_time": "2024-08-19T14:41:39.914Z"
   },
   {
    "duration": 4392,
    "start_time": "2024-08-19T14:41:47.044Z"
   },
   {
    "duration": 315,
    "start_time": "2024-08-19T14:41:51.439Z"
   },
   {
    "duration": 133,
    "start_time": "2024-08-19T14:41:51.757Z"
   },
   {
    "duration": 38,
    "start_time": "2024-08-19T14:41:51.895Z"
   },
   {
    "duration": 27,
    "start_time": "2024-08-19T14:41:51.937Z"
   },
   {
    "duration": 1895,
    "start_time": "2024-08-19T14:41:51.968Z"
   },
   {
    "duration": 210,
    "start_time": "2024-08-19T14:41:53.867Z"
   },
   {
    "duration": 36,
    "start_time": "2024-08-19T14:41:54.081Z"
   },
   {
    "duration": 227,
    "start_time": "2024-08-19T14:41:54.120Z"
   },
   {
    "duration": 197,
    "start_time": "2024-08-19T14:41:54.354Z"
   },
   {
    "duration": 75,
    "start_time": "2024-08-19T14:41:54.554Z"
   },
   {
    "duration": 26,
    "start_time": "2024-08-19T14:41:54.632Z"
   },
   {
    "duration": 12,
    "start_time": "2024-08-19T14:41:54.663Z"
   },
   {
    "duration": 40,
    "start_time": "2024-08-19T14:41:54.678Z"
   },
   {
    "duration": 38,
    "start_time": "2024-08-19T14:41:54.724Z"
   },
   {
    "duration": 48,
    "start_time": "2024-08-19T14:41:54.765Z"
   },
   {
    "duration": 32,
    "start_time": "2024-08-19T14:41:54.819Z"
   },
   {
    "duration": 16,
    "start_time": "2024-08-19T14:41:54.855Z"
   },
   {
    "duration": 45,
    "start_time": "2024-08-19T14:41:54.875Z"
   },
   {
    "duration": 14,
    "start_time": "2024-08-19T14:41:54.924Z"
   },
   {
    "duration": 10,
    "start_time": "2024-08-19T14:41:54.942Z"
   },
   {
    "duration": 11,
    "start_time": "2024-08-19T14:41:54.955Z"
   },
   {
    "duration": 46,
    "start_time": "2024-08-19T14:41:54.970Z"
   },
   {
    "duration": 1332,
    "start_time": "2024-08-19T14:41:55.020Z"
   },
   {
    "duration": 291,
    "start_time": "2024-08-19T14:41:56.355Z"
   },
   {
    "duration": 32,
    "start_time": "2024-08-19T14:41:56.649Z"
   },
   {
    "duration": 11,
    "start_time": "2024-08-19T14:41:56.708Z"
   },
   {
    "duration": 20,
    "start_time": "2024-08-19T14:41:56.728Z"
   },
   {
    "duration": 20,
    "start_time": "2024-08-19T14:41:56.750Z"
   },
   {
    "duration": 11,
    "start_time": "2024-08-19T14:41:56.810Z"
   },
   {
    "duration": 10,
    "start_time": "2024-08-19T14:41:56.824Z"
   },
   {
    "duration": 9,
    "start_time": "2024-08-19T14:41:56.836Z"
   },
   {
    "duration": 8,
    "start_time": "2024-08-19T14:41:56.848Z"
   },
   {
    "duration": 65,
    "start_time": "2024-08-19T14:41:56.859Z"
   },
   {
    "duration": 13,
    "start_time": "2024-08-19T14:41:56.927Z"
   },
   {
    "duration": 90,
    "start_time": "2024-08-19T14:41:56.943Z"
   },
   {
    "duration": 100,
    "start_time": "2024-08-19T14:41:57.035Z"
   },
   {
    "duration": 2463,
    "start_time": "2024-08-19T14:41:57.138Z"
   },
   {
    "duration": 555,
    "start_time": "2024-08-19T14:41:59.609Z"
   },
   {
    "duration": 0,
    "start_time": "2024-08-19T14:42:00.167Z"
   },
   {
    "duration": 0,
    "start_time": "2024-08-19T14:42:00.170Z"
   },
   {
    "duration": 0,
    "start_time": "2024-08-19T14:42:00.172Z"
   },
   {
    "duration": 0,
    "start_time": "2024-08-19T14:42:00.175Z"
   },
   {
    "duration": 0,
    "start_time": "2024-08-19T14:42:00.177Z"
   },
   {
    "duration": 0,
    "start_time": "2024-08-19T14:42:00.208Z"
   },
   {
    "duration": 0,
    "start_time": "2024-08-19T14:42:00.211Z"
   },
   {
    "duration": 0,
    "start_time": "2024-08-19T14:42:00.213Z"
   },
   {
    "duration": 0,
    "start_time": "2024-08-19T14:42:00.215Z"
   },
   {
    "duration": 0,
    "start_time": "2024-08-19T14:42:00.217Z"
   },
   {
    "duration": 0,
    "start_time": "2024-08-19T14:42:00.220Z"
   },
   {
    "duration": 0,
    "start_time": "2024-08-19T14:42:00.222Z"
   },
   {
    "duration": 0,
    "start_time": "2024-08-19T14:42:00.224Z"
   },
   {
    "duration": 0,
    "start_time": "2024-08-19T14:44:51.882Z"
   },
   {
    "duration": 894,
    "start_time": "2024-08-19T14:48:46.986Z"
   },
   {
    "duration": 317,
    "start_time": "2024-08-19T14:51:11.685Z"
   },
   {
    "duration": 731,
    "start_time": "2024-08-19T14:51:43.298Z"
   },
   {
    "duration": 344,
    "start_time": "2024-08-19T14:51:44.032Z"
   },
   {
    "duration": 101,
    "start_time": "2024-08-19T14:51:44.379Z"
   },
   {
    "duration": 23,
    "start_time": "2024-08-19T14:51:44.484Z"
   },
   {
    "duration": 23,
    "start_time": "2024-08-19T14:51:44.510Z"
   },
   {
    "duration": 1674,
    "start_time": "2024-08-19T14:51:44.536Z"
   },
   {
    "duration": 196,
    "start_time": "2024-08-19T14:51:46.212Z"
   },
   {
    "duration": 19,
    "start_time": "2024-08-19T14:51:46.411Z"
   },
   {
    "duration": 204,
    "start_time": "2024-08-19T14:51:46.433Z"
   },
   {
    "duration": 174,
    "start_time": "2024-08-19T14:51:46.642Z"
   },
   {
    "duration": 45,
    "start_time": "2024-08-19T14:51:46.819Z"
   },
   {
    "duration": 42,
    "start_time": "2024-08-19T14:51:46.867Z"
   },
   {
    "duration": 8,
    "start_time": "2024-08-19T14:51:46.913Z"
   },
   {
    "duration": 9,
    "start_time": "2024-08-19T14:51:46.924Z"
   },
   {
    "duration": 33,
    "start_time": "2024-08-19T14:51:46.936Z"
   },
   {
    "duration": 54,
    "start_time": "2024-08-19T14:51:46.972Z"
   },
   {
    "duration": 28,
    "start_time": "2024-08-19T14:51:47.029Z"
   },
   {
    "duration": 49,
    "start_time": "2024-08-19T14:51:47.060Z"
   },
   {
    "duration": 8,
    "start_time": "2024-08-19T14:51:47.111Z"
   },
   {
    "duration": 7,
    "start_time": "2024-08-19T14:51:47.123Z"
   },
   {
    "duration": 9,
    "start_time": "2024-08-19T14:51:47.133Z"
   },
   {
    "duration": 7,
    "start_time": "2024-08-19T14:51:47.145Z"
   },
   {
    "duration": 56,
    "start_time": "2024-08-19T14:51:47.154Z"
   },
   {
    "duration": 1343,
    "start_time": "2024-08-19T14:51:47.212Z"
   },
   {
    "duration": 294,
    "start_time": "2024-08-19T14:51:48.558Z"
   },
   {
    "duration": 32,
    "start_time": "2024-08-19T14:51:48.855Z"
   },
   {
    "duration": 12,
    "start_time": "2024-08-19T14:51:48.909Z"
   },
   {
    "duration": 19,
    "start_time": "2024-08-19T14:51:48.931Z"
   },
   {
    "duration": 20,
    "start_time": "2024-08-19T14:51:48.952Z"
   },
   {
    "duration": 46,
    "start_time": "2024-08-19T14:51:48.975Z"
   },
   {
    "duration": 10,
    "start_time": "2024-08-19T14:51:49.024Z"
   },
   {
    "duration": 9,
    "start_time": "2024-08-19T14:51:49.037Z"
   },
   {
    "duration": 9,
    "start_time": "2024-08-19T14:51:49.049Z"
   },
   {
    "duration": 25,
    "start_time": "2024-08-19T14:51:49.108Z"
   },
   {
    "duration": 12,
    "start_time": "2024-08-19T14:51:49.135Z"
   },
   {
    "duration": 76,
    "start_time": "2024-08-19T14:51:49.150Z"
   },
   {
    "duration": 47,
    "start_time": "2024-08-19T14:51:49.229Z"
   },
   {
    "duration": 2502,
    "start_time": "2024-08-19T14:51:49.278Z"
   },
   {
    "duration": 527,
    "start_time": "2024-08-19T14:51:51.784Z"
   },
   {
    "duration": 0,
    "start_time": "2024-08-19T14:51:52.314Z"
   },
   {
    "duration": 0,
    "start_time": "2024-08-19T14:51:52.316Z"
   },
   {
    "duration": 0,
    "start_time": "2024-08-19T14:51:52.318Z"
   },
   {
    "duration": 0,
    "start_time": "2024-08-19T14:51:52.320Z"
   },
   {
    "duration": 0,
    "start_time": "2024-08-19T14:51:52.324Z"
   },
   {
    "duration": 0,
    "start_time": "2024-08-19T14:51:52.327Z"
   },
   {
    "duration": 0,
    "start_time": "2024-08-19T14:51:52.329Z"
   },
   {
    "duration": 0,
    "start_time": "2024-08-19T14:51:52.331Z"
   },
   {
    "duration": 0,
    "start_time": "2024-08-19T14:51:52.333Z"
   },
   {
    "duration": 0,
    "start_time": "2024-08-19T14:51:52.336Z"
   },
   {
    "duration": 0,
    "start_time": "2024-08-19T14:51:52.338Z"
   },
   {
    "duration": 0,
    "start_time": "2024-08-19T14:51:52.340Z"
   },
   {
    "duration": 0,
    "start_time": "2024-08-19T14:51:52.342Z"
   },
   {
    "duration": 650,
    "start_time": "2024-08-19T14:52:35.208Z"
   },
   {
    "duration": 296,
    "start_time": "2024-08-19T14:53:14.662Z"
   },
   {
    "duration": 39,
    "start_time": "2024-08-19T14:53:42.668Z"
   },
   {
    "duration": 297,
    "start_time": "2024-08-19T14:53:59.982Z"
   },
   {
    "duration": 22,
    "start_time": "2024-08-19T15:10:09.565Z"
   },
   {
    "duration": 1263,
    "start_time": "2024-08-19T15:11:35.936Z"
   },
   {
    "duration": 18,
    "start_time": "2024-08-19T15:11:47.725Z"
   },
   {
    "duration": 15,
    "start_time": "2024-08-19T15:12:32.608Z"
   },
   {
    "duration": 14,
    "start_time": "2024-08-19T15:12:59.366Z"
   },
   {
    "duration": 15,
    "start_time": "2024-08-19T15:13:08.020Z"
   },
   {
    "duration": 19,
    "start_time": "2024-08-19T15:13:40.322Z"
   },
   {
    "duration": 36,
    "start_time": "2024-08-19T15:14:04.704Z"
   },
   {
    "duration": 20,
    "start_time": "2024-08-19T15:14:38.991Z"
   },
   {
    "duration": 4,
    "start_time": "2024-08-19T15:15:56.836Z"
   },
   {
    "duration": 327,
    "start_time": "2024-08-19T16:12:09.676Z"
   },
   {
    "duration": 4382,
    "start_time": "2024-08-19T16:12:23.622Z"
   },
   {
    "duration": 279,
    "start_time": "2024-08-19T16:12:28.009Z"
   },
   {
    "duration": 102,
    "start_time": "2024-08-19T16:12:28.294Z"
   },
   {
    "duration": 22,
    "start_time": "2024-08-19T16:12:28.399Z"
   },
   {
    "duration": 25,
    "start_time": "2024-08-19T16:12:28.429Z"
   },
   {
    "duration": 1635,
    "start_time": "2024-08-19T16:12:28.457Z"
   },
   {
    "duration": 200,
    "start_time": "2024-08-19T16:12:30.094Z"
   },
   {
    "duration": 30,
    "start_time": "2024-08-19T16:12:30.297Z"
   },
   {
    "duration": 192,
    "start_time": "2024-08-19T16:12:30.329Z"
   },
   {
    "duration": 170,
    "start_time": "2024-08-19T16:12:30.525Z"
   },
   {
    "duration": 58,
    "start_time": "2024-08-19T16:12:30.698Z"
   },
   {
    "duration": 23,
    "start_time": "2024-08-19T16:12:30.759Z"
   },
   {
    "duration": 9,
    "start_time": "2024-08-19T16:12:30.785Z"
   },
   {
    "duration": 6,
    "start_time": "2024-08-19T16:12:30.829Z"
   },
   {
    "duration": 34,
    "start_time": "2024-08-19T16:12:30.838Z"
   },
   {
    "duration": 20,
    "start_time": "2024-08-19T16:12:30.875Z"
   },
   {
    "duration": 29,
    "start_time": "2024-08-19T16:12:30.927Z"
   },
   {
    "duration": 14,
    "start_time": "2024-08-19T16:12:30.959Z"
   },
   {
    "duration": 7,
    "start_time": "2024-08-19T16:12:30.977Z"
   },
   {
    "duration": 9,
    "start_time": "2024-08-19T16:12:31.027Z"
   },
   {
    "duration": 10,
    "start_time": "2024-08-19T16:12:31.039Z"
   },
   {
    "duration": 8,
    "start_time": "2024-08-19T16:12:31.052Z"
   },
   {
    "duration": 8,
    "start_time": "2024-08-19T16:12:31.063Z"
   },
   {
    "duration": 1366,
    "start_time": "2024-08-19T16:12:31.074Z"
   },
   {
    "duration": 303,
    "start_time": "2024-08-19T16:12:32.442Z"
   },
   {
    "duration": 32,
    "start_time": "2024-08-19T16:12:32.748Z"
   },
   {
    "duration": 10,
    "start_time": "2024-08-19T16:12:32.786Z"
   },
   {
    "duration": 20,
    "start_time": "2024-08-19T16:12:32.825Z"
   },
   {
    "duration": 19,
    "start_time": "2024-08-19T16:12:32.848Z"
   },
   {
    "duration": 10,
    "start_time": "2024-08-19T16:12:32.870Z"
   },
   {
    "duration": 48,
    "start_time": "2024-08-19T16:12:32.883Z"
   },
   {
    "duration": 10,
    "start_time": "2024-08-19T16:12:32.934Z"
   },
   {
    "duration": 9,
    "start_time": "2024-08-19T16:12:32.948Z"
   },
   {
    "duration": 66,
    "start_time": "2024-08-19T16:12:32.960Z"
   },
   {
    "duration": 12,
    "start_time": "2024-08-19T16:12:33.028Z"
   },
   {
    "duration": 47,
    "start_time": "2024-08-19T16:12:33.043Z"
   },
   {
    "duration": 45,
    "start_time": "2024-08-19T16:12:33.125Z"
   },
   {
    "duration": 2454,
    "start_time": "2024-08-19T16:12:33.174Z"
   },
   {
    "duration": 568,
    "start_time": "2024-08-19T16:12:35.631Z"
   },
   {
    "duration": 0,
    "start_time": "2024-08-19T16:12:36.203Z"
   },
   {
    "duration": 0,
    "start_time": "2024-08-19T16:12:36.205Z"
   },
   {
    "duration": 0,
    "start_time": "2024-08-19T16:12:36.207Z"
   },
   {
    "duration": 0,
    "start_time": "2024-08-19T16:12:36.209Z"
   },
   {
    "duration": 0,
    "start_time": "2024-08-19T16:12:36.227Z"
   },
   {
    "duration": 0,
    "start_time": "2024-08-19T16:12:36.228Z"
   },
   {
    "duration": 0,
    "start_time": "2024-08-19T16:12:36.231Z"
   },
   {
    "duration": 0,
    "start_time": "2024-08-19T16:12:36.232Z"
   },
   {
    "duration": 0,
    "start_time": "2024-08-19T16:12:36.234Z"
   },
   {
    "duration": 0,
    "start_time": "2024-08-19T16:12:36.235Z"
   },
   {
    "duration": 0,
    "start_time": "2024-08-19T16:12:36.237Z"
   },
   {
    "duration": 0,
    "start_time": "2024-08-19T16:12:36.240Z"
   },
   {
    "duration": 0,
    "start_time": "2024-08-19T16:12:36.243Z"
   },
   {
    "duration": 0,
    "start_time": "2024-08-19T16:12:36.245Z"
   },
   {
    "duration": 2452,
    "start_time": "2024-08-19T16:14:50.518Z"
   },
   {
    "duration": 2432,
    "start_time": "2024-08-19T16:15:24.617Z"
   },
   {
    "duration": 2742,
    "start_time": "2024-08-19T16:15:38.066Z"
   },
   {
    "duration": 8,
    "start_time": "2024-08-19T16:16:56.974Z"
   },
   {
    "duration": 6,
    "start_time": "2024-08-19T16:17:52.992Z"
   },
   {
    "duration": 6,
    "start_time": "2024-08-19T16:18:05.886Z"
   },
   {
    "duration": 4162,
    "start_time": "2024-08-19T16:18:19.006Z"
   },
   {
    "duration": 5,
    "start_time": "2024-08-19T16:18:34.162Z"
   },
   {
    "duration": 2642,
    "start_time": "2024-08-19T16:18:41.652Z"
   },
   {
    "duration": 679,
    "start_time": "2024-08-19T16:52:10.339Z"
   },
   {
    "duration": 305,
    "start_time": "2024-08-19T16:52:11.021Z"
   },
   {
    "duration": 75,
    "start_time": "2024-08-19T16:52:11.328Z"
   },
   {
    "duration": 38,
    "start_time": "2024-08-19T16:52:11.407Z"
   },
   {
    "duration": 24,
    "start_time": "2024-08-19T16:52:11.448Z"
   },
   {
    "duration": 1584,
    "start_time": "2024-08-19T16:52:11.475Z"
   },
   {
    "duration": 184,
    "start_time": "2024-08-19T16:52:13.062Z"
   },
   {
    "duration": 19,
    "start_time": "2024-08-19T16:52:13.249Z"
   },
   {
    "duration": 208,
    "start_time": "2024-08-19T16:52:13.271Z"
   },
   {
    "duration": 174,
    "start_time": "2024-08-19T16:52:13.484Z"
   },
   {
    "duration": 45,
    "start_time": "2024-08-19T16:52:13.661Z"
   },
   {
    "duration": 22,
    "start_time": "2024-08-19T16:52:13.725Z"
   },
   {
    "duration": 9,
    "start_time": "2024-08-19T16:52:13.750Z"
   },
   {
    "duration": 8,
    "start_time": "2024-08-19T16:52:13.762Z"
   },
   {
    "duration": 70,
    "start_time": "2024-08-19T16:52:13.773Z"
   },
   {
    "duration": 21,
    "start_time": "2024-08-19T16:52:13.847Z"
   },
   {
    "duration": 55,
    "start_time": "2024-08-19T16:52:13.871Z"
   },
   {
    "duration": 15,
    "start_time": "2024-08-19T16:52:13.928Z"
   },
   {
    "duration": 7,
    "start_time": "2024-08-19T16:52:13.946Z"
   },
   {
    "duration": 7,
    "start_time": "2024-08-19T16:52:13.956Z"
   },
   {
    "duration": 9,
    "start_time": "2024-08-19T16:52:13.967Z"
   },
   {
    "duration": 8,
    "start_time": "2024-08-19T16:52:14.026Z"
   },
   {
    "duration": 7,
    "start_time": "2024-08-19T16:52:14.037Z"
   },
   {
    "duration": 1333,
    "start_time": "2024-08-19T16:52:14.048Z"
   },
   {
    "duration": 308,
    "start_time": "2024-08-19T16:52:15.384Z"
   },
   {
    "duration": 48,
    "start_time": "2024-08-19T16:52:15.695Z"
   },
   {
    "duration": 11,
    "start_time": "2024-08-19T16:52:15.745Z"
   },
   {
    "duration": 19,
    "start_time": "2024-08-19T16:52:15.764Z"
   },
   {
    "duration": 52,
    "start_time": "2024-08-19T16:52:15.786Z"
   },
   {
    "duration": 10,
    "start_time": "2024-08-19T16:52:15.843Z"
   },
   {
    "duration": 10,
    "start_time": "2024-08-19T16:52:15.856Z"
   },
   {
    "duration": 9,
    "start_time": "2024-08-19T16:52:15.870Z"
   },
   {
    "duration": 50,
    "start_time": "2024-08-19T16:52:15.882Z"
   },
   {
    "duration": 28,
    "start_time": "2024-08-19T16:52:15.935Z"
   },
   {
    "duration": 13,
    "start_time": "2024-08-19T16:52:15.967Z"
   },
   {
    "duration": 79,
    "start_time": "2024-08-19T16:52:15.984Z"
   },
   {
    "duration": 70,
    "start_time": "2024-08-19T16:52:16.065Z"
   },
   {
    "duration": 1165,
    "start_time": "2024-08-19T16:52:16.138Z"
   },
   {
    "duration": 0,
    "start_time": "2024-08-19T16:52:17.306Z"
   },
   {
    "duration": 0,
    "start_time": "2024-08-19T16:52:17.307Z"
   },
   {
    "duration": 0,
    "start_time": "2024-08-19T16:52:17.325Z"
   },
   {
    "duration": 0,
    "start_time": "2024-08-19T16:52:17.327Z"
   },
   {
    "duration": 0,
    "start_time": "2024-08-19T16:52:17.330Z"
   },
   {
    "duration": 0,
    "start_time": "2024-08-19T16:52:17.331Z"
   },
   {
    "duration": 0,
    "start_time": "2024-08-19T16:52:17.333Z"
   },
   {
    "duration": 0,
    "start_time": "2024-08-19T16:52:17.335Z"
   },
   {
    "duration": 0,
    "start_time": "2024-08-19T16:52:17.338Z"
   },
   {
    "duration": 0,
    "start_time": "2024-08-19T16:52:17.342Z"
   },
   {
    "duration": 0,
    "start_time": "2024-08-19T16:52:17.344Z"
   },
   {
    "duration": 0,
    "start_time": "2024-08-19T16:52:17.346Z"
   },
   {
    "duration": 0,
    "start_time": "2024-08-19T16:52:17.350Z"
   },
   {
    "duration": 0,
    "start_time": "2024-08-19T16:52:17.353Z"
   },
   {
    "duration": 0,
    "start_time": "2024-08-19T16:52:17.355Z"
   },
   {
    "duration": 76,
    "start_time": "2024-08-19T16:52:41.222Z"
   },
   {
    "duration": 676,
    "start_time": "2024-08-19T16:58:31.954Z"
   },
   {
    "duration": 293,
    "start_time": "2024-08-19T16:58:32.634Z"
   },
   {
    "duration": 74,
    "start_time": "2024-08-19T16:58:32.929Z"
   },
   {
    "duration": 38,
    "start_time": "2024-08-19T16:58:33.007Z"
   },
   {
    "duration": 23,
    "start_time": "2024-08-19T16:58:33.048Z"
   },
   {
    "duration": 1573,
    "start_time": "2024-08-19T16:58:33.074Z"
   },
   {
    "duration": 185,
    "start_time": "2024-08-19T16:58:34.650Z"
   },
   {
    "duration": 19,
    "start_time": "2024-08-19T16:58:34.839Z"
   },
   {
    "duration": 205,
    "start_time": "2024-08-19T16:58:34.861Z"
   },
   {
    "duration": 176,
    "start_time": "2024-08-19T16:58:35.071Z"
   },
   {
    "duration": 45,
    "start_time": "2024-08-19T16:58:35.250Z"
   },
   {
    "duration": 44,
    "start_time": "2024-08-19T16:58:35.298Z"
   },
   {
    "duration": 9,
    "start_time": "2024-08-19T16:58:35.345Z"
   },
   {
    "duration": 7,
    "start_time": "2024-08-19T16:58:35.358Z"
   },
   {
    "duration": 71,
    "start_time": "2024-08-19T16:58:35.368Z"
   },
   {
    "duration": 26,
    "start_time": "2024-08-19T16:58:35.442Z"
   },
   {
    "duration": 55,
    "start_time": "2024-08-19T16:58:35.472Z"
   },
   {
    "duration": 15,
    "start_time": "2024-08-19T16:58:35.533Z"
   },
   {
    "duration": 7,
    "start_time": "2024-08-19T16:58:35.550Z"
   },
   {
    "duration": 8,
    "start_time": "2024-08-19T16:58:35.560Z"
   },
   {
    "duration": 9,
    "start_time": "2024-08-19T16:58:35.571Z"
   },
   {
    "duration": 7,
    "start_time": "2024-08-19T16:58:35.628Z"
   },
   {
    "duration": 7,
    "start_time": "2024-08-19T16:58:35.638Z"
   },
   {
    "duration": 1382,
    "start_time": "2024-08-19T16:58:35.648Z"
   },
   {
    "duration": 307,
    "start_time": "2024-08-19T16:58:37.033Z"
   },
   {
    "duration": 32,
    "start_time": "2024-08-19T16:58:37.343Z"
   },
   {
    "duration": 11,
    "start_time": "2024-08-19T16:58:37.378Z"
   },
   {
    "duration": 18,
    "start_time": "2024-08-19T16:58:37.426Z"
   },
   {
    "duration": 36,
    "start_time": "2024-08-19T16:58:37.447Z"
   },
   {
    "duration": 9,
    "start_time": "2024-08-19T16:58:37.486Z"
   },
   {
    "duration": 11,
    "start_time": "2024-08-19T16:58:37.525Z"
   },
   {
    "duration": 13,
    "start_time": "2024-08-19T16:58:37.540Z"
   },
   {
    "duration": 9,
    "start_time": "2024-08-19T16:58:37.557Z"
   },
   {
    "duration": 65,
    "start_time": "2024-08-19T16:58:37.569Z"
   },
   {
    "duration": 14,
    "start_time": "2024-08-19T16:58:37.639Z"
   },
   {
    "duration": 78,
    "start_time": "2024-08-19T16:58:37.655Z"
   },
   {
    "duration": 47,
    "start_time": "2024-08-19T16:58:37.736Z"
   },
   {
    "duration": 1193,
    "start_time": "2024-08-19T16:58:37.787Z"
   },
   {
    "duration": 0,
    "start_time": "2024-08-19T16:58:38.983Z"
   },
   {
    "duration": 0,
    "start_time": "2024-08-19T16:58:38.985Z"
   },
   {
    "duration": 0,
    "start_time": "2024-08-19T16:58:38.987Z"
   },
   {
    "duration": 0,
    "start_time": "2024-08-19T16:58:38.989Z"
   },
   {
    "duration": 0,
    "start_time": "2024-08-19T16:58:38.991Z"
   },
   {
    "duration": 0,
    "start_time": "2024-08-19T16:58:38.994Z"
   },
   {
    "duration": 0,
    "start_time": "2024-08-19T16:58:38.997Z"
   },
   {
    "duration": 0,
    "start_time": "2024-08-19T16:58:38.999Z"
   },
   {
    "duration": 0,
    "start_time": "2024-08-19T16:58:39.000Z"
   },
   {
    "duration": 0,
    "start_time": "2024-08-19T16:58:39.001Z"
   },
   {
    "duration": 0,
    "start_time": "2024-08-19T16:58:39.002Z"
   },
   {
    "duration": 0,
    "start_time": "2024-08-19T16:58:39.003Z"
   },
   {
    "duration": 0,
    "start_time": "2024-08-19T16:58:39.004Z"
   },
   {
    "duration": 0,
    "start_time": "2024-08-19T16:58:39.025Z"
   },
   {
    "duration": 0,
    "start_time": "2024-08-19T16:58:39.029Z"
   },
   {
    "duration": 344,
    "start_time": "2024-08-19T17:09:51.367Z"
   },
   {
    "duration": 79,
    "start_time": "2024-08-19T17:10:01.802Z"
   },
   {
    "duration": 77,
    "start_time": "2024-08-19T17:11:33.631Z"
   },
   {
    "duration": 74,
    "start_time": "2024-08-19T17:11:41.185Z"
   },
   {
    "duration": 89,
    "start_time": "2024-08-19T17:11:57.423Z"
   },
   {
    "duration": 78,
    "start_time": "2024-08-19T17:12:14.167Z"
   },
   {
    "duration": 176,
    "start_time": "2024-08-19T17:12:58.588Z"
   },
   {
    "duration": 35,
    "start_time": "2024-08-19T17:13:14.685Z"
   },
   {
    "duration": 22,
    "start_time": "2024-08-19T17:13:55.123Z"
   },
   {
    "duration": 7,
    "start_time": "2024-08-19T17:16:46.014Z"
   },
   {
    "duration": 6,
    "start_time": "2024-08-19T17:17:12.585Z"
   },
   {
    "duration": 6,
    "start_time": "2024-08-19T17:17:28.923Z"
   },
   {
    "duration": 6,
    "start_time": "2024-08-19T17:17:34.190Z"
   },
   {
    "duration": 7,
    "start_time": "2024-08-19T17:17:59.679Z"
   },
   {
    "duration": 896,
    "start_time": "2024-08-19T17:18:55.559Z"
   },
   {
    "duration": 933,
    "start_time": "2024-08-19T17:19:07.143Z"
   },
   {
    "duration": 925,
    "start_time": "2024-08-19T17:19:47.541Z"
   },
   {
    "duration": 925,
    "start_time": "2024-08-19T17:19:55.839Z"
   },
   {
    "duration": 5,
    "start_time": "2024-08-19T17:23:11.155Z"
   },
   {
    "duration": 6,
    "start_time": "2024-08-19T17:23:17.755Z"
   },
   {
    "duration": 957,
    "start_time": "2024-08-19T17:23:23.924Z"
   },
   {
    "duration": 907,
    "start_time": "2024-08-19T17:23:53.685Z"
   },
   {
    "duration": 32,
    "start_time": "2024-08-19T17:24:10.847Z"
   },
   {
    "duration": 13,
    "start_time": "2024-08-19T17:24:19.551Z"
   },
   {
    "duration": 24,
    "start_time": "2024-08-19T17:24:41.955Z"
   },
   {
    "duration": 20,
    "start_time": "2024-08-19T17:24:57.570Z"
   },
   {
    "duration": 13,
    "start_time": "2024-08-19T17:25:02.444Z"
   },
   {
    "duration": 873,
    "start_time": "2024-08-19T17:25:31.288Z"
   },
   {
    "duration": 693,
    "start_time": "2024-08-19T17:25:53.825Z"
   },
   {
    "duration": 302,
    "start_time": "2024-08-19T17:25:54.525Z"
   },
   {
    "duration": 75,
    "start_time": "2024-08-19T17:25:54.830Z"
   },
   {
    "duration": 35,
    "start_time": "2024-08-19T17:25:54.910Z"
   },
   {
    "duration": 23,
    "start_time": "2024-08-19T17:25:54.948Z"
   },
   {
    "duration": 1576,
    "start_time": "2024-08-19T17:25:54.973Z"
   },
   {
    "duration": 195,
    "start_time": "2024-08-19T17:25:56.553Z"
   },
   {
    "duration": 21,
    "start_time": "2024-08-19T17:25:56.752Z"
   },
   {
    "duration": 210,
    "start_time": "2024-08-19T17:25:56.776Z"
   },
   {
    "duration": 171,
    "start_time": "2024-08-19T17:25:56.992Z"
   },
   {
    "duration": 62,
    "start_time": "2024-08-19T17:25:57.166Z"
   },
   {
    "duration": 24,
    "start_time": "2024-08-19T17:25:57.232Z"
   },
   {
    "duration": 9,
    "start_time": "2024-08-19T17:25:57.259Z"
   },
   {
    "duration": 7,
    "start_time": "2024-08-19T17:25:57.271Z"
   },
   {
    "duration": 68,
    "start_time": "2024-08-19T17:25:57.281Z"
   },
   {
    "duration": 21,
    "start_time": "2024-08-19T17:25:57.352Z"
   },
   {
    "duration": 57,
    "start_time": "2024-08-19T17:25:57.376Z"
   },
   {
    "duration": 15,
    "start_time": "2024-08-19T17:25:57.435Z"
   },
   {
    "duration": 7,
    "start_time": "2024-08-19T17:25:57.454Z"
   },
   {
    "duration": 11,
    "start_time": "2024-08-19T17:25:57.464Z"
   },
   {
    "duration": 10,
    "start_time": "2024-08-19T17:25:57.478Z"
   },
   {
    "duration": 17,
    "start_time": "2024-08-19T17:25:57.527Z"
   },
   {
    "duration": 8,
    "start_time": "2024-08-19T17:25:57.546Z"
   },
   {
    "duration": 1348,
    "start_time": "2024-08-19T17:25:57.557Z"
   },
   {
    "duration": 306,
    "start_time": "2024-08-19T17:25:58.908Z"
   },
   {
    "duration": 36,
    "start_time": "2024-08-19T17:25:59.217Z"
   },
   {
    "duration": 12,
    "start_time": "2024-08-19T17:25:59.255Z"
   },
   {
    "duration": 56,
    "start_time": "2024-08-19T17:25:59.275Z"
   },
   {
    "duration": 19,
    "start_time": "2024-08-19T17:25:59.333Z"
   },
   {
    "duration": 10,
    "start_time": "2024-08-19T17:25:59.355Z"
   },
   {
    "duration": 10,
    "start_time": "2024-08-19T17:25:59.367Z"
   },
   {
    "duration": 45,
    "start_time": "2024-08-19T17:25:59.381Z"
   },
   {
    "duration": 10,
    "start_time": "2024-08-19T17:25:59.429Z"
   },
   {
    "duration": 33,
    "start_time": "2024-08-19T17:25:59.442Z"
   },
   {
    "duration": 50,
    "start_time": "2024-08-19T17:25:59.477Z"
   },
   {
    "duration": 47,
    "start_time": "2024-08-19T17:25:59.529Z"
   },
   {
    "duration": 71,
    "start_time": "2024-08-19T17:25:59.579Z"
   },
   {
    "duration": 927,
    "start_time": "2024-08-19T17:25:59.653Z"
   },
   {
    "duration": 14,
    "start_time": "2024-08-19T17:26:00.583Z"
   },
   {
    "duration": 512,
    "start_time": "2024-08-19T17:26:00.600Z"
   },
   {
    "duration": 0,
    "start_time": "2024-08-19T17:26:01.115Z"
   },
   {
    "duration": 0,
    "start_time": "2024-08-19T17:26:01.117Z"
   },
   {
    "duration": 0,
    "start_time": "2024-08-19T17:26:01.119Z"
   },
   {
    "duration": 0,
    "start_time": "2024-08-19T17:26:01.127Z"
   },
   {
    "duration": 0,
    "start_time": "2024-08-19T17:26:01.129Z"
   },
   {
    "duration": 0,
    "start_time": "2024-08-19T17:26:01.131Z"
   },
   {
    "duration": 0,
    "start_time": "2024-08-19T17:26:01.133Z"
   },
   {
    "duration": 0,
    "start_time": "2024-08-19T17:26:01.135Z"
   },
   {
    "duration": 0,
    "start_time": "2024-08-19T17:26:01.136Z"
   },
   {
    "duration": 0,
    "start_time": "2024-08-19T17:26:01.138Z"
   },
   {
    "duration": 0,
    "start_time": "2024-08-19T17:26:01.140Z"
   },
   {
    "duration": 0,
    "start_time": "2024-08-19T17:26:01.143Z"
   },
   {
    "duration": 37,
    "start_time": "2024-08-19T17:26:37.909Z"
   },
   {
    "duration": 946,
    "start_time": "2024-08-19T17:29:35.206Z"
   },
   {
    "duration": 173,
    "start_time": "2024-08-19T17:31:10.761Z"
   },
   {
    "duration": 13,
    "start_time": "2024-08-19T17:31:48.020Z"
   },
   {
    "duration": 312,
    "start_time": "2024-08-19T19:11:42.345Z"
   },
   {
    "duration": 4318,
    "start_time": "2024-08-19T19:11:47.575Z"
   },
   {
    "duration": 293,
    "start_time": "2024-08-19T19:11:51.897Z"
   },
   {
    "duration": 111,
    "start_time": "2024-08-19T19:11:52.193Z"
   },
   {
    "duration": 24,
    "start_time": "2024-08-19T19:11:52.309Z"
   },
   {
    "duration": 25,
    "start_time": "2024-08-19T19:11:52.337Z"
   },
   {
    "duration": 1725,
    "start_time": "2024-08-19T19:11:52.366Z"
   },
   {
    "duration": 187,
    "start_time": "2024-08-19T19:11:54.094Z"
   },
   {
    "duration": 29,
    "start_time": "2024-08-19T19:11:54.284Z"
   },
   {
    "duration": 197,
    "start_time": "2024-08-19T19:11:54.316Z"
   },
   {
    "duration": 184,
    "start_time": "2024-08-19T19:11:54.518Z"
   },
   {
    "duration": 45,
    "start_time": "2024-08-19T19:11:54.711Z"
   },
   {
    "duration": 25,
    "start_time": "2024-08-19T19:11:54.759Z"
   },
   {
    "duration": 34,
    "start_time": "2024-08-19T19:11:54.787Z"
   },
   {
    "duration": 8,
    "start_time": "2024-08-19T19:11:54.824Z"
   },
   {
    "duration": 35,
    "start_time": "2024-08-19T19:11:54.835Z"
   },
   {
    "duration": 56,
    "start_time": "2024-08-19T19:11:54.873Z"
   },
   {
    "duration": 31,
    "start_time": "2024-08-19T19:11:54.933Z"
   },
   {
    "duration": 44,
    "start_time": "2024-08-19T19:11:54.968Z"
   },
   {
    "duration": 6,
    "start_time": "2024-08-19T19:11:55.016Z"
   },
   {
    "duration": 7,
    "start_time": "2024-08-19T19:11:55.025Z"
   },
   {
    "duration": 10,
    "start_time": "2024-08-19T19:11:55.035Z"
   },
   {
    "duration": 7,
    "start_time": "2024-08-19T19:12:11.274Z"
   },
   {
    "duration": 7,
    "start_time": "2024-08-19T19:12:11.465Z"
   },
   {
    "duration": 1455,
    "start_time": "2024-08-19T19:12:12.280Z"
   },
   {
    "duration": 326,
    "start_time": "2024-08-19T19:12:13.739Z"
   },
   {
    "duration": 46,
    "start_time": "2024-08-19T19:12:14.068Z"
   },
   {
    "duration": 11,
    "start_time": "2024-08-19T19:12:27.676Z"
   },
   {
    "duration": 20,
    "start_time": "2024-08-19T19:12:27.884Z"
   },
   {
    "duration": 19,
    "start_time": "2024-08-19T19:12:28.241Z"
   },
   {
    "duration": 10,
    "start_time": "2024-08-19T19:12:28.750Z"
   },
   {
    "duration": 10,
    "start_time": "2024-08-19T19:12:29.071Z"
   },
   {
    "duration": 8,
    "start_time": "2024-08-19T19:12:29.234Z"
   },
   {
    "duration": 10,
    "start_time": "2024-08-19T19:12:29.416Z"
   },
   {
    "duration": 26,
    "start_time": "2024-08-19T19:12:30.122Z"
   },
   {
    "duration": 12,
    "start_time": "2024-08-19T19:12:30.812Z"
   },
   {
    "duration": 50,
    "start_time": "2024-08-19T19:12:30.951Z"
   },
   {
    "duration": 48,
    "start_time": "2024-08-19T19:12:31.115Z"
   },
   {
    "duration": 969,
    "start_time": "2024-08-19T19:12:31.264Z"
   },
   {
    "duration": 13,
    "start_time": "2024-08-19T19:12:32.238Z"
   },
   {
    "duration": 7,
    "start_time": "2024-08-19T19:12:32.254Z"
   },
   {
    "duration": 4,
    "start_time": "2024-08-19T19:12:32.265Z"
   },
   {
    "duration": 10,
    "start_time": "2024-08-19T19:12:33.506Z"
   },
   {
    "duration": 7,
    "start_time": "2024-08-19T19:12:33.921Z"
   },
   {
    "duration": 6,
    "start_time": "2024-08-19T19:12:34.317Z"
   },
   {
    "duration": 6,
    "start_time": "2024-08-19T19:12:34.638Z"
   },
   {
    "duration": 27,
    "start_time": "2024-08-19T19:12:34.956Z"
   },
   {
    "duration": 376,
    "start_time": "2024-08-19T19:12:35.550Z"
   },
   {
    "duration": 268,
    "start_time": "2024-08-19T19:12:44.982Z"
   },
   {
    "duration": 317,
    "start_time": "2024-08-19T19:13:01.974Z"
   },
   {
    "duration": 5,
    "start_time": "2024-08-19T19:15:24.057Z"
   },
   {
    "duration": 5,
    "start_time": "2024-08-19T19:15:58.796Z"
   },
   {
    "duration": 8,
    "start_time": "2024-08-19T19:17:58.089Z"
   },
   {
    "duration": 5,
    "start_time": "2024-08-19T19:18:04.636Z"
   },
   {
    "duration": 709,
    "start_time": "2024-08-19T19:19:11.910Z"
   },
   {
    "duration": 293,
    "start_time": "2024-08-19T19:19:15.628Z"
   },
   {
    "duration": 75,
    "start_time": "2024-08-19T19:19:16.102Z"
   },
   {
    "duration": 24,
    "start_time": "2024-08-19T19:19:21.774Z"
   },
   {
    "duration": 22,
    "start_time": "2024-08-19T19:19:26.028Z"
   },
   {
    "duration": 1566,
    "start_time": "2024-08-19T19:19:26.586Z"
   },
   {
    "duration": 4305,
    "start_time": "2024-08-19T23:07:30.172Z"
   },
   {
    "duration": 277,
    "start_time": "2024-08-19T23:07:34.481Z"
   },
   {
    "duration": 104,
    "start_time": "2024-08-19T23:07:34.761Z"
   },
   {
    "duration": 31,
    "start_time": "2024-08-19T23:07:34.870Z"
   },
   {
    "duration": 23,
    "start_time": "2024-08-19T23:07:34.904Z"
   },
   {
    "duration": 1679,
    "start_time": "2024-08-19T23:07:34.931Z"
   },
   {
    "duration": 187,
    "start_time": "2024-08-19T23:07:36.613Z"
   },
   {
    "duration": 22,
    "start_time": "2024-08-19T23:07:36.803Z"
   },
   {
    "duration": 210,
    "start_time": "2024-08-19T23:07:36.828Z"
   },
   {
    "duration": 172,
    "start_time": "2024-08-19T23:07:37.045Z"
   },
   {
    "duration": 44,
    "start_time": "2024-08-19T23:07:37.220Z"
   },
   {
    "duration": 44,
    "start_time": "2024-08-19T23:07:37.268Z"
   },
   {
    "duration": 9,
    "start_time": "2024-08-19T23:07:37.315Z"
   },
   {
    "duration": 7,
    "start_time": "2024-08-19T23:07:37.327Z"
   },
   {
    "duration": 68,
    "start_time": "2024-08-19T23:07:37.336Z"
   },
   {
    "duration": 29,
    "start_time": "2024-08-19T23:07:37.407Z"
   },
   {
    "duration": 29,
    "start_time": "2024-08-19T23:07:37.438Z"
   },
   {
    "duration": 39,
    "start_time": "2024-08-19T23:07:37.469Z"
   },
   {
    "duration": 8,
    "start_time": "2024-08-19T23:07:37.511Z"
   },
   {
    "duration": 8,
    "start_time": "2024-08-19T23:07:37.523Z"
   },
   {
    "duration": 9,
    "start_time": "2024-08-19T23:07:37.534Z"
   },
   {
    "duration": 54,
    "start_time": "2024-08-19T23:07:37.547Z"
   },
   {
    "duration": 7,
    "start_time": "2024-08-19T23:07:37.605Z"
   },
   {
    "duration": 1362,
    "start_time": "2024-08-19T23:07:37.615Z"
   },
   {
    "duration": 306,
    "start_time": "2024-08-19T23:07:38.980Z"
   },
   {
    "duration": 38,
    "start_time": "2024-08-19T23:07:39.289Z"
   },
   {
    "duration": 12,
    "start_time": "2024-08-19T23:07:39.330Z"
   },
   {
    "duration": 60,
    "start_time": "2024-08-19T23:07:39.351Z"
   },
   {
    "duration": 21,
    "start_time": "2024-08-19T23:07:39.414Z"
   },
   {
    "duration": 10,
    "start_time": "2024-08-19T23:07:39.438Z"
   },
   {
    "duration": 10,
    "start_time": "2024-08-19T23:07:39.452Z"
   },
   {
    "duration": 9,
    "start_time": "2024-08-19T23:07:39.502Z"
   },
   {
    "duration": 9,
    "start_time": "2024-08-19T23:07:39.514Z"
   },
   {
    "duration": 25,
    "start_time": "2024-08-19T23:07:39.526Z"
   },
   {
    "duration": 51,
    "start_time": "2024-08-19T23:07:39.554Z"
   },
   {
    "duration": 50,
    "start_time": "2024-08-19T23:07:39.608Z"
   },
   {
    "duration": 81,
    "start_time": "2024-08-19T23:07:39.661Z"
   },
   {
    "duration": 908,
    "start_time": "2024-08-19T23:07:39.745Z"
   },
   {
    "duration": 14,
    "start_time": "2024-08-19T23:07:40.659Z"
   },
   {
    "duration": 25,
    "start_time": "2024-08-19T23:07:40.677Z"
   },
   {
    "duration": 4,
    "start_time": "2024-08-19T23:07:40.706Z"
   },
   {
    "duration": 8,
    "start_time": "2024-08-19T23:07:40.713Z"
   },
   {
    "duration": 7,
    "start_time": "2024-08-19T23:07:40.724Z"
   },
   {
    "duration": 7,
    "start_time": "2024-08-19T23:07:40.735Z"
   },
   {
    "duration": 59,
    "start_time": "2024-08-19T23:07:40.745Z"
   },
   {
    "duration": 26,
    "start_time": "2024-08-19T23:07:40.807Z"
   },
   {
    "duration": 720,
    "start_time": "2024-08-19T23:07:40.836Z"
   },
   {
    "duration": 0,
    "start_time": "2024-08-19T23:07:41.559Z"
   },
   {
    "duration": 0,
    "start_time": "2024-08-19T23:07:41.562Z"
   },
   {
    "duration": 0,
    "start_time": "2024-08-19T23:07:41.564Z"
   },
   {
    "duration": 0,
    "start_time": "2024-08-19T23:07:41.566Z"
   },
   {
    "duration": 276,
    "start_time": "2024-08-19T23:08:11.902Z"
   },
   {
    "duration": 301,
    "start_time": "2024-08-19T23:08:17.390Z"
   },
   {
    "duration": 8,
    "start_time": "2024-08-19T23:08:27.535Z"
   },
   {
    "duration": 6,
    "start_time": "2024-08-19T23:08:59.841Z"
   },
   {
    "duration": 868,
    "start_time": "2024-08-19T23:09:06.213Z"
   },
   {
    "duration": 15,
    "start_time": "2024-08-19T23:10:32.411Z"
   },
   {
    "duration": 14,
    "start_time": "2024-08-19T23:11:28.706Z"
   },
   {
    "duration": 20,
    "start_time": "2024-08-19T23:12:23.067Z"
   },
   {
    "duration": 44,
    "start_time": "2024-08-19T23:12:42.839Z"
   },
   {
    "duration": 26,
    "start_time": "2024-08-19T23:12:57.766Z"
   },
   {
    "duration": 14,
    "start_time": "2024-08-19T23:13:33.089Z"
   },
   {
    "duration": 26,
    "start_time": "2024-08-19T23:13:39.338Z"
   },
   {
    "duration": 16,
    "start_time": "2024-08-19T23:14:00.283Z"
   },
   {
    "duration": 21,
    "start_time": "2024-08-19T23:23:48.267Z"
   },
   {
    "duration": 14,
    "start_time": "2024-08-19T23:24:00.913Z"
   },
   {
    "duration": 16,
    "start_time": "2024-08-19T23:24:04.351Z"
   },
   {
    "duration": 803,
    "start_time": "2024-08-19T23:25:01.073Z"
   },
   {
    "duration": 15,
    "start_time": "2024-08-19T23:25:01.962Z"
   },
   {
    "duration": 19,
    "start_time": "2024-08-19T23:30:28.399Z"
   },
   {
    "duration": 9,
    "start_time": "2024-08-19T23:30:30.419Z"
   },
   {
    "duration": 17,
    "start_time": "2024-08-19T23:30:54.219Z"
   },
   {
    "duration": 651,
    "start_time": "2024-08-19T23:39:40.869Z"
   },
   {
    "duration": 302,
    "start_time": "2024-08-19T23:39:41.524Z"
   },
   {
    "duration": 87,
    "start_time": "2024-08-19T23:39:41.829Z"
   },
   {
    "duration": 23,
    "start_time": "2024-08-19T23:39:41.919Z"
   },
   {
    "duration": 22,
    "start_time": "2024-08-19T23:39:41.946Z"
   },
   {
    "duration": 1570,
    "start_time": "2024-08-19T23:39:42.002Z"
   },
   {
    "duration": 194,
    "start_time": "2024-08-19T23:39:43.574Z"
   },
   {
    "duration": 32,
    "start_time": "2024-08-19T23:39:43.771Z"
   },
   {
    "duration": 202,
    "start_time": "2024-08-19T23:39:43.805Z"
   },
   {
    "duration": 178,
    "start_time": "2024-08-19T23:39:44.010Z"
   },
   {
    "duration": 52,
    "start_time": "2024-08-19T23:39:44.193Z"
   },
   {
    "duration": 23,
    "start_time": "2024-08-19T23:39:44.248Z"
   },
   {
    "duration": 33,
    "start_time": "2024-08-19T23:39:44.274Z"
   },
   {
    "duration": 6,
    "start_time": "2024-08-19T23:39:44.314Z"
   },
   {
    "duration": 32,
    "start_time": "2024-08-19T23:39:44.323Z"
   },
   {
    "duration": 53,
    "start_time": "2024-08-19T23:39:44.359Z"
   },
   {
    "duration": 29,
    "start_time": "2024-08-19T23:39:44.414Z"
   },
   {
    "duration": 15,
    "start_time": "2024-08-19T23:39:44.448Z"
   },
   {
    "duration": 40,
    "start_time": "2024-08-19T23:39:44.466Z"
   },
   {
    "duration": 7,
    "start_time": "2024-08-19T23:39:44.509Z"
   },
   {
    "duration": 9,
    "start_time": "2024-08-19T23:39:44.520Z"
   },
   {
    "duration": 7,
    "start_time": "2024-08-19T23:39:44.532Z"
   },
   {
    "duration": 8,
    "start_time": "2024-08-19T23:39:44.542Z"
   },
   {
    "duration": 1420,
    "start_time": "2024-08-19T23:39:44.602Z"
   },
   {
    "duration": 379,
    "start_time": "2024-08-19T23:39:46.026Z"
   },
   {
    "duration": 36,
    "start_time": "2024-08-19T23:39:46.409Z"
   },
   {
    "duration": 13,
    "start_time": "2024-08-19T23:39:46.448Z"
   },
   {
    "duration": 59,
    "start_time": "2024-08-19T23:39:46.464Z"
   },
   {
    "duration": 21,
    "start_time": "2024-08-19T23:39:46.526Z"
   },
   {
    "duration": 13,
    "start_time": "2024-08-19T23:39:46.550Z"
   },
   {
    "duration": 13,
    "start_time": "2024-08-19T23:39:46.603Z"
   },
   {
    "duration": 13,
    "start_time": "2024-08-19T23:39:46.619Z"
   },
   {
    "duration": 10,
    "start_time": "2024-08-19T23:39:46.635Z"
   },
   {
    "duration": 67,
    "start_time": "2024-08-19T23:39:46.649Z"
   },
   {
    "duration": 13,
    "start_time": "2024-08-19T23:39:46.719Z"
   },
   {
    "duration": 80,
    "start_time": "2024-08-19T23:39:46.735Z"
   },
   {
    "duration": 50,
    "start_time": "2024-08-19T23:39:46.818Z"
   },
   {
    "duration": 1193,
    "start_time": "2024-08-19T23:39:46.871Z"
   },
   {
    "duration": 13,
    "start_time": "2024-08-19T23:39:48.068Z"
   },
   {
    "duration": 6,
    "start_time": "2024-08-19T23:39:48.102Z"
   },
   {
    "duration": 3,
    "start_time": "2024-08-19T23:39:48.117Z"
   },
   {
    "duration": 13,
    "start_time": "2024-08-19T23:39:48.124Z"
   },
   {
    "duration": 8,
    "start_time": "2024-08-19T23:39:48.140Z"
   },
   {
    "duration": 51,
    "start_time": "2024-08-19T23:39:48.152Z"
   },
   {
    "duration": 8,
    "start_time": "2024-08-19T23:39:48.206Z"
   },
   {
    "duration": 32,
    "start_time": "2024-08-19T23:39:48.217Z"
   },
   {
    "duration": 734,
    "start_time": "2024-08-19T23:39:48.253Z"
   },
   {
    "duration": 0,
    "start_time": "2024-08-19T23:39:48.990Z"
   },
   {
    "duration": 0,
    "start_time": "2024-08-19T23:39:49.001Z"
   },
   {
    "duration": 0,
    "start_time": "2024-08-19T23:39:49.003Z"
   },
   {
    "duration": 0,
    "start_time": "2024-08-19T23:39:49.005Z"
   },
   {
    "duration": 7,
    "start_time": "2024-08-19T23:39:49.931Z"
   },
   {
    "duration": 7,
    "start_time": "2024-08-19T23:42:37.832Z"
   },
   {
    "duration": 7,
    "start_time": "2024-08-19T23:42:55.365Z"
   },
   {
    "duration": 7,
    "start_time": "2024-08-19T23:43:07.035Z"
   },
   {
    "duration": 29,
    "start_time": "2024-08-19T23:43:27.205Z"
   },
   {
    "duration": 900,
    "start_time": "2024-08-19T23:43:44.471Z"
   },
   {
    "duration": 1104,
    "start_time": "2024-08-19T23:43:54.310Z"
   },
   {
    "duration": 1198,
    "start_time": "2024-08-19T23:44:32.703Z"
   },
   {
    "duration": 298,
    "start_time": "2024-08-19T23:46:07.473Z"
   },
   {
    "duration": 2132,
    "start_time": "2024-08-19T23:46:51.885Z"
   },
   {
    "duration": 305,
    "start_time": "2024-08-19T23:47:13.416Z"
   },
   {
    "duration": 308,
    "start_time": "2024-08-19T23:47:51.647Z"
   },
   {
    "duration": 13,
    "start_time": "2024-08-19T23:48:56.321Z"
   },
   {
    "duration": 325,
    "start_time": "2024-08-19T23:49:04.644Z"
   },
   {
    "duration": 306,
    "start_time": "2024-08-19T23:49:22.079Z"
   },
   {
    "duration": 326,
    "start_time": "2024-08-19T23:50:48.200Z"
   },
   {
    "duration": 318,
    "start_time": "2024-08-19T23:50:56.885Z"
   },
   {
    "duration": 307,
    "start_time": "2024-08-19T23:58:34.289Z"
   },
   {
    "duration": 4437,
    "start_time": "2024-08-20T15:45:27.548Z"
   },
   {
    "duration": 337,
    "start_time": "2024-08-20T15:45:31.987Z"
   },
   {
    "duration": 120,
    "start_time": "2024-08-20T15:45:32.327Z"
   },
   {
    "duration": 38,
    "start_time": "2024-08-20T15:45:32.453Z"
   },
   {
    "duration": 32,
    "start_time": "2024-08-20T15:45:32.498Z"
   },
   {
    "duration": 1800,
    "start_time": "2024-08-20T15:45:32.533Z"
   },
   {
    "duration": 205,
    "start_time": "2024-08-20T15:45:34.336Z"
   },
   {
    "duration": 21,
    "start_time": "2024-08-20T15:45:34.547Z"
   },
   {
    "duration": 255,
    "start_time": "2024-08-20T15:45:34.571Z"
   },
   {
    "duration": 214,
    "start_time": "2024-08-20T15:45:34.832Z"
   },
   {
    "duration": 69,
    "start_time": "2024-08-20T15:45:35.049Z"
   },
   {
    "duration": 23,
    "start_time": "2024-08-20T15:45:35.123Z"
   },
   {
    "duration": 11,
    "start_time": "2024-08-20T15:45:35.150Z"
   },
   {
    "duration": 32,
    "start_time": "2024-08-20T15:45:35.164Z"
   },
   {
    "duration": 35,
    "start_time": "2024-08-20T15:45:35.202Z"
   },
   {
    "duration": 51,
    "start_time": "2024-08-20T15:45:35.244Z"
   },
   {
    "duration": 36,
    "start_time": "2024-08-20T15:45:35.301Z"
   },
   {
    "duration": 14,
    "start_time": "2024-08-20T15:45:35.343Z"
   },
   {
    "duration": 34,
    "start_time": "2024-08-20T15:45:35.361Z"
   },
   {
    "duration": 8,
    "start_time": "2024-08-20T15:45:35.399Z"
   },
   {
    "duration": 11,
    "start_time": "2024-08-20T15:45:35.410Z"
   },
   {
    "duration": 10,
    "start_time": "2024-08-20T15:45:35.424Z"
   },
   {
    "duration": 56,
    "start_time": "2024-08-20T15:45:35.437Z"
   },
   {
    "duration": 1453,
    "start_time": "2024-08-20T15:45:35.497Z"
   },
   {
    "duration": 339,
    "start_time": "2024-08-20T15:45:36.953Z"
   },
   {
    "duration": 34,
    "start_time": "2024-08-20T15:45:37.295Z"
   },
   {
    "duration": 13,
    "start_time": "2024-08-20T15:45:37.331Z"
   },
   {
    "duration": 55,
    "start_time": "2024-08-20T15:45:37.353Z"
   },
   {
    "duration": 21,
    "start_time": "2024-08-20T15:45:37.412Z"
   },
   {
    "duration": 11,
    "start_time": "2024-08-20T15:45:37.437Z"
   },
   {
    "duration": 49,
    "start_time": "2024-08-20T15:45:37.451Z"
   },
   {
    "duration": 9,
    "start_time": "2024-08-20T15:45:37.503Z"
   },
   {
    "duration": 12,
    "start_time": "2024-08-20T15:45:37.515Z"
   },
   {
    "duration": 71,
    "start_time": "2024-08-20T15:45:37.530Z"
   },
   {
    "duration": 16,
    "start_time": "2024-08-20T15:45:37.604Z"
   },
   {
    "duration": 81,
    "start_time": "2024-08-20T15:45:37.623Z"
   },
   {
    "duration": 50,
    "start_time": "2024-08-20T15:45:37.709Z"
   },
   {
    "duration": 1079,
    "start_time": "2024-08-20T15:45:37.762Z"
   },
   {
    "duration": 13,
    "start_time": "2024-08-20T15:45:38.845Z"
   },
   {
    "duration": 28,
    "start_time": "2024-08-20T15:45:38.862Z"
   },
   {
    "duration": 5,
    "start_time": "2024-08-20T15:45:38.894Z"
   },
   {
    "duration": 8,
    "start_time": "2024-08-20T15:45:38.902Z"
   },
   {
    "duration": 8,
    "start_time": "2024-08-20T15:45:38.914Z"
   },
   {
    "duration": 8,
    "start_time": "2024-08-20T15:45:38.925Z"
   },
   {
    "duration": 56,
    "start_time": "2024-08-20T15:45:38.937Z"
   },
   {
    "duration": 32,
    "start_time": "2024-08-20T15:45:38.997Z"
   },
   {
    "duration": 759,
    "start_time": "2024-08-20T15:45:39.033Z"
   },
   {
    "duration": 0,
    "start_time": "2024-08-20T15:45:39.795Z"
   },
   {
    "duration": 0,
    "start_time": "2024-08-20T15:45:39.797Z"
   },
   {
    "duration": 0,
    "start_time": "2024-08-20T15:45:39.801Z"
   },
   {
    "duration": 0,
    "start_time": "2024-08-20T15:45:39.804Z"
   },
   {
    "duration": 332,
    "start_time": "2024-08-20T15:46:58.662Z"
   },
   {
    "duration": 272,
    "start_time": "2024-08-20T15:47:52.485Z"
   },
   {
    "duration": 330,
    "start_time": "2024-08-20T15:48:00.506Z"
   },
   {
    "duration": 428,
    "start_time": "2024-08-20T15:49:44.805Z"
   },
   {
    "duration": 314,
    "start_time": "2024-08-20T15:50:21.418Z"
   },
   {
    "duration": 22,
    "start_time": "2024-08-20T15:56:47.773Z"
   },
   {
    "duration": 739,
    "start_time": "2024-08-20T15:58:05.577Z"
   },
   {
    "duration": 779,
    "start_time": "2024-08-20T16:00:00.806Z"
   },
   {
    "duration": 93,
    "start_time": "2024-08-20T16:00:15.479Z"
   },
   {
    "duration": 88,
    "start_time": "2024-08-20T16:00:32.301Z"
   },
   {
    "duration": 332,
    "start_time": "2024-08-20T16:00:55.596Z"
   },
   {
    "duration": 359,
    "start_time": "2024-08-20T16:01:19.767Z"
   },
   {
    "duration": 360,
    "start_time": "2024-08-20T16:01:38.491Z"
   },
   {
    "duration": 304,
    "start_time": "2024-08-20T16:02:03.011Z"
   },
   {
    "duration": 304,
    "start_time": "2024-08-20T16:02:51.811Z"
   },
   {
    "duration": 68,
    "start_time": "2024-08-20T16:03:23.519Z"
   },
   {
    "duration": 67,
    "start_time": "2024-08-20T16:03:32.875Z"
   },
   {
    "duration": 482,
    "start_time": "2024-08-20T16:04:15.407Z"
   },
   {
    "duration": 78,
    "start_time": "2024-08-20T16:04:45.100Z"
   },
   {
    "duration": 481,
    "start_time": "2024-08-20T16:04:53.497Z"
   },
   {
    "duration": 69,
    "start_time": "2024-08-20T16:05:06.285Z"
   },
   {
    "duration": 297,
    "start_time": "2024-08-20T16:05:17.429Z"
   },
   {
    "duration": 67,
    "start_time": "2024-08-20T16:08:29.315Z"
   },
   {
    "duration": 64,
    "start_time": "2024-08-20T16:09:26.639Z"
   },
   {
    "duration": 66,
    "start_time": "2024-08-20T16:09:35.324Z"
   },
   {
    "duration": 63,
    "start_time": "2024-08-20T16:09:47.416Z"
   },
   {
    "duration": 65,
    "start_time": "2024-08-20T16:09:50.467Z"
   },
   {
    "duration": 324,
    "start_time": "2024-08-20T16:10:03.134Z"
   },
   {
    "duration": 69,
    "start_time": "2024-08-20T16:10:07.340Z"
   },
   {
    "duration": 70,
    "start_time": "2024-08-20T16:10:22.649Z"
   },
   {
    "duration": 622,
    "start_time": "2024-08-20T16:10:39.695Z"
   },
   {
    "duration": 140,
    "start_time": "2024-08-20T16:10:50.327Z"
   },
   {
    "duration": 1116,
    "start_time": "2024-08-20T16:11:01.560Z"
   },
   {
    "duration": 92,
    "start_time": "2024-08-20T16:11:11.647Z"
   },
   {
    "duration": 4237,
    "start_time": "2024-08-20T16:42:37.932Z"
   },
   {
    "duration": 289,
    "start_time": "2024-08-20T16:42:42.173Z"
   },
   {
    "duration": 108,
    "start_time": "2024-08-20T16:42:42.469Z"
   },
   {
    "duration": 24,
    "start_time": "2024-08-20T16:42:42.580Z"
   },
   {
    "duration": 23,
    "start_time": "2024-08-20T16:42:42.611Z"
   },
   {
    "duration": 1662,
    "start_time": "2024-08-20T16:42:42.637Z"
   },
   {
    "duration": 188,
    "start_time": "2024-08-20T16:42:44.303Z"
   },
   {
    "duration": 19,
    "start_time": "2024-08-20T16:42:44.495Z"
   },
   {
    "duration": 218,
    "start_time": "2024-08-20T16:42:44.517Z"
   },
   {
    "duration": 170,
    "start_time": "2024-08-20T16:42:44.737Z"
   },
   {
    "duration": 64,
    "start_time": "2024-08-20T16:42:44.910Z"
   },
   {
    "duration": 33,
    "start_time": "2024-08-20T16:42:44.977Z"
   },
   {
    "duration": 11,
    "start_time": "2024-08-20T16:42:45.013Z"
   },
   {
    "duration": 35,
    "start_time": "2024-08-20T16:42:45.033Z"
   },
   {
    "duration": 37,
    "start_time": "2024-08-20T16:42:45.073Z"
   },
   {
    "duration": 22,
    "start_time": "2024-08-20T16:42:45.113Z"
   },
   {
    "duration": 32,
    "start_time": "2024-08-20T16:42:45.169Z"
   },
   {
    "duration": 15,
    "start_time": "2024-08-20T16:42:45.204Z"
   },
   {
    "duration": 7,
    "start_time": "2024-08-20T16:42:45.222Z"
   },
   {
    "duration": 8,
    "start_time": "2024-08-20T16:42:45.267Z"
   },
   {
    "duration": 11,
    "start_time": "2024-08-20T16:42:45.278Z"
   },
   {
    "duration": 8,
    "start_time": "2024-08-20T16:42:45.292Z"
   },
   {
    "duration": 6,
    "start_time": "2024-08-20T16:42:45.303Z"
   },
   {
    "duration": 1516,
    "start_time": "2024-08-20T16:42:45.313Z"
   },
   {
    "duration": 316,
    "start_time": "2024-08-20T16:42:46.832Z"
   },
   {
    "duration": 41,
    "start_time": "2024-08-20T16:42:47.151Z"
   },
   {
    "duration": 11,
    "start_time": "2024-08-20T16:42:47.195Z"
   },
   {
    "duration": 20,
    "start_time": "2024-08-20T16:42:47.210Z"
   },
   {
    "duration": 21,
    "start_time": "2024-08-20T16:42:47.270Z"
   },
   {
    "duration": 10,
    "start_time": "2024-08-20T16:42:47.293Z"
   },
   {
    "duration": 10,
    "start_time": "2024-08-20T16:42:47.306Z"
   },
   {
    "duration": 53,
    "start_time": "2024-08-20T16:42:47.320Z"
   },
   {
    "duration": 13,
    "start_time": "2024-08-20T16:42:47.376Z"
   },
   {
    "duration": 29,
    "start_time": "2024-08-20T16:42:47.395Z"
   },
   {
    "duration": 41,
    "start_time": "2024-08-20T16:42:47.427Z"
   },
   {
    "duration": 48,
    "start_time": "2024-08-20T16:42:47.472Z"
   },
   {
    "duration": 75,
    "start_time": "2024-08-20T16:42:47.523Z"
   },
   {
    "duration": 1013,
    "start_time": "2024-08-20T16:42:47.601Z"
   },
   {
    "duration": 13,
    "start_time": "2024-08-20T16:42:48.618Z"
   },
   {
    "duration": 34,
    "start_time": "2024-08-20T16:42:48.634Z"
   },
   {
    "duration": 7,
    "start_time": "2024-08-20T16:42:48.678Z"
   },
   {
    "duration": 7,
    "start_time": "2024-08-20T16:42:48.687Z"
   },
   {
    "duration": 9,
    "start_time": "2024-08-20T16:42:48.697Z"
   },
   {
    "duration": 7,
    "start_time": "2024-08-20T16:42:48.709Z"
   },
   {
    "duration": 54,
    "start_time": "2024-08-20T16:42:48.719Z"
   },
   {
    "duration": 27,
    "start_time": "2024-08-20T16:42:48.776Z"
   },
   {
    "duration": 754,
    "start_time": "2024-08-20T16:42:48.807Z"
   },
   {
    "duration": 0,
    "start_time": "2024-08-20T16:42:49.564Z"
   },
   {
    "duration": 0,
    "start_time": "2024-08-20T16:42:49.569Z"
   },
   {
    "duration": 0,
    "start_time": "2024-08-20T16:42:49.570Z"
   },
   {
    "duration": 0,
    "start_time": "2024-08-20T16:42:49.572Z"
   },
   {
    "duration": 0,
    "start_time": "2024-08-20T16:42:49.574Z"
   },
   {
    "duration": 0,
    "start_time": "2024-08-20T16:42:49.576Z"
   },
   {
    "duration": 312,
    "start_time": "2024-08-20T16:43:51.519Z"
   },
   {
    "duration": 4311,
    "start_time": "2024-08-20T18:52:46.605Z"
   },
   {
    "duration": 271,
    "start_time": "2024-08-20T18:52:50.920Z"
   },
   {
    "duration": 104,
    "start_time": "2024-08-20T18:52:51.195Z"
   },
   {
    "duration": 27,
    "start_time": "2024-08-20T18:52:51.304Z"
   },
   {
    "duration": 46,
    "start_time": "2024-08-20T18:52:51.334Z"
   },
   {
    "duration": 1669,
    "start_time": "2024-08-20T18:52:51.383Z"
   },
   {
    "duration": 182,
    "start_time": "2024-08-20T18:52:53.067Z"
   },
   {
    "duration": 28,
    "start_time": "2024-08-20T18:52:53.252Z"
   },
   {
    "duration": 221,
    "start_time": "2024-08-20T18:52:53.283Z"
   },
   {
    "duration": 175,
    "start_time": "2024-08-20T18:52:53.511Z"
   },
   {
    "duration": 46,
    "start_time": "2024-08-20T18:52:53.689Z"
   },
   {
    "duration": 49,
    "start_time": "2024-08-20T18:52:53.738Z"
   },
   {
    "duration": 9,
    "start_time": "2024-08-20T18:52:53.790Z"
   },
   {
    "duration": 8,
    "start_time": "2024-08-20T18:52:53.801Z"
   },
   {
    "duration": 61,
    "start_time": "2024-08-20T18:52:53.812Z"
   },
   {
    "duration": 21,
    "start_time": "2024-08-20T18:52:53.876Z"
   },
   {
    "duration": 30,
    "start_time": "2024-08-20T18:52:53.900Z"
   },
   {
    "duration": 47,
    "start_time": "2024-08-20T18:52:53.933Z"
   },
   {
    "duration": 8,
    "start_time": "2024-08-20T18:52:53.984Z"
   },
   {
    "duration": 7,
    "start_time": "2024-08-20T18:52:53.996Z"
   },
   {
    "duration": 8,
    "start_time": "2024-08-20T18:52:54.006Z"
   },
   {
    "duration": 52,
    "start_time": "2024-08-20T18:52:54.018Z"
   },
   {
    "duration": 8,
    "start_time": "2024-08-20T18:52:54.073Z"
   },
   {
    "duration": 1384,
    "start_time": "2024-08-20T18:52:54.085Z"
   },
   {
    "duration": 330,
    "start_time": "2024-08-20T18:52:55.472Z"
   },
   {
    "duration": 32,
    "start_time": "2024-08-20T18:52:55.804Z"
   },
   {
    "duration": 32,
    "start_time": "2024-08-20T18:52:55.839Z"
   },
   {
    "duration": 20,
    "start_time": "2024-08-20T18:52:55.880Z"
   },
   {
    "duration": 22,
    "start_time": "2024-08-20T18:52:55.903Z"
   },
   {
    "duration": 49,
    "start_time": "2024-08-20T18:52:55.928Z"
   },
   {
    "duration": 17,
    "start_time": "2024-08-20T18:52:55.981Z"
   },
   {
    "duration": 10,
    "start_time": "2024-08-20T18:52:56.001Z"
   },
   {
    "duration": 9,
    "start_time": "2024-08-20T18:52:56.014Z"
   },
   {
    "duration": 64,
    "start_time": "2024-08-20T18:52:56.026Z"
   },
   {
    "duration": 11,
    "start_time": "2024-08-20T18:52:56.093Z"
   },
   {
    "duration": 80,
    "start_time": "2024-08-20T18:52:56.107Z"
   },
   {
    "duration": 46,
    "start_time": "2024-08-20T18:52:56.190Z"
   },
   {
    "duration": 1005,
    "start_time": "2024-08-20T18:52:56.241Z"
   },
   {
    "duration": 25,
    "start_time": "2024-08-20T18:52:57.249Z"
   },
   {
    "duration": 7,
    "start_time": "2024-08-20T18:52:57.280Z"
   },
   {
    "duration": 4,
    "start_time": "2024-08-20T18:52:57.289Z"
   },
   {
    "duration": 7,
    "start_time": "2024-08-20T18:52:57.296Z"
   },
   {
    "duration": 7,
    "start_time": "2024-08-20T18:52:57.306Z"
   },
   {
    "duration": 55,
    "start_time": "2024-08-20T18:52:57.316Z"
   },
   {
    "duration": 8,
    "start_time": "2024-08-20T18:52:57.376Z"
   },
   {
    "duration": 30,
    "start_time": "2024-08-20T18:52:57.387Z"
   },
   {
    "duration": 703,
    "start_time": "2024-08-20T18:52:57.420Z"
   },
   {
    "duration": 0,
    "start_time": "2024-08-20T18:52:58.126Z"
   },
   {
    "duration": 0,
    "start_time": "2024-08-20T18:52:58.129Z"
   },
   {
    "duration": 0,
    "start_time": "2024-08-20T18:52:58.131Z"
   },
   {
    "duration": 0,
    "start_time": "2024-08-20T18:52:58.133Z"
   },
   {
    "duration": 0,
    "start_time": "2024-08-20T18:52:58.135Z"
   },
   {
    "duration": 0,
    "start_time": "2024-08-20T18:52:58.137Z"
   },
   {
    "duration": 163,
    "start_time": "2024-08-20T20:06:23.395Z"
   },
   {
    "duration": 3,
    "start_time": "2024-08-20T20:06:32.737Z"
   },
   {
    "duration": 260,
    "start_time": "2024-08-20T20:06:33.027Z"
   },
   {
    "duration": 78,
    "start_time": "2024-08-20T20:06:33.838Z"
   },
   {
    "duration": 23,
    "start_time": "2024-08-20T20:06:34.688Z"
   },
   {
    "duration": 23,
    "start_time": "2024-08-20T20:06:35.473Z"
   },
   {
    "duration": 1612,
    "start_time": "2024-08-20T20:06:36.217Z"
   },
   {
    "duration": 156,
    "start_time": "2024-08-20T20:06:38.663Z"
   },
   {
    "duration": 7,
    "start_time": "2024-08-20T20:11:05.250Z"
   },
   {
    "duration": 18,
    "start_time": "2024-08-20T20:11:14.659Z"
   },
   {
    "duration": 176,
    "start_time": "2024-08-20T20:11:18.946Z"
   },
   {
    "duration": 192,
    "start_time": "2024-08-20T20:11:25.927Z"
   },
   {
    "duration": 17,
    "start_time": "2024-08-20T20:11:41.071Z"
   },
   {
    "duration": 17,
    "start_time": "2024-08-20T20:12:00.268Z"
   },
   {
    "duration": 175,
    "start_time": "2024-08-20T20:18:12.631Z"
   },
   {
    "duration": 167,
    "start_time": "2024-08-20T20:18:26.781Z"
   },
   {
    "duration": 40,
    "start_time": "2024-08-20T20:18:34.399Z"
   },
   {
    "duration": 25,
    "start_time": "2024-08-20T20:18:37.753Z"
   },
   {
    "duration": 8,
    "start_time": "2024-08-20T20:18:42.415Z"
   },
   {
    "duration": 18,
    "start_time": "2024-08-20T20:24:22.096Z"
   },
   {
    "duration": 9,
    "start_time": "2024-08-20T20:24:54.025Z"
   },
   {
    "duration": 7,
    "start_time": "2024-08-20T20:25:05.103Z"
   },
   {
    "duration": 6,
    "start_time": "2024-08-20T20:25:10.242Z"
   },
   {
    "duration": 7,
    "start_time": "2024-08-20T20:38:35.950Z"
   },
   {
    "duration": 8,
    "start_time": "2024-08-20T20:38:38.220Z"
   },
   {
    "duration": 7,
    "start_time": "2024-08-20T20:41:05.074Z"
   },
   {
    "duration": 6,
    "start_time": "2024-08-20T20:41:07.526Z"
   },
   {
    "duration": 10,
    "start_time": "2024-08-20T20:41:08.360Z"
   },
   {
    "duration": 15,
    "start_time": "2024-08-20T20:41:51.205Z"
   },
   {
    "duration": 9,
    "start_time": "2024-08-20T20:41:53.077Z"
   },
   {
    "duration": 8,
    "start_time": "2024-08-20T20:42:32.868Z"
   },
   {
    "duration": 8,
    "start_time": "2024-08-20T20:42:33.343Z"
   },
   {
    "duration": 1300,
    "start_time": "2024-08-20T20:42:38.543Z"
   },
   {
    "duration": 325,
    "start_time": "2024-08-20T20:42:45.594Z"
   },
   {
    "duration": 32,
    "start_time": "2024-08-20T20:42:50.473Z"
   },
   {
    "duration": 3569,
    "start_time": "2024-08-20T20:43:18.475Z"
   },
   {
    "duration": 24,
    "start_time": "2024-08-20T20:44:18.485Z"
   },
   {
    "duration": 503,
    "start_time": "2024-08-20T20:44:34.882Z"
   },
   {
    "duration": 225,
    "start_time": "2024-08-20T20:45:20.169Z"
   },
   {
    "duration": 613,
    "start_time": "2024-08-20T20:45:48.539Z"
   },
   {
    "duration": 645,
    "start_time": "2024-08-20T20:45:57.168Z"
   },
   {
    "duration": 618,
    "start_time": "2024-08-20T20:46:24.607Z"
   },
   {
    "duration": 653,
    "start_time": "2024-08-20T20:46:45.093Z"
   },
   {
    "duration": 624,
    "start_time": "2024-08-20T20:47:10.590Z"
   },
   {
    "duration": 3546,
    "start_time": "2024-08-20T20:58:00.399Z"
   },
   {
    "duration": 4697,
    "start_time": "2024-08-20T20:58:14.716Z"
   },
   {
    "duration": 3625,
    "start_time": "2024-08-20T20:58:58.746Z"
   },
   {
    "duration": 3835,
    "start_time": "2024-08-20T20:59:15.170Z"
   },
   {
    "duration": 3480,
    "start_time": "2024-08-20T20:59:31.856Z"
   },
   {
    "duration": 3517,
    "start_time": "2024-08-20T20:59:49.045Z"
   },
   {
    "duration": 3717,
    "start_time": "2024-08-20T21:00:16.311Z"
   },
   {
    "duration": 5,
    "start_time": "2024-08-20T21:01:02.972Z"
   },
   {
    "duration": 432,
    "start_time": "2024-08-20T21:01:09.337Z"
   },
   {
    "duration": 25,
    "start_time": "2024-08-20T21:01:27.684Z"
   },
   {
    "duration": 19,
    "start_time": "2024-08-20T21:01:33.201Z"
   },
   {
    "duration": 21,
    "start_time": "2024-08-20T21:01:45.848Z"
   },
   {
    "duration": 18,
    "start_time": "2024-08-20T21:05:30.250Z"
   },
   {
    "duration": 19,
    "start_time": "2024-08-20T21:05:45.150Z"
   },
   {
    "duration": 8,
    "start_time": "2024-08-20T21:07:34.390Z"
   },
   {
    "duration": 16,
    "start_time": "2024-08-20T21:07:55.153Z"
   },
   {
    "duration": 5,
    "start_time": "2024-08-20T21:18:28.340Z"
   },
   {
    "duration": 6,
    "start_time": "2024-08-20T21:18:33.357Z"
   },
   {
    "duration": 23,
    "start_time": "2024-08-20T21:18:43.253Z"
   },
   {
    "duration": 23,
    "start_time": "2024-08-20T21:18:55.864Z"
   },
   {
    "duration": 1557,
    "start_time": "2024-08-20T21:19:15.828Z"
   },
   {
    "duration": 521,
    "start_time": "2024-08-20T21:19:52.348Z"
   },
   {
    "duration": 481,
    "start_time": "2024-08-20T21:20:10.478Z"
   },
   {
    "duration": 566,
    "start_time": "2024-08-20T21:20:18.195Z"
   },
   {
    "duration": 502,
    "start_time": "2024-08-20T21:20:44.490Z"
   },
   {
    "duration": 464,
    "start_time": "2024-08-20T21:20:56.361Z"
   },
   {
    "duration": 445,
    "start_time": "2024-08-20T21:21:09.869Z"
   },
   {
    "duration": 470,
    "start_time": "2024-08-20T21:21:14.962Z"
   },
   {
    "duration": 455,
    "start_time": "2024-08-20T21:21:22.624Z"
   },
   {
    "duration": 461,
    "start_time": "2024-08-20T21:21:34.636Z"
   },
   {
    "duration": 22,
    "start_time": "2024-08-20T21:22:29.076Z"
   },
   {
    "duration": 17,
    "start_time": "2024-08-20T21:22:49.010Z"
   },
   {
    "duration": 15,
    "start_time": "2024-08-20T21:22:56.379Z"
   },
   {
    "duration": 11,
    "start_time": "2024-08-20T21:23:15.729Z"
   },
   {
    "duration": 19,
    "start_time": "2024-08-20T21:35:07.082Z"
   },
   {
    "duration": 10,
    "start_time": "2024-08-20T21:40:10.120Z"
   },
   {
    "duration": 8,
    "start_time": "2024-08-20T21:44:49.749Z"
   },
   {
    "duration": 9,
    "start_time": "2024-08-20T21:44:53.200Z"
   },
   {
    "duration": 9,
    "start_time": "2024-08-20T21:45:53.711Z"
   },
   {
    "duration": 149,
    "start_time": "2024-08-20T21:49:15.623Z"
   },
   {
    "duration": 10,
    "start_time": "2024-08-20T21:54:26.271Z"
   },
   {
    "duration": 152,
    "start_time": "2024-08-20T21:54:29.046Z"
   },
   {
    "duration": 27,
    "start_time": "2024-08-20T21:54:31.068Z"
   },
   {
    "duration": 9,
    "start_time": "2024-08-20T22:01:34.136Z"
   },
   {
    "duration": 131,
    "start_time": "2024-08-20T22:02:20.199Z"
   },
   {
    "duration": 26,
    "start_time": "2024-08-20T22:02:26.849Z"
   },
   {
    "duration": 29,
    "start_time": "2024-08-20T22:02:51.038Z"
   },
   {
    "duration": 30,
    "start_time": "2024-08-20T22:03:00.763Z"
   },
   {
    "duration": 28,
    "start_time": "2024-08-20T22:04:13.569Z"
   },
   {
    "duration": 10,
    "start_time": "2024-08-20T22:25:42.908Z"
   },
   {
    "duration": 710,
    "start_time": "2024-08-20T22:29:14.684Z"
   },
   {
    "duration": 331,
    "start_time": "2024-08-20T22:29:15.398Z"
   },
   {
    "duration": 88,
    "start_time": "2024-08-20T22:29:15.732Z"
   },
   {
    "duration": 42,
    "start_time": "2024-08-20T22:29:15.825Z"
   },
   {
    "duration": 26,
    "start_time": "2024-08-20T22:29:15.870Z"
   },
   {
    "duration": 1669,
    "start_time": "2024-08-20T22:29:15.899Z"
   },
   {
    "duration": 206,
    "start_time": "2024-08-20T22:29:17.571Z"
   },
   {
    "duration": 19,
    "start_time": "2024-08-20T22:29:17.780Z"
   },
   {
    "duration": 230,
    "start_time": "2024-08-20T22:29:17.803Z"
   },
   {
    "duration": 186,
    "start_time": "2024-08-20T22:29:18.040Z"
   },
   {
    "duration": 61,
    "start_time": "2024-08-20T22:29:18.229Z"
   },
   {
    "duration": 23,
    "start_time": "2024-08-20T22:29:18.293Z"
   },
   {
    "duration": 8,
    "start_time": "2024-08-20T22:29:18.319Z"
   },
   {
    "duration": 42,
    "start_time": "2024-08-20T22:29:18.330Z"
   },
   {
    "duration": 36,
    "start_time": "2024-08-20T22:29:18.375Z"
   },
   {
    "duration": 21,
    "start_time": "2024-08-20T22:29:18.413Z"
   },
   {
    "duration": 57,
    "start_time": "2024-08-20T22:29:18.437Z"
   },
   {
    "duration": 6,
    "start_time": "2024-08-20T22:29:18.497Z"
   },
   {
    "duration": 7,
    "start_time": "2024-08-20T22:29:18.507Z"
   },
   {
    "duration": 8,
    "start_time": "2024-08-20T22:29:18.517Z"
   },
   {
    "duration": 12,
    "start_time": "2024-08-20T22:29:18.570Z"
   },
   {
    "duration": 8,
    "start_time": "2024-08-20T22:29:18.585Z"
   },
   {
    "duration": 7,
    "start_time": "2024-08-20T22:29:18.596Z"
   },
   {
    "duration": 1426,
    "start_time": "2024-08-20T22:29:18.607Z"
   },
   {
    "duration": 304,
    "start_time": "2024-08-20T22:29:20.036Z"
   },
   {
    "duration": 444,
    "start_time": "2024-08-20T22:29:20.343Z"
   },
   {
    "duration": 12,
    "start_time": "2024-08-20T22:29:20.790Z"
   },
   {
    "duration": 19,
    "start_time": "2024-08-20T22:29:20.811Z"
   },
   {
    "duration": 52,
    "start_time": "2024-08-20T22:29:20.833Z"
   },
   {
    "duration": 10,
    "start_time": "2024-08-20T22:29:20.888Z"
   },
   {
    "duration": 10,
    "start_time": "2024-08-20T22:29:20.901Z"
   },
   {
    "duration": 9,
    "start_time": "2024-08-20T22:29:20.914Z"
   },
   {
    "duration": 12,
    "start_time": "2024-08-20T22:29:20.970Z"
   },
   {
    "duration": 173,
    "start_time": "2024-08-20T22:29:20.985Z"
   },
   {
    "duration": 377,
    "start_time": "2024-08-20T22:29:21.167Z"
   },
   {
    "duration": 0,
    "start_time": "2024-08-20T22:29:21.547Z"
   },
   {
    "duration": 0,
    "start_time": "2024-08-20T22:29:21.549Z"
   },
   {
    "duration": 0,
    "start_time": "2024-08-20T22:29:21.551Z"
   },
   {
    "duration": 1,
    "start_time": "2024-08-20T22:29:21.568Z"
   },
   {
    "duration": 0,
    "start_time": "2024-08-20T22:29:21.570Z"
   },
   {
    "duration": 0,
    "start_time": "2024-08-20T22:29:21.574Z"
   },
   {
    "duration": 0,
    "start_time": "2024-08-20T22:29:21.576Z"
   },
   {
    "duration": 0,
    "start_time": "2024-08-20T22:29:21.578Z"
   },
   {
    "duration": 0,
    "start_time": "2024-08-20T22:29:21.581Z"
   },
   {
    "duration": 0,
    "start_time": "2024-08-20T22:29:21.583Z"
   },
   {
    "duration": 0,
    "start_time": "2024-08-20T22:29:21.585Z"
   },
   {
    "duration": 0,
    "start_time": "2024-08-20T22:29:21.588Z"
   },
   {
    "duration": 0,
    "start_time": "2024-08-20T22:29:21.590Z"
   },
   {
    "duration": 0,
    "start_time": "2024-08-20T22:29:21.592Z"
   },
   {
    "duration": 0,
    "start_time": "2024-08-20T22:29:21.594Z"
   },
   {
    "duration": 0,
    "start_time": "2024-08-20T22:29:21.597Z"
   },
   {
    "duration": 0,
    "start_time": "2024-08-20T22:29:21.600Z"
   },
   {
    "duration": 0,
    "start_time": "2024-08-20T22:29:21.602Z"
   },
   {
    "duration": 0,
    "start_time": "2024-08-20T22:29:21.603Z"
   },
   {
    "duration": 3,
    "start_time": "2024-08-20T22:29:34.455Z"
   },
   {
    "duration": 230,
    "start_time": "2024-08-20T22:29:35.123Z"
   },
   {
    "duration": 72,
    "start_time": "2024-08-20T22:29:38.218Z"
   },
   {
    "duration": 22,
    "start_time": "2024-08-20T22:29:39.244Z"
   },
   {
    "duration": 24,
    "start_time": "2024-08-20T22:29:40.097Z"
   },
   {
    "duration": 1585,
    "start_time": "2024-08-20T22:29:40.684Z"
   },
   {
    "duration": 155,
    "start_time": "2024-08-20T22:29:42.272Z"
   },
   {
    "duration": 18,
    "start_time": "2024-08-20T22:29:42.429Z"
   },
   {
    "duration": 160,
    "start_time": "2024-08-20T22:29:42.798Z"
   },
   {
    "duration": 166,
    "start_time": "2024-08-20T22:29:43.772Z"
   },
   {
    "duration": 51,
    "start_time": "2024-08-20T22:29:44.044Z"
   },
   {
    "duration": 24,
    "start_time": "2024-08-20T22:29:44.673Z"
   },
   {
    "duration": 9,
    "start_time": "2024-08-20T22:29:44.930Z"
   },
   {
    "duration": 4344,
    "start_time": "2024-08-21T14:34:09.224Z"
   },
   {
    "duration": 277,
    "start_time": "2024-08-21T14:34:13.571Z"
   },
   {
    "duration": 99,
    "start_time": "2024-08-21T14:34:13.852Z"
   },
   {
    "duration": 37,
    "start_time": "2024-08-21T14:34:13.956Z"
   },
   {
    "duration": 25,
    "start_time": "2024-08-21T14:34:13.996Z"
   },
   {
    "duration": 1654,
    "start_time": "2024-08-21T14:34:14.023Z"
   },
   {
    "duration": 187,
    "start_time": "2024-08-21T14:34:15.680Z"
   },
   {
    "duration": 28,
    "start_time": "2024-08-21T14:34:15.869Z"
   },
   {
    "duration": 203,
    "start_time": "2024-08-21T14:34:15.902Z"
   },
   {
    "duration": 174,
    "start_time": "2024-08-21T14:34:16.110Z"
   },
   {
    "duration": 45,
    "start_time": "2024-08-21T14:34:16.290Z"
   },
   {
    "duration": 24,
    "start_time": "2024-08-21T14:34:16.338Z"
   },
   {
    "duration": 33,
    "start_time": "2024-08-21T14:34:16.364Z"
   },
   {
    "duration": 7,
    "start_time": "2024-08-21T14:34:16.400Z"
   },
   {
    "duration": 34,
    "start_time": "2024-08-21T14:34:16.410Z"
   },
   {
    "duration": 55,
    "start_time": "2024-08-21T14:34:16.446Z"
   },
   {
    "duration": 27,
    "start_time": "2024-08-21T14:34:16.504Z"
   },
   {
    "duration": 7,
    "start_time": "2024-08-21T14:34:16.534Z"
   },
   {
    "duration": 46,
    "start_time": "2024-08-21T14:34:16.544Z"
   },
   {
    "duration": 11,
    "start_time": "2024-08-21T14:34:16.593Z"
   },
   {
    "duration": 10,
    "start_time": "2024-08-21T14:34:16.607Z"
   },
   {
    "duration": 7,
    "start_time": "2024-08-21T14:34:16.620Z"
   },
   {
    "duration": 7,
    "start_time": "2024-08-21T14:34:16.630Z"
   },
   {
    "duration": 1365,
    "start_time": "2024-08-21T14:34:16.640Z"
   },
   {
    "duration": 309,
    "start_time": "2024-08-21T14:34:18.008Z"
   },
   {
    "duration": 449,
    "start_time": "2024-08-21T14:34:18.320Z"
   },
   {
    "duration": 23,
    "start_time": "2024-08-21T14:34:18.772Z"
   },
   {
    "duration": 21,
    "start_time": "2024-08-21T14:34:18.804Z"
   },
   {
    "duration": 21,
    "start_time": "2024-08-21T14:34:18.827Z"
   },
   {
    "duration": 46,
    "start_time": "2024-08-21T14:34:18.851Z"
   },
   {
    "duration": 10,
    "start_time": "2024-08-21T14:34:18.900Z"
   },
   {
    "duration": 9,
    "start_time": "2024-08-21T14:34:18.913Z"
   },
   {
    "duration": 8,
    "start_time": "2024-08-21T14:34:18.926Z"
   },
   {
    "duration": 207,
    "start_time": "2024-08-21T14:34:18.938Z"
   },
   {
    "duration": 450,
    "start_time": "2024-08-21T14:34:19.149Z"
   },
   {
    "duration": 0,
    "start_time": "2024-08-21T14:34:19.601Z"
   },
   {
    "duration": 0,
    "start_time": "2024-08-21T14:34:19.603Z"
   },
   {
    "duration": 0,
    "start_time": "2024-08-21T14:34:19.605Z"
   },
   {
    "duration": 0,
    "start_time": "2024-08-21T14:34:19.608Z"
   },
   {
    "duration": 0,
    "start_time": "2024-08-21T14:34:19.609Z"
   },
   {
    "duration": 0,
    "start_time": "2024-08-21T14:34:19.610Z"
   },
   {
    "duration": 0,
    "start_time": "2024-08-21T14:34:19.612Z"
   },
   {
    "duration": 0,
    "start_time": "2024-08-21T14:34:19.615Z"
   },
   {
    "duration": 0,
    "start_time": "2024-08-21T14:34:19.617Z"
   },
   {
    "duration": 0,
    "start_time": "2024-08-21T14:34:19.620Z"
   },
   {
    "duration": 0,
    "start_time": "2024-08-21T14:34:19.622Z"
   },
   {
    "duration": 0,
    "start_time": "2024-08-21T14:34:19.623Z"
   },
   {
    "duration": 0,
    "start_time": "2024-08-21T14:34:19.626Z"
   },
   {
    "duration": 0,
    "start_time": "2024-08-21T14:34:19.628Z"
   },
   {
    "duration": 0,
    "start_time": "2024-08-21T14:34:19.630Z"
   },
   {
    "duration": 0,
    "start_time": "2024-08-21T14:34:19.632Z"
   },
   {
    "duration": 0,
    "start_time": "2024-08-21T14:34:19.634Z"
   },
   {
    "duration": 0,
    "start_time": "2024-08-21T14:34:19.691Z"
   },
   {
    "duration": 1,
    "start_time": "2024-08-21T14:34:19.693Z"
   },
   {
    "duration": 13,
    "start_time": "2024-08-21T14:35:02.562Z"
   },
   {
    "duration": 4,
    "start_time": "2024-08-21T14:35:14.251Z"
   },
   {
    "duration": 230,
    "start_time": "2024-08-21T14:35:14.531Z"
   },
   {
    "duration": 70,
    "start_time": "2024-08-21T14:35:14.970Z"
   },
   {
    "duration": 21,
    "start_time": "2024-08-21T14:35:15.596Z"
   },
   {
    "duration": 21,
    "start_time": "2024-08-21T14:35:16.088Z"
   },
   {
    "duration": 1530,
    "start_time": "2024-08-21T14:35:16.746Z"
   },
   {
    "duration": 147,
    "start_time": "2024-08-21T14:35:18.393Z"
   },
   {
    "duration": 18,
    "start_time": "2024-08-21T14:35:18.787Z"
   },
   {
    "duration": 154,
    "start_time": "2024-08-21T14:35:19.515Z"
   },
   {
    "duration": 153,
    "start_time": "2024-08-21T14:35:20.014Z"
   },
   {
    "duration": 52,
    "start_time": "2024-08-21T14:35:20.235Z"
   },
   {
    "duration": 25,
    "start_time": "2024-08-21T14:35:21.048Z"
   },
   {
    "duration": 9,
    "start_time": "2024-08-21T14:35:21.239Z"
   },
   {
    "duration": 6,
    "start_time": "2024-08-21T14:35:21.601Z"
   },
   {
    "duration": 34,
    "start_time": "2024-08-21T14:35:22.344Z"
   },
   {
    "duration": 21,
    "start_time": "2024-08-21T14:35:22.839Z"
   },
   {
    "duration": 27,
    "start_time": "2024-08-21T14:35:23.060Z"
   },
   {
    "duration": 6,
    "start_time": "2024-08-21T14:35:23.284Z"
   },
   {
    "duration": 7,
    "start_time": "2024-08-21T14:35:24.567Z"
   },
   {
    "duration": 7,
    "start_time": "2024-08-21T14:35:24.843Z"
   },
   {
    "duration": 10,
    "start_time": "2024-08-21T14:35:25.175Z"
   },
   {
    "duration": 7,
    "start_time": "2024-08-21T14:35:26.337Z"
   },
   {
    "duration": 7,
    "start_time": "2024-08-21T14:35:26.609Z"
   },
   {
    "duration": 1354,
    "start_time": "2024-08-21T14:35:31.371Z"
   },
   {
    "duration": 334,
    "start_time": "2024-08-21T14:35:32.728Z"
   },
   {
    "duration": 454,
    "start_time": "2024-08-21T14:35:35.923Z"
   },
   {
    "duration": 11,
    "start_time": "2024-08-21T14:35:52.482Z"
   },
   {
    "duration": 21,
    "start_time": "2024-08-21T14:35:53.584Z"
   },
   {
    "duration": 19,
    "start_time": "2024-08-21T14:35:54.488Z"
   },
   {
    "duration": 9,
    "start_time": "2024-08-21T14:35:55.416Z"
   },
   {
    "duration": 9,
    "start_time": "2024-08-21T14:35:56.270Z"
   },
   {
    "duration": 9,
    "start_time": "2024-08-21T14:35:57.294Z"
   },
   {
    "duration": 9,
    "start_time": "2024-08-21T14:35:58.000Z"
   },
   {
    "duration": 179,
    "start_time": "2024-08-21T14:36:02.368Z"
   },
   {
    "duration": 37,
    "start_time": "2024-08-21T14:36:03.600Z"
   },
   {
    "duration": 28,
    "start_time": "2024-08-21T14:36:12.742Z"
   },
   {
    "duration": 75,
    "start_time": "2024-08-21T14:36:59.185Z"
   },
   {
    "duration": 854,
    "start_time": "2024-08-21T14:37:38.674Z"
   },
   {
    "duration": 79,
    "start_time": "2024-08-21T14:37:45.657Z"
   },
   {
    "duration": 229,
    "start_time": "2024-08-21T14:37:52.823Z"
   },
   {
    "duration": 7,
    "start_time": "2024-08-21T14:38:06.285Z"
   },
   {
    "duration": 20,
    "start_time": "2024-08-21T14:38:20.269Z"
   },
   {
    "duration": 22,
    "start_time": "2024-08-21T14:39:21.668Z"
   },
   {
    "duration": 28,
    "start_time": "2024-08-21T14:39:34.016Z"
   },
   {
    "duration": 29,
    "start_time": "2024-08-21T14:39:39.334Z"
   },
   {
    "duration": 28,
    "start_time": "2024-08-21T14:39:42.800Z"
   },
   {
    "duration": 29,
    "start_time": "2024-08-21T14:44:49.584Z"
   },
   {
    "duration": 35,
    "start_time": "2024-08-21T14:45:02.680Z"
   },
   {
    "duration": 26,
    "start_time": "2024-08-21T14:45:17.993Z"
   },
   {
    "duration": 25,
    "start_time": "2024-08-21T14:45:26.964Z"
   },
   {
    "duration": 10,
    "start_time": "2024-08-21T14:46:29.034Z"
   },
   {
    "duration": 10,
    "start_time": "2024-08-21T14:46:32.069Z"
   },
   {
    "duration": 26,
    "start_time": "2024-08-21T14:46:36.824Z"
   },
   {
    "duration": 26,
    "start_time": "2024-08-21T14:46:45.792Z"
   },
   {
    "duration": 9,
    "start_time": "2024-08-21T14:48:23.300Z"
   },
   {
    "duration": 14,
    "start_time": "2024-08-21T14:48:37.729Z"
   },
   {
    "duration": 27,
    "start_time": "2024-08-21T14:48:57.867Z"
   },
   {
    "duration": 7,
    "start_time": "2024-08-21T14:49:42.443Z"
   },
   {
    "duration": 9,
    "start_time": "2024-08-21T14:49:47.555Z"
   },
   {
    "duration": 29,
    "start_time": "2024-08-21T15:08:09.277Z"
   },
   {
    "duration": 6,
    "start_time": "2024-08-21T15:08:50.366Z"
   },
   {
    "duration": 31,
    "start_time": "2024-08-21T15:09:28.305Z"
   },
   {
    "duration": 25,
    "start_time": "2024-08-21T15:09:47.554Z"
   },
   {
    "duration": 37,
    "start_time": "2024-08-21T15:10:30.652Z"
   },
   {
    "duration": 36,
    "start_time": "2024-08-21T15:10:35.881Z"
   },
   {
    "duration": 47,
    "start_time": "2024-08-21T15:12:55.227Z"
   },
   {
    "duration": 874,
    "start_time": "2024-08-21T15:13:31.266Z"
   },
   {
    "duration": 1017,
    "start_time": "2024-08-21T15:17:23.966Z"
   },
   {
    "duration": 7,
    "start_time": "2024-08-21T15:19:06.878Z"
   },
   {
    "duration": 35,
    "start_time": "2024-08-21T15:19:13.394Z"
   },
   {
    "duration": 29,
    "start_time": "2024-08-21T15:19:36.926Z"
   },
   {
    "duration": 31,
    "start_time": "2024-08-21T15:33:45.483Z"
   },
   {
    "duration": 8,
    "start_time": "2024-08-21T15:37:18.653Z"
   },
   {
    "duration": 29,
    "start_time": "2024-08-21T15:37:31.603Z"
   },
   {
    "duration": 248,
    "start_time": "2024-08-21T15:39:57.594Z"
   },
   {
    "duration": 10,
    "start_time": "2024-08-21T16:04:52.998Z"
   },
   {
    "duration": 6,
    "start_time": "2024-08-21T16:07:16.079Z"
   },
   {
    "duration": 6,
    "start_time": "2024-08-21T16:07:53.386Z"
   },
   {
    "duration": 23,
    "start_time": "2024-08-21T16:08:01.542Z"
   },
   {
    "duration": 22,
    "start_time": "2024-08-21T16:08:23.792Z"
   },
   {
    "duration": 5,
    "start_time": "2024-08-21T16:08:35.684Z"
   },
   {
    "duration": 2187,
    "start_time": "2024-08-21T16:08:40.136Z"
   },
   {
    "duration": 2113,
    "start_time": "2024-08-21T16:08:51.033Z"
   },
   {
    "duration": 1665,
    "start_time": "2024-08-21T16:10:36.280Z"
   },
   {
    "duration": 1943,
    "start_time": "2024-08-21T16:10:57.776Z"
   },
   {
    "duration": 902,
    "start_time": "2024-08-21T16:11:30.145Z"
   },
   {
    "duration": 2389,
    "start_time": "2024-08-21T16:11:55.340Z"
   },
   {
    "duration": 309,
    "start_time": "2024-08-21T16:12:26.123Z"
   },
   {
    "duration": 679,
    "start_time": "2024-08-21T16:12:35.927Z"
   },
   {
    "duration": 324,
    "start_time": "2024-08-21T16:12:36.609Z"
   },
   {
    "duration": 95,
    "start_time": "2024-08-21T16:12:36.937Z"
   },
   {
    "duration": 23,
    "start_time": "2024-08-21T16:12:37.039Z"
   },
   {
    "duration": 40,
    "start_time": "2024-08-21T16:12:37.066Z"
   },
   {
    "duration": 1635,
    "start_time": "2024-08-21T16:12:37.109Z"
   },
   {
    "duration": 196,
    "start_time": "2024-08-21T16:12:38.748Z"
   },
   {
    "duration": 19,
    "start_time": "2024-08-21T16:12:38.948Z"
   },
   {
    "duration": 201,
    "start_time": "2024-08-21T16:12:38.989Z"
   },
   {
    "duration": 181,
    "start_time": "2024-08-21T16:12:39.196Z"
   },
   {
    "duration": 46,
    "start_time": "2024-08-21T16:12:39.380Z"
   },
   {
    "duration": 24,
    "start_time": "2024-08-21T16:12:39.430Z"
   },
   {
    "duration": 36,
    "start_time": "2024-08-21T16:12:39.457Z"
   },
   {
    "duration": 8,
    "start_time": "2024-08-21T16:12:39.496Z"
   },
   {
    "duration": 33,
    "start_time": "2024-08-21T16:12:39.507Z"
   },
   {
    "duration": 54,
    "start_time": "2024-08-21T16:12:39.543Z"
   },
   {
    "duration": 29,
    "start_time": "2024-08-21T16:12:39.600Z"
   },
   {
    "duration": 7,
    "start_time": "2024-08-21T16:12:39.631Z"
   },
   {
    "duration": 8,
    "start_time": "2024-08-21T16:12:39.641Z"
   },
   {
    "duration": 45,
    "start_time": "2024-08-21T16:12:39.651Z"
   },
   {
    "duration": 10,
    "start_time": "2024-08-21T16:12:39.699Z"
   },
   {
    "duration": 9,
    "start_time": "2024-08-21T16:12:39.712Z"
   },
   {
    "duration": 10,
    "start_time": "2024-08-21T16:12:39.723Z"
   },
   {
    "duration": 1401,
    "start_time": "2024-08-21T16:12:39.735Z"
   },
   {
    "duration": 320,
    "start_time": "2024-08-21T16:12:41.140Z"
   },
   {
    "duration": 458,
    "start_time": "2024-08-21T16:12:41.463Z"
   },
   {
    "duration": 12,
    "start_time": "2024-08-21T16:12:41.923Z"
   },
   {
    "duration": 47,
    "start_time": "2024-08-21T16:12:41.945Z"
   },
   {
    "duration": 21,
    "start_time": "2024-08-21T16:12:41.995Z"
   },
   {
    "duration": 9,
    "start_time": "2024-08-21T16:12:42.019Z"
   },
   {
    "duration": 11,
    "start_time": "2024-08-21T16:12:42.032Z"
   },
   {
    "duration": 50,
    "start_time": "2024-08-21T16:12:42.046Z"
   },
   {
    "duration": 9,
    "start_time": "2024-08-21T16:12:42.099Z"
   },
   {
    "duration": 181,
    "start_time": "2024-08-21T16:12:42.111Z"
   },
   {
    "duration": 23,
    "start_time": "2024-08-21T16:12:42.295Z"
   },
   {
    "duration": 71,
    "start_time": "2024-08-21T16:12:42.321Z"
   },
   {
    "duration": 29,
    "start_time": "2024-08-21T16:12:42.395Z"
   },
   {
    "duration": 996,
    "start_time": "2024-08-21T16:12:42.427Z"
   },
   {
    "duration": 7,
    "start_time": "2024-08-21T16:12:43.426Z"
   },
   {
    "duration": 4,
    "start_time": "2024-08-21T16:12:43.437Z"
   },
   {
    "duration": 7,
    "start_time": "2024-08-21T16:12:43.444Z"
   },
   {
    "duration": 41,
    "start_time": "2024-08-21T16:12:43.454Z"
   },
   {
    "duration": 8,
    "start_time": "2024-08-21T16:12:43.498Z"
   },
   {
    "duration": 8,
    "start_time": "2024-08-21T16:12:43.509Z"
   },
   {
    "duration": 72,
    "start_time": "2024-08-21T16:12:43.521Z"
   },
   {
    "duration": 690,
    "start_time": "2024-08-21T16:12:43.596Z"
   },
   {
    "duration": 0,
    "start_time": "2024-08-21T16:12:44.289Z"
   },
   {
    "duration": 0,
    "start_time": "2024-08-21T16:12:44.291Z"
   },
   {
    "duration": 0,
    "start_time": "2024-08-21T16:12:44.293Z"
   },
   {
    "duration": 0,
    "start_time": "2024-08-21T16:12:44.295Z"
   },
   {
    "duration": 0,
    "start_time": "2024-08-21T16:12:44.297Z"
   },
   {
    "duration": 0,
    "start_time": "2024-08-21T16:12:44.298Z"
   },
   {
    "duration": 0,
    "start_time": "2024-08-21T16:12:44.301Z"
   },
   {
    "duration": 0,
    "start_time": "2024-08-21T16:12:44.303Z"
   },
   {
    "duration": 72,
    "start_time": "2024-08-21T16:12:44.434Z"
   },
   {
    "duration": 21,
    "start_time": "2024-08-21T16:12:44.717Z"
   },
   {
    "duration": 22,
    "start_time": "2024-08-21T16:12:45.015Z"
   },
   {
    "duration": 1532,
    "start_time": "2024-08-21T16:12:45.332Z"
   },
   {
    "duration": 168,
    "start_time": "2024-08-21T16:12:46.868Z"
   },
   {
    "duration": 18,
    "start_time": "2024-08-21T16:12:47.038Z"
   },
   {
    "duration": 201,
    "start_time": "2024-08-21T16:12:47.061Z"
   },
   {
    "duration": 186,
    "start_time": "2024-08-21T16:12:47.265Z"
   },
   {
    "duration": 59,
    "start_time": "2024-08-21T16:12:47.454Z"
   },
   {
    "duration": 24,
    "start_time": "2024-08-21T16:12:47.846Z"
   },
   {
    "duration": 9,
    "start_time": "2024-08-21T16:12:48.033Z"
   },
   {
    "duration": 7,
    "start_time": "2024-08-21T16:12:48.616Z"
   },
   {
    "duration": 42,
    "start_time": "2024-08-21T16:12:48.739Z"
   },
   {
    "duration": 21,
    "start_time": "2024-08-21T16:12:49.036Z"
   },
   {
    "duration": 29,
    "start_time": "2024-08-21T16:12:49.193Z"
   },
   {
    "duration": 6,
    "start_time": "2024-08-21T16:12:49.425Z"
   },
   {
    "duration": 7,
    "start_time": "2024-08-21T16:12:50.441Z"
   },
   {
    "duration": 7,
    "start_time": "2024-08-21T16:12:50.699Z"
   },
   {
    "duration": 9,
    "start_time": "2024-08-21T16:12:50.794Z"
   },
   {
    "duration": 8,
    "start_time": "2024-08-21T16:12:51.657Z"
   },
   {
    "duration": 7,
    "start_time": "2024-08-21T16:12:51.800Z"
   },
   {
    "duration": 1445,
    "start_time": "2024-08-21T16:12:52.253Z"
   },
   {
    "duration": 342,
    "start_time": "2024-08-21T16:12:53.702Z"
   },
   {
    "duration": 490,
    "start_time": "2024-08-21T16:12:54.047Z"
   },
   {
    "duration": 13,
    "start_time": "2024-08-21T16:12:54.540Z"
   },
   {
    "duration": 19,
    "start_time": "2024-08-21T16:12:59.042Z"
   },
   {
    "duration": 20,
    "start_time": "2024-08-21T16:13:02.761Z"
   },
   {
    "duration": 11,
    "start_time": "2024-08-21T16:13:03.394Z"
   },
   {
    "duration": 9,
    "start_time": "2024-08-21T16:13:04.074Z"
   },
   {
    "duration": 9,
    "start_time": "2024-08-21T16:13:04.527Z"
   },
   {
    "duration": 9,
    "start_time": "2024-08-21T16:13:05.034Z"
   },
   {
    "duration": 157,
    "start_time": "2024-08-21T16:13:05.788Z"
   },
   {
    "duration": 25,
    "start_time": "2024-08-21T16:13:05.989Z"
   },
   {
    "duration": 48,
    "start_time": "2024-08-21T16:13:08.054Z"
   },
   {
    "duration": 30,
    "start_time": "2024-08-21T16:13:10.258Z"
   },
   {
    "duration": 1074,
    "start_time": "2024-08-21T16:13:12.655Z"
   },
   {
    "duration": 924,
    "start_time": "2024-08-21T16:13:40.525Z"
   },
   {
    "duration": 970,
    "start_time": "2024-08-21T16:14:11.837Z"
   },
   {
    "duration": 1772,
    "start_time": "2024-08-21T16:14:33.556Z"
   },
   {
    "duration": 873,
    "start_time": "2024-08-21T16:15:10.361Z"
   },
   {
    "duration": 956,
    "start_time": "2024-08-21T16:15:23.531Z"
   },
   {
    "duration": 906,
    "start_time": "2024-08-21T16:16:09.949Z"
   },
   {
    "duration": 4223,
    "start_time": "2024-08-21T17:37:36.867Z"
   },
   {
    "duration": 279,
    "start_time": "2024-08-21T17:37:41.093Z"
   },
   {
    "duration": 104,
    "start_time": "2024-08-21T17:37:41.375Z"
   },
   {
    "duration": 25,
    "start_time": "2024-08-21T17:37:41.484Z"
   },
   {
    "duration": 48,
    "start_time": "2024-08-21T17:37:41.512Z"
   },
   {
    "duration": 1626,
    "start_time": "2024-08-21T17:37:41.563Z"
   },
   {
    "duration": 181,
    "start_time": "2024-08-21T17:37:43.191Z"
   },
   {
    "duration": 20,
    "start_time": "2024-08-21T17:37:43.374Z"
   },
   {
    "duration": 204,
    "start_time": "2024-08-21T17:37:43.397Z"
   },
   {
    "duration": 175,
    "start_time": "2024-08-21T17:37:43.608Z"
   },
   {
    "duration": 56,
    "start_time": "2024-08-21T17:37:43.786Z"
   },
   {
    "duration": 25,
    "start_time": "2024-08-21T17:37:43.845Z"
   },
   {
    "duration": 8,
    "start_time": "2024-08-21T17:37:43.873Z"
   },
   {
    "duration": 7,
    "start_time": "2024-08-21T17:37:43.885Z"
   },
   {
    "duration": 70,
    "start_time": "2024-08-21T17:37:43.895Z"
   },
   {
    "duration": 21,
    "start_time": "2024-08-21T17:37:43.969Z"
   },
   {
    "duration": 55,
    "start_time": "2024-08-21T17:37:43.993Z"
   },
   {
    "duration": 6,
    "start_time": "2024-08-21T17:37:44.073Z"
   },
   {
    "duration": 6,
    "start_time": "2024-08-21T17:37:44.977Z"
   },
   {
    "duration": 6,
    "start_time": "2024-08-21T17:37:45.198Z"
   },
   {
    "duration": 8,
    "start_time": "2024-08-21T17:37:45.433Z"
   },
   {
    "duration": 7,
    "start_time": "2024-08-21T17:37:46.291Z"
   },
   {
    "duration": 7,
    "start_time": "2024-08-21T17:37:46.515Z"
   },
   {
    "duration": 1296,
    "start_time": "2024-08-21T17:37:47.414Z"
   },
   {
    "duration": 307,
    "start_time": "2024-08-21T17:37:48.714Z"
   },
   {
    "duration": 443,
    "start_time": "2024-08-21T17:37:49.024Z"
   },
   {
    "duration": 11,
    "start_time": "2024-08-21T17:37:49.470Z"
   },
   {
    "duration": 19,
    "start_time": "2024-08-21T17:37:49.484Z"
   },
   {
    "duration": 18,
    "start_time": "2024-08-21T17:37:49.768Z"
   },
   {
    "duration": 9,
    "start_time": "2024-08-21T17:37:50.217Z"
   },
   {
    "duration": 9,
    "start_time": "2024-08-21T17:37:50.645Z"
   },
   {
    "duration": 9,
    "start_time": "2024-08-21T17:37:51.238Z"
   },
   {
    "duration": 9,
    "start_time": "2024-08-21T17:37:51.711Z"
   },
   {
    "duration": 153,
    "start_time": "2024-08-21T17:37:52.413Z"
   },
   {
    "duration": 25,
    "start_time": "2024-08-21T17:37:52.658Z"
   },
   {
    "duration": 47,
    "start_time": "2024-08-21T17:37:54.215Z"
   },
   {
    "duration": 28,
    "start_time": "2024-08-21T17:37:54.811Z"
   },
   {
    "duration": 955,
    "start_time": "2024-08-21T17:37:55.271Z"
   },
   {
    "duration": 0,
    "start_time": "2024-08-21T17:37:56.229Z"
   },
   {
    "duration": 855,
    "start_time": "2024-08-21T17:38:10.523Z"
   },
   {
    "duration": 869,
    "start_time": "2024-08-21T17:38:23.909Z"
   },
   {
    "duration": 3085,
    "start_time": "2024-08-21T17:41:41.104Z"
   },
   {
    "duration": 2032,
    "start_time": "2024-08-21T17:41:51.020Z"
   },
   {
    "duration": 2160,
    "start_time": "2024-08-21T17:42:10.213Z"
   },
   {
    "duration": 3421,
    "start_time": "2024-08-21T17:42:53.596Z"
   },
   {
    "duration": 762,
    "start_time": "2024-08-21T17:43:54.366Z"
   },
   {
    "duration": 2676,
    "start_time": "2024-08-21T17:50:30.405Z"
   },
   {
    "duration": 1417,
    "start_time": "2024-08-21T17:50:42.119Z"
   },
   {
    "duration": 1563,
    "start_time": "2024-08-21T17:51:22.111Z"
   },
   {
    "duration": 1496,
    "start_time": "2024-08-21T17:55:42.140Z"
   },
   {
    "duration": 698,
    "start_time": "2024-08-21T17:56:33.754Z"
   },
   {
    "duration": 327,
    "start_time": "2024-08-21T17:56:34.455Z"
   },
   {
    "duration": 109,
    "start_time": "2024-08-21T17:56:34.786Z"
   },
   {
    "duration": 35,
    "start_time": "2024-08-21T17:56:34.899Z"
   },
   {
    "duration": 25,
    "start_time": "2024-08-21T17:56:34.936Z"
   },
   {
    "duration": 1647,
    "start_time": "2024-08-21T17:56:34.964Z"
   },
   {
    "duration": 193,
    "start_time": "2024-08-21T17:56:36.614Z"
   },
   {
    "duration": 33,
    "start_time": "2024-08-21T17:56:36.809Z"
   },
   {
    "duration": 203,
    "start_time": "2024-08-21T17:56:36.845Z"
   },
   {
    "duration": 175,
    "start_time": "2024-08-21T17:56:37.055Z"
   },
   {
    "duration": 45,
    "start_time": "2024-08-21T17:56:37.232Z"
   },
   {
    "duration": 23,
    "start_time": "2024-08-21T17:56:37.280Z"
   },
   {
    "duration": 33,
    "start_time": "2024-08-21T17:56:37.305Z"
   },
   {
    "duration": 6,
    "start_time": "2024-08-21T17:56:37.342Z"
   },
   {
    "duration": 32,
    "start_time": "2024-08-21T17:56:37.351Z"
   },
   {
    "duration": 58,
    "start_time": "2024-08-21T17:56:37.386Z"
   },
   {
    "duration": 27,
    "start_time": "2024-08-21T17:56:37.447Z"
   },
   {
    "duration": 6,
    "start_time": "2024-08-21T17:56:37.478Z"
   },
   {
    "duration": 9,
    "start_time": "2024-08-21T17:56:37.487Z"
   },
   {
    "duration": 7,
    "start_time": "2024-08-21T17:56:37.533Z"
   },
   {
    "duration": 9,
    "start_time": "2024-08-21T17:56:37.543Z"
   },
   {
    "duration": 8,
    "start_time": "2024-08-21T17:56:37.555Z"
   },
   {
    "duration": 7,
    "start_time": "2024-08-21T17:56:37.566Z"
   },
   {
    "duration": 1336,
    "start_time": "2024-08-21T17:56:37.576Z"
   },
   {
    "duration": 300,
    "start_time": "2024-08-21T17:56:38.915Z"
   },
   {
    "duration": 446,
    "start_time": "2024-08-21T17:56:39.218Z"
   },
   {
    "duration": 11,
    "start_time": "2024-08-21T17:56:39.667Z"
   },
   {
    "duration": 48,
    "start_time": "2024-08-21T17:56:39.687Z"
   },
   {
    "duration": 20,
    "start_time": "2024-08-21T17:56:39.738Z"
   },
   {
    "duration": 10,
    "start_time": "2024-08-21T17:56:39.761Z"
   },
   {
    "duration": 10,
    "start_time": "2024-08-21T17:56:39.774Z"
   },
   {
    "duration": 50,
    "start_time": "2024-08-21T17:56:39.787Z"
   },
   {
    "duration": 9,
    "start_time": "2024-08-21T17:56:39.840Z"
   },
   {
    "duration": 172,
    "start_time": "2024-08-21T17:56:39.852Z"
   },
   {
    "duration": 31,
    "start_time": "2024-08-21T17:56:40.027Z"
   },
   {
    "duration": 73,
    "start_time": "2024-08-21T17:56:40.062Z"
   },
   {
    "duration": 773,
    "start_time": "2024-08-21T17:56:40.138Z"
   },
   {
    "duration": 31,
    "start_time": "2024-08-21T17:56:40.915Z"
   },
   {
    "duration": 1543,
    "start_time": "2024-08-21T17:56:40.948Z"
   },
   {
    "duration": 9,
    "start_time": "2024-08-21T17:56:42.494Z"
   },
   {
    "duration": 3,
    "start_time": "2024-08-21T17:56:42.506Z"
   },
   {
    "duration": 7,
    "start_time": "2024-08-21T17:56:42.533Z"
   },
   {
    "duration": 7,
    "start_time": "2024-08-21T17:56:42.542Z"
   },
   {
    "duration": 8,
    "start_time": "2024-08-21T17:56:42.551Z"
   },
   {
    "duration": 7,
    "start_time": "2024-08-21T17:56:42.561Z"
   },
   {
    "duration": 72,
    "start_time": "2024-08-21T17:56:42.570Z"
   },
   {
    "duration": 645,
    "start_time": "2024-08-21T17:56:42.645Z"
   },
   {
    "duration": 0,
    "start_time": "2024-08-21T17:56:43.293Z"
   },
   {
    "duration": 0,
    "start_time": "2024-08-21T17:56:43.296Z"
   },
   {
    "duration": 0,
    "start_time": "2024-08-21T17:56:43.298Z"
   },
   {
    "duration": 0,
    "start_time": "2024-08-21T17:56:43.300Z"
   },
   {
    "duration": 0,
    "start_time": "2024-08-21T17:56:43.302Z"
   },
   {
    "duration": 0,
    "start_time": "2024-08-21T17:56:43.304Z"
   },
   {
    "duration": 4,
    "start_time": "2024-08-21T17:56:43.403Z"
   },
   {
    "duration": 217,
    "start_time": "2024-08-21T17:56:43.984Z"
   },
   {
    "duration": 69,
    "start_time": "2024-08-21T17:56:44.390Z"
   },
   {
    "duration": 22,
    "start_time": "2024-08-21T17:56:44.786Z"
   },
   {
    "duration": 21,
    "start_time": "2024-08-21T17:56:45.171Z"
   },
   {
    "duration": 1564,
    "start_time": "2024-08-21T17:56:45.590Z"
   },
   {
    "duration": 153,
    "start_time": "2024-08-21T17:56:47.158Z"
   },
   {
    "duration": 29,
    "start_time": "2024-08-21T17:56:47.314Z"
   },
   {
    "duration": 157,
    "start_time": "2024-08-21T17:56:47.380Z"
   },
   {
    "duration": 153,
    "start_time": "2024-08-21T17:56:47.781Z"
   },
   {
    "duration": 45,
    "start_time": "2024-08-21T17:56:47.986Z"
   },
   {
    "duration": 24,
    "start_time": "2024-08-21T17:56:48.598Z"
   },
   {
    "duration": 9,
    "start_time": "2024-08-21T17:56:48.787Z"
   },
   {
    "duration": 7,
    "start_time": "2024-08-21T17:56:49.196Z"
   },
   {
    "duration": 31,
    "start_time": "2024-08-21T17:56:49.399Z"
   },
   {
    "duration": 21,
    "start_time": "2024-08-21T17:56:49.822Z"
   },
   {
    "duration": 27,
    "start_time": "2024-08-21T17:56:50.025Z"
   },
   {
    "duration": 6,
    "start_time": "2024-08-21T17:56:50.243Z"
   },
   {
    "duration": 7,
    "start_time": "2024-08-21T17:56:51.052Z"
   },
   {
    "duration": 7,
    "start_time": "2024-08-21T17:56:51.274Z"
   },
   {
    "duration": 9,
    "start_time": "2024-08-21T17:56:51.464Z"
   },
   {
    "duration": 7,
    "start_time": "2024-08-21T17:56:52.305Z"
   },
   {
    "duration": 7,
    "start_time": "2024-08-21T17:56:52.502Z"
   },
   {
    "duration": 1294,
    "start_time": "2024-08-21T17:56:53.348Z"
   },
   {
    "duration": 314,
    "start_time": "2024-08-21T17:56:54.646Z"
   },
   {
    "duration": 442,
    "start_time": "2024-08-21T17:56:54.963Z"
   },
   {
    "duration": 14,
    "start_time": "2024-08-21T17:56:55.408Z"
   },
   {
    "duration": 19,
    "start_time": "2024-08-21T17:56:55.435Z"
   },
   {
    "duration": 19,
    "start_time": "2024-08-21T17:56:55.458Z"
   },
   {
    "duration": 9,
    "start_time": "2024-08-21T17:56:58.186Z"
   },
   {
    "duration": 9,
    "start_time": "2024-08-21T17:56:58.615Z"
   },
   {
    "duration": 8,
    "start_time": "2024-08-21T17:56:59.002Z"
   },
   {
    "duration": 9,
    "start_time": "2024-08-21T17:56:59.411Z"
   },
   {
    "duration": 146,
    "start_time": "2024-08-21T17:57:00.028Z"
   },
   {
    "duration": 26,
    "start_time": "2024-08-21T17:57:00.230Z"
   },
   {
    "duration": 51,
    "start_time": "2024-08-21T17:57:01.076Z"
   },
   {
    "duration": 769,
    "start_time": "2024-08-21T17:57:01.256Z"
   },
   {
    "duration": 19,
    "start_time": "2024-08-21T17:57:02.034Z"
   },
   {
    "duration": 1485,
    "start_time": "2024-08-21T17:57:02.585Z"
   },
   {
    "duration": 5,
    "start_time": "2024-08-21T17:57:04.075Z"
   },
   {
    "duration": 4,
    "start_time": "2024-08-21T17:57:04.083Z"
   },
   {
    "duration": 1490,
    "start_time": "2024-08-21T17:57:30.160Z"
   },
   {
    "duration": 1515,
    "start_time": "2024-08-21T17:58:09.930Z"
   },
   {
    "duration": 8,
    "start_time": "2024-08-21T17:59:14.092Z"
   },
   {
    "duration": 325,
    "start_time": "2024-08-21T18:02:03.131Z"
   },
   {
    "duration": 741,
    "start_time": "2024-08-21T18:02:17.025Z"
   },
   {
    "duration": 281,
    "start_time": "2024-08-21T18:02:17.769Z"
   },
   {
    "duration": 107,
    "start_time": "2024-08-21T18:02:18.053Z"
   },
   {
    "duration": 23,
    "start_time": "2024-08-21T18:02:18.164Z"
   },
   {
    "duration": 44,
    "start_time": "2024-08-21T18:02:18.190Z"
   },
   {
    "duration": 1666,
    "start_time": "2024-08-21T18:02:18.238Z"
   },
   {
    "duration": 184,
    "start_time": "2024-08-21T18:02:19.908Z"
   },
   {
    "duration": 20,
    "start_time": "2024-08-21T18:02:20.096Z"
   },
   {
    "duration": 191,
    "start_time": "2024-08-21T18:02:20.135Z"
   },
   {
    "duration": 173,
    "start_time": "2024-08-21T18:02:20.328Z"
   },
   {
    "duration": 65,
    "start_time": "2024-08-21T18:02:20.504Z"
   },
   {
    "duration": 22,
    "start_time": "2024-08-21T18:02:20.573Z"
   },
   {
    "duration": 8,
    "start_time": "2024-08-21T18:02:20.598Z"
   },
   {
    "duration": 6,
    "start_time": "2024-08-21T18:02:20.636Z"
   },
   {
    "duration": 33,
    "start_time": "2024-08-21T18:02:20.646Z"
   },
   {
    "duration": 21,
    "start_time": "2024-08-21T18:02:20.681Z"
   },
   {
    "duration": 28,
    "start_time": "2024-08-21T18:02:20.735Z"
   },
   {
    "duration": 6,
    "start_time": "2024-08-21T18:02:20.766Z"
   },
   {
    "duration": 7,
    "start_time": "2024-08-21T18:02:20.828Z"
   },
   {
    "duration": 7,
    "start_time": "2024-08-21T18:02:20.922Z"
   },
   {
    "duration": 9,
    "start_time": "2024-08-21T18:02:21.016Z"
   },
   {
    "duration": 7,
    "start_time": "2024-08-21T18:02:21.382Z"
   },
   {
    "duration": 7,
    "start_time": "2024-08-21T18:02:21.894Z"
   },
   {
    "duration": 1310,
    "start_time": "2024-08-21T18:02:22.356Z"
   },
   {
    "duration": 304,
    "start_time": "2024-08-21T18:02:23.670Z"
   },
   {
    "duration": 449,
    "start_time": "2024-08-21T18:02:23.977Z"
   },
   {
    "duration": 11,
    "start_time": "2024-08-21T18:02:24.436Z"
   },
   {
    "duration": 19,
    "start_time": "2024-08-21T18:02:24.450Z"
   },
   {
    "duration": 19,
    "start_time": "2024-08-21T18:02:24.472Z"
   },
   {
    "duration": 47,
    "start_time": "2024-08-21T18:02:24.493Z"
   },
   {
    "duration": 10,
    "start_time": "2024-08-21T18:02:24.543Z"
   },
   {
    "duration": 9,
    "start_time": "2024-08-21T18:02:24.556Z"
   },
   {
    "duration": 9,
    "start_time": "2024-08-21T18:02:24.569Z"
   },
   {
    "duration": 150,
    "start_time": "2024-08-21T18:02:25.105Z"
   },
   {
    "duration": 26,
    "start_time": "2024-08-21T18:02:25.260Z"
   },
   {
    "duration": 46,
    "start_time": "2024-08-21T18:02:27.259Z"
   },
   {
    "duration": 759,
    "start_time": "2024-08-21T18:02:28.004Z"
   },
   {
    "duration": 19,
    "start_time": "2024-08-21T18:02:40.401Z"
   },
   {
    "duration": 1615,
    "start_time": "2024-08-21T18:02:43.766Z"
   },
   {
    "duration": 8,
    "start_time": "2024-08-21T18:06:59.640Z"
   },
   {
    "duration": 1154,
    "start_time": "2024-08-21T18:07:06.747Z"
   },
   {
    "duration": 97,
    "start_time": "2024-08-21T18:07:31.818Z"
   },
   {
    "duration": 95,
    "start_time": "2024-08-21T18:09:39.762Z"
   },
   {
    "duration": 24,
    "start_time": "2024-08-21T18:10:48.849Z"
   },
   {
    "duration": 3,
    "start_time": "2024-08-21T18:11:29.895Z"
   },
   {
    "duration": 219,
    "start_time": "2024-08-21T18:11:30.067Z"
   },
   {
    "duration": 69,
    "start_time": "2024-08-21T18:11:30.532Z"
   },
   {
    "duration": 24,
    "start_time": "2024-08-21T18:11:31.085Z"
   },
   {
    "duration": 23,
    "start_time": "2024-08-21T18:11:31.578Z"
   },
   {
    "duration": 1700,
    "start_time": "2024-08-21T18:11:31.925Z"
   },
   {
    "duration": 137,
    "start_time": "2024-08-21T18:11:33.636Z"
   },
   {
    "duration": 18,
    "start_time": "2024-08-21T18:11:33.776Z"
   },
   {
    "duration": 166,
    "start_time": "2024-08-21T18:11:33.798Z"
   },
   {
    "duration": 149,
    "start_time": "2024-08-21T18:11:33.967Z"
   },
   {
    "duration": 48,
    "start_time": "2024-08-21T18:11:34.119Z"
   },
   {
    "duration": 23,
    "start_time": "2024-08-21T18:11:34.443Z"
   },
   {
    "duration": 9,
    "start_time": "2024-08-21T18:11:34.618Z"
   },
   {
    "duration": 7,
    "start_time": "2024-08-21T18:11:34.978Z"
   },
   {
    "duration": 32,
    "start_time": "2024-08-21T18:11:35.120Z"
   },
   {
    "duration": 20,
    "start_time": "2024-08-21T18:11:35.452Z"
   },
   {
    "duration": 33,
    "start_time": "2024-08-21T18:11:35.623Z"
   },
   {
    "duration": 6,
    "start_time": "2024-08-21T18:11:35.792Z"
   },
   {
    "duration": 7,
    "start_time": "2024-08-21T18:11:36.490Z"
   },
   {
    "duration": 8,
    "start_time": "2024-08-21T18:11:36.674Z"
   },
   {
    "duration": 13,
    "start_time": "2024-08-21T18:11:36.830Z"
   },
   {
    "duration": 7,
    "start_time": "2024-08-21T18:11:37.529Z"
   },
   {
    "duration": 7,
    "start_time": "2024-08-21T18:11:37.702Z"
   },
   {
    "duration": 1233,
    "start_time": "2024-08-21T18:11:38.422Z"
   },
   {
    "duration": 307,
    "start_time": "2024-08-21T18:11:39.659Z"
   },
   {
    "duration": 487,
    "start_time": "2024-08-21T18:11:39.969Z"
   },
   {
    "duration": 12,
    "start_time": "2024-08-21T18:11:40.460Z"
   },
   {
    "duration": 22,
    "start_time": "2024-08-21T18:11:40.476Z"
   },
   {
    "duration": 20,
    "start_time": "2024-08-21T18:11:40.570Z"
   },
   {
    "duration": 11,
    "start_time": "2024-08-21T18:11:40.928Z"
   },
   {
    "duration": 9,
    "start_time": "2024-08-21T18:11:41.308Z"
   },
   {
    "duration": 8,
    "start_time": "2024-08-21T18:11:41.830Z"
   },
   {
    "duration": 8,
    "start_time": "2024-08-21T18:11:42.181Z"
   },
   {
    "duration": 135,
    "start_time": "2024-08-21T18:11:42.726Z"
   },
   {
    "duration": 22,
    "start_time": "2024-08-21T18:11:42.894Z"
   },
   {
    "duration": 44,
    "start_time": "2024-08-21T18:11:43.617Z"
   },
   {
    "duration": 18,
    "start_time": "2024-08-21T18:11:43.973Z"
   },
   {
    "duration": 1589,
    "start_time": "2024-08-21T18:11:44.346Z"
   },
   {
    "duration": 119,
    "start_time": "2024-08-21T18:11:45.939Z"
   },
   {
    "duration": 102,
    "start_time": "2024-08-21T18:12:33.032Z"
   },
   {
    "duration": 32,
    "start_time": "2024-08-21T18:13:40.957Z"
   },
   {
    "duration": 40,
    "start_time": "2024-08-21T18:13:55.241Z"
   },
   {
    "duration": 39,
    "start_time": "2024-08-21T18:14:18.670Z"
   },
   {
    "duration": 39,
    "start_time": "2024-08-21T18:14:24.819Z"
   },
   {
    "duration": 46,
    "start_time": "2024-08-21T18:15:30.571Z"
   },
   {
    "duration": 37,
    "start_time": "2024-08-21T18:15:39.300Z"
   },
   {
    "duration": 6,
    "start_time": "2024-08-21T18:15:52.576Z"
   },
   {
    "duration": 6,
    "start_time": "2024-08-21T18:15:52.930Z"
   },
   {
    "duration": 10,
    "start_time": "2024-08-21T18:15:53.270Z"
   },
   {
    "duration": 8,
    "start_time": "2024-08-21T18:15:56.368Z"
   },
   {
    "duration": 8,
    "start_time": "2024-08-21T18:16:43.740Z"
   },
   {
    "duration": 321,
    "start_time": "2024-08-21T18:16:45.632Z"
   },
   {
    "duration": 350,
    "start_time": "2024-08-21T18:17:17.787Z"
   },
   {
    "duration": 302,
    "start_time": "2024-08-21T18:17:29.133Z"
   },
   {
    "duration": 304,
    "start_time": "2024-08-21T18:17:39.687Z"
   },
   {
    "duration": 4609,
    "start_time": "2024-08-21T19:07:59.337Z"
   },
   {
    "duration": 316,
    "start_time": "2024-08-21T19:08:03.950Z"
   },
   {
    "duration": 112,
    "start_time": "2024-08-21T19:08:04.269Z"
   },
   {
    "duration": 35,
    "start_time": "2024-08-21T19:08:04.386Z"
   },
   {
    "duration": 26,
    "start_time": "2024-08-21T19:08:04.424Z"
   },
   {
    "duration": 1812,
    "start_time": "2024-08-21T19:08:04.453Z"
   },
   {
    "duration": 269,
    "start_time": "2024-08-21T19:08:06.270Z"
   },
   {
    "duration": 25,
    "start_time": "2024-08-21T19:08:06.544Z"
   },
   {
    "duration": 272,
    "start_time": "2024-08-21T19:08:07.399Z"
   },
   {
    "duration": 227,
    "start_time": "2024-08-21T19:08:08.423Z"
   },
   {
    "duration": 60,
    "start_time": "2024-08-21T19:08:08.936Z"
   },
   {
    "duration": 32,
    "start_time": "2024-08-21T19:08:10.381Z"
   },
   {
    "duration": 11,
    "start_time": "2024-08-21T19:08:10.840Z"
   },
   {
    "duration": 13,
    "start_time": "2024-08-21T19:08:11.795Z"
   },
   {
    "duration": 58,
    "start_time": "2024-08-21T19:08:12.239Z"
   },
   {
    "duration": 28,
    "start_time": "2024-08-21T19:08:13.148Z"
   },
   {
    "duration": 45,
    "start_time": "2024-08-21T19:08:13.619Z"
   },
   {
    "duration": 11,
    "start_time": "2024-08-21T19:08:14.075Z"
   },
   {
    "duration": 10,
    "start_time": "2024-08-21T19:08:15.873Z"
   },
   {
    "duration": 11,
    "start_time": "2024-08-21T19:08:16.297Z"
   },
   {
    "duration": 17,
    "start_time": "2024-08-21T19:08:16.763Z"
   },
   {
    "duration": 8,
    "start_time": "2024-08-21T19:08:18.456Z"
   },
   {
    "duration": 7,
    "start_time": "2024-08-21T19:08:18.902Z"
   },
   {
    "duration": 1651,
    "start_time": "2024-08-21T19:08:20.637Z"
   },
   {
    "duration": 373,
    "start_time": "2024-08-21T19:08:22.292Z"
   },
   {
    "duration": 589,
    "start_time": "2024-08-21T19:08:22.669Z"
   },
   {
    "duration": 17,
    "start_time": "2024-08-21T19:08:25.788Z"
   },
   {
    "duration": 25,
    "start_time": "2024-08-21T19:08:27.560Z"
   },
   {
    "duration": 25,
    "start_time": "2024-08-21T19:08:28.989Z"
   },
   {
    "duration": 15,
    "start_time": "2024-08-21T19:08:30.217Z"
   },
   {
    "duration": 11,
    "start_time": "2024-08-21T19:08:31.255Z"
   },
   {
    "duration": 11,
    "start_time": "2024-08-21T19:08:32.347Z"
   },
   {
    "duration": 13,
    "start_time": "2024-08-21T19:08:33.685Z"
   },
   {
    "duration": 200,
    "start_time": "2024-08-21T19:08:35.562Z"
   },
   {
    "duration": 29,
    "start_time": "2024-08-21T19:08:36.290Z"
   },
   {
    "duration": 54,
    "start_time": "2024-08-21T19:08:38.975Z"
   },
   {
    "duration": 20,
    "start_time": "2024-08-21T19:08:40.265Z"
   },
   {
    "duration": 1880,
    "start_time": "2024-08-21T19:08:41.611Z"
   },
   {
    "duration": 49,
    "start_time": "2024-08-21T19:08:46.282Z"
   },
   {
    "duration": 13,
    "start_time": "2024-08-21T19:08:53.216Z"
   },
   {
    "duration": 14,
    "start_time": "2024-08-21T19:08:53.892Z"
   },
   {
    "duration": 8,
    "start_time": "2024-08-21T19:08:54.655Z"
   },
   {
    "duration": 6,
    "start_time": "2024-08-21T19:08:55.288Z"
   },
   {
    "duration": 738,
    "start_time": "2024-08-21T19:08:56.628Z"
   },
   {
    "duration": 288,
    "start_time": "2024-08-21T19:09:00.303Z"
   },
   {
    "duration": 320,
    "start_time": "2024-08-21T19:09:03.588Z"
   },
   {
    "duration": 463,
    "start_time": "2024-08-21T19:09:09.982Z"
   },
   {
    "duration": 566,
    "start_time": "2024-08-21T19:09:15.214Z"
   },
   {
    "duration": 93,
    "start_time": "2024-08-21T19:09:30.768Z"
   },
   {
    "duration": 84,
    "start_time": "2024-08-21T19:09:49.338Z"
   },
   {
    "duration": 80,
    "start_time": "2024-08-21T19:10:10.298Z"
   },
   {
    "duration": 89,
    "start_time": "2024-08-21T19:10:52.965Z"
   },
   {
    "duration": 11,
    "start_time": "2024-08-21T19:11:41.273Z"
   },
   {
    "duration": 352,
    "start_time": "2024-08-21T19:11:47.245Z"
   },
   {
    "duration": 74,
    "start_time": "2024-08-21T19:12:44.419Z"
   },
   {
    "duration": 294,
    "start_time": "2024-08-21T19:14:12.568Z"
   },
   {
    "duration": 6,
    "start_time": "2024-08-21T19:21:54.729Z"
   },
   {
    "duration": 16,
    "start_time": "2024-08-21T19:22:27.078Z"
   },
   {
    "duration": 40,
    "start_time": "2024-08-21T19:22:32.946Z"
   },
   {
    "duration": 24,
    "start_time": "2024-08-21T19:22:45.664Z"
   },
   {
    "duration": 57,
    "start_time": "2024-08-21T19:23:19.437Z"
   },
   {
    "duration": 48,
    "start_time": "2024-08-21T19:23:48.678Z"
   },
   {
    "duration": 48,
    "start_time": "2024-08-21T19:23:52.432Z"
   },
   {
    "duration": 929,
    "start_time": "2024-08-21T19:26:22.519Z"
   },
   {
    "duration": 61,
    "start_time": "2024-08-21T19:27:31.723Z"
   },
   {
    "duration": 36,
    "start_time": "2024-08-21T19:28:11.778Z"
   },
   {
    "duration": 52,
    "start_time": "2024-08-21T19:28:29.325Z"
   },
   {
    "duration": 3745,
    "start_time": "2024-08-21T20:02:31.302Z"
   },
   {
    "duration": 185,
    "start_time": "2024-08-21T20:03:04.423Z"
   },
   {
    "duration": 174,
    "start_time": "2024-08-21T20:03:40.566Z"
   },
   {
    "duration": 184,
    "start_time": "2024-08-21T20:05:20.113Z"
   },
   {
    "duration": 176,
    "start_time": "2024-08-21T20:05:32.095Z"
   },
   {
    "duration": 176,
    "start_time": "2024-08-21T20:05:42.184Z"
   },
   {
    "duration": 189,
    "start_time": "2024-08-21T20:05:56.321Z"
   },
   {
    "duration": 180,
    "start_time": "2024-08-21T20:06:06.800Z"
   },
   {
    "duration": 171,
    "start_time": "2024-08-21T20:14:41.836Z"
   },
   {
    "duration": 484,
    "start_time": "2024-08-21T20:16:09.839Z"
   },
   {
    "duration": 213,
    "start_time": "2024-08-21T20:16:25.280Z"
   },
   {
    "duration": 227,
    "start_time": "2024-08-21T20:16:29.912Z"
   },
   {
    "duration": 163,
    "start_time": "2024-08-21T20:16:35.617Z"
   },
   {
    "duration": 202,
    "start_time": "2024-08-21T20:18:46.100Z"
   },
   {
    "duration": 7,
    "start_time": "2024-08-21T20:22:32.523Z"
   },
   {
    "duration": 6,
    "start_time": "2024-08-21T20:22:38.358Z"
   },
   {
    "duration": 1257,
    "start_time": "2024-08-21T20:22:42.799Z"
   },
   {
    "duration": 194,
    "start_time": "2024-08-21T20:24:39.641Z"
   },
   {
    "duration": 742,
    "start_time": "2024-08-21T20:24:45.248Z"
   },
   {
    "duration": 205,
    "start_time": "2024-08-21T20:25:38.151Z"
   },
   {
    "duration": 299,
    "start_time": "2024-08-21T20:25:44.114Z"
   },
   {
    "duration": 1193,
    "start_time": "2024-08-21T20:27:49.552Z"
   },
   {
    "duration": 750,
    "start_time": "2024-08-21T20:28:41.140Z"
   },
   {
    "duration": 362,
    "start_time": "2024-08-21T20:28:41.895Z"
   },
   {
    "duration": 111,
    "start_time": "2024-08-21T20:28:42.263Z"
   },
   {
    "duration": 38,
    "start_time": "2024-08-21T20:28:42.380Z"
   },
   {
    "duration": 25,
    "start_time": "2024-08-21T20:28:42.586Z"
   },
   {
    "duration": 1818,
    "start_time": "2024-08-21T20:28:42.984Z"
   },
   {
    "duration": 189,
    "start_time": "2024-08-21T20:28:45.854Z"
   },
   {
    "duration": 21,
    "start_time": "2024-08-21T20:28:46.476Z"
   },
   {
    "duration": 205,
    "start_time": "2024-08-21T20:28:47.408Z"
   },
   {
    "duration": 187,
    "start_time": "2024-08-21T20:28:47.802Z"
   },
   {
    "duration": 52,
    "start_time": "2024-08-21T20:28:48.006Z"
   },
   {
    "duration": 33,
    "start_time": "2024-08-21T20:28:48.631Z"
   },
   {
    "duration": 8,
    "start_time": "2024-08-21T20:28:49.117Z"
   },
   {
    "duration": 12,
    "start_time": "2024-08-21T20:28:49.524Z"
   },
   {
    "duration": 36,
    "start_time": "2024-08-21T20:28:50.329Z"
   },
   {
    "duration": 31,
    "start_time": "2024-08-21T20:28:50.732Z"
   },
   {
    "duration": 35,
    "start_time": "2024-08-21T20:28:51.681Z"
   },
   {
    "duration": 7,
    "start_time": "2024-08-21T20:28:51.886Z"
   },
   {
    "duration": 7,
    "start_time": "2024-08-21T20:28:52.665Z"
   },
   {
    "duration": 9,
    "start_time": "2024-08-21T20:28:52.860Z"
   },
   {
    "duration": 9,
    "start_time": "2024-08-21T20:28:53.052Z"
   },
   {
    "duration": 8,
    "start_time": "2024-08-21T20:28:54.598Z"
   },
   {
    "duration": 12,
    "start_time": "2024-08-21T20:28:54.806Z"
   },
   {
    "duration": 1391,
    "start_time": "2024-08-21T20:28:55.573Z"
   },
   {
    "duration": 347,
    "start_time": "2024-08-21T20:28:56.968Z"
   },
   {
    "duration": 471,
    "start_time": "2024-08-21T20:28:57.318Z"
   },
   {
    "duration": 12,
    "start_time": "2024-08-21T20:29:01.338Z"
   },
   {
    "duration": 26,
    "start_time": "2024-08-21T20:29:03.628Z"
   },
   {
    "duration": 25,
    "start_time": "2024-08-21T20:29:05.868Z"
   },
   {
    "duration": 9,
    "start_time": "2024-08-21T20:29:08.558Z"
   },
   {
    "duration": 13,
    "start_time": "2024-08-21T20:29:09.856Z"
   },
   {
    "duration": 9,
    "start_time": "2024-08-21T20:29:10.906Z"
   },
   {
    "duration": 11,
    "start_time": "2024-08-21T20:29:11.680Z"
   },
   {
    "duration": 169,
    "start_time": "2024-08-21T20:29:12.487Z"
   },
   {
    "duration": 25,
    "start_time": "2024-08-21T20:29:12.756Z"
   },
   {
    "duration": 50,
    "start_time": "2024-08-21T20:29:14.288Z"
   },
   {
    "duration": 19,
    "start_time": "2024-08-21T20:29:14.684Z"
   },
   {
    "duration": 2017,
    "start_time": "2024-08-21T20:29:15.330Z"
   },
   {
    "duration": 75,
    "start_time": "2024-08-21T20:29:17.352Z"
   },
   {
    "duration": 8,
    "start_time": "2024-08-21T20:29:17.431Z"
   },
   {
    "duration": 6,
    "start_time": "2024-08-21T20:29:17.444Z"
   },
   {
    "duration": 7,
    "start_time": "2024-08-21T20:29:17.453Z"
   },
   {
    "duration": 13,
    "start_time": "2024-08-21T20:29:17.581Z"
   },
   {
    "duration": 693,
    "start_time": "2024-08-21T20:29:18.022Z"
   },
   {
    "duration": 295,
    "start_time": "2024-08-21T20:29:19.166Z"
   },
   {
    "duration": 308,
    "start_time": "2024-08-21T20:29:20.008Z"
   },
   {
    "duration": 369,
    "start_time": "2024-08-21T20:29:23.106Z"
   },
   {
    "duration": 318,
    "start_time": "2024-08-21T20:29:25.430Z"
   },
   {
    "duration": 9456,
    "start_time": "2024-08-21T20:29:28.360Z"
   },
   {
    "duration": 1110,
    "start_time": "2024-08-21T20:30:31.110Z"
   },
   {
    "duration": 2258,
    "start_time": "2024-08-21T20:31:35.963Z"
   },
   {
    "duration": 2573,
    "start_time": "2024-08-21T20:32:30.050Z"
   },
   {
    "duration": 1464,
    "start_time": "2024-08-21T20:33:46.668Z"
   },
   {
    "duration": 787,
    "start_time": "2024-08-21T20:35:05.583Z"
   },
   {
    "duration": 444,
    "start_time": "2024-08-21T20:35:06.373Z"
   },
   {
    "duration": 126,
    "start_time": "2024-08-21T20:35:06.824Z"
   },
   {
    "duration": 25,
    "start_time": "2024-08-21T20:35:06.953Z"
   },
   {
    "duration": 35,
    "start_time": "2024-08-21T20:35:06.983Z"
   },
   {
    "duration": 2056,
    "start_time": "2024-08-21T20:35:07.021Z"
   },
   {
    "duration": 238,
    "start_time": "2024-08-21T20:35:09.081Z"
   },
   {
    "duration": 22,
    "start_time": "2024-08-21T20:35:09.323Z"
   },
   {
    "duration": 240,
    "start_time": "2024-08-21T20:35:09.348Z"
   },
   {
    "duration": 220,
    "start_time": "2024-08-21T20:35:09.594Z"
   },
   {
    "duration": 57,
    "start_time": "2024-08-21T20:35:09.818Z"
   },
   {
    "duration": 53,
    "start_time": "2024-08-21T20:35:09.879Z"
   },
   {
    "duration": 11,
    "start_time": "2024-08-21T20:35:09.935Z"
   },
   {
    "duration": 9,
    "start_time": "2024-08-21T20:35:09.954Z"
   },
   {
    "duration": 69,
    "start_time": "2024-08-21T20:35:09.966Z"
   },
   {
    "duration": 27,
    "start_time": "2024-08-21T20:35:10.038Z"
   },
   {
    "duration": 57,
    "start_time": "2024-08-21T20:35:10.069Z"
   },
   {
    "duration": 7,
    "start_time": "2024-08-21T20:35:10.129Z"
   },
   {
    "duration": 8,
    "start_time": "2024-08-21T20:35:10.140Z"
   },
   {
    "duration": 8,
    "start_time": "2024-08-21T20:35:10.152Z"
   },
   {
    "duration": 12,
    "start_time": "2024-08-21T20:35:10.163Z"
   },
   {
    "duration": 8,
    "start_time": "2024-08-21T20:35:10.214Z"
   },
   {
    "duration": 8,
    "start_time": "2024-08-21T20:35:10.226Z"
   },
   {
    "duration": 1533,
    "start_time": "2024-08-21T20:35:10.237Z"
   },
   {
    "duration": 356,
    "start_time": "2024-08-21T20:35:11.773Z"
   },
   {
    "duration": 495,
    "start_time": "2024-08-21T20:35:12.133Z"
   },
   {
    "duration": 13,
    "start_time": "2024-08-21T20:35:12.633Z"
   },
   {
    "duration": 25,
    "start_time": "2024-08-21T20:35:12.650Z"
   },
   {
    "duration": 48,
    "start_time": "2024-08-21T20:35:12.679Z"
   },
   {
    "duration": 11,
    "start_time": "2024-08-21T20:35:12.731Z"
   },
   {
    "duration": 11,
    "start_time": "2024-08-21T20:35:12.746Z"
   },
   {
    "duration": 11,
    "start_time": "2024-08-21T20:35:12.761Z"
   },
   {
    "duration": 10,
    "start_time": "2024-08-21T20:35:12.814Z"
   },
   {
    "duration": 235,
    "start_time": "2024-08-21T20:35:12.828Z"
   },
   {
    "duration": 33,
    "start_time": "2024-08-21T20:35:13.066Z"
   },
   {
    "duration": 67,
    "start_time": "2024-08-21T20:35:13.116Z"
   },
   {
    "duration": 40,
    "start_time": "2024-08-21T20:35:13.186Z"
   },
   {
    "duration": 1845,
    "start_time": "2024-08-21T20:35:13.229Z"
   },
   {
    "duration": 73,
    "start_time": "2024-08-21T20:35:15.077Z"
   },
   {
    "duration": 7,
    "start_time": "2024-08-21T20:35:15.153Z"
   },
   {
    "duration": 6,
    "start_time": "2024-08-21T20:35:15.170Z"
   },
   {
    "duration": 33,
    "start_time": "2024-08-21T20:35:15.180Z"
   },
   {
    "duration": 7,
    "start_time": "2024-08-21T20:35:15.216Z"
   },
   {
    "duration": 886,
    "start_time": "2024-08-21T20:35:15.226Z"
   },
   {
    "duration": 0,
    "start_time": "2024-08-21T20:35:16.115Z"
   },
   {
    "duration": 0,
    "start_time": "2024-08-21T20:35:16.117Z"
   },
   {
    "duration": 1,
    "start_time": "2024-08-21T20:35:16.119Z"
   },
   {
    "duration": 0,
    "start_time": "2024-08-21T20:35:16.121Z"
   },
   {
    "duration": 0,
    "start_time": "2024-08-21T20:35:16.123Z"
   },
   {
    "duration": 0,
    "start_time": "2024-08-21T20:35:16.125Z"
   },
   {
    "duration": 6,
    "start_time": "2024-08-21T20:35:16.727Z"
   },
   {
    "duration": 286,
    "start_time": "2024-08-21T20:35:17.053Z"
   },
   {
    "duration": 92,
    "start_time": "2024-08-21T20:35:17.632Z"
   },
   {
    "duration": 28,
    "start_time": "2024-08-21T20:35:18.093Z"
   },
   {
    "duration": 28,
    "start_time": "2024-08-21T20:35:18.793Z"
   },
   {
    "duration": 2060,
    "start_time": "2024-08-21T20:35:18.954Z"
   },
   {
    "duration": 191,
    "start_time": "2024-08-21T20:35:21.017Z"
   },
   {
    "duration": 22,
    "start_time": "2024-08-21T20:35:21.211Z"
   },
   {
    "duration": 210,
    "start_time": "2024-08-21T20:35:21.237Z"
   },
   {
    "duration": 214,
    "start_time": "2024-08-21T20:35:21.450Z"
   },
   {
    "duration": 67,
    "start_time": "2024-08-21T20:35:21.667Z"
   },
   {
    "duration": 31,
    "start_time": "2024-08-21T20:35:21.738Z"
   },
   {
    "duration": 12,
    "start_time": "2024-08-21T20:35:21.772Z"
   },
   {
    "duration": 28,
    "start_time": "2024-08-21T20:35:21.788Z"
   },
   {
    "duration": 43,
    "start_time": "2024-08-21T20:35:21.822Z"
   },
   {
    "duration": 55,
    "start_time": "2024-08-21T20:35:21.869Z"
   },
   {
    "duration": 35,
    "start_time": "2024-08-21T20:35:21.927Z"
   },
   {
    "duration": 6,
    "start_time": "2024-08-21T20:35:21.965Z"
   },
   {
    "duration": 7,
    "start_time": "2024-08-21T20:35:21.974Z"
   },
   {
    "duration": 8,
    "start_time": "2024-08-21T20:35:22.013Z"
   },
   {
    "duration": 14,
    "start_time": "2024-08-21T20:35:22.024Z"
   },
   {
    "duration": 8,
    "start_time": "2024-08-21T20:35:22.044Z"
   },
   {
    "duration": 8,
    "start_time": "2024-08-21T20:35:22.057Z"
   },
   {
    "duration": 1526,
    "start_time": "2024-08-21T20:35:22.139Z"
   },
   {
    "duration": 389,
    "start_time": "2024-08-21T20:35:23.668Z"
   },
   {
    "duration": 572,
    "start_time": "2024-08-21T20:35:24.060Z"
   },
   {
    "duration": 14,
    "start_time": "2024-08-21T20:35:24.636Z"
   },
   {
    "duration": 28,
    "start_time": "2024-08-21T20:35:24.654Z"
   },
   {
    "duration": 51,
    "start_time": "2024-08-21T20:35:24.685Z"
   },
   {
    "duration": 11,
    "start_time": "2024-08-21T20:35:24.741Z"
   },
   {
    "duration": 11,
    "start_time": "2024-08-21T20:35:24.755Z"
   },
   {
    "duration": 11,
    "start_time": "2024-08-21T20:35:24.769Z"
   },
   {
    "duration": 10,
    "start_time": "2024-08-21T20:35:24.817Z"
   },
   {
    "duration": 202,
    "start_time": "2024-08-21T20:35:24.831Z"
   },
   {
    "duration": 28,
    "start_time": "2024-08-21T20:35:25.036Z"
   },
   {
    "duration": 78,
    "start_time": "2024-08-21T20:35:25.069Z"
   },
   {
    "duration": 25,
    "start_time": "2024-08-21T20:35:25.152Z"
   },
   {
    "duration": 1980,
    "start_time": "2024-08-21T20:35:25.180Z"
   },
   {
    "duration": 61,
    "start_time": "2024-08-21T20:35:27.166Z"
   },
   {
    "duration": 8,
    "start_time": "2024-08-21T20:35:27.230Z"
   },
   {
    "duration": 8,
    "start_time": "2024-08-21T20:35:27.247Z"
   },
   {
    "duration": 8,
    "start_time": "2024-08-21T20:35:27.259Z"
   },
   {
    "duration": 43,
    "start_time": "2024-08-21T20:35:27.271Z"
   },
   {
    "duration": 348,
    "start_time": "2024-08-21T20:35:27.318Z"
   },
   {
    "duration": 0,
    "start_time": "2024-08-21T20:35:27.671Z"
   },
   {
    "duration": 400,
    "start_time": "2024-08-21T20:35:33.980Z"
   },
   {
    "duration": 408,
    "start_time": "2024-08-21T20:35:38.761Z"
   },
   {
    "duration": 380,
    "start_time": "2024-08-21T20:35:41.356Z"
   },
   {
    "duration": 5236,
    "start_time": "2024-08-21T20:35:43.391Z"
   },
   {
    "duration": 1461,
    "start_time": "2024-08-21T20:36:15.139Z"
   },
   {
    "duration": 1241,
    "start_time": "2024-08-21T20:36:50.049Z"
   },
   {
    "duration": 1261,
    "start_time": "2024-08-21T20:37:11.361Z"
   },
   {
    "duration": 858,
    "start_time": "2024-08-21T20:37:44.499Z"
   },
   {
    "duration": 429,
    "start_time": "2024-08-21T20:37:45.361Z"
   },
   {
    "duration": 127,
    "start_time": "2024-08-21T20:37:45.794Z"
   },
   {
    "duration": 29,
    "start_time": "2024-08-21T20:37:45.924Z"
   },
   {
    "duration": 55,
    "start_time": "2024-08-21T20:37:45.957Z"
   },
   {
    "duration": 2115,
    "start_time": "2024-08-21T20:37:46.020Z"
   },
   {
    "duration": 219,
    "start_time": "2024-08-21T20:37:48.138Z"
   },
   {
    "duration": 23,
    "start_time": "2024-08-21T20:37:48.360Z"
   },
   {
    "duration": 251,
    "start_time": "2024-08-21T20:37:48.390Z"
   },
   {
    "duration": 217,
    "start_time": "2024-08-21T20:37:48.648Z"
   },
   {
    "duration": 73,
    "start_time": "2024-08-21T20:37:48.869Z"
   },
   {
    "duration": 29,
    "start_time": "2024-08-21T20:37:48.945Z"
   },
   {
    "duration": 33,
    "start_time": "2024-08-21T20:37:48.978Z"
   },
   {
    "duration": 8,
    "start_time": "2024-08-21T20:37:49.015Z"
   },
   {
    "duration": 44,
    "start_time": "2024-08-21T20:37:49.025Z"
   },
   {
    "duration": 52,
    "start_time": "2024-08-21T20:37:49.073Z"
   },
   {
    "duration": 32,
    "start_time": "2024-08-21T20:37:49.128Z"
   },
   {
    "duration": 6,
    "start_time": "2024-08-21T20:37:49.164Z"
   },
   {
    "duration": 38,
    "start_time": "2024-08-21T20:37:49.174Z"
   },
   {
    "duration": 9,
    "start_time": "2024-08-21T20:37:49.216Z"
   },
   {
    "duration": 10,
    "start_time": "2024-08-21T20:37:49.228Z"
   },
   {
    "duration": 8,
    "start_time": "2024-08-21T20:37:49.242Z"
   },
   {
    "duration": 8,
    "start_time": "2024-08-21T20:37:49.253Z"
   },
   {
    "duration": 1579,
    "start_time": "2024-08-21T20:37:49.265Z"
   },
   {
    "duration": 366,
    "start_time": "2024-08-21T20:37:50.848Z"
   },
   {
    "duration": 555,
    "start_time": "2024-08-21T20:37:51.217Z"
   },
   {
    "duration": 19,
    "start_time": "2024-08-21T20:37:51.775Z"
   },
   {
    "duration": 29,
    "start_time": "2024-08-21T20:37:51.816Z"
   },
   {
    "duration": 25,
    "start_time": "2024-08-21T20:37:51.849Z"
   },
   {
    "duration": 39,
    "start_time": "2024-08-21T20:37:51.877Z"
   },
   {
    "duration": 12,
    "start_time": "2024-08-21T20:37:51.920Z"
   },
   {
    "duration": 11,
    "start_time": "2024-08-21T20:37:51.936Z"
   },
   {
    "duration": 11,
    "start_time": "2024-08-21T20:37:51.950Z"
   },
   {
    "duration": 238,
    "start_time": "2024-08-21T20:37:51.965Z"
   },
   {
    "duration": 32,
    "start_time": "2024-08-21T20:37:52.206Z"
   },
   {
    "duration": 76,
    "start_time": "2024-08-21T20:37:52.241Z"
   },
   {
    "duration": 25,
    "start_time": "2024-08-21T20:37:52.320Z"
   },
   {
    "duration": 2085,
    "start_time": "2024-08-21T20:37:52.349Z"
   },
   {
    "duration": 54,
    "start_time": "2024-08-21T20:37:54.437Z"
   },
   {
    "duration": 7,
    "start_time": "2024-08-21T20:37:54.515Z"
   },
   {
    "duration": 7,
    "start_time": "2024-08-21T20:37:54.526Z"
   },
   {
    "duration": 8,
    "start_time": "2024-08-21T20:37:54.537Z"
   },
   {
    "duration": 8,
    "start_time": "2024-08-21T20:37:54.548Z"
   },
   {
    "duration": 739,
    "start_time": "2024-08-21T20:37:54.559Z"
   },
   {
    "duration": 0,
    "start_time": "2024-08-21T20:37:55.302Z"
   },
   {
    "duration": 0,
    "start_time": "2024-08-21T20:37:55.304Z"
   },
   {
    "duration": 0,
    "start_time": "2024-08-21T20:37:55.313Z"
   },
   {
    "duration": 0,
    "start_time": "2024-08-21T20:37:55.316Z"
   },
   {
    "duration": 0,
    "start_time": "2024-08-21T20:37:55.319Z"
   },
   {
    "duration": 0,
    "start_time": "2024-08-21T20:37:55.321Z"
   },
   {
    "duration": 1797,
    "start_time": "2024-08-21T20:38:22.203Z"
   },
   {
    "duration": 1674,
    "start_time": "2024-08-21T20:39:12.241Z"
   },
   {
    "duration": 14,
    "start_time": "2024-08-21T20:40:06.190Z"
   },
   {
    "duration": 2016,
    "start_time": "2024-08-21T20:40:12.456Z"
   },
   {
    "duration": 1856,
    "start_time": "2024-08-21T20:40:31.379Z"
   },
   {
    "duration": 2316,
    "start_time": "2024-08-21T20:48:54.947Z"
   },
   {
    "duration": 2618,
    "start_time": "2024-08-21T20:49:11.259Z"
   },
   {
    "duration": 2529,
    "start_time": "2024-08-21T20:49:51.027Z"
   },
   {
    "duration": 1277,
    "start_time": "2024-08-21T20:56:53.806Z"
   },
   {
    "duration": 1329,
    "start_time": "2024-08-21T20:57:20.931Z"
   },
   {
    "duration": 2117,
    "start_time": "2024-08-21T20:57:34.123Z"
   },
   {
    "duration": 2113,
    "start_time": "2024-08-21T20:57:46.418Z"
   },
   {
    "duration": 16,
    "start_time": "2024-08-21T22:26:42.229Z"
   },
   {
    "duration": 335,
    "start_time": "2024-08-21T22:26:47.259Z"
   },
   {
    "duration": 4712,
    "start_time": "2024-08-21T22:27:00.105Z"
   },
   {
    "duration": 319,
    "start_time": "2024-08-21T22:27:04.821Z"
   },
   {
    "duration": 99,
    "start_time": "2024-08-21T22:27:05.144Z"
   },
   {
    "duration": 25,
    "start_time": "2024-08-21T22:27:05.249Z"
   },
   {
    "duration": 54,
    "start_time": "2024-08-21T22:27:05.279Z"
   },
   {
    "duration": 1773,
    "start_time": "2024-08-21T22:27:05.336Z"
   },
   {
    "duration": 236,
    "start_time": "2024-08-21T22:27:07.113Z"
   },
   {
    "duration": 20,
    "start_time": "2024-08-21T22:27:07.353Z"
   },
   {
    "duration": 221,
    "start_time": "2024-08-21T22:27:07.376Z"
   },
   {
    "duration": 188,
    "start_time": "2024-08-21T22:27:07.602Z"
   },
   {
    "duration": 62,
    "start_time": "2024-08-21T22:27:07.794Z"
   },
   {
    "duration": 26,
    "start_time": "2024-08-21T22:27:07.859Z"
   },
   {
    "duration": 9,
    "start_time": "2024-08-21T22:27:07.890Z"
   },
   {
    "duration": 34,
    "start_time": "2024-08-21T22:27:07.902Z"
   },
   {
    "duration": 37,
    "start_time": "2024-08-21T22:27:07.940Z"
   },
   {
    "duration": 53,
    "start_time": "2024-08-21T22:27:07.980Z"
   },
   {
    "duration": 37,
    "start_time": "2024-08-21T22:27:08.036Z"
   },
   {
    "duration": 9,
    "start_time": "2024-08-21T22:27:08.076Z"
   },
   {
    "duration": 45,
    "start_time": "2024-08-21T22:27:08.088Z"
   },
   {
    "duration": 10,
    "start_time": "2024-08-21T22:27:08.136Z"
   },
   {
    "duration": 9,
    "start_time": "2024-08-21T22:27:08.150Z"
   },
   {
    "duration": 12,
    "start_time": "2024-08-21T22:27:08.162Z"
   },
   {
    "duration": 9,
    "start_time": "2024-08-21T22:27:08.177Z"
   },
   {
    "duration": 1454,
    "start_time": "2024-08-21T22:27:08.190Z"
   },
   {
    "duration": 330,
    "start_time": "2024-08-21T22:27:09.648Z"
   },
   {
    "duration": 465,
    "start_time": "2024-08-21T22:27:09.982Z"
   },
   {
    "duration": 13,
    "start_time": "2024-08-21T22:27:10.450Z"
   },
   {
    "duration": 24,
    "start_time": "2024-08-21T22:27:10.472Z"
   },
   {
    "duration": 22,
    "start_time": "2024-08-21T22:27:10.532Z"
   },
   {
    "duration": 15,
    "start_time": "2024-08-21T22:27:10.557Z"
   },
   {
    "duration": 11,
    "start_time": "2024-08-21T22:27:10.576Z"
   },
   {
    "duration": 46,
    "start_time": "2024-08-21T22:27:10.591Z"
   },
   {
    "duration": 10,
    "start_time": "2024-08-21T22:27:10.640Z"
   },
   {
    "duration": 208,
    "start_time": "2024-08-21T22:27:10.653Z"
   },
   {
    "duration": 26,
    "start_time": "2024-08-21T22:27:10.867Z"
   },
   {
    "duration": 69,
    "start_time": "2024-08-21T22:27:10.896Z"
   },
   {
    "duration": 20,
    "start_time": "2024-08-21T22:27:10.971Z"
   },
   {
    "duration": 1870,
    "start_time": "2024-08-21T22:27:10.995Z"
   },
   {
    "duration": 47,
    "start_time": "2024-08-21T22:27:12.868Z"
   },
   {
    "duration": 6,
    "start_time": "2024-08-21T22:27:17.839Z"
   },
   {
    "duration": 8,
    "start_time": "2024-08-21T22:27:18.344Z"
   },
   {
    "duration": 8,
    "start_time": "2024-08-21T22:27:18.449Z"
   },
   {
    "duration": 10,
    "start_time": "2024-08-21T22:27:18.510Z"
   },
   {
    "duration": 389,
    "start_time": "2024-08-21T22:27:21.497Z"
   },
   {
    "duration": 0,
    "start_time": "2024-08-21T22:27:21.889Z"
   },
   {
    "duration": 325,
    "start_time": "2024-08-21T22:27:37.284Z"
   },
   {
    "duration": 307,
    "start_time": "2024-08-21T22:27:55.826Z"
   },
   {
    "duration": 316,
    "start_time": "2024-08-21T22:28:47.921Z"
   },
   {
    "duration": 340,
    "start_time": "2024-08-21T22:28:52.421Z"
   },
   {
    "duration": 331,
    "start_time": "2024-08-21T22:29:05.385Z"
   },
   {
    "duration": 2123,
    "start_time": "2024-08-21T22:29:13.285Z"
   },
   {
    "duration": 717,
    "start_time": "2024-08-21T22:35:25.700Z"
   },
   {
    "duration": 313,
    "start_time": "2024-08-21T22:35:26.421Z"
   },
   {
    "duration": 106,
    "start_time": "2024-08-21T22:35:26.737Z"
   },
   {
    "duration": 27,
    "start_time": "2024-08-21T22:35:26.847Z"
   },
   {
    "duration": 53,
    "start_time": "2024-08-21T22:35:26.880Z"
   },
   {
    "duration": 1715,
    "start_time": "2024-08-21T22:35:26.936Z"
   },
   {
    "duration": 204,
    "start_time": "2024-08-21T22:35:28.654Z"
   },
   {
    "duration": 21,
    "start_time": "2024-08-21T22:35:28.860Z"
   },
   {
    "duration": 221,
    "start_time": "2024-08-21T22:35:28.883Z"
   },
   {
    "duration": 178,
    "start_time": "2024-08-21T22:35:29.107Z"
   },
   {
    "duration": 60,
    "start_time": "2024-08-21T22:35:29.288Z"
   },
   {
    "duration": 22,
    "start_time": "2024-08-21T22:35:29.351Z"
   },
   {
    "duration": 9,
    "start_time": "2024-08-21T22:35:29.376Z"
   },
   {
    "duration": 41,
    "start_time": "2024-08-21T22:35:29.394Z"
   },
   {
    "duration": 34,
    "start_time": "2024-08-21T22:35:29.438Z"
   },
   {
    "duration": 22,
    "start_time": "2024-08-21T22:35:29.474Z"
   },
   {
    "duration": 56,
    "start_time": "2024-08-21T22:35:29.499Z"
   },
   {
    "duration": 8,
    "start_time": "2024-08-21T22:35:29.558Z"
   },
   {
    "duration": 7,
    "start_time": "2024-08-21T22:35:29.569Z"
   },
   {
    "duration": 8,
    "start_time": "2024-08-21T22:35:29.579Z"
   },
   {
    "duration": 9,
    "start_time": "2024-08-21T22:35:29.633Z"
   },
   {
    "duration": 9,
    "start_time": "2024-08-21T22:35:29.645Z"
   },
   {
    "duration": 11,
    "start_time": "2024-08-21T22:35:29.657Z"
   },
   {
    "duration": 1453,
    "start_time": "2024-08-21T22:35:29.671Z"
   },
   {
    "duration": 357,
    "start_time": "2024-08-21T22:35:31.137Z"
   },
   {
    "duration": 524,
    "start_time": "2024-08-21T22:35:31.498Z"
   },
   {
    "duration": 23,
    "start_time": "2024-08-21T22:35:32.025Z"
   },
   {
    "duration": 31,
    "start_time": "2024-08-21T22:35:32.051Z"
   },
   {
    "duration": 22,
    "start_time": "2024-08-21T22:35:32.086Z"
   },
   {
    "duration": 12,
    "start_time": "2024-08-21T22:35:32.133Z"
   },
   {
    "duration": 9,
    "start_time": "2024-08-21T22:35:32.148Z"
   },
   {
    "duration": 11,
    "start_time": "2024-08-21T22:35:32.161Z"
   },
   {
    "duration": 10,
    "start_time": "2024-08-21T22:35:32.175Z"
   },
   {
    "duration": 221,
    "start_time": "2024-08-21T22:35:32.189Z"
   },
   {
    "duration": 30,
    "start_time": "2024-08-21T22:35:32.413Z"
   },
   {
    "duration": 47,
    "start_time": "2024-08-21T22:35:32.447Z"
   },
   {
    "duration": 48,
    "start_time": "2024-08-21T22:35:32.497Z"
   },
   {
    "duration": 1720,
    "start_time": "2024-08-21T22:35:32.548Z"
   },
   {
    "duration": 64,
    "start_time": "2024-08-21T22:35:34.271Z"
   },
   {
    "duration": 7,
    "start_time": "2024-08-21T22:35:34.339Z"
   },
   {
    "duration": 7,
    "start_time": "2024-08-21T22:35:34.355Z"
   },
   {
    "duration": 6,
    "start_time": "2024-08-21T22:35:34.365Z"
   },
   {
    "duration": 7,
    "start_time": "2024-08-21T22:35:34.374Z"
   },
   {
    "duration": 685,
    "start_time": "2024-08-21T22:35:34.433Z"
   },
   {
    "duration": 0,
    "start_time": "2024-08-21T22:35:35.121Z"
   },
   {
    "duration": 0,
    "start_time": "2024-08-21T22:35:35.123Z"
   },
   {
    "duration": 0,
    "start_time": "2024-08-21T22:35:35.134Z"
   },
   {
    "duration": 0,
    "start_time": "2024-08-21T22:35:35.137Z"
   },
   {
    "duration": 0,
    "start_time": "2024-08-21T22:35:35.139Z"
   },
   {
    "duration": 0,
    "start_time": "2024-08-21T22:35:35.143Z"
   },
   {
    "duration": 0,
    "start_time": "2024-08-21T22:35:35.144Z"
   },
   {
    "duration": 267,
    "start_time": "2024-08-21T22:36:00.514Z"
   },
   {
    "duration": 299,
    "start_time": "2024-08-21T22:36:06.306Z"
   },
   {
    "duration": 309,
    "start_time": "2024-08-21T22:36:13.656Z"
   },
   {
    "duration": 326,
    "start_time": "2024-08-21T22:36:22.011Z"
   },
   {
    "duration": 2136,
    "start_time": "2024-08-21T22:36:27.598Z"
   },
   {
    "duration": 4389,
    "start_time": "2024-08-21T23:42:07.932Z"
   },
   {
    "duration": 292,
    "start_time": "2024-08-21T23:42:12.333Z"
   },
   {
    "duration": 101,
    "start_time": "2024-08-21T23:42:12.632Z"
   },
   {
    "duration": 23,
    "start_time": "2024-08-21T23:42:12.737Z"
   },
   {
    "duration": 24,
    "start_time": "2024-08-21T23:42:12.764Z"
   },
   {
    "duration": 1691,
    "start_time": "2024-08-21T23:42:12.791Z"
   },
   {
    "duration": 190,
    "start_time": "2024-08-21T23:42:14.485Z"
   },
   {
    "duration": 20,
    "start_time": "2024-08-21T23:42:14.679Z"
   },
   {
    "duration": 209,
    "start_time": "2024-08-21T23:42:14.702Z"
   },
   {
    "duration": 180,
    "start_time": "2024-08-21T23:42:14.918Z"
   },
   {
    "duration": 59,
    "start_time": "2024-08-21T23:42:15.101Z"
   },
   {
    "duration": 27,
    "start_time": "2024-08-21T23:42:15.163Z"
   },
   {
    "duration": 11,
    "start_time": "2024-08-21T23:42:15.196Z"
   },
   {
    "duration": 32,
    "start_time": "2024-08-21T23:42:15.209Z"
   },
   {
    "duration": 34,
    "start_time": "2024-08-21T23:42:15.245Z"
   },
   {
    "duration": 51,
    "start_time": "2024-08-21T23:42:15.282Z"
   },
   {
    "duration": 28,
    "start_time": "2024-08-21T23:42:15.336Z"
   },
   {
    "duration": 7,
    "start_time": "2024-08-21T23:42:15.367Z"
   },
   {
    "duration": 9,
    "start_time": "2024-08-21T23:42:15.377Z"
   },
   {
    "duration": 48,
    "start_time": "2024-08-21T23:42:15.390Z"
   },
   {
    "duration": 9,
    "start_time": "2024-08-21T23:42:15.441Z"
   },
   {
    "duration": 7,
    "start_time": "2024-08-21T23:42:15.453Z"
   },
   {
    "duration": 8,
    "start_time": "2024-08-21T23:42:15.463Z"
   },
   {
    "duration": 1384,
    "start_time": "2024-08-21T23:42:15.474Z"
   },
   {
    "duration": 312,
    "start_time": "2024-08-21T23:42:16.861Z"
   },
   {
    "duration": 447,
    "start_time": "2024-08-21T23:42:17.175Z"
   },
   {
    "duration": 10,
    "start_time": "2024-08-21T23:42:17.632Z"
   },
   {
    "duration": 20,
    "start_time": "2024-08-21T23:42:17.651Z"
   },
   {
    "duration": 19,
    "start_time": "2024-08-21T23:42:17.674Z"
   },
   {
    "duration": 11,
    "start_time": "2024-08-21T23:42:17.732Z"
   },
   {
    "duration": 10,
    "start_time": "2024-08-21T23:42:17.746Z"
   },
   {
    "duration": 8,
    "start_time": "2024-08-21T23:42:17.759Z"
   },
   {
    "duration": 9,
    "start_time": "2024-08-21T23:42:17.770Z"
   },
   {
    "duration": 196,
    "start_time": "2024-08-21T23:42:17.781Z"
   },
   {
    "duration": 27,
    "start_time": "2024-08-21T23:42:17.980Z"
   },
   {
    "duration": 67,
    "start_time": "2024-08-21T23:42:18.010Z"
   },
   {
    "duration": 18,
    "start_time": "2024-08-21T23:42:18.080Z"
   },
   {
    "duration": 1648,
    "start_time": "2024-08-21T23:42:18.101Z"
   },
   {
    "duration": 48,
    "start_time": "2024-08-21T23:42:19.752Z"
   },
   {
    "duration": 31,
    "start_time": "2024-08-21T23:42:19.804Z"
   },
   {
    "duration": 7,
    "start_time": "2024-08-21T23:42:19.837Z"
   },
   {
    "duration": 7,
    "start_time": "2024-08-21T23:42:19.848Z"
   },
   {
    "duration": 7,
    "start_time": "2024-08-21T23:42:19.857Z"
   },
   {
    "duration": 686,
    "start_time": "2024-08-21T23:42:19.867Z"
   },
   {
    "duration": 0,
    "start_time": "2024-08-21T23:42:20.556Z"
   },
   {
    "duration": 0,
    "start_time": "2024-08-21T23:42:20.558Z"
   },
   {
    "duration": 0,
    "start_time": "2024-08-21T23:42:20.560Z"
   },
   {
    "duration": 0,
    "start_time": "2024-08-21T23:42:20.563Z"
   },
   {
    "duration": 0,
    "start_time": "2024-08-21T23:42:20.566Z"
   },
   {
    "duration": 0,
    "start_time": "2024-08-21T23:42:20.569Z"
   },
   {
    "duration": 0,
    "start_time": "2024-08-21T23:42:20.571Z"
   },
   {
    "duration": 1,
    "start_time": "2024-08-21T23:42:20.573Z"
   },
   {
    "duration": 330,
    "start_time": "2024-08-21T23:43:13.556Z"
   },
   {
    "duration": 301,
    "start_time": "2024-08-21T23:43:19.802Z"
   },
   {
    "duration": 312,
    "start_time": "2024-08-21T23:43:33.451Z"
   },
   {
    "duration": 318,
    "start_time": "2024-08-21T23:43:38.192Z"
   },
   {
    "duration": 2009,
    "start_time": "2024-08-21T23:43:45.245Z"
   },
   {
    "duration": 33,
    "start_time": "2024-08-21T23:43:50.824Z"
   },
   {
    "duration": 785,
    "start_time": "2024-08-22T00:12:26.129Z"
   },
   {
    "duration": 350,
    "start_time": "2024-08-22T00:12:26.917Z"
   },
   {
    "duration": 92,
    "start_time": "2024-08-22T00:12:27.271Z"
   },
   {
    "duration": 26,
    "start_time": "2024-08-22T00:12:27.367Z"
   },
   {
    "duration": 44,
    "start_time": "2024-08-22T00:12:27.397Z"
   },
   {
    "duration": 1665,
    "start_time": "2024-08-22T00:12:27.444Z"
   },
   {
    "duration": 226,
    "start_time": "2024-08-22T00:12:29.112Z"
   },
   {
    "duration": 22,
    "start_time": "2024-08-22T00:12:29.341Z"
   },
   {
    "duration": 233,
    "start_time": "2024-08-22T00:12:29.366Z"
   },
   {
    "duration": 215,
    "start_time": "2024-08-22T00:12:29.607Z"
   },
   {
    "duration": 63,
    "start_time": "2024-08-22T00:12:29.825Z"
   },
   {
    "duration": 46,
    "start_time": "2024-08-22T00:12:29.890Z"
   },
   {
    "duration": 8,
    "start_time": "2024-08-22T00:12:29.940Z"
   },
   {
    "duration": 7,
    "start_time": "2024-08-22T00:12:29.952Z"
   },
   {
    "duration": 73,
    "start_time": "2024-08-22T00:12:29.962Z"
   },
   {
    "duration": 23,
    "start_time": "2024-08-22T00:12:30.039Z"
   },
   {
    "duration": 32,
    "start_time": "2024-08-22T00:12:30.065Z"
   },
   {
    "duration": 37,
    "start_time": "2024-08-22T00:12:30.099Z"
   },
   {
    "duration": 9,
    "start_time": "2024-08-22T00:12:30.140Z"
   },
   {
    "duration": 8,
    "start_time": "2024-08-22T00:12:30.152Z"
   },
   {
    "duration": 11,
    "start_time": "2024-08-22T00:12:30.163Z"
   },
   {
    "duration": 56,
    "start_time": "2024-08-22T00:12:30.178Z"
   },
   {
    "duration": 8,
    "start_time": "2024-08-22T00:12:30.237Z"
   },
   {
    "duration": 1495,
    "start_time": "2024-08-22T00:12:30.248Z"
   },
   {
    "duration": 349,
    "start_time": "2024-08-22T00:12:31.746Z"
   },
   {
    "duration": 509,
    "start_time": "2024-08-22T00:12:32.098Z"
   },
   {
    "duration": 24,
    "start_time": "2024-08-22T00:12:32.611Z"
   },
   {
    "duration": 23,
    "start_time": "2024-08-22T00:12:32.644Z"
   },
   {
    "duration": 22,
    "start_time": "2024-08-22T00:12:32.671Z"
   },
   {
    "duration": 42,
    "start_time": "2024-08-22T00:12:32.697Z"
   },
   {
    "duration": 11,
    "start_time": "2024-08-22T00:12:32.744Z"
   },
   {
    "duration": 16,
    "start_time": "2024-08-22T00:12:32.758Z"
   },
   {
    "duration": 14,
    "start_time": "2024-08-22T00:12:32.777Z"
   },
   {
    "duration": 208,
    "start_time": "2024-08-22T00:12:32.797Z"
   },
   {
    "duration": 41,
    "start_time": "2024-08-22T00:12:33.008Z"
   },
   {
    "duration": 55,
    "start_time": "2024-08-22T00:12:33.052Z"
   },
   {
    "duration": 43,
    "start_time": "2024-08-22T00:12:33.110Z"
   },
   {
    "duration": 1895,
    "start_time": "2024-08-22T00:12:33.157Z"
   },
   {
    "duration": 54,
    "start_time": "2024-08-22T00:12:35.055Z"
   },
   {
    "duration": 23,
    "start_time": "2024-08-22T00:12:35.113Z"
   },
   {
    "duration": 7,
    "start_time": "2024-08-22T00:12:35.140Z"
   },
   {
    "duration": 7,
    "start_time": "2024-08-22T00:12:35.152Z"
   },
   {
    "duration": 8,
    "start_time": "2024-08-22T00:12:35.162Z"
   },
   {
    "duration": 744,
    "start_time": "2024-08-22T00:12:35.173Z"
   },
   {
    "duration": 0,
    "start_time": "2024-08-22T00:12:35.920Z"
   },
   {
    "duration": 0,
    "start_time": "2024-08-22T00:12:35.933Z"
   },
   {
    "duration": 0,
    "start_time": "2024-08-22T00:12:35.935Z"
   },
   {
    "duration": 0,
    "start_time": "2024-08-22T00:12:35.938Z"
   },
   {
    "duration": 0,
    "start_time": "2024-08-22T00:12:35.940Z"
   },
   {
    "duration": 0,
    "start_time": "2024-08-22T00:12:35.942Z"
   },
   {
    "duration": 0,
    "start_time": "2024-08-22T00:12:35.945Z"
   },
   {
    "duration": 285,
    "start_time": "2024-08-22T00:13:19.729Z"
   },
   {
    "duration": 284,
    "start_time": "2024-08-22T00:13:30.769Z"
   },
   {
    "duration": 323,
    "start_time": "2024-08-22T00:13:33.621Z"
   },
   {
    "duration": 338,
    "start_time": "2024-08-22T00:13:38.919Z"
   },
   {
    "duration": 3,
    "start_time": "2024-08-22T00:14:10.714Z"
   },
   {
    "duration": 287,
    "start_time": "2024-08-22T00:14:13.616Z"
   },
   {
    "duration": 86,
    "start_time": "2024-08-22T00:14:14.199Z"
   },
   {
    "duration": 27,
    "start_time": "2024-08-22T00:14:14.377Z"
   },
   {
    "duration": 27,
    "start_time": "2024-08-22T00:14:14.541Z"
   },
   {
    "duration": 1638,
    "start_time": "2024-08-22T00:14:14.714Z"
   },
   {
    "duration": 199,
    "start_time": "2024-08-22T00:14:16.356Z"
   },
   {
    "duration": 21,
    "start_time": "2024-08-22T00:14:16.750Z"
   },
   {
    "duration": 179,
    "start_time": "2024-08-22T00:14:17.597Z"
   },
   {
    "duration": 172,
    "start_time": "2024-08-22T00:14:17.784Z"
   },
   {
    "duration": 42,
    "start_time": "2024-08-22T00:14:17.960Z"
   },
   {
    "duration": 30,
    "start_time": "2024-08-22T00:14:18.884Z"
   },
   {
    "duration": 13,
    "start_time": "2024-08-22T00:14:19.146Z"
   },
   {
    "duration": 11,
    "start_time": "2024-08-22T00:14:19.926Z"
   },
   {
    "duration": 33,
    "start_time": "2024-08-22T00:14:20.020Z"
   },
   {
    "duration": 21,
    "start_time": "2024-08-22T00:14:20.470Z"
   },
   {
    "duration": 34,
    "start_time": "2024-08-22T00:14:21.198Z"
   },
   {
    "duration": 10,
    "start_time": "2024-08-22T00:14:21.459Z"
   },
   {
    "duration": 9,
    "start_time": "2024-08-22T00:14:23.139Z"
   },
   {
    "duration": 13,
    "start_time": "2024-08-22T00:14:23.238Z"
   },
   {
    "duration": 10,
    "start_time": "2024-08-22T00:14:23.306Z"
   },
   {
    "duration": 15,
    "start_time": "2024-08-22T00:14:23.638Z"
   },
   {
    "duration": 7,
    "start_time": "2024-08-22T00:14:23.725Z"
   },
   {
    "duration": 1374,
    "start_time": "2024-08-22T00:14:24.067Z"
   },
   {
    "duration": 327,
    "start_time": "2024-08-22T00:14:25.445Z"
   },
   {
    "duration": 493,
    "start_time": "2024-08-22T00:14:25.775Z"
   },
   {
    "duration": 11,
    "start_time": "2024-08-22T00:14:26.275Z"
   },
   {
    "duration": 46,
    "start_time": "2024-08-22T00:14:26.289Z"
   },
   {
    "duration": 23,
    "start_time": "2024-08-22T00:14:26.338Z"
   },
   {
    "duration": 13,
    "start_time": "2024-08-22T00:14:26.364Z"
   },
   {
    "duration": 16,
    "start_time": "2024-08-22T00:14:26.380Z"
   },
   {
    "duration": 12,
    "start_time": "2024-08-22T00:14:26.434Z"
   },
   {
    "duration": 15,
    "start_time": "2024-08-22T00:14:26.455Z"
   },
   {
    "duration": 181,
    "start_time": "2024-08-22T00:14:26.475Z"
   },
   {
    "duration": 25,
    "start_time": "2024-08-22T00:14:26.659Z"
   },
   {
    "duration": 73,
    "start_time": "2024-08-22T00:14:26.689Z"
   },
   {
    "duration": 21,
    "start_time": "2024-08-22T00:14:26.766Z"
   },
   {
    "duration": 1856,
    "start_time": "2024-08-22T00:14:26.791Z"
   },
   {
    "duration": 51,
    "start_time": "2024-08-22T00:14:28.651Z"
   },
   {
    "duration": 8,
    "start_time": "2024-08-22T00:14:31.838Z"
   },
   {
    "duration": 8,
    "start_time": "2024-08-22T00:14:32.344Z"
   },
   {
    "duration": 7,
    "start_time": "2024-08-22T00:14:32.420Z"
   },
   {
    "duration": 7,
    "start_time": "2024-08-22T00:14:32.513Z"
   },
   {
    "duration": 300,
    "start_time": "2024-08-22T00:14:33.266Z"
   },
   {
    "duration": 363,
    "start_time": "2024-08-22T00:14:34.782Z"
   },
   {
    "duration": 329,
    "start_time": "2024-08-22T00:14:38.144Z"
   },
   {
    "duration": 305,
    "start_time": "2024-08-22T00:14:44.580Z"
   },
   {
    "duration": 399,
    "start_time": "2024-08-22T00:14:51.037Z"
   },
   {
    "duration": 337,
    "start_time": "2024-08-22T00:14:54.822Z"
   },
   {
    "duration": 2135,
    "start_time": "2024-08-22T00:14:58.999Z"
   },
   {
    "duration": 25,
    "start_time": "2024-08-22T00:15:01.139Z"
   },
   {
    "duration": 19,
    "start_time": "2024-08-22T00:15:03.083Z"
   },
   {
    "duration": 9,
    "start_time": "2024-08-22T00:16:25.131Z"
   },
   {
    "duration": 5,
    "start_time": "2024-08-22T00:16:37.017Z"
   },
   {
    "duration": 732,
    "start_time": "2024-08-22T00:17:18.297Z"
   },
   {
    "duration": 84,
    "start_time": "2024-08-22T00:19:28.349Z"
   },
   {
    "duration": 27,
    "start_time": "2024-08-22T00:26:57.946Z"
   },
   {
    "duration": 263,
    "start_time": "2024-08-22T00:27:08.090Z"
   },
   {
    "duration": 674,
    "start_time": "2024-08-22T00:28:39.685Z"
   },
   {
    "duration": 633,
    "start_time": "2024-08-22T00:30:24.211Z"
   },
   {
    "duration": 559,
    "start_time": "2024-08-22T00:30:55.289Z"
   },
   {
    "duration": 517,
    "start_time": "2024-08-22T00:31:04.122Z"
   },
   {
    "duration": 529,
    "start_time": "2024-08-22T00:31:08.406Z"
   },
   {
    "duration": 518,
    "start_time": "2024-08-22T00:31:17.582Z"
   },
   {
    "duration": 90,
    "start_time": "2024-08-22T00:32:14.242Z"
   },
   {
    "duration": 24,
    "start_time": "2024-08-22T00:33:19.329Z"
   },
   {
    "duration": 707,
    "start_time": "2024-08-22T00:33:28.044Z"
   },
   {
    "duration": 26,
    "start_time": "2024-08-22T00:33:32.193Z"
   },
   {
    "duration": 281,
    "start_time": "2024-08-22T00:34:26.038Z"
   },
   {
    "duration": 14,
    "start_time": "2024-08-22T00:34:53.673Z"
   },
   {
    "duration": 383,
    "start_time": "2024-08-22T00:35:26.558Z"
   },
   {
    "duration": 388,
    "start_time": "2024-08-22T00:35:41.396Z"
   },
   {
    "duration": 344,
    "start_time": "2024-08-22T00:36:05.582Z"
   },
   {
    "duration": 549,
    "start_time": "2024-08-22T00:48:53.080Z"
   },
   {
    "duration": 10,
    "start_time": "2024-08-22T00:49:06.706Z"
   },
   {
    "duration": 503,
    "start_time": "2024-08-22T00:50:18.994Z"
   },
   {
    "duration": 6,
    "start_time": "2024-08-22T00:50:24.528Z"
   },
   {
    "duration": 7,
    "start_time": "2024-08-22T00:50:27.758Z"
   },
   {
    "duration": 510,
    "start_time": "2024-08-22T00:50:30.445Z"
   },
   {
    "duration": 7,
    "start_time": "2024-08-22T00:50:31.206Z"
   },
   {
    "duration": 478,
    "start_time": "2024-08-22T00:50:31.786Z"
   },
   {
    "duration": 363,
    "start_time": "2024-08-22T00:55:10.803Z"
   },
   {
    "duration": 16,
    "start_time": "2024-08-22T00:58:44.534Z"
   },
   {
    "duration": 388,
    "start_time": "2024-08-22T00:58:59.326Z"
   },
   {
    "duration": 353,
    "start_time": "2024-08-22T00:59:11.887Z"
   },
   {
    "duration": 134,
    "start_time": "2024-08-22T01:04:56.114Z"
   },
   {
    "duration": 136,
    "start_time": "2024-08-22T01:05:07.129Z"
   },
   {
    "duration": 2101,
    "start_time": "2024-08-22T01:06:10.342Z"
   },
   {
    "duration": 112,
    "start_time": "2024-08-22T01:06:32.513Z"
   },
   {
    "duration": 743,
    "start_time": "2024-08-22T01:08:13.023Z"
   },
   {
    "duration": 760,
    "start_time": "2024-08-22T01:08:56.774Z"
   },
   {
    "duration": 345,
    "start_time": "2024-08-22T01:08:57.537Z"
   },
   {
    "duration": 133,
    "start_time": "2024-08-22T01:08:57.887Z"
   },
   {
    "duration": 29,
    "start_time": "2024-08-22T01:08:58.025Z"
   },
   {
    "duration": 27,
    "start_time": "2024-08-22T01:08:58.060Z"
   },
   {
    "duration": 1862,
    "start_time": "2024-08-22T01:08:58.091Z"
   },
   {
    "duration": 214,
    "start_time": "2024-08-22T01:08:59.956Z"
   },
   {
    "duration": 22,
    "start_time": "2024-08-22T01:09:00.175Z"
   },
   {
    "duration": 227,
    "start_time": "2024-08-22T01:09:00.201Z"
   },
   {
    "duration": 191,
    "start_time": "2024-08-22T01:09:00.434Z"
   },
   {
    "duration": 53,
    "start_time": "2024-08-22T01:09:00.633Z"
   },
   {
    "duration": 51,
    "start_time": "2024-08-22T01:09:00.690Z"
   },
   {
    "duration": 11,
    "start_time": "2024-08-22T01:09:00.745Z"
   },
   {
    "duration": 7,
    "start_time": "2024-08-22T01:09:00.759Z"
   },
   {
    "duration": 69,
    "start_time": "2024-08-22T01:09:00.769Z"
   },
   {
    "duration": 22,
    "start_time": "2024-08-22T01:09:00.841Z"
   },
   {
    "duration": 38,
    "start_time": "2024-08-22T01:09:00.870Z"
   },
   {
    "duration": 7,
    "start_time": "2024-08-22T01:09:00.936Z"
   },
   {
    "duration": 9,
    "start_time": "2024-08-22T01:09:00.946Z"
   },
   {
    "duration": 8,
    "start_time": "2024-08-22T01:09:00.959Z"
   },
   {
    "duration": 12,
    "start_time": "2024-08-22T01:09:00.970Z"
   },
   {
    "duration": 50,
    "start_time": "2024-08-22T01:09:00.985Z"
   },
   {
    "duration": 12,
    "start_time": "2024-08-22T01:09:01.039Z"
   },
   {
    "duration": 1460,
    "start_time": "2024-08-22T01:09:01.055Z"
   },
   {
    "duration": 330,
    "start_time": "2024-08-22T01:09:02.518Z"
   },
   {
    "duration": 472,
    "start_time": "2024-08-22T01:09:02.854Z"
   },
   {
    "duration": 11,
    "start_time": "2024-08-22T01:09:03.334Z"
   },
   {
    "duration": 24,
    "start_time": "2024-08-22T01:09:03.353Z"
   },
   {
    "duration": 62,
    "start_time": "2024-08-22T01:09:03.380Z"
   },
   {
    "duration": 12,
    "start_time": "2024-08-22T01:09:03.445Z"
   },
   {
    "duration": 14,
    "start_time": "2024-08-22T01:09:03.461Z"
   },
   {
    "duration": 11,
    "start_time": "2024-08-22T01:09:03.478Z"
   },
   {
    "duration": 45,
    "start_time": "2024-08-22T01:09:03.493Z"
   },
   {
    "duration": 186,
    "start_time": "2024-08-22T01:09:03.541Z"
   },
   {
    "duration": 30,
    "start_time": "2024-08-22T01:09:03.732Z"
   },
   {
    "duration": 75,
    "start_time": "2024-08-22T01:09:03.765Z"
   },
   {
    "duration": 19,
    "start_time": "2024-08-22T01:09:03.843Z"
   },
   {
    "duration": 1817,
    "start_time": "2024-08-22T01:09:03.866Z"
   },
   {
    "duration": 65,
    "start_time": "2024-08-22T01:09:05.687Z"
   },
   {
    "duration": 9,
    "start_time": "2024-08-22T01:09:05.755Z"
   },
   {
    "duration": 8,
    "start_time": "2024-08-22T01:09:05.768Z"
   },
   {
    "duration": 9,
    "start_time": "2024-08-22T01:09:05.780Z"
   },
   {
    "duration": 45,
    "start_time": "2024-08-22T01:09:05.792Z"
   },
   {
    "duration": 330,
    "start_time": "2024-08-22T01:09:05.841Z"
   },
   {
    "duration": 291,
    "start_time": "2024-08-22T01:09:06.174Z"
   },
   {
    "duration": 340,
    "start_time": "2024-08-22T01:09:06.468Z"
   },
   {
    "duration": 387,
    "start_time": "2024-08-22T01:09:06.811Z"
   },
   {
    "duration": 352,
    "start_time": "2024-08-22T01:09:07.201Z"
   },
   {
    "duration": 2088,
    "start_time": "2024-08-22T01:09:07.557Z"
   },
   {
    "duration": 386,
    "start_time": "2024-08-22T01:09:09.648Z"
   },
   {
    "duration": 0,
    "start_time": "2024-08-22T01:09:10.039Z"
   },
   {
    "duration": 1,
    "start_time": "2024-08-22T01:09:10.041Z"
   },
   {
    "duration": 0,
    "start_time": "2024-08-22T01:09:10.044Z"
   },
   {
    "duration": 0,
    "start_time": "2024-08-22T01:09:10.046Z"
   },
   {
    "duration": 0,
    "start_time": "2024-08-22T01:09:10.048Z"
   },
   {
    "duration": 0,
    "start_time": "2024-08-22T01:09:10.053Z"
   },
   {
    "duration": 563,
    "start_time": "2024-08-22T01:09:34.154Z"
   },
   {
    "duration": 13,
    "start_time": "2024-08-22T01:09:39.145Z"
   },
   {
    "duration": 366,
    "start_time": "2024-08-22T01:09:41.600Z"
   },
   {
    "duration": 174,
    "start_time": "2024-08-22T01:09:48.544Z"
   },
   {
    "duration": 819,
    "start_time": "2024-08-22T01:09:49.362Z"
   },
   {
    "duration": 1016,
    "start_time": "2024-08-22T01:10:37.334Z"
   },
   {
    "duration": 450,
    "start_time": "2024-08-22T01:10:59.215Z"
   },
   {
    "duration": 29,
    "start_time": "2024-08-22T01:11:05.650Z"
   },
   {
    "duration": 994,
    "start_time": "2024-08-22T01:11:38.272Z"
   },
   {
    "duration": 978,
    "start_time": "2024-08-22T01:12:25.767Z"
   },
   {
    "duration": 25,
    "start_time": "2024-08-22T01:13:34.211Z"
   },
   {
    "duration": 961,
    "start_time": "2024-08-22T01:14:14.840Z"
   },
   {
    "duration": 836,
    "start_time": "2024-08-22T01:14:38.719Z"
   },
   {
    "duration": 441,
    "start_time": "2024-08-22T01:27:44.870Z"
   },
   {
    "duration": 12,
    "start_time": "2024-08-22T01:28:28.631Z"
   },
   {
    "duration": 319,
    "start_time": "2024-08-22T01:38:31.540Z"
   },
   {
    "duration": 692,
    "start_time": "2024-08-22T01:39:17.062Z"
   },
   {
    "duration": 329,
    "start_time": "2024-08-22T01:39:17.757Z"
   },
   {
    "duration": 105,
    "start_time": "2024-08-22T01:39:18.089Z"
   },
   {
    "duration": 23,
    "start_time": "2024-08-22T01:39:18.198Z"
   },
   {
    "duration": 23,
    "start_time": "2024-08-22T01:39:18.234Z"
   },
   {
    "duration": 1628,
    "start_time": "2024-08-22T01:39:18.260Z"
   },
   {
    "duration": 197,
    "start_time": "2024-08-22T01:39:19.890Z"
   },
   {
    "duration": 20,
    "start_time": "2024-08-22T01:39:20.090Z"
   },
   {
    "duration": 189,
    "start_time": "2024-08-22T01:39:20.132Z"
   },
   {
    "duration": 169,
    "start_time": "2024-08-22T01:39:20.327Z"
   },
   {
    "duration": 57,
    "start_time": "2024-08-22T01:39:20.499Z"
   },
   {
    "duration": 23,
    "start_time": "2024-08-22T01:39:20.559Z"
   },
   {
    "duration": 9,
    "start_time": "2024-08-22T01:39:20.585Z"
   },
   {
    "duration": 36,
    "start_time": "2024-08-22T01:39:20.598Z"
   },
   {
    "duration": 33,
    "start_time": "2024-08-22T01:39:20.637Z"
   },
   {
    "duration": 23,
    "start_time": "2024-08-22T01:39:20.673Z"
   },
   {
    "duration": 56,
    "start_time": "2024-08-22T01:39:20.698Z"
   },
   {
    "duration": 6,
    "start_time": "2024-08-22T01:39:20.757Z"
   },
   {
    "duration": 7,
    "start_time": "2024-08-22T01:39:20.767Z"
   },
   {
    "duration": 7,
    "start_time": "2024-08-22T01:39:20.778Z"
   },
   {
    "duration": 50,
    "start_time": "2024-08-22T01:39:20.787Z"
   },
   {
    "duration": 7,
    "start_time": "2024-08-22T01:39:20.840Z"
   },
   {
    "duration": 8,
    "start_time": "2024-08-22T01:39:20.851Z"
   },
   {
    "duration": 1383,
    "start_time": "2024-08-22T01:39:20.862Z"
   },
   {
    "duration": 307,
    "start_time": "2024-08-22T01:39:22.248Z"
   },
   {
    "duration": 442,
    "start_time": "2024-08-22T01:39:22.558Z"
   },
   {
    "duration": 11,
    "start_time": "2024-08-22T01:39:23.002Z"
   },
   {
    "duration": 20,
    "start_time": "2024-08-22T01:39:23.038Z"
   },
   {
    "duration": 19,
    "start_time": "2024-08-22T01:39:23.061Z"
   },
   {
    "duration": 12,
    "start_time": "2024-08-22T01:39:23.083Z"
   },
   {
    "duration": 43,
    "start_time": "2024-08-22T01:39:23.097Z"
   },
   {
    "duration": 9,
    "start_time": "2024-08-22T01:39:23.143Z"
   },
   {
    "duration": 10,
    "start_time": "2024-08-22T01:39:23.155Z"
   },
   {
    "duration": 208,
    "start_time": "2024-08-22T01:39:23.168Z"
   },
   {
    "duration": 28,
    "start_time": "2024-08-22T01:39:23.380Z"
   },
   {
    "duration": 58,
    "start_time": "2024-08-22T01:39:23.411Z"
   },
   {
    "duration": 18,
    "start_time": "2024-08-22T01:39:23.472Z"
   },
   {
    "duration": 1641,
    "start_time": "2024-08-22T01:39:23.493Z"
   },
   {
    "duration": 45,
    "start_time": "2024-08-22T01:39:25.137Z"
   },
   {
    "duration": 7,
    "start_time": "2024-08-22T01:39:25.185Z"
   },
   {
    "duration": 38,
    "start_time": "2024-08-22T01:39:25.195Z"
   },
   {
    "duration": 6,
    "start_time": "2024-08-22T01:39:25.237Z"
   },
   {
    "duration": 7,
    "start_time": "2024-08-22T01:39:25.247Z"
   },
   {
    "duration": 334,
    "start_time": "2024-08-22T01:39:25.257Z"
   },
   {
    "duration": 261,
    "start_time": "2024-08-22T01:39:25.593Z"
   },
   {
    "duration": 293,
    "start_time": "2024-08-22T01:39:25.857Z"
   },
   {
    "duration": 347,
    "start_time": "2024-08-22T01:39:26.152Z"
   },
   {
    "duration": 307,
    "start_time": "2024-08-22T01:39:26.502Z"
   },
   {
    "duration": 2060,
    "start_time": "2024-08-22T01:39:26.812Z"
   },
   {
    "duration": 513,
    "start_time": "2024-08-22T01:39:28.876Z"
   },
   {
    "duration": 12,
    "start_time": "2024-08-22T01:39:29.393Z"
   },
   {
    "duration": 349,
    "start_time": "2024-08-22T01:39:29.407Z"
   },
   {
    "duration": 193,
    "start_time": "2024-08-22T01:39:29.760Z"
   },
   {
    "duration": 802,
    "start_time": "2024-08-22T01:39:29.956Z"
   },
   {
    "duration": 965,
    "start_time": "2024-08-22T01:39:30.761Z"
   },
   {
    "duration": 444,
    "start_time": "2024-08-22T01:39:31.729Z"
   },
   {
    "duration": 1257,
    "start_time": "2024-08-22T01:39:43.730Z"
   },
   {
    "duration": 22,
    "start_time": "2024-08-22T01:39:57.426Z"
   },
   {
    "duration": 11,
    "start_time": "2024-08-22T01:40:01.687Z"
   },
   {
    "duration": 620,
    "start_time": "2024-08-22T01:43:25.504Z"
   },
   {
    "duration": 13,
    "start_time": "2024-08-22T01:43:27.431Z"
   },
   {
    "duration": 5,
    "start_time": "2024-08-22T01:43:44.769Z"
   },
   {
    "duration": 1170,
    "start_time": "2024-08-22T01:43:55.472Z"
   },
   {
    "duration": 12,
    "start_time": "2024-08-22T01:43:59.022Z"
   },
   {
    "duration": 11,
    "start_time": "2024-08-22T01:44:28.826Z"
   },
   {
    "duration": 8,
    "start_time": "2024-08-22T01:45:53.472Z"
   },
   {
    "duration": 11,
    "start_time": "2024-08-22T01:47:17.543Z"
   },
   {
    "duration": 664,
    "start_time": "2024-08-22T01:49:03.495Z"
   },
   {
    "duration": 323,
    "start_time": "2024-08-22T01:49:04.163Z"
   },
   {
    "duration": 100,
    "start_time": "2024-08-22T01:49:04.489Z"
   },
   {
    "duration": 23,
    "start_time": "2024-08-22T01:49:04.593Z"
   },
   {
    "duration": 28,
    "start_time": "2024-08-22T01:49:04.634Z"
   },
   {
    "duration": 1658,
    "start_time": "2024-08-22T01:49:04.666Z"
   },
   {
    "duration": 181,
    "start_time": "2024-08-22T01:49:06.333Z"
   },
   {
    "duration": 30,
    "start_time": "2024-08-22T01:49:06.517Z"
   },
   {
    "duration": 200,
    "start_time": "2024-08-22T01:49:06.550Z"
   },
   {
    "duration": 188,
    "start_time": "2024-08-22T01:49:06.755Z"
   },
   {
    "duration": 47,
    "start_time": "2024-08-22T01:49:06.946Z"
   },
   {
    "duration": 48,
    "start_time": "2024-08-22T01:49:06.995Z"
   },
   {
    "duration": 9,
    "start_time": "2024-08-22T01:49:07.047Z"
   },
   {
    "duration": 7,
    "start_time": "2024-08-22T01:49:07.059Z"
   },
   {
    "duration": 67,
    "start_time": "2024-08-22T01:49:07.069Z"
   },
   {
    "duration": 28,
    "start_time": "2024-08-22T01:49:07.139Z"
   },
   {
    "duration": 29,
    "start_time": "2024-08-22T01:49:07.171Z"
   },
   {
    "duration": 30,
    "start_time": "2024-08-22T01:49:07.204Z"
   },
   {
    "duration": 8,
    "start_time": "2024-08-22T01:49:07.238Z"
   },
   {
    "duration": 7,
    "start_time": "2024-08-22T01:49:07.249Z"
   },
   {
    "duration": 10,
    "start_time": "2024-08-22T01:49:07.260Z"
   },
   {
    "duration": 7,
    "start_time": "2024-08-22T01:49:07.273Z"
   },
   {
    "duration": 6,
    "start_time": "2024-08-22T01:49:07.334Z"
   },
   {
    "duration": 1332,
    "start_time": "2024-08-22T01:49:07.344Z"
   },
   {
    "duration": 307,
    "start_time": "2024-08-22T01:49:08.678Z"
   },
   {
    "duration": 440,
    "start_time": "2024-08-22T01:49:08.989Z"
   },
   {
    "duration": 11,
    "start_time": "2024-08-22T01:49:09.434Z"
   },
   {
    "duration": 20,
    "start_time": "2024-08-22T01:49:09.453Z"
   },
   {
    "duration": 57,
    "start_time": "2024-08-22T01:49:09.476Z"
   },
   {
    "duration": 9,
    "start_time": "2024-08-22T01:49:09.536Z"
   },
   {
    "duration": 10,
    "start_time": "2024-08-22T01:49:09.548Z"
   },
   {
    "duration": 9,
    "start_time": "2024-08-22T01:49:09.561Z"
   },
   {
    "duration": 9,
    "start_time": "2024-08-22T01:49:09.573Z"
   },
   {
    "duration": 206,
    "start_time": "2024-08-22T01:49:09.585Z"
   },
   {
    "duration": 40,
    "start_time": "2024-08-22T01:49:09.793Z"
   },
   {
    "duration": 46,
    "start_time": "2024-08-22T01:49:09.836Z"
   },
   {
    "duration": 18,
    "start_time": "2024-08-22T01:49:09.886Z"
   },
   {
    "duration": 1664,
    "start_time": "2024-08-22T01:49:09.907Z"
   },
   {
    "duration": 63,
    "start_time": "2024-08-22T01:49:11.574Z"
   },
   {
    "duration": 7,
    "start_time": "2024-08-22T01:49:11.639Z"
   },
   {
    "duration": 8,
    "start_time": "2024-08-22T01:49:11.648Z"
   },
   {
    "duration": 6,
    "start_time": "2024-08-22T01:49:11.659Z"
   },
   {
    "duration": 6,
    "start_time": "2024-08-22T01:49:11.668Z"
   },
   {
    "duration": 362,
    "start_time": "2024-08-22T01:49:11.677Z"
   },
   {
    "duration": 258,
    "start_time": "2024-08-22T01:49:12.042Z"
   },
   {
    "duration": 296,
    "start_time": "2024-08-22T01:49:12.304Z"
   },
   {
    "duration": 343,
    "start_time": "2024-08-22T01:49:12.603Z"
   },
   {
    "duration": 309,
    "start_time": "2024-08-22T01:49:12.949Z"
   },
   {
    "duration": 1406,
    "start_time": "2024-08-22T01:49:13.261Z"
   },
   {
    "duration": 0,
    "start_time": "2024-08-22T01:49:14.670Z"
   },
   {
    "duration": 0,
    "start_time": "2024-08-22T01:49:14.671Z"
   },
   {
    "duration": 0,
    "start_time": "2024-08-22T01:49:14.674Z"
   },
   {
    "duration": 0,
    "start_time": "2024-08-22T01:49:14.675Z"
   },
   {
    "duration": 0,
    "start_time": "2024-08-22T01:49:14.678Z"
   },
   {
    "duration": 0,
    "start_time": "2024-08-22T01:49:14.681Z"
   },
   {
    "duration": 0,
    "start_time": "2024-08-22T01:49:14.683Z"
   },
   {
    "duration": 0,
    "start_time": "2024-08-22T01:49:14.685Z"
   },
   {
    "duration": 0,
    "start_time": "2024-08-22T01:49:14.687Z"
   },
   {
    "duration": 2331,
    "start_time": "2024-08-22T01:49:31.475Z"
   },
   {
    "duration": 2027,
    "start_time": "2024-08-22T01:50:04.207Z"
   },
   {
    "duration": 686,
    "start_time": "2024-08-22T01:50:27.760Z"
   },
   {
    "duration": 300,
    "start_time": "2024-08-22T01:50:28.449Z"
   },
   {
    "duration": 88,
    "start_time": "2024-08-22T01:50:28.752Z"
   },
   {
    "duration": 23,
    "start_time": "2024-08-22T01:50:28.844Z"
   },
   {
    "duration": 24,
    "start_time": "2024-08-22T01:50:28.870Z"
   },
   {
    "duration": 1617,
    "start_time": "2024-08-22T01:50:28.897Z"
   },
   {
    "duration": 193,
    "start_time": "2024-08-22T01:50:30.517Z"
   },
   {
    "duration": 30,
    "start_time": "2024-08-22T01:50:30.714Z"
   },
   {
    "duration": 204,
    "start_time": "2024-08-22T01:50:30.748Z"
   },
   {
    "duration": 176,
    "start_time": "2024-08-22T01:50:30.960Z"
   },
   {
    "duration": 46,
    "start_time": "2024-08-22T01:50:31.139Z"
   },
   {
    "duration": 48,
    "start_time": "2024-08-22T01:50:31.188Z"
   },
   {
    "duration": 8,
    "start_time": "2024-08-22T01:50:31.239Z"
   },
   {
    "duration": 6,
    "start_time": "2024-08-22T01:50:31.251Z"
   },
   {
    "duration": 33,
    "start_time": "2024-08-22T01:50:31.260Z"
   },
   {
    "duration": 27,
    "start_time": "2024-08-22T01:50:31.333Z"
   },
   {
    "duration": 34,
    "start_time": "2024-08-22T01:50:31.364Z"
   },
   {
    "duration": 8,
    "start_time": "2024-08-22T01:50:31.401Z"
   },
   {
    "duration": 9,
    "start_time": "2024-08-22T01:50:31.435Z"
   },
   {
    "duration": 8,
    "start_time": "2024-08-22T01:50:31.447Z"
   },
   {
    "duration": 12,
    "start_time": "2024-08-22T01:50:31.458Z"
   },
   {
    "duration": 8,
    "start_time": "2024-08-22T01:50:31.472Z"
   },
   {
    "duration": 58,
    "start_time": "2024-08-22T01:50:31.484Z"
   },
   {
    "duration": 1394,
    "start_time": "2024-08-22T01:50:31.545Z"
   },
   {
    "duration": 314,
    "start_time": "2024-08-22T01:50:32.942Z"
   },
   {
    "duration": 465,
    "start_time": "2024-08-22T01:50:33.259Z"
   },
   {
    "duration": 11,
    "start_time": "2024-08-22T01:50:33.732Z"
   },
   {
    "duration": 19,
    "start_time": "2024-08-22T01:50:33.751Z"
   },
   {
    "duration": 20,
    "start_time": "2024-08-22T01:50:33.773Z"
   },
   {
    "duration": 10,
    "start_time": "2024-08-22T01:50:33.834Z"
   },
   {
    "duration": 10,
    "start_time": "2024-08-22T01:50:33.847Z"
   },
   {
    "duration": 9,
    "start_time": "2024-08-22T01:50:33.859Z"
   },
   {
    "duration": 9,
    "start_time": "2024-08-22T01:50:33.871Z"
   },
   {
    "duration": 158,
    "start_time": "2024-08-22T01:50:33.932Z"
   },
   {
    "duration": 23,
    "start_time": "2024-08-22T01:50:34.093Z"
   },
   {
    "duration": 47,
    "start_time": "2024-08-22T01:50:34.132Z"
   },
   {
    "duration": 20,
    "start_time": "2024-08-22T01:50:34.182Z"
   },
   {
    "duration": 1724,
    "start_time": "2024-08-22T01:50:34.205Z"
   },
   {
    "duration": 45,
    "start_time": "2024-08-22T01:50:35.933Z"
   },
   {
    "duration": 7,
    "start_time": "2024-08-22T01:50:35.981Z"
   },
   {
    "duration": 7,
    "start_time": "2024-08-22T01:50:35.993Z"
   },
   {
    "duration": 9,
    "start_time": "2024-08-22T01:50:36.033Z"
   },
   {
    "duration": 8,
    "start_time": "2024-08-22T01:50:36.044Z"
   },
   {
    "duration": 336,
    "start_time": "2024-08-22T01:50:36.055Z"
   },
   {
    "duration": 265,
    "start_time": "2024-08-22T01:50:36.394Z"
   },
   {
    "duration": 297,
    "start_time": "2024-08-22T01:50:36.662Z"
   },
   {
    "duration": 371,
    "start_time": "2024-08-22T01:50:36.962Z"
   },
   {
    "duration": 310,
    "start_time": "2024-08-22T01:50:37.335Z"
   },
   {
    "duration": 2011,
    "start_time": "2024-08-22T01:50:37.649Z"
   },
   {
    "duration": 503,
    "start_time": "2024-08-22T01:50:39.663Z"
   },
   {
    "duration": 12,
    "start_time": "2024-08-22T01:50:40.169Z"
   },
   {
    "duration": 355,
    "start_time": "2024-08-22T01:50:40.183Z"
   },
   {
    "duration": 181,
    "start_time": "2024-08-22T01:50:40.541Z"
   },
   {
    "duration": 791,
    "start_time": "2024-08-22T01:50:40.724Z"
   },
   {
    "duration": 953,
    "start_time": "2024-08-22T01:50:41.518Z"
   },
   {
    "duration": 12,
    "start_time": "2024-08-22T01:50:42.474Z"
   },
   {
    "duration": 445,
    "start_time": "2024-08-22T01:50:42.489Z"
   },
   {
    "duration": 0,
    "start_time": "2024-08-22T01:50:42.937Z"
   },
   {
    "duration": 1234,
    "start_time": "2024-08-22T01:52:22.228Z"
   },
   {
    "duration": 12,
    "start_time": "2024-08-22T01:52:26.438Z"
   },
   {
    "duration": 1054,
    "start_time": "2024-08-22T01:53:01.711Z"
   },
   {
    "duration": 25,
    "start_time": "2024-08-22T01:53:05.812Z"
   },
   {
    "duration": 1021,
    "start_time": "2024-08-22T01:53:37.947Z"
   },
   {
    "duration": 19,
    "start_time": "2024-08-22T01:53:43.094Z"
   },
   {
    "duration": 5,
    "start_time": "2024-08-22T01:54:33.710Z"
   },
   {
    "duration": 8,
    "start_time": "2024-08-22T01:54:36.171Z"
   },
   {
    "duration": 42,
    "start_time": "2024-08-22T01:54:44.487Z"
   },
   {
    "duration": 10,
    "start_time": "2024-08-22T01:54:53.289Z"
   },
   {
    "duration": 1292,
    "start_time": "2024-08-22T01:55:00.535Z"
   },
   {
    "duration": 19,
    "start_time": "2024-08-22T01:55:04.994Z"
   },
   {
    "duration": 1100,
    "start_time": "2024-08-22T01:55:21.727Z"
   },
   {
    "duration": 22,
    "start_time": "2024-08-22T01:55:22.833Z"
   },
   {
    "duration": 6,
    "start_time": "2024-08-22T01:56:34.869Z"
   },
   {
    "duration": 6,
    "start_time": "2024-08-22T01:57:00.933Z"
   },
   {
    "duration": 16,
    "start_time": "2024-08-22T01:57:15.040Z"
   },
   {
    "duration": 20,
    "start_time": "2024-08-22T02:02:37.078Z"
   },
   {
    "duration": 8,
    "start_time": "2024-08-22T02:05:44.229Z"
   },
   {
    "duration": 438,
    "start_time": "2024-08-22T02:08:19.744Z"
   },
   {
    "duration": 620,
    "start_time": "2024-08-22T02:08:25.131Z"
   },
   {
    "duration": 1004,
    "start_time": "2024-08-22T02:12:40.521Z"
   },
   {
    "duration": 25,
    "start_time": "2024-08-22T02:12:41.532Z"
   },
   {
    "duration": 16,
    "start_time": "2024-08-22T02:14:12.195Z"
   },
   {
    "duration": 1285,
    "start_time": "2024-08-22T02:20:48.319Z"
   },
   {
    "duration": 21,
    "start_time": "2024-08-22T02:21:01.985Z"
   },
   {
    "duration": 1023,
    "start_time": "2024-08-22T02:22:00.976Z"
   },
   {
    "duration": 728,
    "start_time": "2024-08-22T02:23:47.187Z"
   },
   {
    "duration": 357,
    "start_time": "2024-08-22T02:23:47.919Z"
   },
   {
    "duration": 105,
    "start_time": "2024-08-22T02:23:48.279Z"
   },
   {
    "duration": 25,
    "start_time": "2024-08-22T02:23:48.389Z"
   },
   {
    "duration": 36,
    "start_time": "2024-08-22T02:23:48.417Z"
   },
   {
    "duration": 1715,
    "start_time": "2024-08-22T02:23:48.456Z"
   },
   {
    "duration": 227,
    "start_time": "2024-08-22T02:23:50.174Z"
   },
   {
    "duration": 39,
    "start_time": "2024-08-22T02:23:50.404Z"
   },
   {
    "duration": 213,
    "start_time": "2024-08-22T02:23:50.445Z"
   },
   {
    "duration": 198,
    "start_time": "2024-08-22T02:23:50.664Z"
   },
   {
    "duration": 68,
    "start_time": "2024-08-22T02:23:50.866Z"
   },
   {
    "duration": 28,
    "start_time": "2024-08-22T02:23:50.941Z"
   },
   {
    "duration": 12,
    "start_time": "2024-08-22T02:23:50.972Z"
   },
   {
    "duration": 21,
    "start_time": "2024-08-22T02:23:50.987Z"
   },
   {
    "duration": 82,
    "start_time": "2024-08-22T02:23:51.014Z"
   },
   {
    "duration": 47,
    "start_time": "2024-08-22T02:23:51.100Z"
   },
   {
    "duration": 53,
    "start_time": "2024-08-22T02:23:51.150Z"
   },
   {
    "duration": 8,
    "start_time": "2024-08-22T02:23:51.205Z"
   },
   {
    "duration": 30,
    "start_time": "2024-08-22T02:23:51.216Z"
   },
   {
    "duration": 15,
    "start_time": "2024-08-22T02:23:51.253Z"
   },
   {
    "duration": 21,
    "start_time": "2024-08-22T02:23:51.273Z"
   },
   {
    "duration": 12,
    "start_time": "2024-08-22T02:23:51.297Z"
   },
   {
    "duration": 32,
    "start_time": "2024-08-22T02:23:51.313Z"
   },
   {
    "duration": 1591,
    "start_time": "2024-08-22T02:23:51.348Z"
   },
   {
    "duration": 344,
    "start_time": "2024-08-22T02:23:52.942Z"
   },
   {
    "duration": 485,
    "start_time": "2024-08-22T02:23:53.291Z"
   },
   {
    "duration": 18,
    "start_time": "2024-08-22T02:23:53.780Z"
   },
   {
    "duration": 40,
    "start_time": "2024-08-22T02:23:53.809Z"
   },
   {
    "duration": 25,
    "start_time": "2024-08-22T02:23:53.853Z"
   },
   {
    "duration": 12,
    "start_time": "2024-08-22T02:23:53.881Z"
   },
   {
    "duration": 10,
    "start_time": "2024-08-22T02:23:53.932Z"
   },
   {
    "duration": 11,
    "start_time": "2024-08-22T02:23:53.948Z"
   },
   {
    "duration": 15,
    "start_time": "2024-08-22T02:23:53.962Z"
   },
   {
    "duration": 206,
    "start_time": "2024-08-22T02:23:53.981Z"
   },
   {
    "duration": 24,
    "start_time": "2024-08-22T02:23:54.194Z"
   },
   {
    "duration": 48,
    "start_time": "2024-08-22T02:23:54.233Z"
   },
   {
    "duration": 20,
    "start_time": "2024-08-22T02:23:54.284Z"
   },
   {
    "duration": 1836,
    "start_time": "2024-08-22T02:23:54.307Z"
   },
   {
    "duration": 51,
    "start_time": "2024-08-22T02:23:56.146Z"
   },
   {
    "duration": 32,
    "start_time": "2024-08-22T02:23:56.201Z"
   },
   {
    "duration": 7,
    "start_time": "2024-08-22T02:23:56.236Z"
   },
   {
    "duration": 7,
    "start_time": "2024-08-22T02:23:56.246Z"
   },
   {
    "duration": 7,
    "start_time": "2024-08-22T02:23:56.256Z"
   },
   {
    "duration": 364,
    "start_time": "2024-08-22T02:23:56.265Z"
   },
   {
    "duration": 273,
    "start_time": "2024-08-22T02:23:56.634Z"
   },
   {
    "duration": 349,
    "start_time": "2024-08-22T02:23:56.911Z"
   },
   {
    "duration": 379,
    "start_time": "2024-08-22T02:23:57.263Z"
   },
   {
    "duration": 330,
    "start_time": "2024-08-22T02:23:57.645Z"
   },
   {
    "duration": 2166,
    "start_time": "2024-08-22T02:23:57.978Z"
   },
   {
    "duration": 566,
    "start_time": "2024-08-22T02:24:00.147Z"
   },
   {
    "duration": 20,
    "start_time": "2024-08-22T02:24:00.716Z"
   },
   {
    "duration": 352,
    "start_time": "2024-08-22T02:24:00.739Z"
   },
   {
    "duration": 195,
    "start_time": "2024-08-22T02:24:01.095Z"
   },
   {
    "duration": 530,
    "start_time": "2024-08-22T02:24:01.294Z"
   },
   {
    "duration": 584,
    "start_time": "2024-08-22T02:24:01.827Z"
   },
   {
    "duration": 999,
    "start_time": "2024-08-22T02:24:02.415Z"
   },
   {
    "duration": 24,
    "start_time": "2024-08-22T02:24:03.417Z"
   },
   {
    "duration": 16,
    "start_time": "2024-08-22T02:24:03.444Z"
   },
   {
    "duration": 1407,
    "start_time": "2024-08-22T02:24:03.462Z"
   },
   {
    "duration": 744,
    "start_time": "2024-08-22T02:24:33.579Z"
   },
   {
    "duration": 344,
    "start_time": "2024-08-22T02:24:34.327Z"
   },
   {
    "duration": 109,
    "start_time": "2024-08-22T02:24:34.674Z"
   },
   {
    "duration": 47,
    "start_time": "2024-08-22T02:24:34.787Z"
   },
   {
    "duration": 32,
    "start_time": "2024-08-22T02:24:34.839Z"
   },
   {
    "duration": 1831,
    "start_time": "2024-08-22T02:24:34.874Z"
   },
   {
    "duration": 208,
    "start_time": "2024-08-22T02:24:36.708Z"
   },
   {
    "duration": 32,
    "start_time": "2024-08-22T02:24:36.919Z"
   },
   {
    "duration": 240,
    "start_time": "2024-08-22T02:24:36.957Z"
   },
   {
    "duration": 197,
    "start_time": "2024-08-22T02:24:37.200Z"
   },
   {
    "duration": 65,
    "start_time": "2024-08-22T02:24:37.400Z"
   },
   {
    "duration": 27,
    "start_time": "2024-08-22T02:24:37.468Z"
   },
   {
    "duration": 10,
    "start_time": "2024-08-22T02:24:37.499Z"
   },
   {
    "duration": 7,
    "start_time": "2024-08-22T02:24:37.540Z"
   },
   {
    "duration": 37,
    "start_time": "2024-08-22T02:24:37.550Z"
   },
   {
    "duration": 50,
    "start_time": "2024-08-22T02:24:37.594Z"
   },
   {
    "duration": 31,
    "start_time": "2024-08-22T02:24:37.647Z"
   },
   {
    "duration": 19,
    "start_time": "2024-08-22T02:24:37.681Z"
   },
   {
    "duration": 32,
    "start_time": "2024-08-22T02:24:37.703Z"
   },
   {
    "duration": 9,
    "start_time": "2024-08-22T02:24:37.739Z"
   },
   {
    "duration": 15,
    "start_time": "2024-08-22T02:24:37.751Z"
   },
   {
    "duration": 8,
    "start_time": "2024-08-22T02:24:37.769Z"
   },
   {
    "duration": 53,
    "start_time": "2024-08-22T02:24:37.781Z"
   },
   {
    "duration": 1400,
    "start_time": "2024-08-22T02:24:37.837Z"
   },
   {
    "duration": 329,
    "start_time": "2024-08-22T02:24:39.240Z"
   },
   {
    "duration": 472,
    "start_time": "2024-08-22T02:24:39.572Z"
   },
   {
    "duration": 11,
    "start_time": "2024-08-22T02:24:40.050Z"
   },
   {
    "duration": 23,
    "start_time": "2024-08-22T02:24:40.064Z"
   },
   {
    "duration": 53,
    "start_time": "2024-08-22T02:24:40.090Z"
   },
   {
    "duration": 11,
    "start_time": "2024-08-22T02:24:40.147Z"
   },
   {
    "duration": 12,
    "start_time": "2024-08-22T02:24:40.161Z"
   },
   {
    "duration": 12,
    "start_time": "2024-08-22T02:24:40.177Z"
   },
   {
    "duration": 47,
    "start_time": "2024-08-22T02:24:40.193Z"
   },
   {
    "duration": 196,
    "start_time": "2024-08-22T02:24:40.242Z"
   },
   {
    "duration": 31,
    "start_time": "2024-08-22T02:24:40.442Z"
   },
   {
    "duration": 78,
    "start_time": "2024-08-22T02:24:40.476Z"
   },
   {
    "duration": 21,
    "start_time": "2024-08-22T02:24:40.558Z"
   },
   {
    "duration": 1720,
    "start_time": "2024-08-22T02:24:40.584Z"
   },
   {
    "duration": 68,
    "start_time": "2024-08-22T02:24:42.307Z"
   },
   {
    "duration": 7,
    "start_time": "2024-08-22T02:24:42.378Z"
   },
   {
    "duration": 7,
    "start_time": "2024-08-22T02:24:42.396Z"
   },
   {
    "duration": 31,
    "start_time": "2024-08-22T02:24:42.406Z"
   },
   {
    "duration": 8,
    "start_time": "2024-08-22T02:24:42.440Z"
   },
   {
    "duration": 353,
    "start_time": "2024-08-22T02:24:42.451Z"
   },
   {
    "duration": 270,
    "start_time": "2024-08-22T02:24:42.808Z"
   },
   {
    "duration": 304,
    "start_time": "2024-08-22T02:24:43.081Z"
   },
   {
    "duration": 373,
    "start_time": "2024-08-22T02:24:43.393Z"
   },
   {
    "duration": 332,
    "start_time": "2024-08-22T02:24:43.769Z"
   },
   {
    "duration": 2132,
    "start_time": "2024-08-22T02:24:44.107Z"
   },
   {
    "duration": 539,
    "start_time": "2024-08-22T02:24:46.242Z"
   },
   {
    "duration": 14,
    "start_time": "2024-08-22T02:24:46.784Z"
   },
   {
    "duration": 396,
    "start_time": "2024-08-22T02:24:46.801Z"
   },
   {
    "duration": 187,
    "start_time": "2024-08-22T02:24:47.204Z"
   },
   {
    "duration": 464,
    "start_time": "2024-08-22T02:24:47.394Z"
   },
   {
    "duration": 589,
    "start_time": "2024-08-22T02:24:47.864Z"
   },
   {
    "duration": 1001,
    "start_time": "2024-08-22T02:24:48.457Z"
   },
   {
    "duration": 21,
    "start_time": "2024-08-22T02:24:49.461Z"
   },
   {
    "duration": 16,
    "start_time": "2024-08-22T02:24:49.485Z"
   },
   {
    "duration": 1363,
    "start_time": "2024-08-22T02:24:49.504Z"
   },
   {
    "duration": 1044,
    "start_time": "2024-08-22T02:24:50.870Z"
   },
   {
    "duration": 53,
    "start_time": "2024-08-22T02:26:08.925Z"
   },
   {
    "duration": 46,
    "start_time": "2024-08-22T02:26:24.957Z"
   },
   {
    "duration": 66,
    "start_time": "2024-08-22T02:28:07.817Z"
   },
   {
    "duration": 444,
    "start_time": "2024-08-22T02:29:48.232Z"
   },
   {
    "duration": 66,
    "start_time": "2024-08-22T02:29:57.399Z"
   },
   {
    "duration": 24,
    "start_time": "2024-08-22T02:29:59.530Z"
   },
   {
    "duration": 164,
    "start_time": "2024-08-22T02:30:07.809Z"
   },
   {
    "duration": 66,
    "start_time": "2024-08-22T02:31:02.961Z"
   },
   {
    "duration": 25,
    "start_time": "2024-08-22T02:31:51.677Z"
   },
   {
    "duration": 53,
    "start_time": "2024-08-22T02:31:57.668Z"
   },
   {
    "duration": 48,
    "start_time": "2024-08-22T02:32:06.615Z"
   },
   {
    "duration": 74,
    "start_time": "2024-08-22T02:32:15.403Z"
   },
   {
    "duration": 1027,
    "start_time": "2024-08-22T02:39:00.129Z"
   },
   {
    "duration": 16,
    "start_time": "2024-08-22T02:39:13.435Z"
   },
   {
    "duration": 9,
    "start_time": "2024-08-22T02:39:25.481Z"
   },
   {
    "duration": 8,
    "start_time": "2024-08-22T02:39:30.760Z"
   },
   {
    "duration": 9,
    "start_time": "2024-08-22T02:40:06.047Z"
   },
   {
    "duration": 15,
    "start_time": "2024-08-22T02:42:31.865Z"
   },
   {
    "duration": 328,
    "start_time": "2024-08-22T02:42:36.455Z"
   },
   {
    "duration": 0,
    "start_time": "2024-08-22T02:42:36.786Z"
   },
   {
    "duration": 681,
    "start_time": "2024-08-22T02:42:55.298Z"
   },
   {
    "duration": 328,
    "start_time": "2024-08-22T02:42:55.982Z"
   },
   {
    "duration": 106,
    "start_time": "2024-08-22T02:42:56.313Z"
   },
   {
    "duration": 24,
    "start_time": "2024-08-22T02:42:56.423Z"
   },
   {
    "duration": 22,
    "start_time": "2024-08-22T02:42:56.450Z"
   },
   {
    "duration": 1675,
    "start_time": "2024-08-22T02:42:56.475Z"
   },
   {
    "duration": 187,
    "start_time": "2024-08-22T02:42:58.153Z"
   },
   {
    "duration": 19,
    "start_time": "2024-08-22T02:42:58.343Z"
   },
   {
    "duration": 212,
    "start_time": "2024-08-22T02:42:58.365Z"
   },
   {
    "duration": 176,
    "start_time": "2024-08-22T02:42:58.582Z"
   },
   {
    "duration": 47,
    "start_time": "2024-08-22T02:42:58.761Z"
   },
   {
    "duration": 41,
    "start_time": "2024-08-22T02:42:58.811Z"
   },
   {
    "duration": 9,
    "start_time": "2024-08-22T02:42:58.855Z"
   },
   {
    "duration": 8,
    "start_time": "2024-08-22T02:42:58.868Z"
   },
   {
    "duration": 74,
    "start_time": "2024-08-22T02:42:58.878Z"
   },
   {
    "duration": 25,
    "start_time": "2024-08-22T02:42:58.955Z"
   },
   {
    "duration": 59,
    "start_time": "2024-08-22T02:42:58.983Z"
   },
   {
    "duration": 6,
    "start_time": "2024-08-22T02:42:59.044Z"
   },
   {
    "duration": 8,
    "start_time": "2024-08-22T02:42:59.053Z"
   },
   {
    "duration": 10,
    "start_time": "2024-08-22T02:42:59.064Z"
   },
   {
    "duration": 10,
    "start_time": "2024-08-22T02:42:59.076Z"
   },
   {
    "duration": 47,
    "start_time": "2024-08-22T02:42:59.089Z"
   },
   {
    "duration": 7,
    "start_time": "2024-08-22T02:42:59.139Z"
   },
   {
    "duration": 1365,
    "start_time": "2024-08-22T02:42:59.150Z"
   },
   {
    "duration": 305,
    "start_time": "2024-08-22T02:43:00.517Z"
   },
   {
    "duration": 452,
    "start_time": "2024-08-22T02:43:00.832Z"
   },
   {
    "duration": 12,
    "start_time": "2024-08-22T02:43:01.287Z"
   },
   {
    "duration": 44,
    "start_time": "2024-08-22T02:43:01.308Z"
   },
   {
    "duration": 25,
    "start_time": "2024-08-22T02:43:01.357Z"
   },
   {
    "duration": 13,
    "start_time": "2024-08-22T02:43:01.385Z"
   },
   {
    "duration": 42,
    "start_time": "2024-08-22T02:43:01.401Z"
   },
   {
    "duration": 9,
    "start_time": "2024-08-22T02:43:01.446Z"
   },
   {
    "duration": 10,
    "start_time": "2024-08-22T02:43:01.459Z"
   },
   {
    "duration": 195,
    "start_time": "2024-08-22T02:43:01.472Z"
   },
   {
    "duration": 24,
    "start_time": "2024-08-22T02:43:01.669Z"
   },
   {
    "duration": 73,
    "start_time": "2024-08-22T02:43:01.695Z"
   },
   {
    "duration": 19,
    "start_time": "2024-08-22T02:43:01.772Z"
   },
   {
    "duration": 1679,
    "start_time": "2024-08-22T02:43:01.794Z"
   },
   {
    "duration": 62,
    "start_time": "2024-08-22T02:43:03.476Z"
   },
   {
    "duration": 7,
    "start_time": "2024-08-22T02:43:03.541Z"
   },
   {
    "duration": 8,
    "start_time": "2024-08-22T02:43:03.551Z"
   },
   {
    "duration": 6,
    "start_time": "2024-08-22T02:43:03.562Z"
   },
   {
    "duration": 7,
    "start_time": "2024-08-22T02:43:03.571Z"
   },
   {
    "duration": 352,
    "start_time": "2024-08-22T02:43:03.583Z"
   },
   {
    "duration": 268,
    "start_time": "2024-08-22T02:43:03.938Z"
   },
   {
    "duration": 299,
    "start_time": "2024-08-22T02:43:04.209Z"
   },
   {
    "duration": 367,
    "start_time": "2024-08-22T02:43:04.511Z"
   },
   {
    "duration": 341,
    "start_time": "2024-08-22T02:43:04.880Z"
   },
   {
    "duration": 2024,
    "start_time": "2024-08-22T02:43:05.224Z"
   },
   {
    "duration": 500,
    "start_time": "2024-08-22T02:43:07.251Z"
   },
   {
    "duration": 11,
    "start_time": "2024-08-22T02:43:07.753Z"
   },
   {
    "duration": 346,
    "start_time": "2024-08-22T02:43:07.767Z"
   },
   {
    "duration": 184,
    "start_time": "2024-08-22T02:43:08.116Z"
   },
   {
    "duration": 449,
    "start_time": "2024-08-22T02:43:08.303Z"
   },
   {
    "duration": 539,
    "start_time": "2024-08-22T02:43:08.755Z"
   },
   {
    "duration": 952,
    "start_time": "2024-08-22T02:43:09.297Z"
   },
   {
    "duration": 18,
    "start_time": "2024-08-22T02:43:10.251Z"
   },
   {
    "duration": 15,
    "start_time": "2024-08-22T02:43:10.272Z"
   },
   {
    "duration": 1265,
    "start_time": "2024-08-22T02:43:10.290Z"
   },
   {
    "duration": 935,
    "start_time": "2024-08-22T02:43:11.557Z"
   },
   {
    "duration": 10,
    "start_time": "2024-08-22T02:43:12.495Z"
   },
   {
    "duration": 73,
    "start_time": "2024-08-22T02:43:12.508Z"
   },
   {
    "duration": 72,
    "start_time": "2024-08-22T02:43:12.583Z"
   },
   {
    "duration": 8,
    "start_time": "2024-08-22T02:43:20.520Z"
   },
   {
    "duration": 17,
    "start_time": "2024-08-22T02:54:21.223Z"
   },
   {
    "duration": 445,
    "start_time": "2024-08-22T02:55:29.614Z"
   },
   {
    "duration": 19,
    "start_time": "2024-08-22T02:55:35.499Z"
   },
   {
    "duration": 15,
    "start_time": "2024-08-22T02:56:26.203Z"
   },
   {
    "duration": 16,
    "start_time": "2024-08-22T02:57:15.326Z"
   },
   {
    "duration": 15,
    "start_time": "2024-08-22T02:57:36.233Z"
   },
   {
    "duration": 12,
    "start_time": "2024-08-22T02:57:46.113Z"
   },
   {
    "duration": 824,
    "start_time": "2024-08-22T03:01:04.183Z"
   },
   {
    "duration": 415,
    "start_time": "2024-08-22T03:01:05.011Z"
   },
   {
    "duration": 110,
    "start_time": "2024-08-22T03:01:05.432Z"
   },
   {
    "duration": 31,
    "start_time": "2024-08-22T03:01:05.547Z"
   },
   {
    "duration": 29,
    "start_time": "2024-08-22T03:01:05.582Z"
   },
   {
    "duration": 2139,
    "start_time": "2024-08-22T03:01:05.615Z"
   },
   {
    "duration": 204,
    "start_time": "2024-08-22T03:01:07.757Z"
   },
   {
    "duration": 20,
    "start_time": "2024-08-22T03:01:07.964Z"
   },
   {
    "duration": 228,
    "start_time": "2024-08-22T03:01:07.987Z"
   },
   {
    "duration": 192,
    "start_time": "2024-08-22T03:01:08.222Z"
   },
   {
    "duration": 54,
    "start_time": "2024-08-22T03:01:08.418Z"
   },
   {
    "duration": 25,
    "start_time": "2024-08-22T03:01:08.475Z"
   },
   {
    "duration": 32,
    "start_time": "2024-08-22T03:01:08.504Z"
   },
   {
    "duration": 8,
    "start_time": "2024-08-22T03:01:08.540Z"
   },
   {
    "duration": 39,
    "start_time": "2024-08-22T03:01:08.551Z"
   },
   {
    "duration": 62,
    "start_time": "2024-08-22T03:01:08.593Z"
   },
   {
    "duration": 34,
    "start_time": "2024-08-22T03:01:08.659Z"
   },
   {
    "duration": 10,
    "start_time": "2024-08-22T03:01:08.697Z"
   },
   {
    "duration": 8,
    "start_time": "2024-08-22T03:01:08.734Z"
   },
   {
    "duration": 12,
    "start_time": "2024-08-22T03:01:08.746Z"
   },
   {
    "duration": 12,
    "start_time": "2024-08-22T03:01:08.762Z"
   },
   {
    "duration": 8,
    "start_time": "2024-08-22T03:01:08.778Z"
   },
   {
    "duration": 7,
    "start_time": "2024-08-22T03:01:08.832Z"
   },
   {
    "duration": 1404,
    "start_time": "2024-08-22T03:01:08.843Z"
   },
   {
    "duration": 321,
    "start_time": "2024-08-22T03:01:10.252Z"
   },
   {
    "duration": 470,
    "start_time": "2024-08-22T03:01:10.577Z"
   },
   {
    "duration": 13,
    "start_time": "2024-08-22T03:01:11.049Z"
   },
   {
    "duration": 20,
    "start_time": "2024-08-22T03:01:11.073Z"
   },
   {
    "duration": 53,
    "start_time": "2024-08-22T03:01:11.096Z"
   },
   {
    "duration": 11,
    "start_time": "2024-08-22T03:01:11.152Z"
   },
   {
    "duration": 13,
    "start_time": "2024-08-22T03:01:11.167Z"
   },
   {
    "duration": 11,
    "start_time": "2024-08-22T03:01:11.183Z"
   },
   {
    "duration": 43,
    "start_time": "2024-08-22T03:01:11.197Z"
   },
   {
    "duration": 218,
    "start_time": "2024-08-22T03:01:11.243Z"
   },
   {
    "duration": 25,
    "start_time": "2024-08-22T03:01:11.465Z"
   },
   {
    "duration": 80,
    "start_time": "2024-08-22T03:01:11.493Z"
   },
   {
    "duration": 26,
    "start_time": "2024-08-22T03:01:11.577Z"
   },
   {
    "duration": 1804,
    "start_time": "2024-08-22T03:01:11.607Z"
   },
   {
    "duration": 56,
    "start_time": "2024-08-22T03:01:13.414Z"
   },
   {
    "duration": 7,
    "start_time": "2024-08-22T03:01:13.473Z"
   },
   {
    "duration": 7,
    "start_time": "2024-08-22T03:01:13.484Z"
   },
   {
    "duration": 44,
    "start_time": "2024-08-22T03:01:13.495Z"
   },
   {
    "duration": 8,
    "start_time": "2024-08-22T03:01:13.542Z"
   },
   {
    "duration": 347,
    "start_time": "2024-08-22T03:01:13.554Z"
   },
   {
    "duration": 290,
    "start_time": "2024-08-22T03:01:13.904Z"
   },
   {
    "duration": 309,
    "start_time": "2024-08-22T03:01:14.196Z"
   },
   {
    "duration": 367,
    "start_time": "2024-08-22T03:01:14.508Z"
   },
   {
    "duration": 346,
    "start_time": "2024-08-22T03:01:14.878Z"
   },
   {
    "duration": 2114,
    "start_time": "2024-08-22T03:01:15.233Z"
   },
   {
    "duration": 551,
    "start_time": "2024-08-22T03:01:17.352Z"
   },
   {
    "duration": 27,
    "start_time": "2024-08-22T03:01:17.906Z"
   },
   {
    "duration": 358,
    "start_time": "2024-08-22T03:01:17.936Z"
   },
   {
    "duration": 186,
    "start_time": "2024-08-22T03:01:18.299Z"
   },
   {
    "duration": 471,
    "start_time": "2024-08-22T03:01:18.488Z"
   },
   {
    "duration": 562,
    "start_time": "2024-08-22T03:01:18.962Z"
   },
   {
    "duration": 981,
    "start_time": "2024-08-22T03:01:19.533Z"
   },
   {
    "duration": 18,
    "start_time": "2024-08-22T03:01:20.520Z"
   },
   {
    "duration": 15,
    "start_time": "2024-08-22T03:01:20.544Z"
   },
   {
    "duration": 1427,
    "start_time": "2024-08-22T03:01:20.563Z"
   },
   {
    "duration": 1045,
    "start_time": "2024-08-22T03:01:21.993Z"
   },
   {
    "duration": 12,
    "start_time": "2024-08-22T03:01:23.041Z"
   },
   {
    "duration": 80,
    "start_time": "2024-08-22T03:01:23.057Z"
   },
   {
    "duration": 66,
    "start_time": "2024-08-22T03:01:23.139Z"
   },
   {
    "duration": 41,
    "start_time": "2024-08-22T03:01:23.208Z"
   },
   {
    "duration": 17,
    "start_time": "2024-08-22T03:01:23.253Z"
   },
   {
    "duration": 4289,
    "start_time": "2024-08-22T17:22:53.698Z"
   },
   {
    "duration": 295,
    "start_time": "2024-08-22T17:22:57.990Z"
   },
   {
    "duration": 104,
    "start_time": "2024-08-22T17:22:58.289Z"
   },
   {
    "duration": 24,
    "start_time": "2024-08-22T17:22:58.397Z"
   },
   {
    "duration": 25,
    "start_time": "2024-08-22T17:22:58.435Z"
   },
   {
    "duration": 1661,
    "start_time": "2024-08-22T17:22:58.463Z"
   },
   {
    "duration": 189,
    "start_time": "2024-08-22T17:23:00.135Z"
   },
   {
    "duration": 20,
    "start_time": "2024-08-22T17:23:00.333Z"
   },
   {
    "duration": 205,
    "start_time": "2024-08-22T17:23:00.356Z"
   },
   {
    "duration": 171,
    "start_time": "2024-08-22T17:23:00.567Z"
   },
   {
    "duration": 45,
    "start_time": "2024-08-22T17:23:00.741Z"
   },
   {
    "duration": 49,
    "start_time": "2024-08-22T17:23:00.788Z"
   },
   {
    "duration": 9,
    "start_time": "2024-08-22T17:23:00.840Z"
   },
   {
    "duration": 8,
    "start_time": "2024-08-22T17:23:00.852Z"
   },
   {
    "duration": 33,
    "start_time": "2024-08-22T17:23:00.863Z"
   },
   {
    "duration": 53,
    "start_time": "2024-08-22T17:23:00.898Z"
   },
   {
    "duration": 28,
    "start_time": "2024-08-22T17:23:00.954Z"
   },
   {
    "duration": 6,
    "start_time": "2024-08-22T17:23:00.985Z"
   },
   {
    "duration": 43,
    "start_time": "2024-08-22T17:23:00.995Z"
   },
   {
    "duration": 11,
    "start_time": "2024-08-22T17:23:01.041Z"
   },
   {
    "duration": 9,
    "start_time": "2024-08-22T17:23:01.055Z"
   },
   {
    "duration": 7,
    "start_time": "2024-08-22T17:23:01.067Z"
   },
   {
    "duration": 7,
    "start_time": "2024-08-22T17:23:01.077Z"
   },
   {
    "duration": 1385,
    "start_time": "2024-08-22T17:23:01.133Z"
   },
   {
    "duration": 299,
    "start_time": "2024-08-22T17:23:02.521Z"
   },
   {
    "duration": 435,
    "start_time": "2024-08-22T17:23:02.824Z"
   },
   {
    "duration": 10,
    "start_time": "2024-08-22T17:23:03.262Z"
   },
   {
    "duration": 19,
    "start_time": "2024-08-22T17:23:03.281Z"
   },
   {
    "duration": 47,
    "start_time": "2024-08-22T17:23:03.303Z"
   },
   {
    "duration": 10,
    "start_time": "2024-08-22T17:23:03.353Z"
   },
   {
    "duration": 17,
    "start_time": "2024-08-22T17:23:03.365Z"
   },
   {
    "duration": 8,
    "start_time": "2024-08-22T17:23:03.385Z"
   },
   {
    "duration": 41,
    "start_time": "2024-08-22T17:23:03.397Z"
   },
   {
    "duration": 177,
    "start_time": "2024-08-22T17:23:03.441Z"
   },
   {
    "duration": 34,
    "start_time": "2024-08-22T17:23:03.621Z"
   },
   {
    "duration": 46,
    "start_time": "2024-08-22T17:23:03.658Z"
   },
   {
    "duration": 40,
    "start_time": "2024-08-22T17:23:03.708Z"
   },
   {
    "duration": 1732,
    "start_time": "2024-08-22T17:23:03.751Z"
   },
   {
    "duration": 58,
    "start_time": "2024-08-22T17:23:05.486Z"
   },
   {
    "duration": 7,
    "start_time": "2024-08-22T17:23:05.547Z"
   },
   {
    "duration": 7,
    "start_time": "2024-08-22T17:23:05.558Z"
   },
   {
    "duration": 6,
    "start_time": "2024-08-22T17:23:05.568Z"
   },
   {
    "duration": 57,
    "start_time": "2024-08-22T17:23:05.577Z"
   },
   {
    "duration": 306,
    "start_time": "2024-08-22T17:23:05.637Z"
   },
   {
    "duration": 319,
    "start_time": "2024-08-22T17:23:05.946Z"
   },
   {
    "duration": 299,
    "start_time": "2024-08-22T17:23:06.268Z"
   },
   {
    "duration": 364,
    "start_time": "2024-08-22T17:23:06.570Z"
   },
   {
    "duration": 305,
    "start_time": "2024-08-22T17:23:06.938Z"
   },
   {
    "duration": 1994,
    "start_time": "2024-08-22T17:23:07.246Z"
   },
   {
    "duration": 504,
    "start_time": "2024-08-22T17:23:09.243Z"
   },
   {
    "duration": 12,
    "start_time": "2024-08-22T17:23:09.749Z"
   },
   {
    "duration": 355,
    "start_time": "2024-08-22T17:23:09.763Z"
   },
   {
    "duration": 186,
    "start_time": "2024-08-22T17:23:10.121Z"
   },
   {
    "duration": 452,
    "start_time": "2024-08-22T17:23:10.310Z"
   },
   {
    "duration": 597,
    "start_time": "2024-08-22T17:23:10.765Z"
   },
   {
    "duration": 1037,
    "start_time": "2024-08-22T17:23:11.365Z"
   },
   {
    "duration": 29,
    "start_time": "2024-08-22T17:23:12.405Z"
   },
   {
    "duration": 16,
    "start_time": "2024-08-22T17:23:12.437Z"
   },
   {
    "duration": 1336,
    "start_time": "2024-08-22T17:23:12.457Z"
   },
   {
    "duration": 930,
    "start_time": "2024-08-22T17:23:13.796Z"
   },
   {
    "duration": 11,
    "start_time": "2024-08-22T17:23:14.729Z"
   },
   {
    "duration": 53,
    "start_time": "2024-08-22T17:23:14.743Z"
   },
   {
    "duration": 93,
    "start_time": "2024-08-22T17:23:14.799Z"
   },
   {
    "duration": 16,
    "start_time": "2024-08-22T17:23:14.895Z"
   },
   {
    "duration": 16,
    "start_time": "2024-08-22T17:23:14.933Z"
   }
  ],
  "kernelspec": {
   "display_name": "Python 3 (ipykernel)",
   "language": "python",
   "name": "python3"
  },
  "language_info": {
   "codemirror_mode": {
    "name": "ipython",
    "version": 3
   },
   "file_extension": ".py",
   "mimetype": "text/x-python",
   "name": "python",
   "nbconvert_exporter": "python",
   "pygments_lexer": "ipython3",
   "version": "3.12.2"
  },
  "toc": {
   "base_numbering": 1,
   "nav_menu": {},
   "number_sections": true,
   "sideBar": true,
   "skip_h1_title": true,
   "title_cell": "Table of Contents",
   "title_sidebar": "Contents",
   "toc_cell": false,
   "toc_position": {
    "height": "calc(100% - 180px)",
    "left": "10px",
    "top": "150px",
    "width": "354px"
   },
   "toc_section_display": true,
   "toc_window_display": true
  },
  "vscode": {
   "interpreter": {
    "hash": "01a7be9ec63e704a62cefc5fe7a4756944464ee731be31632bdf42a4cb4688cf"
   }
  }
 },
 "nbformat": 4,
 "nbformat_minor": 5
}
